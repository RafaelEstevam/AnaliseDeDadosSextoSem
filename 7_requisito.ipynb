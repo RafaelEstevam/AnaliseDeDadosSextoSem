{
 "cells": [
  {
   "cell_type": "code",
   "execution_count": null,
   "id": "026b43b3",
   "metadata": {},
   "outputs": [],
   "source": [
    "REGIÃO/ÁREA ANALISADA: SÃO JOSÉ DOS CAMPOS"
   ]
  },
  {
   "cell_type": "code",
   "execution_count": null,
   "id": "9f429b3a",
   "metadata": {},
   "outputs": [],
   "source": [
    "ANO DA ELEIÇÃO ANALISADA: 2018"
   ]
  },
  {
   "cell_type": "code",
   "execution_count": null,
   "id": "49022da3",
   "metadata": {},
   "outputs": [],
   "source": [
    "CARGO ANALISADO: PREFEITO"
   ]
  },
  {
   "cell_type": "code",
   "execution_count": null,
   "id": "d88dbe95",
   "metadata": {},
   "outputs": [],
   "source": [
    "#07 Jornalista quer poder relacionar características do eleitorado de acordo com o representante eleito em determinada região de eleições futuras. \n",
    "\n",
    "RESPOSTA: O perfil do eleitorado que elegeu o Prefeito de SJC é: \n",
    "\n",
    "    - Média mensal superior à média do Vale do Paraíba, na proporção de 5/3; \n",
    "\n",
    "    - Em crescimento (número de eleitores); \n",
    "\n",
    "    - Jovem; \n",
    "\n",
    "    - Quanto à escolaridade, é a que tem a faixa de “Nível Médio Completo” mais populosa; \n",
    "\n",
    "    - Quanto ao Estado Civil, é a que tem a faixa de “Casados” mais populosa; \n",
    "\n",
    "    - Composta por 51 eleitores com nome social registrado; "
   ]
  },
  {
   "cell_type": "code",
   "execution_count": 2,
   "id": "165269b5",
   "metadata": {},
   "outputs": [],
   "source": [
    "# Criando um dicionário de municípios a partir das macrorregiões de cobertura da TV Vanguarda\n",
    "\n",
    "CoberturaVanguarda = {\n",
    "\n",
    "\"APARECIDA\":               \"VALE DO PARAÍBA\", \n",
    "\"CAÇAPAVA\":                \"VALE DO PARAÍBA\", \n",
    "\"CACHOEIRA PAULISTA\":      \"VALE DO PARAÍBA\",\n",
    "\"CANAS\":                   \"VALE DO PARAÍBA\", \n",
    "\"CUNHA\":                   \"VALE DO PARAÍBA\", \n",
    "\"GUARATINGUETÁ\":           \"VALE DO PARAÍBA\",\n",
    "\"IGARATÁ\":                 \"VALE DO PARAÍBA\", \n",
    "\"JACAREÍ\":                 \"VALE DO PARAÍBA\", \n",
    "\"JAMBEIRO\":                \"VALE DO PARAÍBA\",\n",
    "\"LAGOINHA\":                \"VALE DO PARAÍBA\", \n",
    "\"LORENA\":                  \"VALE DO PARAÍBA\", \n",
    "\"NATIVIDADE DA SERRA\":     \"VALE DO PARAÍBA\",\n",
    "\"PARAIBUNA\":               \"VALE DO PARAÍBA\", \n",
    "\"PINDAMONHANGABA\":         \"VALE DO PARAÍBA\", \n",
    "\"PIQUETE\":                 \"VALE DO PARAÍBA\",\n",
    "\"POTIM\":                   \"VALE DO PARAÍBA\", \n",
    "\"REDENÇÃO DA SERRA\":       \"VALE DO PARAÍBA\", \n",
    "\"ROSEIRA\":                 \"VALE DO PARAÍBA\",\n",
    "\"SANTA BRANCA\":            \"VALE DO PARAÍBA\", \n",
    "\"SÃO JOSÉ DOS CAMPOS\":     \"VALE DO PARAÍBA\", \n",
    "\"SÃO LUÍS DO PARAITINGA\":  \"VALE DO PARAÍBA\",\n",
    "\"TAUBATÉ\":                 \"VALE DO PARAÍBA\", \n",
    "\"TREMEMBÉ\":                \"VALE DO PARAÍBA\",\n",
    "\n",
    "\"ARAPEÍ\":                  \"VALE HISTÓRICO\", \n",
    "\"AREIAS\":                  \"VALE HISTÓRICO\", \n",
    "\"BANANAL\":                 \"VALE HISTÓRICO\",\n",
    "\"CRUZEIRO\":                \"VALE HISTÓRICO\", \n",
    "\"LAVRINHAS\":               \"VALE HISTÓRICO\", \n",
    "\"QUELUZ\":                  \"VALE HISTÓRICO\",\n",
    "\"SÃO JOSÉ DO BARREIRO\":    \"VALE HISTÓRICO\", \n",
    "\"SILVEIRAS\":               \"VALE HISTÓRICO\",\n",
    "\n",
    "\"CARAGUATATUBA\":           \"LITORAL NORTE\", \n",
    "\"ILHABELA\":                \"LITORAL NORTE\", \n",
    "\"SÃO SEBASTIÃO\":           \"LITORAL NORTE\",\n",
    "\"UBATUBA\":                 \"LITORAL NORTE\",\n",
    "\n",
    "\"CAMPOS DO JORDÃO\":        \"SERRA DA MANTIQUEIRA\", \n",
    "\"MONTEIRO LOBATO\":         \"SERRA DA MANTIQUEIRA\", \n",
    "\"SANTO ANTÔNIO DO PINHAL\": \"SERRA DA MANTIQUEIRA\",\n",
    "\"SÃO BENTO DO SAPUCAÍ\":    \"SERRA DA MANTIQUEIRA\",\n",
    "\n",
    "\"ATIBAIA\":                 \"REGIÃO BRAGANTINA\", \n",
    "\"BOM JESUS DOS PERDÕES\":   \"REGIÃO BRAGANTINA\", \n",
    "\"BRAGANÇA PAULISTA\":       \"REGIÃO BRAGANTINA\",\n",
    "\"JOANÓPOLIS\":              \"REGIÃO BRAGANTINA\", \n",
    "\"NAZARÉ PAULISTA\":         \"REGIÃO BRAGANTINA\", \n",
    "\"PIRACAIA\":                \"REGIÃO BRAGANTINA\",\n",
    "\"VARGEM\":                  \"REGIÃO BRAGANTINA\"\n",
    "\n",
    "}\n"
   ]
  },
  {
   "cell_type": "code",
   "execution_count": 3,
   "id": "8f85e66d",
   "metadata": {},
   "outputs": [],
   "source": [
    "municipio1 = \"SÃO JOSÉ DOS CAMPOS\""
   ]
  },
  {
   "cell_type": "code",
   "execution_count": 5,
   "id": "4ec1cab1",
   "metadata": {},
   "outputs": [],
   "source": [
    "eleicao_ano = 2018"
   ]
  },
  {
   "cell_type": "code",
   "execution_count": 6,
   "id": "16000dc6",
   "metadata": {},
   "outputs": [
    {
     "name": "stdout",
     "output_type": "stream",
     "text": [
      "Importações e configurações concluídas ✔️ \n"
     ]
    }
   ],
   "source": [
    "# Importa bibliotecas de análise de dados\n",
    "import pandas as pd\n",
    "pd.set_option('mode.chained_assignment', None)\n",
    "import numpy as np\n",
    "import datetime\n",
    "\n",
    "# Importa e configura biblioteca de geração de gráficos\n",
    "import plotly.express as px\n",
    "pd.options.plotting.backend = \"plotly\"\n",
    "import plotly.graph_objects as go\n",
    "from plotly.subplots import make_subplots\n",
    "\n",
    "# Importa biblioteca para manipular diretórios\n",
    "import os\n",
    "from os import walk\n",
    "\n",
    "print(\"Importações e configurações concluídas ✔️ \")"
   ]
  },
  {
   "cell_type": "code",
   "execution_count": 7,
   "id": "479bc7e1",
   "metadata": {},
   "outputs": [
    {
     "name": "stdout",
     "output_type": "stream",
     "text": [
      "O ano escolhido está disponível!\n",
      "E com todos os CSVs necessários para as análises!\n"
     ]
    }
   ],
   "source": [
    "# verificando quantos CSVs com o ano escolhido existem na pasta \"/data\"\n",
    "csvs = 0\n",
    "for path, _, files in walk('///home/linus/Documents/GitHub/AnaliseDeDadosSextoSem/dados'):\n",
    "    for csv in files:\n",
    "        if str(eleicao_ano) in csv and '.csv' in csv:\n",
    "            # caso tiver algum CSV contendo o ano escolhido, soma 1\n",
    "            csvs += 1          \n",
    "if csvs > 0:\n",
    "     # existe pelo menos 1 CSV do ano escolhido\n",
    "    print(\"O ano escolhido está disponível!\")\n",
    "    if csvs < 4:\n",
    "        # caso ainda faltem algum CSV, por mais que tenha pelo menos 1 com o ano escolhido\n",
    "        print(\"Mas está faltando algum CSV para que todas as análises funcionem!\")\n",
    "        a,b,c,d,e = 0,0,0,0,0\n",
    "        for path, _, files in walk('///home/linus/Documents/GitHub/AnaliseDeDadosSextoSem/dados'):\n",
    "            for csv in files:\n",
    "                if f'eleitorado_municipio_{eleicao_ano}.csv' in csv:\n",
    "                    a = 1\n",
    "            for csv in files:\n",
    "                if f'consulta_cand_{eleicao_ano}_SP.csv' in csv:\n",
    "                    b = 1\n",
    "            for csv in files:\n",
    "                if f'consulta_cand_{eleicao_ano}_BRASIL.csv' in csv:\n",
    "                    c = 1\n",
    "            for csv in files:\n",
    "                if f'perfil_eleitorado_{eleicao_ano}.csv' in csv:\n",
    "                    d = 1\n",
    "            for csv in files:\n",
    "                if f'perfil_comparecimento_abstencao_{eleicao_ano}.csv' in csv:\n",
    "                    e = 1\n",
    "                    \n",
    "        if a == 0:\n",
    "            print(f'Está faltando o arquivo: eleitorado_municipio_{eleicao_ano}.csv')\n",
    "        if b == 0:\n",
    "            print(f'Esta faltando o arquivo: consulta_cand_{eleicao_ano}_SP.csv')\n",
    "        if c == 0:\n",
    "            print(f'Esta faltando o arquivo: consulta_cand_{eleicao_ano}_BRASIL.csv')\n",
    "        if d == 0:\n",
    "            print(f'Esta faltando o arquivo: perfil_eleitorado_{eleicao_ano}.csv')\n",
    "        if e == 0:\n",
    "            print(f'Esta faltando o arquivo: perfil_comparecimento_abstencao_{eleicao_ano}.csv')\n",
    "            \n",
    "    else:\n",
    "        # caso todos os CSVs necessários estejam na pasta\n",
    "        print(\"E com todos os CSVs necessários para as análises!\")\n",
    "else:\n",
    "    # caso não tenha nenhum CSV do ano escolhido \n",
    "    print(\"Nenhum ano disponível! Por favor, adicione os CSVs necesários na pasta '/data'!\")"
   ]
  },
  {
   "cell_type": "code",
   "execution_count": 8,
   "id": "277f91f3",
   "metadata": {},
   "outputs": [],
   "source": [
    "# Determinando quais colunas serão lidas dos .csv\n",
    "col_candidatos = [\"NR_TURNO\", \"NM_UE\", \"DS_CARGO\", \"NM_CANDIDATO\", \"SG_PARTIDO\", \"DS_SIT_TOT_TURNO\"]\n",
    "\n",
    "col_evolucaoeleitorado = [\"NR_ANO_ELEICAO\", \"SG_UF\", \"NM_MUNICIPIO\", \"QTD_ELEITORES\"]\n",
    "\n",
    "col_eleitorado = [\"ANO_ELEICAO\", \"SG_UF\", \"NM_MUNICIPIO\", \"DS_ESTADO_CIVIL\", \"CD_FAIXA_ETARIA\", \"DS_FAIXA_ETARIA\",\n",
    "                  \"CD_GRAU_ESCOLARIDADE\", \"DS_GRAU_ESCOLARIDADE\", \"QT_ELEITORES_PERFIL\", \"QT_ELEITORES_INC_NM_SOCIAL\"]\n",
    "\n",
    "col_abstencao = [\"NR_TURNO\", \"NM_MUNICIPIO\", \"QT_APTOS\", \"QT_COMPARECIMENTO\", \"QT_ABSTENCAO\"]\n",
    "\n",
    "col_despesas = [\"NM_UE\", \"DS_CARGO\", \"NM_CANDIDATO\", \"VR_DESPESA_CONTRATADA\" ]\n"
   ]
  },
  {
   "cell_type": "code",
   "execution_count": 9,
   "id": "b01527c1",
   "metadata": {},
   "outputs": [],
   "source": [
    "# Carrega o .csv necessário para análise de renda dos municípios\n",
    "filename_renda = r'./dados/cadastro_central_de_empresas.csv'\n",
    "\n",
    "# Carrega os .csv necessários para análise de evolução do número de eleitores\n",
    "filename_evolucaoeleitorado2014 = r'./dados/eleitorado_municipio_2014.csv'\n",
    "filename_evolucaoeleitorado2016 = r'./dados/eleitorado_municipio_2016.csv'\n",
    "filename_evolucaoeleitorado2018 = r'./dados/eleitorado_municipio_2018.csv'\n",
    "filename_evolucaoeleitorado2020 = r'./dados/eleitorado_municipio_2020.csv'\n",
    "if eleicao_ano == 2022:\n",
    "    filename_evolucaoeleitorado2022= r'./dados/eleitorado_municipio_2022.csv'\n",
    "    \n",
    "elif eleicao_ano == 2024:\n",
    "    filename_evolucaoeleitorado2022= r'./dados/eleitorado_municipio_2022.csv'\n",
    "    filename_evolucaoeleitorado2024= r'./dados/eleitorado_municipio_2024.csv'\n",
    "\n",
    "# Carrega apenas os .csv do ano que o usuário escolheu para análise sobre candidatos e eleitores\n",
    "federal = np.arange(1994, datetime.date.today().year+4, 4).tolist()\n",
    "municipal = np.arange(1996, datetime.date.today().year+4, 4).tolist()\n",
    "\n",
    "if eleicao_ano in federal:\n",
    "    filename_candidatos = f'./dados/consulta_cand_{eleicao_ano}_BRASIL.csv'\n",
    "elif eleicao_ano in municipal:\n",
    "    filename_candidatos = f'./dados/consulta_cand_{eleicao_ano}_SP.csv'\n",
    "else:\n",
    "    print(\"Escolha um ano válido! Volte ao início do notebook, altere o ano e rode aquela e esta célula novamente\")\n",
    "\n",
    "# Carrega o DataFrame do eleitorado\n",
    "filename_eleitorado = f'./dados/perfil_eleitorado_{eleicao_ano}.csv'\n",
    "\n",
    "# Carrega o DataFrame da abstenção de eleitores\n",
    "filename_abstencao = f'./dados/perfil_comparecimento_abstencao_{eleicao_ano}.csv'"
   ]
  },
  {
   "cell_type": "code",
   "execution_count": 11,
   "id": "b05b90e6",
   "metadata": {
    "scrolled": true
   },
   "outputs": [],
   "source": [
    "# DataFrame da renda dos municípios\n",
    "dfr = pd.read_csv(filename_renda, sep= ',', on_bad_lines='skip')\n",
    "\n",
    "# DataFrames da evolução do número de eleitores\n",
    "eleitorado2014 = pd.read_csv(filename_evolucaoeleitorado2014, usecols=col_evolucaoeleitorado, encoding='iso-8859-1', sep= ';',  on_bad_lines='skip')\n",
    "eleitorado2016 = pd.read_csv(filename_evolucaoeleitorado2016, usecols=col_evolucaoeleitorado, encoding='iso-8859-1', sep= ';', on_bad_lines='skip')\n",
    "eleitorado2018 = pd.read_csv(filename_evolucaoeleitorado2018, usecols=col_evolucaoeleitorado, encoding='iso-8859-1', sep= ';', on_bad_lines='skip')\n",
    "eleitorado2020 = pd.read_csv(filename_evolucaoeleitorado2020, usecols=col_evolucaoeleitorado, encoding='iso-8859-1', sep= ';', on_bad_lines='skip')\n",
    "if eleicao_ano == 2022:\n",
    "    eleitorado2022 = pd.read_csv(filename_evolucaoeleitorado2022, usecols=col_evolucaoeleitorado, encoding='iso-8859-1', sep= ';', on_bad_lines='skip')\n",
    "elif eleicao_ano == 2024:\n",
    "    eleitorado2022 = pd.read_csv(filename_evolucaoeleitorado2022, usecols=col_evolucaoeleitorado, encoding='iso-8859-1', sep= ';', on_bad_lines='skip')\n",
    "    eleitorado2024 = pd.read_csv(filename_evolucaoeleitorado2024, usecols=col_evolucaoeleitorado, encoding='iso-8859-1', sep= ';',  on_bad_lines='skip')\n",
    "\n",
    "# DataFrame dos candidatos\n",
    "dfc = pd.read_csv(filename_candidatos, usecols=col_candidatos, sep=';', encoding='iso-8859-1', on_bad_lines='skip')\n",
    "\n",
    "# DataFrame do eleitorado\n",
    "dfe = pd.read_csv(filename_eleitorado, usecols=col_eleitorado, sep=';', encoding='iso-8859-1',  on_bad_lines='skip')\n",
    "\n",
    "# DataFrame da abstenção de eleitores\n",
    "dfa = pd.read_csv(filename_abstencao, usecols=col_abstencao, sep=';', encoding='iso-8859-1',  on_bad_lines='skip')\n",
    "\n",
    "# DataFrame da despesas dos candidatos\n",
    "#if eleicao_ano == 2020:\n",
    "    #df_despesas = pd.read_csv(r'./dados/despesas_contratadas_candidatos_2020_SP.csv', usecols=col_despesas,\n",
    "   #                       sep=';', encoding='iso-8859-1', \n",
    "   #                        on_bad_lines='skip')\n",
    "#elif eleicao_ano == 2018:\n",
    "   # df_despesas = pd.read_csv(r'./dados/despesas_contratadas_candidatos_2018_SP.csv', usecols=col_despesas,\n",
    "    #                      sep=';', encoding='iso-8859-1', \n",
    "    #                       on_bad_lines='skip')"
   ]
  },
  {
   "cell_type": "code",
   "execution_count": 12,
   "id": "4a7c3548",
   "metadata": {},
   "outputs": [],
   "source": [
    "municipio_eleitores = dfe.query(f'NM_MUNICIPIO == \"{municipio1.upper()}\"')"
   ]
  },
  {
   "cell_type": "code",
   "execution_count": 22,
   "id": "c0c85587",
   "metadata": {},
   "outputs": [],
   "source": [
    "# Filtrando somente as informações de RENDA média mensal do DataFrame \"dfr\"\n",
    "df_sp = dfr.query('Nome == \"Salário médio mensal\"').loc[:, 'Localidade':'2018']\n",
    "df_sp =df_sp.drop(columns=[\"2006\", \"2007\"])\n",
    "df_sp['Localidade'] = df_sp['Localidade'].str.upper()\n",
    "\n",
    "# Filtrando as cidades que serão comparadas\n",
    "comparar_cidade1 = (df_sp.query('Localidade == \"' + municipio1.upper() + '\"'))"
   ]
  },
  {
   "cell_type": "code",
   "execution_count": 17,
   "id": "8c4c7f4c",
   "metadata": {},
   "outputs": [
    {
     "name": "stderr",
     "output_type": "stream",
     "text": [
      "/tmp/ipykernel_39824/1851635429.py:5: FutureWarning: The frame.append method is deprecated and will be removed from pandas in a future version. Use pandas.concat instead.\n",
      "  dfmc = dfmc.append( pd.DataFrame( {\"Município\":[cidade], \"Macrorregião\":[CoberturaVanguarda[cidade]]} ) )\n",
      "/tmp/ipykernel_39824/1851635429.py:5: FutureWarning: The frame.append method is deprecated and will be removed from pandas in a future version. Use pandas.concat instead.\n",
      "  dfmc = dfmc.append( pd.DataFrame( {\"Município\":[cidade], \"Macrorregião\":[CoberturaVanguarda[cidade]]} ) )\n",
      "/tmp/ipykernel_39824/1851635429.py:5: FutureWarning: The frame.append method is deprecated and will be removed from pandas in a future version. Use pandas.concat instead.\n",
      "  dfmc = dfmc.append( pd.DataFrame( {\"Município\":[cidade], \"Macrorregião\":[CoberturaVanguarda[cidade]]} ) )\n",
      "/tmp/ipykernel_39824/1851635429.py:5: FutureWarning: The frame.append method is deprecated and will be removed from pandas in a future version. Use pandas.concat instead.\n",
      "  dfmc = dfmc.append( pd.DataFrame( {\"Município\":[cidade], \"Macrorregião\":[CoberturaVanguarda[cidade]]} ) )\n",
      "/tmp/ipykernel_39824/1851635429.py:5: FutureWarning: The frame.append method is deprecated and will be removed from pandas in a future version. Use pandas.concat instead.\n",
      "  dfmc = dfmc.append( pd.DataFrame( {\"Município\":[cidade], \"Macrorregião\":[CoberturaVanguarda[cidade]]} ) )\n",
      "/tmp/ipykernel_39824/1851635429.py:5: FutureWarning: The frame.append method is deprecated and will be removed from pandas in a future version. Use pandas.concat instead.\n",
      "  dfmc = dfmc.append( pd.DataFrame( {\"Município\":[cidade], \"Macrorregião\":[CoberturaVanguarda[cidade]]} ) )\n",
      "/tmp/ipykernel_39824/1851635429.py:5: FutureWarning: The frame.append method is deprecated and will be removed from pandas in a future version. Use pandas.concat instead.\n",
      "  dfmc = dfmc.append( pd.DataFrame( {\"Município\":[cidade], \"Macrorregião\":[CoberturaVanguarda[cidade]]} ) )\n",
      "/tmp/ipykernel_39824/1851635429.py:5: FutureWarning: The frame.append method is deprecated and will be removed from pandas in a future version. Use pandas.concat instead.\n",
      "  dfmc = dfmc.append( pd.DataFrame( {\"Município\":[cidade], \"Macrorregião\":[CoberturaVanguarda[cidade]]} ) )\n",
      "/tmp/ipykernel_39824/1851635429.py:5: FutureWarning: The frame.append method is deprecated and will be removed from pandas in a future version. Use pandas.concat instead.\n",
      "  dfmc = dfmc.append( pd.DataFrame( {\"Município\":[cidade], \"Macrorregião\":[CoberturaVanguarda[cidade]]} ) )\n",
      "/tmp/ipykernel_39824/1851635429.py:5: FutureWarning: The frame.append method is deprecated and will be removed from pandas in a future version. Use pandas.concat instead.\n",
      "  dfmc = dfmc.append( pd.DataFrame( {\"Município\":[cidade], \"Macrorregião\":[CoberturaVanguarda[cidade]]} ) )\n",
      "/tmp/ipykernel_39824/1851635429.py:5: FutureWarning: The frame.append method is deprecated and will be removed from pandas in a future version. Use pandas.concat instead.\n",
      "  dfmc = dfmc.append( pd.DataFrame( {\"Município\":[cidade], \"Macrorregião\":[CoberturaVanguarda[cidade]]} ) )\n",
      "/tmp/ipykernel_39824/1851635429.py:5: FutureWarning: The frame.append method is deprecated and will be removed from pandas in a future version. Use pandas.concat instead.\n",
      "  dfmc = dfmc.append( pd.DataFrame( {\"Município\":[cidade], \"Macrorregião\":[CoberturaVanguarda[cidade]]} ) )\n",
      "/tmp/ipykernel_39824/1851635429.py:5: FutureWarning: The frame.append method is deprecated and will be removed from pandas in a future version. Use pandas.concat instead.\n",
      "  dfmc = dfmc.append( pd.DataFrame( {\"Município\":[cidade], \"Macrorregião\":[CoberturaVanguarda[cidade]]} ) )\n",
      "/tmp/ipykernel_39824/1851635429.py:5: FutureWarning: The frame.append method is deprecated and will be removed from pandas in a future version. Use pandas.concat instead.\n",
      "  dfmc = dfmc.append( pd.DataFrame( {\"Município\":[cidade], \"Macrorregião\":[CoberturaVanguarda[cidade]]} ) )\n",
      "/tmp/ipykernel_39824/1851635429.py:5: FutureWarning: The frame.append method is deprecated and will be removed from pandas in a future version. Use pandas.concat instead.\n",
      "  dfmc = dfmc.append( pd.DataFrame( {\"Município\":[cidade], \"Macrorregião\":[CoberturaVanguarda[cidade]]} ) )\n",
      "/tmp/ipykernel_39824/1851635429.py:5: FutureWarning: The frame.append method is deprecated and will be removed from pandas in a future version. Use pandas.concat instead.\n",
      "  dfmc = dfmc.append( pd.DataFrame( {\"Município\":[cidade], \"Macrorregião\":[CoberturaVanguarda[cidade]]} ) )\n",
      "/tmp/ipykernel_39824/1851635429.py:5: FutureWarning: The frame.append method is deprecated and will be removed from pandas in a future version. Use pandas.concat instead.\n",
      "  dfmc = dfmc.append( pd.DataFrame( {\"Município\":[cidade], \"Macrorregião\":[CoberturaVanguarda[cidade]]} ) )\n",
      "/tmp/ipykernel_39824/1851635429.py:5: FutureWarning: The frame.append method is deprecated and will be removed from pandas in a future version. Use pandas.concat instead.\n",
      "  dfmc = dfmc.append( pd.DataFrame( {\"Município\":[cidade], \"Macrorregião\":[CoberturaVanguarda[cidade]]} ) )\n",
      "/tmp/ipykernel_39824/1851635429.py:5: FutureWarning: The frame.append method is deprecated and will be removed from pandas in a future version. Use pandas.concat instead.\n",
      "  dfmc = dfmc.append( pd.DataFrame( {\"Município\":[cidade], \"Macrorregião\":[CoberturaVanguarda[cidade]]} ) )\n",
      "/tmp/ipykernel_39824/1851635429.py:5: FutureWarning: The frame.append method is deprecated and will be removed from pandas in a future version. Use pandas.concat instead.\n",
      "  dfmc = dfmc.append( pd.DataFrame( {\"Município\":[cidade], \"Macrorregião\":[CoberturaVanguarda[cidade]]} ) )\n",
      "/tmp/ipykernel_39824/1851635429.py:5: FutureWarning: The frame.append method is deprecated and will be removed from pandas in a future version. Use pandas.concat instead.\n",
      "  dfmc = dfmc.append( pd.DataFrame( {\"Município\":[cidade], \"Macrorregião\":[CoberturaVanguarda[cidade]]} ) )\n",
      "/tmp/ipykernel_39824/1851635429.py:5: FutureWarning: The frame.append method is deprecated and will be removed from pandas in a future version. Use pandas.concat instead.\n",
      "  dfmc = dfmc.append( pd.DataFrame( {\"Município\":[cidade], \"Macrorregião\":[CoberturaVanguarda[cidade]]} ) )\n",
      "/tmp/ipykernel_39824/1851635429.py:5: FutureWarning: The frame.append method is deprecated and will be removed from pandas in a future version. Use pandas.concat instead.\n",
      "  dfmc = dfmc.append( pd.DataFrame( {\"Município\":[cidade], \"Macrorregião\":[CoberturaVanguarda[cidade]]} ) )\n",
      "/tmp/ipykernel_39824/1851635429.py:5: FutureWarning: The frame.append method is deprecated and will be removed from pandas in a future version. Use pandas.concat instead.\n",
      "  dfmc = dfmc.append( pd.DataFrame( {\"Município\":[cidade], \"Macrorregião\":[CoberturaVanguarda[cidade]]} ) )\n",
      "/tmp/ipykernel_39824/1851635429.py:5: FutureWarning: The frame.append method is deprecated and will be removed from pandas in a future version. Use pandas.concat instead.\n",
      "  dfmc = dfmc.append( pd.DataFrame( {\"Município\":[cidade], \"Macrorregião\":[CoberturaVanguarda[cidade]]} ) )\n",
      "/tmp/ipykernel_39824/1851635429.py:5: FutureWarning: The frame.append method is deprecated and will be removed from pandas in a future version. Use pandas.concat instead.\n",
      "  dfmc = dfmc.append( pd.DataFrame( {\"Município\":[cidade], \"Macrorregião\":[CoberturaVanguarda[cidade]]} ) )\n",
      "/tmp/ipykernel_39824/1851635429.py:5: FutureWarning: The frame.append method is deprecated and will be removed from pandas in a future version. Use pandas.concat instead.\n",
      "  dfmc = dfmc.append( pd.DataFrame( {\"Município\":[cidade], \"Macrorregião\":[CoberturaVanguarda[cidade]]} ) )\n",
      "/tmp/ipykernel_39824/1851635429.py:5: FutureWarning: The frame.append method is deprecated and will be removed from pandas in a future version. Use pandas.concat instead.\n",
      "  dfmc = dfmc.append( pd.DataFrame( {\"Município\":[cidade], \"Macrorregião\":[CoberturaVanguarda[cidade]]} ) )\n",
      "/tmp/ipykernel_39824/1851635429.py:5: FutureWarning: The frame.append method is deprecated and will be removed from pandas in a future version. Use pandas.concat instead.\n",
      "  dfmc = dfmc.append( pd.DataFrame( {\"Município\":[cidade], \"Macrorregião\":[CoberturaVanguarda[cidade]]} ) )\n",
      "/tmp/ipykernel_39824/1851635429.py:5: FutureWarning: The frame.append method is deprecated and will be removed from pandas in a future version. Use pandas.concat instead.\n",
      "  dfmc = dfmc.append( pd.DataFrame( {\"Município\":[cidade], \"Macrorregião\":[CoberturaVanguarda[cidade]]} ) )\n",
      "/tmp/ipykernel_39824/1851635429.py:5: FutureWarning: The frame.append method is deprecated and will be removed from pandas in a future version. Use pandas.concat instead.\n",
      "  dfmc = dfmc.append( pd.DataFrame( {\"Município\":[cidade], \"Macrorregião\":[CoberturaVanguarda[cidade]]} ) )\n",
      "/tmp/ipykernel_39824/1851635429.py:5: FutureWarning: The frame.append method is deprecated and will be removed from pandas in a future version. Use pandas.concat instead.\n",
      "  dfmc = dfmc.append( pd.DataFrame( {\"Município\":[cidade], \"Macrorregião\":[CoberturaVanguarda[cidade]]} ) )\n",
      "/tmp/ipykernel_39824/1851635429.py:5: FutureWarning: The frame.append method is deprecated and will be removed from pandas in a future version. Use pandas.concat instead.\n",
      "  dfmc = dfmc.append( pd.DataFrame( {\"Município\":[cidade], \"Macrorregião\":[CoberturaVanguarda[cidade]]} ) )\n",
      "/tmp/ipykernel_39824/1851635429.py:5: FutureWarning: The frame.append method is deprecated and will be removed from pandas in a future version. Use pandas.concat instead.\n",
      "  dfmc = dfmc.append( pd.DataFrame( {\"Município\":[cidade], \"Macrorregião\":[CoberturaVanguarda[cidade]]} ) )\n",
      "/tmp/ipykernel_39824/1851635429.py:5: FutureWarning: The frame.append method is deprecated and will be removed from pandas in a future version. Use pandas.concat instead.\n",
      "  dfmc = dfmc.append( pd.DataFrame( {\"Município\":[cidade], \"Macrorregião\":[CoberturaVanguarda[cidade]]} ) )\n",
      "/tmp/ipykernel_39824/1851635429.py:5: FutureWarning: The frame.append method is deprecated and will be removed from pandas in a future version. Use pandas.concat instead.\n",
      "  dfmc = dfmc.append( pd.DataFrame( {\"Município\":[cidade], \"Macrorregião\":[CoberturaVanguarda[cidade]]} ) )\n",
      "/tmp/ipykernel_39824/1851635429.py:5: FutureWarning: The frame.append method is deprecated and will be removed from pandas in a future version. Use pandas.concat instead.\n",
      "  dfmc = dfmc.append( pd.DataFrame( {\"Município\":[cidade], \"Macrorregião\":[CoberturaVanguarda[cidade]]} ) )\n",
      "/tmp/ipykernel_39824/1851635429.py:5: FutureWarning: The frame.append method is deprecated and will be removed from pandas in a future version. Use pandas.concat instead.\n",
      "  dfmc = dfmc.append( pd.DataFrame( {\"Município\":[cidade], \"Macrorregião\":[CoberturaVanguarda[cidade]]} ) )\n",
      "/tmp/ipykernel_39824/1851635429.py:5: FutureWarning: The frame.append method is deprecated and will be removed from pandas in a future version. Use pandas.concat instead.\n",
      "  dfmc = dfmc.append( pd.DataFrame( {\"Município\":[cidade], \"Macrorregião\":[CoberturaVanguarda[cidade]]} ) )\n",
      "/tmp/ipykernel_39824/1851635429.py:5: FutureWarning: The frame.append method is deprecated and will be removed from pandas in a future version. Use pandas.concat instead.\n",
      "  dfmc = dfmc.append( pd.DataFrame( {\"Município\":[cidade], \"Macrorregião\":[CoberturaVanguarda[cidade]]} ) )\n",
      "/tmp/ipykernel_39824/1851635429.py:5: FutureWarning: The frame.append method is deprecated and will be removed from pandas in a future version. Use pandas.concat instead.\n",
      "  dfmc = dfmc.append( pd.DataFrame( {\"Município\":[cidade], \"Macrorregião\":[CoberturaVanguarda[cidade]]} ) )\n",
      "/tmp/ipykernel_39824/1851635429.py:5: FutureWarning: The frame.append method is deprecated and will be removed from pandas in a future version. Use pandas.concat instead.\n",
      "  dfmc = dfmc.append( pd.DataFrame( {\"Município\":[cidade], \"Macrorregião\":[CoberturaVanguarda[cidade]]} ) )\n",
      "/tmp/ipykernel_39824/1851635429.py:5: FutureWarning: The frame.append method is deprecated and will be removed from pandas in a future version. Use pandas.concat instead.\n",
      "  dfmc = dfmc.append( pd.DataFrame( {\"Município\":[cidade], \"Macrorregião\":[CoberturaVanguarda[cidade]]} ) )\n",
      "/tmp/ipykernel_39824/1851635429.py:5: FutureWarning: The frame.append method is deprecated and will be removed from pandas in a future version. Use pandas.concat instead.\n",
      "  dfmc = dfmc.append( pd.DataFrame( {\"Município\":[cidade], \"Macrorregião\":[CoberturaVanguarda[cidade]]} ) )\n",
      "/tmp/ipykernel_39824/1851635429.py:5: FutureWarning: The frame.append method is deprecated and will be removed from pandas in a future version. Use pandas.concat instead.\n",
      "  dfmc = dfmc.append( pd.DataFrame( {\"Município\":[cidade], \"Macrorregião\":[CoberturaVanguarda[cidade]]} ) )\n",
      "/tmp/ipykernel_39824/1851635429.py:5: FutureWarning: The frame.append method is deprecated and will be removed from pandas in a future version. Use pandas.concat instead.\n",
      "  dfmc = dfmc.append( pd.DataFrame( {\"Município\":[cidade], \"Macrorregião\":[CoberturaVanguarda[cidade]]} ) )\n"
     ]
    }
   ],
   "source": [
    "# Criando um DataFrame \"dfmc\" de macrorregiões e cidades a partir do dicionário\n",
    "dfmc = pd.DataFrame(columns=[\"Município\", \"Macrorregião\"])\n",
    "\n",
    "for cidade in CoberturaVanguarda.keys():\n",
    "    dfmc = dfmc.append( pd.DataFrame( {\"Município\":[cidade], \"Macrorregião\":[CoberturaVanguarda[cidade]]} ) )\n"
   ]
  },
  {
   "cell_type": "code",
   "execution_count": 18,
   "id": "aba12231",
   "metadata": {},
   "outputs": [],
   "source": [
    "# Filtrando cidades e separando-as em macrorregiões de cobertura da TV Vanguarda\n",
    "\n",
    "df_paraiba = df_sp.loc[df_sp['Localidade'].isin(dfmc.query('Macrorregião == \"VALE DO PARAÍBA\"').Município.values)]"
   ]
  },
  {
   "cell_type": "code",
   "execution_count": 19,
   "id": "f6162dd5",
   "metadata": {},
   "outputs": [],
   "source": [
    "# Média de salários mensais, por macrorregiões e cidades da cobertura da TV Vanguarda\n",
    "paraiba = []\n",
    "\n",
    "for n in list( range(2008, 2019) ):\n",
    "\n",
    "    paraiba.append( df_paraiba[str(n)].mean() )"
   ]
  },
  {
   "cell_type": "code",
   "execution_count": 20,
   "id": "2fc67e13",
   "metadata": {},
   "outputs": [],
   "source": [
    "# Formatando um DataFrame para média de salários mensais com uma casa decimal\n",
    "\n",
    "df_vanguarda_paraiba = pd.DataFrame({'Localidade':[\"Vale do Paraiba\"],'2008':[round(paraiba[0], 1)], \n",
    "                           '2009':[round(paraiba[1],1)],'2010':[round(paraiba[2],1)], '2011':[round(paraiba[3],1)],\n",
    "                           '2012':[round(paraiba[4],1)],'2013':[round(paraiba[5],1)],'2014':[round(paraiba[6],1)], \n",
    "                           '2015':[round(paraiba[7],1)],'2016':[round(paraiba[8],1)], '2017':[round(paraiba[9],1)],\n",
    "                           '2018':[round(paraiba[10],1)]})"
   ]
  },
  {
   "cell_type": "code",
   "execution_count": 23,
   "id": "50c1345d",
   "metadata": {},
   "outputs": [],
   "source": [
    "# Preparando dados para plotar nos gráficos\n",
    "frames = [comparar_cidade1]\n",
    "comparacao = pd.concat(frames).reset_index()\n",
    "del comparacao['index']\n",
    "\n",
    "frames1 = [df_vanguarda_paraiba]\n",
    "comparacao_regioes = pd.concat(frames1).reset_index()\n",
    "del comparacao_regioes['index']\n",
    "\n",
    "frames2 = [comparacao_regioes, comparar_cidade1]\n",
    "comparacao_cidades = pd.concat(frames2).reset_index()\n",
    "del comparacao_cidades['index']"
   ]
  },
  {
   "cell_type": "code",
   "execution_count": 26,
   "id": "9f2615fd",
   "metadata": {},
   "outputs": [],
   "source": [
    "# Carrega apenas os dados de candidatos do ano da eleição escolhida pelo usuário\n",
    "if eleicao_ano == 2018 or eleicao_ano == 2022 or eleicao_ano == 2026:\n",
    "    presidente_candidatos = dfc.query('NM_UE == \"BRASIL\" and DS_CARGO == \"PRESIDENTE\" and DS_SIT_TOT_TURNO == \"ELEITO\"')\n",
    "    governador_candidatos = dfc.query('NM_UE == \"SÃO PAULO\" and DS_CARGO == \"GOVERNADOR\" and DS_SIT_TOT_TURNO == \"ELEITO\"')\n",
    "\n",
    "elif eleicao_ano == 2020 or eleicao_ano == 2024 or eleicao_ano == 2028:\n",
    "    prefeito_candidatos = dfc.query(f'NM_UE == \"{municipio1.upper()}\" and DS_CARGO == \"PREFEITO\" and DS_SIT_TOT_TURNO == \"ELEITO\"')\n",
    "    dfc.query('NM_UE == \"BRASIL\" and DS_CARGO == \"PRESIDENTE\" and DS_SIT_TOT_TURNO == \"ELEITO\"')"
   ]
  },
  {
   "cell_type": "code",
   "execution_count": 27,
   "id": "0c21793e",
   "metadata": {},
   "outputs": [
    {
     "name": "stdout",
     "output_type": "stream",
     "text": [
      "       NR_TURNO   NM_UE    DS_CARGO            NM_CANDIDATO SG_PARTIDO  \\\n",
      "22061         2  BRASIL  PRESIDENTE  JAIR MESSIAS BOLSONARO        PSL   \n",
      "\n",
      "      DS_SIT_TOT_TURNO  \n",
      "22061           ELEITO  \n"
     ]
    }
   ],
   "source": [
    "print (presidente_candidatos)"
   ]
  },
  {
   "cell_type": "code",
   "execution_count": 28,
   "id": "94a0447c",
   "metadata": {},
   "outputs": [],
   "source": [
    "# Filtra o cargo em função do ano da eleição escolhida pelo usuário\n",
    "if eleicao_ano == 2018 or eleicao_ano == 2022 or eleicao_ano == 2026:\n",
    "    presidente_eleito = presidente_candidatos['NM_CANDIDATO'].iloc[0]\n",
    "    presidente_eleito_partido = presidente_candidatos['SG_PARTIDO'].iloc[0]\n",
    "    presidente_eleito_turno = presidente_candidatos['NR_TURNO'].iloc[0]\n",
    "    governador_eleito = governador_candidatos['NM_CANDIDATO'].iloc[0]\n",
    "    governador_eleito_partido = governador_candidatos['SG_PARTIDO'].iloc[0]\n",
    "    governador_eleito_turno = governador_candidatos['NR_TURNO'].iloc[0]\n",
    "\n",
    "elif eleicao_ano == 2020 or eleicao_ano == 2024 or eleicao_ano == 2028:\n",
    "    prefeito_eleito = prefeito_candidatos['NM_CANDIDATO'].iloc[0]\n",
    "    prefeito_eleito_partido = prefeito_candidatos['SG_PARTIDO'].iloc[0]\n",
    "    prefeito_eleito_turno = prefeito_candidatos['NR_TURNO'].iloc[0]"
   ]
  },
  {
   "cell_type": "code",
   "execution_count": 29,
   "id": "c6a7968d",
   "metadata": {},
   "outputs": [],
   "source": [
    "# Filtrando, pela estado de SP:\n",
    "elei2014 = eleitorado2014.loc[eleitorado2014['SG_UF']=='SP']\n",
    "elei2016 = eleitorado2016.loc[eleitorado2016['SG_UF']=='SP']\n",
    "elei2018 = eleitorado2018.loc[eleitorado2018['SG_UF']=='SP']\n",
    "elei2020 = eleitorado2020.loc[eleitorado2020['SG_UF']=='SP']\n",
    "if eleicao_ano == 2022:\n",
    "    elei2022 = eleitorado2022.loc[eleitorado2022['SG_UF']=='SP']\n",
    "elif eleicao_ano == 2024:\n",
    "    elei2022 = eleitorado2022.loc[eleitorado2022['SG_UF']=='SP']\n",
    "    elei2024 = eleitorado2024.loc[eleitorado2024['SG_UF']=='SP']"
   ]
  },
  {
   "cell_type": "code",
   "execution_count": 30,
   "id": "ec75a265",
   "metadata": {},
   "outputs": [],
   "source": [
    "# Filtrando novamente, dessa vez, pela cidade escolhida no input:\n",
    "elei2014cidade = elei2014.loc[elei2014['NM_MUNICIPIO']== municipio1]\n",
    "elei2016cidade = elei2016.loc[elei2016['NM_MUNICIPIO']== municipio1]\n",
    "elei2018cidade = elei2018.loc[elei2018['NM_MUNICIPIO']== municipio1]\n",
    "elei2020cidade = elei2020.loc[elei2020['NM_MUNICIPIO']== municipio1]\n",
    "if eleicao_ano == 2022:\n",
    "    elei2022cidade = elei2022.loc[elei2022['NM_MUNICIPIO']== municipio1]\n",
    "elif eleicao_ano == 2024:\n",
    "    elei2022cidade = elei2022.loc[elei2022['NM_MUNICIPIO']== municipio1]\n",
    "    elei2024cidade = elei2024.loc[elei2024['NM_MUNICIPIO']== municipio1]\n"
   ]
  },
  {
   "cell_type": "code",
   "execution_count": 31,
   "id": "1bf52c0f",
   "metadata": {},
   "outputs": [],
   "source": [
    "# Juntando os csv de cada ano em um csv apenas:\n",
    "quantitativoTotal = elei2014cidade.merge(elei2016cidade, how='outer').merge(elei2018cidade, how='outer').merge(elei2020cidade, how='outer')\n",
    "if eleicao_ano == 2022:\n",
    "    quantitativoTotal = quantitativoTotal.merge(elei2022cidade, how='outer')\n",
    "    \n",
    "elif eleicao_ano == 2024:\n",
    "    quantitativoTotal = quantitativoTotal.merge(elei2022cidade, how='outer')\n",
    "    quantitativoTotal = quantitativoTotal.merge(elei2022cidade, how='outer').merge(elei2024cidade, how='outer')"
   ]
  },
  {
   "cell_type": "code",
   "execution_count": 32,
   "id": "5b5dc004",
   "metadata": {},
   "outputs": [],
   "source": [
    "# Filtro por macrorregiões da cobertura da TV Vanguarda:\n",
    "cobertura_vanguarda = dfmc.Município.values\n",
    "vale_do_paraiba = dfmc.query('Macrorregião == \"VALE DO PARAÍBA\"').Município.values"
   ]
  },
  {
   "cell_type": "code",
   "execution_count": 33,
   "id": "53efe093",
   "metadata": {},
   "outputs": [],
   "source": [
    "# Criando DataFrames acumuladores para receberem os dados de cada região:\n",
    "valep2014 = elei2014.loc[elei2014['NM_MUNICIPIO']== tuple(vale_do_paraiba)]\n",
    "valep2016 = elei2016.loc[elei2016['NM_MUNICIPIO']== tuple(vale_do_paraiba)]\n",
    "valep2018 = elei2018.loc[elei2018['NM_MUNICIPIO']== tuple(vale_do_paraiba)]\n",
    "valep2020 = elei2020.loc[elei2020['NM_MUNICIPIO']== tuple(vale_do_paraiba)]\n",
    "\n",
    "if eleicao_ano == 2022:\n",
    "    \n",
    "    valep2022 = elei2022.loc[elei2022['NM_MUNICIPIO']== tuple(vale_do_paraiba)]\n",
    "        \n",
    "elif eleicao_ano == 2024:\n",
    "    valep2022 = elei2022.loc[elei2022['NM_MUNICIPIO']== tuple(vale_do_paraiba)]\n",
    "    valep2024 = elei2024.loc[elei2024['NM_MUNICIPIO']== tuple(vale_do_paraiba)]"
   ]
  },
  {
   "cell_type": "code",
   "execution_count": 34,
   "id": "42fbb985",
   "metadata": {},
   "outputs": [
    {
     "name": "stderr",
     "output_type": "stream",
     "text": [
      "/tmp/ipykernel_39824/2681594589.py:3: FutureWarning: The frame.append method is deprecated and will be removed from pandas in a future version. Use pandas.concat instead.\n",
      "  for x in vale_do_paraiba: valep2014 = valep2014.append(elei2014.loc[elei2014['NM_MUNICIPIO']== x] )\n",
      "/tmp/ipykernel_39824/2681594589.py:3: FutureWarning: The frame.append method is deprecated and will be removed from pandas in a future version. Use pandas.concat instead.\n",
      "  for x in vale_do_paraiba: valep2014 = valep2014.append(elei2014.loc[elei2014['NM_MUNICIPIO']== x] )\n",
      "/tmp/ipykernel_39824/2681594589.py:3: FutureWarning: The frame.append method is deprecated and will be removed from pandas in a future version. Use pandas.concat instead.\n",
      "  for x in vale_do_paraiba: valep2014 = valep2014.append(elei2014.loc[elei2014['NM_MUNICIPIO']== x] )\n",
      "/tmp/ipykernel_39824/2681594589.py:3: FutureWarning: The frame.append method is deprecated and will be removed from pandas in a future version. Use pandas.concat instead.\n",
      "  for x in vale_do_paraiba: valep2014 = valep2014.append(elei2014.loc[elei2014['NM_MUNICIPIO']== x] )\n",
      "/tmp/ipykernel_39824/2681594589.py:3: FutureWarning: The frame.append method is deprecated and will be removed from pandas in a future version. Use pandas.concat instead.\n",
      "  for x in vale_do_paraiba: valep2014 = valep2014.append(elei2014.loc[elei2014['NM_MUNICIPIO']== x] )\n",
      "/tmp/ipykernel_39824/2681594589.py:3: FutureWarning: The frame.append method is deprecated and will be removed from pandas in a future version. Use pandas.concat instead.\n",
      "  for x in vale_do_paraiba: valep2014 = valep2014.append(elei2014.loc[elei2014['NM_MUNICIPIO']== x] )\n",
      "/tmp/ipykernel_39824/2681594589.py:3: FutureWarning: The frame.append method is deprecated and will be removed from pandas in a future version. Use pandas.concat instead.\n",
      "  for x in vale_do_paraiba: valep2014 = valep2014.append(elei2014.loc[elei2014['NM_MUNICIPIO']== x] )\n",
      "/tmp/ipykernel_39824/2681594589.py:3: FutureWarning: The frame.append method is deprecated and will be removed from pandas in a future version. Use pandas.concat instead.\n",
      "  for x in vale_do_paraiba: valep2014 = valep2014.append(elei2014.loc[elei2014['NM_MUNICIPIO']== x] )\n",
      "/tmp/ipykernel_39824/2681594589.py:3: FutureWarning: The frame.append method is deprecated and will be removed from pandas in a future version. Use pandas.concat instead.\n",
      "  for x in vale_do_paraiba: valep2014 = valep2014.append(elei2014.loc[elei2014['NM_MUNICIPIO']== x] )\n",
      "/tmp/ipykernel_39824/2681594589.py:3: FutureWarning: The frame.append method is deprecated and will be removed from pandas in a future version. Use pandas.concat instead.\n",
      "  for x in vale_do_paraiba: valep2014 = valep2014.append(elei2014.loc[elei2014['NM_MUNICIPIO']== x] )\n",
      "/tmp/ipykernel_39824/2681594589.py:3: FutureWarning: The frame.append method is deprecated and will be removed from pandas in a future version. Use pandas.concat instead.\n",
      "  for x in vale_do_paraiba: valep2014 = valep2014.append(elei2014.loc[elei2014['NM_MUNICIPIO']== x] )\n",
      "/tmp/ipykernel_39824/2681594589.py:3: FutureWarning: The frame.append method is deprecated and will be removed from pandas in a future version. Use pandas.concat instead.\n",
      "  for x in vale_do_paraiba: valep2014 = valep2014.append(elei2014.loc[elei2014['NM_MUNICIPIO']== x] )\n",
      "/tmp/ipykernel_39824/2681594589.py:3: FutureWarning: The frame.append method is deprecated and will be removed from pandas in a future version. Use pandas.concat instead.\n",
      "  for x in vale_do_paraiba: valep2014 = valep2014.append(elei2014.loc[elei2014['NM_MUNICIPIO']== x] )\n",
      "/tmp/ipykernel_39824/2681594589.py:3: FutureWarning: The frame.append method is deprecated and will be removed from pandas in a future version. Use pandas.concat instead.\n",
      "  for x in vale_do_paraiba: valep2014 = valep2014.append(elei2014.loc[elei2014['NM_MUNICIPIO']== x] )\n",
      "/tmp/ipykernel_39824/2681594589.py:3: FutureWarning: The frame.append method is deprecated and will be removed from pandas in a future version. Use pandas.concat instead.\n",
      "  for x in vale_do_paraiba: valep2014 = valep2014.append(elei2014.loc[elei2014['NM_MUNICIPIO']== x] )\n",
      "/tmp/ipykernel_39824/2681594589.py:3: FutureWarning: The frame.append method is deprecated and will be removed from pandas in a future version. Use pandas.concat instead.\n",
      "  for x in vale_do_paraiba: valep2014 = valep2014.append(elei2014.loc[elei2014['NM_MUNICIPIO']== x] )\n",
      "/tmp/ipykernel_39824/2681594589.py:3: FutureWarning: The frame.append method is deprecated and will be removed from pandas in a future version. Use pandas.concat instead.\n",
      "  for x in vale_do_paraiba: valep2014 = valep2014.append(elei2014.loc[elei2014['NM_MUNICIPIO']== x] )\n",
      "/tmp/ipykernel_39824/2681594589.py:3: FutureWarning: The frame.append method is deprecated and will be removed from pandas in a future version. Use pandas.concat instead.\n",
      "  for x in vale_do_paraiba: valep2014 = valep2014.append(elei2014.loc[elei2014['NM_MUNICIPIO']== x] )\n",
      "/tmp/ipykernel_39824/2681594589.py:3: FutureWarning: The frame.append method is deprecated and will be removed from pandas in a future version. Use pandas.concat instead.\n",
      "  for x in vale_do_paraiba: valep2014 = valep2014.append(elei2014.loc[elei2014['NM_MUNICIPIO']== x] )\n",
      "/tmp/ipykernel_39824/2681594589.py:3: FutureWarning: The frame.append method is deprecated and will be removed from pandas in a future version. Use pandas.concat instead.\n",
      "  for x in vale_do_paraiba: valep2014 = valep2014.append(elei2014.loc[elei2014['NM_MUNICIPIO']== x] )\n",
      "/tmp/ipykernel_39824/2681594589.py:3: FutureWarning: The frame.append method is deprecated and will be removed from pandas in a future version. Use pandas.concat instead.\n",
      "  for x in vale_do_paraiba: valep2014 = valep2014.append(elei2014.loc[elei2014['NM_MUNICIPIO']== x] )\n",
      "/tmp/ipykernel_39824/2681594589.py:3: FutureWarning: The frame.append method is deprecated and will be removed from pandas in a future version. Use pandas.concat instead.\n",
      "  for x in vale_do_paraiba: valep2014 = valep2014.append(elei2014.loc[elei2014['NM_MUNICIPIO']== x] )\n",
      "/tmp/ipykernel_39824/2681594589.py:3: FutureWarning: The frame.append method is deprecated and will be removed from pandas in a future version. Use pandas.concat instead.\n",
      "  for x in vale_do_paraiba: valep2014 = valep2014.append(elei2014.loc[elei2014['NM_MUNICIPIO']== x] )\n",
      "/tmp/ipykernel_39824/2681594589.py:4: FutureWarning: The frame.append method is deprecated and will be removed from pandas in a future version. Use pandas.concat instead.\n",
      "  for x in vale_do_paraiba: valep2016 = valep2016.append(elei2016.loc[elei2016['NM_MUNICIPIO']== x] )\n",
      "/tmp/ipykernel_39824/2681594589.py:4: FutureWarning: The frame.append method is deprecated and will be removed from pandas in a future version. Use pandas.concat instead.\n",
      "  for x in vale_do_paraiba: valep2016 = valep2016.append(elei2016.loc[elei2016['NM_MUNICIPIO']== x] )\n",
      "/tmp/ipykernel_39824/2681594589.py:4: FutureWarning: The frame.append method is deprecated and will be removed from pandas in a future version. Use pandas.concat instead.\n",
      "  for x in vale_do_paraiba: valep2016 = valep2016.append(elei2016.loc[elei2016['NM_MUNICIPIO']== x] )\n",
      "/tmp/ipykernel_39824/2681594589.py:4: FutureWarning: The frame.append method is deprecated and will be removed from pandas in a future version. Use pandas.concat instead.\n",
      "  for x in vale_do_paraiba: valep2016 = valep2016.append(elei2016.loc[elei2016['NM_MUNICIPIO']== x] )\n",
      "/tmp/ipykernel_39824/2681594589.py:4: FutureWarning: The frame.append method is deprecated and will be removed from pandas in a future version. Use pandas.concat instead.\n",
      "  for x in vale_do_paraiba: valep2016 = valep2016.append(elei2016.loc[elei2016['NM_MUNICIPIO']== x] )\n",
      "/tmp/ipykernel_39824/2681594589.py:4: FutureWarning: The frame.append method is deprecated and will be removed from pandas in a future version. Use pandas.concat instead.\n",
      "  for x in vale_do_paraiba: valep2016 = valep2016.append(elei2016.loc[elei2016['NM_MUNICIPIO']== x] )\n",
      "/tmp/ipykernel_39824/2681594589.py:4: FutureWarning: The frame.append method is deprecated and will be removed from pandas in a future version. Use pandas.concat instead.\n",
      "  for x in vale_do_paraiba: valep2016 = valep2016.append(elei2016.loc[elei2016['NM_MUNICIPIO']== x] )\n",
      "/tmp/ipykernel_39824/2681594589.py:4: FutureWarning: The frame.append method is deprecated and will be removed from pandas in a future version. Use pandas.concat instead.\n",
      "  for x in vale_do_paraiba: valep2016 = valep2016.append(elei2016.loc[elei2016['NM_MUNICIPIO']== x] )\n",
      "/tmp/ipykernel_39824/2681594589.py:4: FutureWarning: The frame.append method is deprecated and will be removed from pandas in a future version. Use pandas.concat instead.\n",
      "  for x in vale_do_paraiba: valep2016 = valep2016.append(elei2016.loc[elei2016['NM_MUNICIPIO']== x] )\n",
      "/tmp/ipykernel_39824/2681594589.py:4: FutureWarning: The frame.append method is deprecated and will be removed from pandas in a future version. Use pandas.concat instead.\n",
      "  for x in vale_do_paraiba: valep2016 = valep2016.append(elei2016.loc[elei2016['NM_MUNICIPIO']== x] )\n",
      "/tmp/ipykernel_39824/2681594589.py:4: FutureWarning: The frame.append method is deprecated and will be removed from pandas in a future version. Use pandas.concat instead.\n",
      "  for x in vale_do_paraiba: valep2016 = valep2016.append(elei2016.loc[elei2016['NM_MUNICIPIO']== x] )\n",
      "/tmp/ipykernel_39824/2681594589.py:4: FutureWarning: The frame.append method is deprecated and will be removed from pandas in a future version. Use pandas.concat instead.\n",
      "  for x in vale_do_paraiba: valep2016 = valep2016.append(elei2016.loc[elei2016['NM_MUNICIPIO']== x] )\n",
      "/tmp/ipykernel_39824/2681594589.py:4: FutureWarning: The frame.append method is deprecated and will be removed from pandas in a future version. Use pandas.concat instead.\n",
      "  for x in vale_do_paraiba: valep2016 = valep2016.append(elei2016.loc[elei2016['NM_MUNICIPIO']== x] )\n",
      "/tmp/ipykernel_39824/2681594589.py:4: FutureWarning: The frame.append method is deprecated and will be removed from pandas in a future version. Use pandas.concat instead.\n",
      "  for x in vale_do_paraiba: valep2016 = valep2016.append(elei2016.loc[elei2016['NM_MUNICIPIO']== x] )\n",
      "/tmp/ipykernel_39824/2681594589.py:4: FutureWarning: The frame.append method is deprecated and will be removed from pandas in a future version. Use pandas.concat instead.\n",
      "  for x in vale_do_paraiba: valep2016 = valep2016.append(elei2016.loc[elei2016['NM_MUNICIPIO']== x] )\n",
      "/tmp/ipykernel_39824/2681594589.py:4: FutureWarning: The frame.append method is deprecated and will be removed from pandas in a future version. Use pandas.concat instead.\n",
      "  for x in vale_do_paraiba: valep2016 = valep2016.append(elei2016.loc[elei2016['NM_MUNICIPIO']== x] )\n"
     ]
    },
    {
     "name": "stderr",
     "output_type": "stream",
     "text": [
      "/tmp/ipykernel_39824/2681594589.py:4: FutureWarning: The frame.append method is deprecated and will be removed from pandas in a future version. Use pandas.concat instead.\n",
      "  for x in vale_do_paraiba: valep2016 = valep2016.append(elei2016.loc[elei2016['NM_MUNICIPIO']== x] )\n",
      "/tmp/ipykernel_39824/2681594589.py:4: FutureWarning: The frame.append method is deprecated and will be removed from pandas in a future version. Use pandas.concat instead.\n",
      "  for x in vale_do_paraiba: valep2016 = valep2016.append(elei2016.loc[elei2016['NM_MUNICIPIO']== x] )\n",
      "/tmp/ipykernel_39824/2681594589.py:4: FutureWarning: The frame.append method is deprecated and will be removed from pandas in a future version. Use pandas.concat instead.\n",
      "  for x in vale_do_paraiba: valep2016 = valep2016.append(elei2016.loc[elei2016['NM_MUNICIPIO']== x] )\n",
      "/tmp/ipykernel_39824/2681594589.py:4: FutureWarning: The frame.append method is deprecated and will be removed from pandas in a future version. Use pandas.concat instead.\n",
      "  for x in vale_do_paraiba: valep2016 = valep2016.append(elei2016.loc[elei2016['NM_MUNICIPIO']== x] )\n",
      "/tmp/ipykernel_39824/2681594589.py:4: FutureWarning: The frame.append method is deprecated and will be removed from pandas in a future version. Use pandas.concat instead.\n",
      "  for x in vale_do_paraiba: valep2016 = valep2016.append(elei2016.loc[elei2016['NM_MUNICIPIO']== x] )\n",
      "/tmp/ipykernel_39824/2681594589.py:4: FutureWarning: The frame.append method is deprecated and will be removed from pandas in a future version. Use pandas.concat instead.\n",
      "  for x in vale_do_paraiba: valep2016 = valep2016.append(elei2016.loc[elei2016['NM_MUNICIPIO']== x] )\n",
      "/tmp/ipykernel_39824/2681594589.py:4: FutureWarning: The frame.append method is deprecated and will be removed from pandas in a future version. Use pandas.concat instead.\n",
      "  for x in vale_do_paraiba: valep2016 = valep2016.append(elei2016.loc[elei2016['NM_MUNICIPIO']== x] )\n",
      "/tmp/ipykernel_39824/2681594589.py:5: FutureWarning: The frame.append method is deprecated and will be removed from pandas in a future version. Use pandas.concat instead.\n",
      "  for x in vale_do_paraiba: valep2018 = valep2018.append(elei2018.loc[elei2018['NM_MUNICIPIO']== x] )\n",
      "/tmp/ipykernel_39824/2681594589.py:5: FutureWarning: The frame.append method is deprecated and will be removed from pandas in a future version. Use pandas.concat instead.\n",
      "  for x in vale_do_paraiba: valep2018 = valep2018.append(elei2018.loc[elei2018['NM_MUNICIPIO']== x] )\n",
      "/tmp/ipykernel_39824/2681594589.py:5: FutureWarning: The frame.append method is deprecated and will be removed from pandas in a future version. Use pandas.concat instead.\n",
      "  for x in vale_do_paraiba: valep2018 = valep2018.append(elei2018.loc[elei2018['NM_MUNICIPIO']== x] )\n",
      "/tmp/ipykernel_39824/2681594589.py:5: FutureWarning: The frame.append method is deprecated and will be removed from pandas in a future version. Use pandas.concat instead.\n",
      "  for x in vale_do_paraiba: valep2018 = valep2018.append(elei2018.loc[elei2018['NM_MUNICIPIO']== x] )\n",
      "/tmp/ipykernel_39824/2681594589.py:5: FutureWarning: The frame.append method is deprecated and will be removed from pandas in a future version. Use pandas.concat instead.\n",
      "  for x in vale_do_paraiba: valep2018 = valep2018.append(elei2018.loc[elei2018['NM_MUNICIPIO']== x] )\n",
      "/tmp/ipykernel_39824/2681594589.py:5: FutureWarning: The frame.append method is deprecated and will be removed from pandas in a future version. Use pandas.concat instead.\n",
      "  for x in vale_do_paraiba: valep2018 = valep2018.append(elei2018.loc[elei2018['NM_MUNICIPIO']== x] )\n",
      "/tmp/ipykernel_39824/2681594589.py:5: FutureWarning: The frame.append method is deprecated and will be removed from pandas in a future version. Use pandas.concat instead.\n",
      "  for x in vale_do_paraiba: valep2018 = valep2018.append(elei2018.loc[elei2018['NM_MUNICIPIO']== x] )\n",
      "/tmp/ipykernel_39824/2681594589.py:5: FutureWarning: The frame.append method is deprecated and will be removed from pandas in a future version. Use pandas.concat instead.\n",
      "  for x in vale_do_paraiba: valep2018 = valep2018.append(elei2018.loc[elei2018['NM_MUNICIPIO']== x] )\n",
      "/tmp/ipykernel_39824/2681594589.py:5: FutureWarning: The frame.append method is deprecated and will be removed from pandas in a future version. Use pandas.concat instead.\n",
      "  for x in vale_do_paraiba: valep2018 = valep2018.append(elei2018.loc[elei2018['NM_MUNICIPIO']== x] )\n",
      "/tmp/ipykernel_39824/2681594589.py:5: FutureWarning: The frame.append method is deprecated and will be removed from pandas in a future version. Use pandas.concat instead.\n",
      "  for x in vale_do_paraiba: valep2018 = valep2018.append(elei2018.loc[elei2018['NM_MUNICIPIO']== x] )\n",
      "/tmp/ipykernel_39824/2681594589.py:5: FutureWarning: The frame.append method is deprecated and will be removed from pandas in a future version. Use pandas.concat instead.\n",
      "  for x in vale_do_paraiba: valep2018 = valep2018.append(elei2018.loc[elei2018['NM_MUNICIPIO']== x] )\n",
      "/tmp/ipykernel_39824/2681594589.py:5: FutureWarning: The frame.append method is deprecated and will be removed from pandas in a future version. Use pandas.concat instead.\n",
      "  for x in vale_do_paraiba: valep2018 = valep2018.append(elei2018.loc[elei2018['NM_MUNICIPIO']== x] )\n",
      "/tmp/ipykernel_39824/2681594589.py:5: FutureWarning: The frame.append method is deprecated and will be removed from pandas in a future version. Use pandas.concat instead.\n",
      "  for x in vale_do_paraiba: valep2018 = valep2018.append(elei2018.loc[elei2018['NM_MUNICIPIO']== x] )\n",
      "/tmp/ipykernel_39824/2681594589.py:5: FutureWarning: The frame.append method is deprecated and will be removed from pandas in a future version. Use pandas.concat instead.\n",
      "  for x in vale_do_paraiba: valep2018 = valep2018.append(elei2018.loc[elei2018['NM_MUNICIPIO']== x] )\n",
      "/tmp/ipykernel_39824/2681594589.py:5: FutureWarning: The frame.append method is deprecated and will be removed from pandas in a future version. Use pandas.concat instead.\n",
      "  for x in vale_do_paraiba: valep2018 = valep2018.append(elei2018.loc[elei2018['NM_MUNICIPIO']== x] )\n",
      "/tmp/ipykernel_39824/2681594589.py:5: FutureWarning: The frame.append method is deprecated and will be removed from pandas in a future version. Use pandas.concat instead.\n",
      "  for x in vale_do_paraiba: valep2018 = valep2018.append(elei2018.loc[elei2018['NM_MUNICIPIO']== x] )\n",
      "/tmp/ipykernel_39824/2681594589.py:5: FutureWarning: The frame.append method is deprecated and will be removed from pandas in a future version. Use pandas.concat instead.\n",
      "  for x in vale_do_paraiba: valep2018 = valep2018.append(elei2018.loc[elei2018['NM_MUNICIPIO']== x] )\n",
      "/tmp/ipykernel_39824/2681594589.py:5: FutureWarning: The frame.append method is deprecated and will be removed from pandas in a future version. Use pandas.concat instead.\n",
      "  for x in vale_do_paraiba: valep2018 = valep2018.append(elei2018.loc[elei2018['NM_MUNICIPIO']== x] )\n",
      "/tmp/ipykernel_39824/2681594589.py:5: FutureWarning: The frame.append method is deprecated and will be removed from pandas in a future version. Use pandas.concat instead.\n",
      "  for x in vale_do_paraiba: valep2018 = valep2018.append(elei2018.loc[elei2018['NM_MUNICIPIO']== x] )\n",
      "/tmp/ipykernel_39824/2681594589.py:5: FutureWarning: The frame.append method is deprecated and will be removed from pandas in a future version. Use pandas.concat instead.\n",
      "  for x in vale_do_paraiba: valep2018 = valep2018.append(elei2018.loc[elei2018['NM_MUNICIPIO']== x] )\n",
      "/tmp/ipykernel_39824/2681594589.py:5: FutureWarning: The frame.append method is deprecated and will be removed from pandas in a future version. Use pandas.concat instead.\n",
      "  for x in vale_do_paraiba: valep2018 = valep2018.append(elei2018.loc[elei2018['NM_MUNICIPIO']== x] )\n",
      "/tmp/ipykernel_39824/2681594589.py:5: FutureWarning: The frame.append method is deprecated and will be removed from pandas in a future version. Use pandas.concat instead.\n",
      "  for x in vale_do_paraiba: valep2018 = valep2018.append(elei2018.loc[elei2018['NM_MUNICIPIO']== x] )\n",
      "/tmp/ipykernel_39824/2681594589.py:5: FutureWarning: The frame.append method is deprecated and will be removed from pandas in a future version. Use pandas.concat instead.\n",
      "  for x in vale_do_paraiba: valep2018 = valep2018.append(elei2018.loc[elei2018['NM_MUNICIPIO']== x] )\n",
      "/tmp/ipykernel_39824/2681594589.py:6: FutureWarning: The frame.append method is deprecated and will be removed from pandas in a future version. Use pandas.concat instead.\n",
      "  for x in vale_do_paraiba: valep2020 = valep2020.append(elei2020.loc[elei2020['NM_MUNICIPIO']== x] )\n",
      "/tmp/ipykernel_39824/2681594589.py:6: FutureWarning: The frame.append method is deprecated and will be removed from pandas in a future version. Use pandas.concat instead.\n",
      "  for x in vale_do_paraiba: valep2020 = valep2020.append(elei2020.loc[elei2020['NM_MUNICIPIO']== x] )\n",
      "/tmp/ipykernel_39824/2681594589.py:6: FutureWarning: The frame.append method is deprecated and will be removed from pandas in a future version. Use pandas.concat instead.\n",
      "  for x in vale_do_paraiba: valep2020 = valep2020.append(elei2020.loc[elei2020['NM_MUNICIPIO']== x] )\n",
      "/tmp/ipykernel_39824/2681594589.py:6: FutureWarning: The frame.append method is deprecated and will be removed from pandas in a future version. Use pandas.concat instead.\n",
      "  for x in vale_do_paraiba: valep2020 = valep2020.append(elei2020.loc[elei2020['NM_MUNICIPIO']== x] )\n",
      "/tmp/ipykernel_39824/2681594589.py:6: FutureWarning: The frame.append method is deprecated and will be removed from pandas in a future version. Use pandas.concat instead.\n",
      "  for x in vale_do_paraiba: valep2020 = valep2020.append(elei2020.loc[elei2020['NM_MUNICIPIO']== x] )\n",
      "/tmp/ipykernel_39824/2681594589.py:6: FutureWarning: The frame.append method is deprecated and will be removed from pandas in a future version. Use pandas.concat instead.\n",
      "  for x in vale_do_paraiba: valep2020 = valep2020.append(elei2020.loc[elei2020['NM_MUNICIPIO']== x] )\n",
      "/tmp/ipykernel_39824/2681594589.py:6: FutureWarning: The frame.append method is deprecated and will be removed from pandas in a future version. Use pandas.concat instead.\n",
      "  for x in vale_do_paraiba: valep2020 = valep2020.append(elei2020.loc[elei2020['NM_MUNICIPIO']== x] )\n",
      "/tmp/ipykernel_39824/2681594589.py:6: FutureWarning: The frame.append method is deprecated and will be removed from pandas in a future version. Use pandas.concat instead.\n",
      "  for x in vale_do_paraiba: valep2020 = valep2020.append(elei2020.loc[elei2020['NM_MUNICIPIO']== x] )\n",
      "/tmp/ipykernel_39824/2681594589.py:6: FutureWarning: The frame.append method is deprecated and will be removed from pandas in a future version. Use pandas.concat instead.\n",
      "  for x in vale_do_paraiba: valep2020 = valep2020.append(elei2020.loc[elei2020['NM_MUNICIPIO']== x] )\n",
      "/tmp/ipykernel_39824/2681594589.py:6: FutureWarning: The frame.append method is deprecated and will be removed from pandas in a future version. Use pandas.concat instead.\n",
      "  for x in vale_do_paraiba: valep2020 = valep2020.append(elei2020.loc[elei2020['NM_MUNICIPIO']== x] )\n"
     ]
    },
    {
     "name": "stderr",
     "output_type": "stream",
     "text": [
      "/tmp/ipykernel_39824/2681594589.py:6: FutureWarning: The frame.append method is deprecated and will be removed from pandas in a future version. Use pandas.concat instead.\n",
      "  for x in vale_do_paraiba: valep2020 = valep2020.append(elei2020.loc[elei2020['NM_MUNICIPIO']== x] )\n",
      "/tmp/ipykernel_39824/2681594589.py:6: FutureWarning: The frame.append method is deprecated and will be removed from pandas in a future version. Use pandas.concat instead.\n",
      "  for x in vale_do_paraiba: valep2020 = valep2020.append(elei2020.loc[elei2020['NM_MUNICIPIO']== x] )\n",
      "/tmp/ipykernel_39824/2681594589.py:6: FutureWarning: The frame.append method is deprecated and will be removed from pandas in a future version. Use pandas.concat instead.\n",
      "  for x in vale_do_paraiba: valep2020 = valep2020.append(elei2020.loc[elei2020['NM_MUNICIPIO']== x] )\n",
      "/tmp/ipykernel_39824/2681594589.py:6: FutureWarning: The frame.append method is deprecated and will be removed from pandas in a future version. Use pandas.concat instead.\n",
      "  for x in vale_do_paraiba: valep2020 = valep2020.append(elei2020.loc[elei2020['NM_MUNICIPIO']== x] )\n",
      "/tmp/ipykernel_39824/2681594589.py:6: FutureWarning: The frame.append method is deprecated and will be removed from pandas in a future version. Use pandas.concat instead.\n",
      "  for x in vale_do_paraiba: valep2020 = valep2020.append(elei2020.loc[elei2020['NM_MUNICIPIO']== x] )\n",
      "/tmp/ipykernel_39824/2681594589.py:6: FutureWarning: The frame.append method is deprecated and will be removed from pandas in a future version. Use pandas.concat instead.\n",
      "  for x in vale_do_paraiba: valep2020 = valep2020.append(elei2020.loc[elei2020['NM_MUNICIPIO']== x] )\n",
      "/tmp/ipykernel_39824/2681594589.py:6: FutureWarning: The frame.append method is deprecated and will be removed from pandas in a future version. Use pandas.concat instead.\n",
      "  for x in vale_do_paraiba: valep2020 = valep2020.append(elei2020.loc[elei2020['NM_MUNICIPIO']== x] )\n",
      "/tmp/ipykernel_39824/2681594589.py:6: FutureWarning: The frame.append method is deprecated and will be removed from pandas in a future version. Use pandas.concat instead.\n",
      "  for x in vale_do_paraiba: valep2020 = valep2020.append(elei2020.loc[elei2020['NM_MUNICIPIO']== x] )\n",
      "/tmp/ipykernel_39824/2681594589.py:6: FutureWarning: The frame.append method is deprecated and will be removed from pandas in a future version. Use pandas.concat instead.\n",
      "  for x in vale_do_paraiba: valep2020 = valep2020.append(elei2020.loc[elei2020['NM_MUNICIPIO']== x] )\n",
      "/tmp/ipykernel_39824/2681594589.py:6: FutureWarning: The frame.append method is deprecated and will be removed from pandas in a future version. Use pandas.concat instead.\n",
      "  for x in vale_do_paraiba: valep2020 = valep2020.append(elei2020.loc[elei2020['NM_MUNICIPIO']== x] )\n",
      "/tmp/ipykernel_39824/2681594589.py:6: FutureWarning: The frame.append method is deprecated and will be removed from pandas in a future version. Use pandas.concat instead.\n",
      "  for x in vale_do_paraiba: valep2020 = valep2020.append(elei2020.loc[elei2020['NM_MUNICIPIO']== x] )\n",
      "/tmp/ipykernel_39824/2681594589.py:6: FutureWarning: The frame.append method is deprecated and will be removed from pandas in a future version. Use pandas.concat instead.\n",
      "  for x in vale_do_paraiba: valep2020 = valep2020.append(elei2020.loc[elei2020['NM_MUNICIPIO']== x] )\n",
      "/tmp/ipykernel_39824/2681594589.py:6: FutureWarning: The frame.append method is deprecated and will be removed from pandas in a future version. Use pandas.concat instead.\n",
      "  for x in vale_do_paraiba: valep2020 = valep2020.append(elei2020.loc[elei2020['NM_MUNICIPIO']== x] )\n"
     ]
    }
   ],
   "source": [
    "# Preenchendo os DataFrames acumuladores com dados de cada região:\n",
    "\n",
    "for x in vale_do_paraiba: valep2014 = valep2014.append(elei2014.loc[elei2014['NM_MUNICIPIO']== x] )\n",
    "for x in vale_do_paraiba: valep2016 = valep2016.append(elei2016.loc[elei2016['NM_MUNICIPIO']== x] )\n",
    "for x in vale_do_paraiba: valep2018 = valep2018.append(elei2018.loc[elei2018['NM_MUNICIPIO']== x] )\n",
    "for x in vale_do_paraiba: valep2020 = valep2020.append(elei2020.loc[elei2020['NM_MUNICIPIO']== x] )\n",
    "if eleicao_ano == 2022:\n",
    "   \n",
    "    for x in vale_do_paraiba: valep2022 = valep2022.append(elei2022.loc[elei2022['NM_MUNICIPIO']== x] )\n",
    "   \n",
    "elif eleicao_ano == 2024:\n",
    "   \n",
    "    for x in vale_do_paraiba: valep2022 = valep2022.append(elei2022.loc[elei2022['NM_MUNICIPIO']== x] )  \n",
    "   \n",
    "    for x in vale_do_paraiba: valep2024 = valep2024.append(elei2024.loc[elei2024['NM_MUNICIPIO']== x] )\n",
    "    "
   ]
  },
  {
   "cell_type": "code",
   "execution_count": 35,
   "id": "66055326",
   "metadata": {},
   "outputs": [],
   "source": [
    "# Criando um novo DataFrame para cada macrorregião, a partir da soma do eleitorado de cada respectiva cidade:\n",
    "# Cada dicionário abaixo representa o total de eleitores da determinada região:\n",
    "dados_valep = [ [\"2014\",\"VALE DO PARAÍBA\",int(valep2014[['QTD_ELEITORES']].sum(axis=0))],\n",
    "                [\"2016\",\"VALE DO PARAÍBA\",int(valep2016[['QTD_ELEITORES']].sum(axis=0))],\n",
    "                [\"2018\",\"VALE DO PARAÍBA\",int(valep2018[['QTD_ELEITORES']].sum(axis=0))],\n",
    "                [\"2020\",\"VALE DO PARAÍBA\",int(valep2020[['QTD_ELEITORES']].sum(axis=0))] ]"
   ]
  },
  {
   "cell_type": "code",
   "execution_count": 36,
   "id": "23ae440e",
   "metadata": {},
   "outputs": [],
   "source": [
    "quantRegionalVP = pd.DataFrame(data= dados_valep , columns=['ANO', 'MACRO_REGIAO', 'QTD_TOTAL_ELEITORES'])"
   ]
  },
  {
   "cell_type": "code",
   "execution_count": 37,
   "id": "0685442e",
   "metadata": {},
   "outputs": [],
   "source": [
    "if eleicao_ano == 2022:\n",
    "    van_addano_2022 = [ [\"2022\",\"COBERTURA TV VANGUARDA\",int(vanguarda2022[['QTD_ELEITORES']].sum(axis=0))] ]\n",
    "    vap_addano_2022 = [[\"2022\",\"VALE DO PARAÍBA\",int(valep2022[['QTD_ELEITORES']].sum(axis=0))] ]\n",
    "        \n",
    "    van_addano_2022 = pd.DataFrame(data= van_addano_2022 , columns=['ANO', 'MACRO_REGIAO', 'QTD_TOTAL_ELEITORES'])\n",
    "    vap_addano_2022 = pd.DataFrame(data= vap_addano_2022 , columns=['ANO', 'MACRO_REGIAO', 'QTD_TOTAL_ELEITORES'])\n",
    "    \n",
    "    quantRegionalCV = quantRegionalCV.merge(van_addano_2022, how=\"outer\")\n",
    "    quantRegionalVP = quantRegionalVP.merge(vap_addano_2022, how=\"outer\")\n",
    "    \n",
    "elif eleicao_ano == 2024:\n",
    "    van_addano_2022 = [ [\"2022\",\"COBERTURA TV VANGUARDA\",int(vanguarda2022[['QTD_ELEITORES']].sum(axis=0))] ]\n",
    "    vap_addano_2022 = [[\"2022\",\"VALE DO PARAÍBA\",int(valep2022[['QTD_ELEITORES']].sum(axis=0))] ]\n",
    "  \n",
    "    van_addano_2022 = pd.DataFrame(data= van_addano_2022 , columns=['ANO', 'MACRO_REGIAO', 'QTD_TOTAL_ELEITORES'])\n",
    "    vap_addano_2022 = pd.DataFrame(data= vap_addano_2022 , columns=['ANO', 'MACRO_REGIAO', 'QTD_TOTAL_ELEITORES'])\n",
    "   \n",
    "    quantRegionalCV = quantRegionalCV.merge(van_addano_2022, how=\"outer\")\n",
    "    quantRegionalVP = quantRegionalVP.merge(vap_addano_2022, how=\"outer\")\n",
    "   \n",
    "    \n",
    "    van_addano_2024 = [ [\"2024\",\"COBERTURA TV VANGUARDA\",int(vanguarda2024[['QTD_ELEITORES']].sum(axis=0))] ]\n",
    "    vap_addano_2024 = [[\"2024\",\"VALE DO PARAÍBA\",int(valep2024[['QTD_ELEITORES']].sum(axis=0))] ]\n",
    "    \n",
    "    van_addano_2024 = pd.DataFrame(data= van_addano_2024 , columns=['ANO', 'MACRO_REGIAO', 'QTD_TOTAL_ELEITORES'])\n",
    "    vap_addano_2024 = pd.DataFrame(data= vap_addano_2024 , columns=['ANO', 'MACRO_REGIAO', 'QTD_TOTAL_ELEITORES'])\n",
    "   \n",
    "    quantRegionalCV = quantRegionalCV.merge(van_addano_2024, how=\"outer\")\n",
    "    quantRegionalVP = quantRegionalVP.merge(vap_addano_2024, how=\"outer\")"
   ]
  },
  {
   "cell_type": "code",
   "execution_count": 38,
   "id": "0e2797ad",
   "metadata": {},
   "outputs": [],
   "source": [
    "abstencao_municipio = dfa.query(f'NM_MUNICIPIO == \"{municipio1.upper()}\"')\n",
    "\n",
    "# Avaliando abstenções no primeiro turno\n",
    "primeiro_turno_data = abstencao_municipio.query('NR_TURNO == 1')\n",
    "comparecimento_primeiro_turno = primeiro_turno_data.QT_COMPARECIMENTO.sum()\n",
    "abstencao_primeiro_turno = primeiro_turno_data.QT_ABSTENCAO.sum()\n",
    "\n",
    "# Avaliando abstenções no segundo turno\n",
    "segundo_turno_data = abstencao_municipio.query('NR_TURNO == 2')\n",
    "comparecimento_segundo_turno = segundo_turno_data.QT_COMPARECIMENTO.sum()\n",
    "abstencao_segundo_turno = segundo_turno_data.QT_ABSTENCAO.sum()\n",
    "\n",
    "# Checa se houve ou não segundo turno\n",
    "if comparecimento_segundo_turno == 0:\n",
    "    print(f\"obs: Não houve segundo turno na cidade de {municipio1} nas eleições de {eleicao_ano}.\")"
   ]
  },
  {
   "cell_type": "code",
   "execution_count": 39,
   "id": "da3e56c8",
   "metadata": {},
   "outputs": [],
   "source": [
    "# Calculando os valores do primeiro turno\n",
    "total_eleitores_primeiro_turno = comparecimento_primeiro_turno + abstencao_primeiro_turno\n",
    "comparecimento_primeiro_turno_pct = comparecimento_primeiro_turno / total_eleitores_primeiro_turno\n",
    "abstencao_primeiro_turno_pct = abstencao_primeiro_turno / total_eleitores_primeiro_turno\n",
    "\n",
    "if comparecimento_segundo_turno > 0:\n",
    "    # Calculando os valores se houve segundo turno\n",
    "    total_eleitores_segundo_turno = comparecimento_segundo_turno + abstencao_segundo_turno\n",
    "    comparecimento_segundo_turno_pct = comparecimento_segundo_turno / total_eleitores_segundo_turno\n",
    "    abstencao_segundo_turno_pct = abstencao_segundo_turno / total_eleitores_segundo_turno"
   ]
  },
  {
   "cell_type": "code",
   "execution_count": 40,
   "id": "3b00269c",
   "metadata": {},
   "outputs": [],
   "source": [
    "total_eleitores_faixaetaria = municipio_eleitores.groupby('DS_FAIXA_ETARIA')['QT_ELEITORES_PERFIL'].sum()"
   ]
  },
  {
   "cell_type": "code",
   "execution_count": 41,
   "id": "e23c6308",
   "metadata": {},
   "outputs": [],
   "source": [
    "total_eleitores_escolaridade = municipio_eleitores.groupby('DS_GRAU_ESCOLARIDADE')['QT_ELEITORES_PERFIL'].sum()"
   ]
  },
  {
   "cell_type": "code",
   "execution_count": 42,
   "id": "b21b8c2f",
   "metadata": {},
   "outputs": [],
   "source": [
    "total_eleitores_estadocivil = municipio_eleitores.groupby('DS_ESTADO_CIVIL')['QT_ELEITORES_PERFIL'].sum().sort_values(ascending=False)"
   ]
  },
  {
   "cell_type": "code",
   "execution_count": 43,
   "id": "721c47c7",
   "metadata": {},
   "outputs": [],
   "source": [
    "total_eleitores_nomesocial = 0 # Iniciando a variável\n",
    "df_nomesocial = municipio_eleitores.groupby('QT_ELEITORES_INC_NM_SOCIAL')['QT_ELEITORES_INC_NM_SOCIAL'].sum()\n",
    "\n",
    "# Somando a quantidade de eleitores com nome social em cada grupo\n",
    "for index_nomesocial in range(len(df_nomesocial)):\n",
    "    total_eleitores_nomesocial += df_nomesocial.index[index_nomesocial] * df_nomesocial.values[index_nomesocial]"
   ]
  },
  {
   "cell_type": "code",
   "execution_count": 1,
   "id": "940fd745",
   "metadata": {},
   "outputs": [
    {
     "ename": "NameError",
     "evalue": "name 'comparacao' is not defined",
     "output_type": "error",
     "traceback": [
      "\u001b[0;31m---------------------------------------------------------------------------\u001b[0m",
      "\u001b[0;31mNameError\u001b[0m                                 Traceback (most recent call last)",
      "Input \u001b[0;32mIn [1]\u001b[0m, in \u001b[0;36m<cell line: 1>\u001b[0;34m()\u001b[0m\n\u001b[0;32m----> 1\u001b[0m fig\u001b[38;5;241m=\u001b[39m\u001b[43mcomparacao\u001b[49m\u001b[38;5;241m.\u001b[39mset_index(\u001b[38;5;124m'\u001b[39m\u001b[38;5;124mLocalidade\u001b[39m\u001b[38;5;124m'\u001b[39m)\u001b[38;5;241m.\u001b[39mT\u001b[38;5;241m.\u001b[39mplot()\n\u001b[1;32m      2\u001b[0m fig\u001b[38;5;241m.\u001b[39mupdate_layout(title\u001b[38;5;241m=\u001b[39m\u001b[38;5;124m'\u001b[39m\u001b[38;5;124mSALÁRIO MÉDIO MENSAL DOS MUNICÍPIOS ESCOLHIDOS\u001b[39m\u001b[38;5;124m'\u001b[39m,\n\u001b[1;32m      3\u001b[0m                  xaxis\u001b[38;5;241m=\u001b[39m\u001b[38;5;28mdict\u001b[39m(title\u001b[38;5;241m=\u001b[39m\u001b[38;5;124m'\u001b[39m\u001b[38;5;124mAno\u001b[39m\u001b[38;5;124m'\u001b[39m), yaxis\u001b[38;5;241m=\u001b[39m\u001b[38;5;28mdict\u001b[39m(title\u001b[38;5;241m=\u001b[39m\u001b[38;5;124m'\u001b[39m\u001b[38;5;124mSalários Mínimos\u001b[39m\u001b[38;5;124m'\u001b[39m))\n\u001b[1;32m      4\u001b[0m fig\u001b[38;5;241m.\u001b[39mshow()\n",
      "\u001b[0;31mNameError\u001b[0m: name 'comparacao' is not defined"
     ]
    }
   ],
   "source": [
    "fig=comparacao.set_index('Localidade').T.plot()\n",
    "fig.update_layout(title='SALÁRIO MÉDIO MENSAL DOS MUNICÍPIOS ESCOLHIDOS',\n",
    "                 xaxis=dict(title='Ano'), yaxis=dict(title='Salários Mínimos'))\n",
    "fig.show()"
   ]
  },
  {
   "cell_type": "code",
   "execution_count": 48,
   "id": "44bea26f",
   "metadata": {},
   "outputs": [
    {
     "name": "stdout",
     "output_type": "stream",
     "text": [
      "               Localidade  2008  2009  2010  2011  2012  2013  2014  2015  \\\n",
      "3200  SÃO JOSÉ DOS CAMPOS   5.0   4.7   4.5   4.5   4.1   4.0   4.0   4.0   \n",
      "\n",
      "      2016  2017  2018  \n",
      "3200   3.7   3.7   3.7  \n"
     ]
    }
   ],
   "source": [
    "print(comparar_cidade1)"
   ]
  },
  {
   "cell_type": "code",
   "execution_count": 49,
   "id": "94ee7bfc",
   "metadata": {},
   "outputs": [
    {
     "data": {
      "application/vnd.plotly.v1+json": {
       "config": {
        "plotlyServerURL": "https://plot.ly"
       },
       "data": [
        {
         "hovertemplate": "Localidade=Vale do Paraiba<br>index=%{x}<br>value=%{y}<extra></extra>",
         "legendgroup": "Vale do Paraiba",
         "line": {
          "color": "#636efa",
          "dash": "solid"
         },
         "marker": {
          "symbol": "circle"
         },
         "mode": "lines",
         "name": "Vale do Paraiba",
         "orientation": "v",
         "showlegend": true,
         "type": "scatter",
         "x": [
          "2008",
          "2009",
          "2010",
          "2011",
          "2012",
          "2013",
          "2014",
          "2015",
          "2016",
          "2017",
          "2018"
         ],
         "xaxis": "x",
         "y": [
          3,
          2.9,
          2.8,
          2.8,
          2.6,
          2.6,
          2.6,
          2.6,
          2.5,
          2.4,
          2.5
         ],
         "yaxis": "y"
        },
        {
         "hovertemplate": "Localidade=SÃO JOSÉ DOS CAMPOS<br>index=%{x}<br>value=%{y}<extra></extra>",
         "legendgroup": "SÃO JOSÉ DOS CAMPOS",
         "line": {
          "color": "#EF553B",
          "dash": "solid"
         },
         "marker": {
          "symbol": "circle"
         },
         "mode": "lines",
         "name": "SÃO JOSÉ DOS CAMPOS",
         "orientation": "v",
         "showlegend": true,
         "type": "scatter",
         "x": [
          "2008",
          "2009",
          "2010",
          "2011",
          "2012",
          "2013",
          "2014",
          "2015",
          "2016",
          "2017",
          "2018"
         ],
         "xaxis": "x",
         "y": [
          5,
          4.7,
          4.5,
          4.5,
          4.1,
          4,
          4,
          4,
          3.7,
          3.7,
          3.7
         ],
         "yaxis": "y"
        }
       ],
       "layout": {
        "legend": {
         "title": {
          "text": "Localidade"
         },
         "tracegroupgap": 0
        },
        "margin": {
         "t": 60
        },
        "template": {
         "data": {
          "bar": [
           {
            "error_x": {
             "color": "#2a3f5f"
            },
            "error_y": {
             "color": "#2a3f5f"
            },
            "marker": {
             "line": {
              "color": "#E5ECF6",
              "width": 0.5
             },
             "pattern": {
              "fillmode": "overlay",
              "size": 10,
              "solidity": 0.2
             }
            },
            "type": "bar"
           }
          ],
          "barpolar": [
           {
            "marker": {
             "line": {
              "color": "#E5ECF6",
              "width": 0.5
             },
             "pattern": {
              "fillmode": "overlay",
              "size": 10,
              "solidity": 0.2
             }
            },
            "type": "barpolar"
           }
          ],
          "carpet": [
           {
            "aaxis": {
             "endlinecolor": "#2a3f5f",
             "gridcolor": "white",
             "linecolor": "white",
             "minorgridcolor": "white",
             "startlinecolor": "#2a3f5f"
            },
            "baxis": {
             "endlinecolor": "#2a3f5f",
             "gridcolor": "white",
             "linecolor": "white",
             "minorgridcolor": "white",
             "startlinecolor": "#2a3f5f"
            },
            "type": "carpet"
           }
          ],
          "choropleth": [
           {
            "colorbar": {
             "outlinewidth": 0,
             "ticks": ""
            },
            "type": "choropleth"
           }
          ],
          "contour": [
           {
            "colorbar": {
             "outlinewidth": 0,
             "ticks": ""
            },
            "colorscale": [
             [
              0,
              "#0d0887"
             ],
             [
              0.1111111111111111,
              "#46039f"
             ],
             [
              0.2222222222222222,
              "#7201a8"
             ],
             [
              0.3333333333333333,
              "#9c179e"
             ],
             [
              0.4444444444444444,
              "#bd3786"
             ],
             [
              0.5555555555555556,
              "#d8576b"
             ],
             [
              0.6666666666666666,
              "#ed7953"
             ],
             [
              0.7777777777777778,
              "#fb9f3a"
             ],
             [
              0.8888888888888888,
              "#fdca26"
             ],
             [
              1,
              "#f0f921"
             ]
            ],
            "type": "contour"
           }
          ],
          "contourcarpet": [
           {
            "colorbar": {
             "outlinewidth": 0,
             "ticks": ""
            },
            "type": "contourcarpet"
           }
          ],
          "heatmap": [
           {
            "colorbar": {
             "outlinewidth": 0,
             "ticks": ""
            },
            "colorscale": [
             [
              0,
              "#0d0887"
             ],
             [
              0.1111111111111111,
              "#46039f"
             ],
             [
              0.2222222222222222,
              "#7201a8"
             ],
             [
              0.3333333333333333,
              "#9c179e"
             ],
             [
              0.4444444444444444,
              "#bd3786"
             ],
             [
              0.5555555555555556,
              "#d8576b"
             ],
             [
              0.6666666666666666,
              "#ed7953"
             ],
             [
              0.7777777777777778,
              "#fb9f3a"
             ],
             [
              0.8888888888888888,
              "#fdca26"
             ],
             [
              1,
              "#f0f921"
             ]
            ],
            "type": "heatmap"
           }
          ],
          "heatmapgl": [
           {
            "colorbar": {
             "outlinewidth": 0,
             "ticks": ""
            },
            "colorscale": [
             [
              0,
              "#0d0887"
             ],
             [
              0.1111111111111111,
              "#46039f"
             ],
             [
              0.2222222222222222,
              "#7201a8"
             ],
             [
              0.3333333333333333,
              "#9c179e"
             ],
             [
              0.4444444444444444,
              "#bd3786"
             ],
             [
              0.5555555555555556,
              "#d8576b"
             ],
             [
              0.6666666666666666,
              "#ed7953"
             ],
             [
              0.7777777777777778,
              "#fb9f3a"
             ],
             [
              0.8888888888888888,
              "#fdca26"
             ],
             [
              1,
              "#f0f921"
             ]
            ],
            "type": "heatmapgl"
           }
          ],
          "histogram": [
           {
            "marker": {
             "pattern": {
              "fillmode": "overlay",
              "size": 10,
              "solidity": 0.2
             }
            },
            "type": "histogram"
           }
          ],
          "histogram2d": [
           {
            "colorbar": {
             "outlinewidth": 0,
             "ticks": ""
            },
            "colorscale": [
             [
              0,
              "#0d0887"
             ],
             [
              0.1111111111111111,
              "#46039f"
             ],
             [
              0.2222222222222222,
              "#7201a8"
             ],
             [
              0.3333333333333333,
              "#9c179e"
             ],
             [
              0.4444444444444444,
              "#bd3786"
             ],
             [
              0.5555555555555556,
              "#d8576b"
             ],
             [
              0.6666666666666666,
              "#ed7953"
             ],
             [
              0.7777777777777778,
              "#fb9f3a"
             ],
             [
              0.8888888888888888,
              "#fdca26"
             ],
             [
              1,
              "#f0f921"
             ]
            ],
            "type": "histogram2d"
           }
          ],
          "histogram2dcontour": [
           {
            "colorbar": {
             "outlinewidth": 0,
             "ticks": ""
            },
            "colorscale": [
             [
              0,
              "#0d0887"
             ],
             [
              0.1111111111111111,
              "#46039f"
             ],
             [
              0.2222222222222222,
              "#7201a8"
             ],
             [
              0.3333333333333333,
              "#9c179e"
             ],
             [
              0.4444444444444444,
              "#bd3786"
             ],
             [
              0.5555555555555556,
              "#d8576b"
             ],
             [
              0.6666666666666666,
              "#ed7953"
             ],
             [
              0.7777777777777778,
              "#fb9f3a"
             ],
             [
              0.8888888888888888,
              "#fdca26"
             ],
             [
              1,
              "#f0f921"
             ]
            ],
            "type": "histogram2dcontour"
           }
          ],
          "mesh3d": [
           {
            "colorbar": {
             "outlinewidth": 0,
             "ticks": ""
            },
            "type": "mesh3d"
           }
          ],
          "parcoords": [
           {
            "line": {
             "colorbar": {
              "outlinewidth": 0,
              "ticks": ""
             }
            },
            "type": "parcoords"
           }
          ],
          "pie": [
           {
            "automargin": true,
            "type": "pie"
           }
          ],
          "scatter": [
           {
            "fillpattern": {
             "fillmode": "overlay",
             "size": 10,
             "solidity": 0.2
            },
            "type": "scatter"
           }
          ],
          "scatter3d": [
           {
            "line": {
             "colorbar": {
              "outlinewidth": 0,
              "ticks": ""
             }
            },
            "marker": {
             "colorbar": {
              "outlinewidth": 0,
              "ticks": ""
             }
            },
            "type": "scatter3d"
           }
          ],
          "scattercarpet": [
           {
            "marker": {
             "colorbar": {
              "outlinewidth": 0,
              "ticks": ""
             }
            },
            "type": "scattercarpet"
           }
          ],
          "scattergeo": [
           {
            "marker": {
             "colorbar": {
              "outlinewidth": 0,
              "ticks": ""
             }
            },
            "type": "scattergeo"
           }
          ],
          "scattergl": [
           {
            "marker": {
             "colorbar": {
              "outlinewidth": 0,
              "ticks": ""
             }
            },
            "type": "scattergl"
           }
          ],
          "scattermapbox": [
           {
            "marker": {
             "colorbar": {
              "outlinewidth": 0,
              "ticks": ""
             }
            },
            "type": "scattermapbox"
           }
          ],
          "scatterpolar": [
           {
            "marker": {
             "colorbar": {
              "outlinewidth": 0,
              "ticks": ""
             }
            },
            "type": "scatterpolar"
           }
          ],
          "scatterpolargl": [
           {
            "marker": {
             "colorbar": {
              "outlinewidth": 0,
              "ticks": ""
             }
            },
            "type": "scatterpolargl"
           }
          ],
          "scatterternary": [
           {
            "marker": {
             "colorbar": {
              "outlinewidth": 0,
              "ticks": ""
             }
            },
            "type": "scatterternary"
           }
          ],
          "surface": [
           {
            "colorbar": {
             "outlinewidth": 0,
             "ticks": ""
            },
            "colorscale": [
             [
              0,
              "#0d0887"
             ],
             [
              0.1111111111111111,
              "#46039f"
             ],
             [
              0.2222222222222222,
              "#7201a8"
             ],
             [
              0.3333333333333333,
              "#9c179e"
             ],
             [
              0.4444444444444444,
              "#bd3786"
             ],
             [
              0.5555555555555556,
              "#d8576b"
             ],
             [
              0.6666666666666666,
              "#ed7953"
             ],
             [
              0.7777777777777778,
              "#fb9f3a"
             ],
             [
              0.8888888888888888,
              "#fdca26"
             ],
             [
              1,
              "#f0f921"
             ]
            ],
            "type": "surface"
           }
          ],
          "table": [
           {
            "cells": {
             "fill": {
              "color": "#EBF0F8"
             },
             "line": {
              "color": "white"
             }
            },
            "header": {
             "fill": {
              "color": "#C8D4E3"
             },
             "line": {
              "color": "white"
             }
            },
            "type": "table"
           }
          ]
         },
         "layout": {
          "annotationdefaults": {
           "arrowcolor": "#2a3f5f",
           "arrowhead": 0,
           "arrowwidth": 1
          },
          "autotypenumbers": "strict",
          "coloraxis": {
           "colorbar": {
            "outlinewidth": 0,
            "ticks": ""
           }
          },
          "colorscale": {
           "diverging": [
            [
             0,
             "#8e0152"
            ],
            [
             0.1,
             "#c51b7d"
            ],
            [
             0.2,
             "#de77ae"
            ],
            [
             0.3,
             "#f1b6da"
            ],
            [
             0.4,
             "#fde0ef"
            ],
            [
             0.5,
             "#f7f7f7"
            ],
            [
             0.6,
             "#e6f5d0"
            ],
            [
             0.7,
             "#b8e186"
            ],
            [
             0.8,
             "#7fbc41"
            ],
            [
             0.9,
             "#4d9221"
            ],
            [
             1,
             "#276419"
            ]
           ],
           "sequential": [
            [
             0,
             "#0d0887"
            ],
            [
             0.1111111111111111,
             "#46039f"
            ],
            [
             0.2222222222222222,
             "#7201a8"
            ],
            [
             0.3333333333333333,
             "#9c179e"
            ],
            [
             0.4444444444444444,
             "#bd3786"
            ],
            [
             0.5555555555555556,
             "#d8576b"
            ],
            [
             0.6666666666666666,
             "#ed7953"
            ],
            [
             0.7777777777777778,
             "#fb9f3a"
            ],
            [
             0.8888888888888888,
             "#fdca26"
            ],
            [
             1,
             "#f0f921"
            ]
           ],
           "sequentialminus": [
            [
             0,
             "#0d0887"
            ],
            [
             0.1111111111111111,
             "#46039f"
            ],
            [
             0.2222222222222222,
             "#7201a8"
            ],
            [
             0.3333333333333333,
             "#9c179e"
            ],
            [
             0.4444444444444444,
             "#bd3786"
            ],
            [
             0.5555555555555556,
             "#d8576b"
            ],
            [
             0.6666666666666666,
             "#ed7953"
            ],
            [
             0.7777777777777778,
             "#fb9f3a"
            ],
            [
             0.8888888888888888,
             "#fdca26"
            ],
            [
             1,
             "#f0f921"
            ]
           ]
          },
          "colorway": [
           "#636efa",
           "#EF553B",
           "#00cc96",
           "#ab63fa",
           "#FFA15A",
           "#19d3f3",
           "#FF6692",
           "#B6E880",
           "#FF97FF",
           "#FECB52"
          ],
          "font": {
           "color": "#2a3f5f"
          },
          "geo": {
           "bgcolor": "white",
           "lakecolor": "white",
           "landcolor": "#E5ECF6",
           "showlakes": true,
           "showland": true,
           "subunitcolor": "white"
          },
          "hoverlabel": {
           "align": "left"
          },
          "hovermode": "closest",
          "mapbox": {
           "style": "light"
          },
          "paper_bgcolor": "white",
          "plot_bgcolor": "#E5ECF6",
          "polar": {
           "angularaxis": {
            "gridcolor": "white",
            "linecolor": "white",
            "ticks": ""
           },
           "bgcolor": "#E5ECF6",
           "radialaxis": {
            "gridcolor": "white",
            "linecolor": "white",
            "ticks": ""
           }
          },
          "scene": {
           "xaxis": {
            "backgroundcolor": "#E5ECF6",
            "gridcolor": "white",
            "gridwidth": 2,
            "linecolor": "white",
            "showbackground": true,
            "ticks": "",
            "zerolinecolor": "white"
           },
           "yaxis": {
            "backgroundcolor": "#E5ECF6",
            "gridcolor": "white",
            "gridwidth": 2,
            "linecolor": "white",
            "showbackground": true,
            "ticks": "",
            "zerolinecolor": "white"
           },
           "zaxis": {
            "backgroundcolor": "#E5ECF6",
            "gridcolor": "white",
            "gridwidth": 2,
            "linecolor": "white",
            "showbackground": true,
            "ticks": "",
            "zerolinecolor": "white"
           }
          },
          "shapedefaults": {
           "line": {
            "color": "#2a3f5f"
           }
          },
          "ternary": {
           "aaxis": {
            "gridcolor": "white",
            "linecolor": "white",
            "ticks": ""
           },
           "baxis": {
            "gridcolor": "white",
            "linecolor": "white",
            "ticks": ""
           },
           "bgcolor": "#E5ECF6",
           "caxis": {
            "gridcolor": "white",
            "linecolor": "white",
            "ticks": ""
           }
          },
          "title": {
           "x": 0.05
          },
          "xaxis": {
           "automargin": true,
           "gridcolor": "white",
           "linecolor": "white",
           "ticks": "",
           "title": {
            "standoff": 15
           },
           "zerolinecolor": "white",
           "zerolinewidth": 2
          },
          "yaxis": {
           "automargin": true,
           "gridcolor": "white",
           "linecolor": "white",
           "ticks": "",
           "title": {
            "standoff": 15
           },
           "zerolinecolor": "white",
           "zerolinewidth": 2
          }
         }
        },
        "title": {
         "text": "COMPARAÇÃO DO SALÁRIO MÉDIO MENSAL DOS MUNICÍPIOS ESCOLHIDOS E MACRORREGIÕES"
        },
        "xaxis": {
         "anchor": "y",
         "domain": [
          0,
          1
         ],
         "title": {
          "text": "Ano"
         }
        },
        "yaxis": {
         "anchor": "x",
         "domain": [
          0,
          1
         ],
         "title": {
          "text": "Salários Mínimos"
         }
        }
       }
      },
      "text/html": [
       "<div>                            <div id=\"99a32bbe-819f-4bc0-8ca6-711ae6f1d847\" class=\"plotly-graph-div\" style=\"height:525px; width:100%;\"></div>            <script type=\"text/javascript\">                require([\"plotly\"], function(Plotly) {                    window.PLOTLYENV=window.PLOTLYENV || {};                                    if (document.getElementById(\"99a32bbe-819f-4bc0-8ca6-711ae6f1d847\")) {                    Plotly.newPlot(                        \"99a32bbe-819f-4bc0-8ca6-711ae6f1d847\",                        [{\"hovertemplate\":\"Localidade=Vale do Paraiba<br>index=%{x}<br>value=%{y}<extra></extra>\",\"legendgroup\":\"Vale do Paraiba\",\"line\":{\"color\":\"#636efa\",\"dash\":\"solid\"},\"marker\":{\"symbol\":\"circle\"},\"mode\":\"lines\",\"name\":\"Vale do Paraiba\",\"orientation\":\"v\",\"showlegend\":true,\"x\":[\"2008\",\"2009\",\"2010\",\"2011\",\"2012\",\"2013\",\"2014\",\"2015\",\"2016\",\"2017\",\"2018\"],\"xaxis\":\"x\",\"y\":[3.0,2.9,2.8,2.8,2.6,2.6,2.6,2.6,2.5,2.4,2.5],\"yaxis\":\"y\",\"type\":\"scatter\"},{\"hovertemplate\":\"Localidade=S\\u00c3O JOS\\u00c9 DOS CAMPOS<br>index=%{x}<br>value=%{y}<extra></extra>\",\"legendgroup\":\"S\\u00c3O JOS\\u00c9 DOS CAMPOS\",\"line\":{\"color\":\"#EF553B\",\"dash\":\"solid\"},\"marker\":{\"symbol\":\"circle\"},\"mode\":\"lines\",\"name\":\"S\\u00c3O JOS\\u00c9 DOS CAMPOS\",\"orientation\":\"v\",\"showlegend\":true,\"x\":[\"2008\",\"2009\",\"2010\",\"2011\",\"2012\",\"2013\",\"2014\",\"2015\",\"2016\",\"2017\",\"2018\"],\"xaxis\":\"x\",\"y\":[5.0,4.7,4.5,4.5,4.1,4.0,4.0,4.0,3.7,3.7,3.7],\"yaxis\":\"y\",\"type\":\"scatter\"}],                        {\"template\":{\"data\":{\"histogram2dcontour\":[{\"type\":\"histogram2dcontour\",\"colorbar\":{\"outlinewidth\":0,\"ticks\":\"\"},\"colorscale\":[[0.0,\"#0d0887\"],[0.1111111111111111,\"#46039f\"],[0.2222222222222222,\"#7201a8\"],[0.3333333333333333,\"#9c179e\"],[0.4444444444444444,\"#bd3786\"],[0.5555555555555556,\"#d8576b\"],[0.6666666666666666,\"#ed7953\"],[0.7777777777777778,\"#fb9f3a\"],[0.8888888888888888,\"#fdca26\"],[1.0,\"#f0f921\"]]}],\"choropleth\":[{\"type\":\"choropleth\",\"colorbar\":{\"outlinewidth\":0,\"ticks\":\"\"}}],\"histogram2d\":[{\"type\":\"histogram2d\",\"colorbar\":{\"outlinewidth\":0,\"ticks\":\"\"},\"colorscale\":[[0.0,\"#0d0887\"],[0.1111111111111111,\"#46039f\"],[0.2222222222222222,\"#7201a8\"],[0.3333333333333333,\"#9c179e\"],[0.4444444444444444,\"#bd3786\"],[0.5555555555555556,\"#d8576b\"],[0.6666666666666666,\"#ed7953\"],[0.7777777777777778,\"#fb9f3a\"],[0.8888888888888888,\"#fdca26\"],[1.0,\"#f0f921\"]]}],\"heatmap\":[{\"type\":\"heatmap\",\"colorbar\":{\"outlinewidth\":0,\"ticks\":\"\"},\"colorscale\":[[0.0,\"#0d0887\"],[0.1111111111111111,\"#46039f\"],[0.2222222222222222,\"#7201a8\"],[0.3333333333333333,\"#9c179e\"],[0.4444444444444444,\"#bd3786\"],[0.5555555555555556,\"#d8576b\"],[0.6666666666666666,\"#ed7953\"],[0.7777777777777778,\"#fb9f3a\"],[0.8888888888888888,\"#fdca26\"],[1.0,\"#f0f921\"]]}],\"heatmapgl\":[{\"type\":\"heatmapgl\",\"colorbar\":{\"outlinewidth\":0,\"ticks\":\"\"},\"colorscale\":[[0.0,\"#0d0887\"],[0.1111111111111111,\"#46039f\"],[0.2222222222222222,\"#7201a8\"],[0.3333333333333333,\"#9c179e\"],[0.4444444444444444,\"#bd3786\"],[0.5555555555555556,\"#d8576b\"],[0.6666666666666666,\"#ed7953\"],[0.7777777777777778,\"#fb9f3a\"],[0.8888888888888888,\"#fdca26\"],[1.0,\"#f0f921\"]]}],\"contourcarpet\":[{\"type\":\"contourcarpet\",\"colorbar\":{\"outlinewidth\":0,\"ticks\":\"\"}}],\"contour\":[{\"type\":\"contour\",\"colorbar\":{\"outlinewidth\":0,\"ticks\":\"\"},\"colorscale\":[[0.0,\"#0d0887\"],[0.1111111111111111,\"#46039f\"],[0.2222222222222222,\"#7201a8\"],[0.3333333333333333,\"#9c179e\"],[0.4444444444444444,\"#bd3786\"],[0.5555555555555556,\"#d8576b\"],[0.6666666666666666,\"#ed7953\"],[0.7777777777777778,\"#fb9f3a\"],[0.8888888888888888,\"#fdca26\"],[1.0,\"#f0f921\"]]}],\"surface\":[{\"type\":\"surface\",\"colorbar\":{\"outlinewidth\":0,\"ticks\":\"\"},\"colorscale\":[[0.0,\"#0d0887\"],[0.1111111111111111,\"#46039f\"],[0.2222222222222222,\"#7201a8\"],[0.3333333333333333,\"#9c179e\"],[0.4444444444444444,\"#bd3786\"],[0.5555555555555556,\"#d8576b\"],[0.6666666666666666,\"#ed7953\"],[0.7777777777777778,\"#fb9f3a\"],[0.8888888888888888,\"#fdca26\"],[1.0,\"#f0f921\"]]}],\"mesh3d\":[{\"type\":\"mesh3d\",\"colorbar\":{\"outlinewidth\":0,\"ticks\":\"\"}}],\"scatter\":[{\"fillpattern\":{\"fillmode\":\"overlay\",\"size\":10,\"solidity\":0.2},\"type\":\"scatter\"}],\"parcoords\":[{\"type\":\"parcoords\",\"line\":{\"colorbar\":{\"outlinewidth\":0,\"ticks\":\"\"}}}],\"scatterpolargl\":[{\"type\":\"scatterpolargl\",\"marker\":{\"colorbar\":{\"outlinewidth\":0,\"ticks\":\"\"}}}],\"bar\":[{\"error_x\":{\"color\":\"#2a3f5f\"},\"error_y\":{\"color\":\"#2a3f5f\"},\"marker\":{\"line\":{\"color\":\"#E5ECF6\",\"width\":0.5},\"pattern\":{\"fillmode\":\"overlay\",\"size\":10,\"solidity\":0.2}},\"type\":\"bar\"}],\"scattergeo\":[{\"type\":\"scattergeo\",\"marker\":{\"colorbar\":{\"outlinewidth\":0,\"ticks\":\"\"}}}],\"scatterpolar\":[{\"type\":\"scatterpolar\",\"marker\":{\"colorbar\":{\"outlinewidth\":0,\"ticks\":\"\"}}}],\"histogram\":[{\"marker\":{\"pattern\":{\"fillmode\":\"overlay\",\"size\":10,\"solidity\":0.2}},\"type\":\"histogram\"}],\"scattergl\":[{\"type\":\"scattergl\",\"marker\":{\"colorbar\":{\"outlinewidth\":0,\"ticks\":\"\"}}}],\"scatter3d\":[{\"type\":\"scatter3d\",\"line\":{\"colorbar\":{\"outlinewidth\":0,\"ticks\":\"\"}},\"marker\":{\"colorbar\":{\"outlinewidth\":0,\"ticks\":\"\"}}}],\"scattermapbox\":[{\"type\":\"scattermapbox\",\"marker\":{\"colorbar\":{\"outlinewidth\":0,\"ticks\":\"\"}}}],\"scatterternary\":[{\"type\":\"scatterternary\",\"marker\":{\"colorbar\":{\"outlinewidth\":0,\"ticks\":\"\"}}}],\"scattercarpet\":[{\"type\":\"scattercarpet\",\"marker\":{\"colorbar\":{\"outlinewidth\":0,\"ticks\":\"\"}}}],\"carpet\":[{\"aaxis\":{\"endlinecolor\":\"#2a3f5f\",\"gridcolor\":\"white\",\"linecolor\":\"white\",\"minorgridcolor\":\"white\",\"startlinecolor\":\"#2a3f5f\"},\"baxis\":{\"endlinecolor\":\"#2a3f5f\",\"gridcolor\":\"white\",\"linecolor\":\"white\",\"minorgridcolor\":\"white\",\"startlinecolor\":\"#2a3f5f\"},\"type\":\"carpet\"}],\"table\":[{\"cells\":{\"fill\":{\"color\":\"#EBF0F8\"},\"line\":{\"color\":\"white\"}},\"header\":{\"fill\":{\"color\":\"#C8D4E3\"},\"line\":{\"color\":\"white\"}},\"type\":\"table\"}],\"barpolar\":[{\"marker\":{\"line\":{\"color\":\"#E5ECF6\",\"width\":0.5},\"pattern\":{\"fillmode\":\"overlay\",\"size\":10,\"solidity\":0.2}},\"type\":\"barpolar\"}],\"pie\":[{\"automargin\":true,\"type\":\"pie\"}]},\"layout\":{\"autotypenumbers\":\"strict\",\"colorway\":[\"#636efa\",\"#EF553B\",\"#00cc96\",\"#ab63fa\",\"#FFA15A\",\"#19d3f3\",\"#FF6692\",\"#B6E880\",\"#FF97FF\",\"#FECB52\"],\"font\":{\"color\":\"#2a3f5f\"},\"hovermode\":\"closest\",\"hoverlabel\":{\"align\":\"left\"},\"paper_bgcolor\":\"white\",\"plot_bgcolor\":\"#E5ECF6\",\"polar\":{\"bgcolor\":\"#E5ECF6\",\"angularaxis\":{\"gridcolor\":\"white\",\"linecolor\":\"white\",\"ticks\":\"\"},\"radialaxis\":{\"gridcolor\":\"white\",\"linecolor\":\"white\",\"ticks\":\"\"}},\"ternary\":{\"bgcolor\":\"#E5ECF6\",\"aaxis\":{\"gridcolor\":\"white\",\"linecolor\":\"white\",\"ticks\":\"\"},\"baxis\":{\"gridcolor\":\"white\",\"linecolor\":\"white\",\"ticks\":\"\"},\"caxis\":{\"gridcolor\":\"white\",\"linecolor\":\"white\",\"ticks\":\"\"}},\"coloraxis\":{\"colorbar\":{\"outlinewidth\":0,\"ticks\":\"\"}},\"colorscale\":{\"sequential\":[[0.0,\"#0d0887\"],[0.1111111111111111,\"#46039f\"],[0.2222222222222222,\"#7201a8\"],[0.3333333333333333,\"#9c179e\"],[0.4444444444444444,\"#bd3786\"],[0.5555555555555556,\"#d8576b\"],[0.6666666666666666,\"#ed7953\"],[0.7777777777777778,\"#fb9f3a\"],[0.8888888888888888,\"#fdca26\"],[1.0,\"#f0f921\"]],\"sequentialminus\":[[0.0,\"#0d0887\"],[0.1111111111111111,\"#46039f\"],[0.2222222222222222,\"#7201a8\"],[0.3333333333333333,\"#9c179e\"],[0.4444444444444444,\"#bd3786\"],[0.5555555555555556,\"#d8576b\"],[0.6666666666666666,\"#ed7953\"],[0.7777777777777778,\"#fb9f3a\"],[0.8888888888888888,\"#fdca26\"],[1.0,\"#f0f921\"]],\"diverging\":[[0,\"#8e0152\"],[0.1,\"#c51b7d\"],[0.2,\"#de77ae\"],[0.3,\"#f1b6da\"],[0.4,\"#fde0ef\"],[0.5,\"#f7f7f7\"],[0.6,\"#e6f5d0\"],[0.7,\"#b8e186\"],[0.8,\"#7fbc41\"],[0.9,\"#4d9221\"],[1,\"#276419\"]]},\"xaxis\":{\"gridcolor\":\"white\",\"linecolor\":\"white\",\"ticks\":\"\",\"title\":{\"standoff\":15},\"zerolinecolor\":\"white\",\"automargin\":true,\"zerolinewidth\":2},\"yaxis\":{\"gridcolor\":\"white\",\"linecolor\":\"white\",\"ticks\":\"\",\"title\":{\"standoff\":15},\"zerolinecolor\":\"white\",\"automargin\":true,\"zerolinewidth\":2},\"scene\":{\"xaxis\":{\"backgroundcolor\":\"#E5ECF6\",\"gridcolor\":\"white\",\"linecolor\":\"white\",\"showbackground\":true,\"ticks\":\"\",\"zerolinecolor\":\"white\",\"gridwidth\":2},\"yaxis\":{\"backgroundcolor\":\"#E5ECF6\",\"gridcolor\":\"white\",\"linecolor\":\"white\",\"showbackground\":true,\"ticks\":\"\",\"zerolinecolor\":\"white\",\"gridwidth\":2},\"zaxis\":{\"backgroundcolor\":\"#E5ECF6\",\"gridcolor\":\"white\",\"linecolor\":\"white\",\"showbackground\":true,\"ticks\":\"\",\"zerolinecolor\":\"white\",\"gridwidth\":2}},\"shapedefaults\":{\"line\":{\"color\":\"#2a3f5f\"}},\"annotationdefaults\":{\"arrowcolor\":\"#2a3f5f\",\"arrowhead\":0,\"arrowwidth\":1},\"geo\":{\"bgcolor\":\"white\",\"landcolor\":\"#E5ECF6\",\"subunitcolor\":\"white\",\"showland\":true,\"showlakes\":true,\"lakecolor\":\"white\"},\"title\":{\"x\":0.05},\"mapbox\":{\"style\":\"light\"}}},\"xaxis\":{\"anchor\":\"y\",\"domain\":[0.0,1.0],\"title\":{\"text\":\"Ano\"}},\"yaxis\":{\"anchor\":\"x\",\"domain\":[0.0,1.0],\"title\":{\"text\":\"Sal\\u00e1rios M\\u00ednimos\"}},\"legend\":{\"title\":{\"text\":\"Localidade\"},\"tracegroupgap\":0},\"margin\":{\"t\":60},\"title\":{\"text\":\"COMPARA\\u00c7\\u00c3O DO SAL\\u00c1RIO M\\u00c9DIO MENSAL DOS MUNIC\\u00cdPIOS ESCOLHIDOS E MACRORREGI\\u00d5ES\"}},                        {\"responsive\": true}                    ).then(function(){\n",
       "                            \n",
       "var gd = document.getElementById('99a32bbe-819f-4bc0-8ca6-711ae6f1d847');\n",
       "var x = new MutationObserver(function (mutations, observer) {{\n",
       "        var display = window.getComputedStyle(gd).display;\n",
       "        if (!display || display === 'none') {{\n",
       "            console.log([gd, 'removed!']);\n",
       "            Plotly.purge(gd);\n",
       "            observer.disconnect();\n",
       "        }}\n",
       "}});\n",
       "\n",
       "// Listen for the removal of the full notebook cells\n",
       "var notebookContainer = gd.closest('#notebook-container');\n",
       "if (notebookContainer) {{\n",
       "    x.observe(notebookContainer, {childList: true});\n",
       "}}\n",
       "\n",
       "// Listen for the clearing of the current output cell\n",
       "var outputEl = gd.closest('.output');\n",
       "if (outputEl) {{\n",
       "    x.observe(outputEl, {childList: true});\n",
       "}}\n",
       "\n",
       "                        })                };                });            </script>        </div>"
      ]
     },
     "metadata": {},
     "output_type": "display_data"
    }
   ],
   "source": [
    "fig=comparacao_cidades.set_index('Localidade').T.plot()\n",
    "fig.update_layout(title='COMPARAÇÃO DO SALÁRIO MÉDIO MENSAL DOS MUNICÍPIOS ESCOLHIDOS E MACRORREGIÕES',\n",
    "                 xaxis=dict(title='Ano'), yaxis=dict(title='Salários Mínimos'))\n",
    "fig.show()"
   ]
  },
  {
   "cell_type": "code",
   "execution_count": 50,
   "id": "219483a1",
   "metadata": {},
   "outputs": [
    {
     "data": {
      "text/html": [
       "<div>\n",
       "<style scoped>\n",
       "    .dataframe tbody tr th:only-of-type {\n",
       "        vertical-align: middle;\n",
       "    }\n",
       "\n",
       "    .dataframe tbody tr th {\n",
       "        vertical-align: top;\n",
       "    }\n",
       "\n",
       "    .dataframe thead th {\n",
       "        text-align: right;\n",
       "    }\n",
       "</style>\n",
       "<table border=\"1\" class=\"dataframe\">\n",
       "  <thead>\n",
       "    <tr style=\"text-align: right;\">\n",
       "      <th></th>\n",
       "      <th>Localidade</th>\n",
       "      <th>2008</th>\n",
       "      <th>2009</th>\n",
       "      <th>2010</th>\n",
       "      <th>2011</th>\n",
       "      <th>2012</th>\n",
       "      <th>2013</th>\n",
       "      <th>2014</th>\n",
       "      <th>2015</th>\n",
       "      <th>2016</th>\n",
       "      <th>2017</th>\n",
       "      <th>2018</th>\n",
       "    </tr>\n",
       "  </thead>\n",
       "  <tbody>\n",
       "    <tr>\n",
       "      <th>0</th>\n",
       "      <td>Vale do Paraiba</td>\n",
       "      <td>3.0</td>\n",
       "      <td>2.9</td>\n",
       "      <td>2.8</td>\n",
       "      <td>2.8</td>\n",
       "      <td>2.6</td>\n",
       "      <td>2.6</td>\n",
       "      <td>2.6</td>\n",
       "      <td>2.6</td>\n",
       "      <td>2.5</td>\n",
       "      <td>2.4</td>\n",
       "      <td>2.5</td>\n",
       "    </tr>\n",
       "    <tr>\n",
       "      <th>1</th>\n",
       "      <td>SÃO JOSÉ DOS CAMPOS</td>\n",
       "      <td>5.0</td>\n",
       "      <td>4.7</td>\n",
       "      <td>4.5</td>\n",
       "      <td>4.5</td>\n",
       "      <td>4.1</td>\n",
       "      <td>4.0</td>\n",
       "      <td>4.0</td>\n",
       "      <td>4.0</td>\n",
       "      <td>3.7</td>\n",
       "      <td>3.7</td>\n",
       "      <td>3.7</td>\n",
       "    </tr>\n",
       "  </tbody>\n",
       "</table>\n",
       "</div>"
      ],
      "text/plain": [
       "            Localidade  2008  2009  2010  2011  2012  2013  2014  2015  2016  \\\n",
       "0      Vale do Paraiba   3.0   2.9   2.8   2.8   2.6   2.6   2.6   2.6   2.5   \n",
       "1  SÃO JOSÉ DOS CAMPOS   5.0   4.7   4.5   4.5   4.1   4.0   4.0   4.0   3.7   \n",
       "\n",
       "   2017  2018  \n",
       "0   2.4   2.5  \n",
       "1   3.7   3.7  "
      ]
     },
     "execution_count": 50,
     "metadata": {},
     "output_type": "execute_result"
    }
   ],
   "source": [
    "comparacao_cidades"
   ]
  },
  {
   "cell_type": "code",
   "execution_count": 50,
   "id": "147e387b",
   "metadata": {},
   "outputs": [
    {
     "name": "stdout",
     "output_type": "stream",
     "text": [
      "Em 2018, foi eleito(a) para Presidente da República o(a) candidato(a) JAIR MESSIAS BOLSONARO (PSL), no 2º turno das eleições.\n",
      "\n",
      "Neste mesmo ano, foi eleito(a) para Governador(a) do estado de SP o(a) candidato(a) JOÃO AGRIPINO DA COSTA DORIA JUNIOR (PSDB), no 2º turno das eleições.\n"
     ]
    }
   ],
   "source": [
    "if eleicao_ano == 2018 or eleicao_ano == 2022 or eleicao_ano == 2026:\n",
    "    print(f\"Em {eleicao_ano}, foi eleito(a) para Presidente da República o(a) candidato(a) {presidente_eleito} ({presidente_eleito_partido}), no {presidente_eleito_turno}º turno das eleições.\\n\")\n",
    "    print(f\"Neste mesmo ano, foi eleito(a) para Governador(a) do estado de SP o(a) candidato(a) {governador_eleito} ({governador_eleito_partido}), no {governador_eleito_turno}º turno das eleições.\")\n",
    "\n",
    "elif eleicao_ano == 2020 or eleicao_ano == 2024 or eleicao_ano == 2028:\n",
    "    print(f\"Em {eleicao_ano}, foi eleito(a) para prefeito(a) da cidade de {municipio1} o(a) candidato(a) {prefeito_eleito}, do partido {prefeito_eleito_partido}, no {prefeito_eleito_turno}º turno.\")\n"
   ]
  },
  {
   "cell_type": "code",
   "execution_count": 51,
   "id": "d44bf9e1",
   "metadata": {},
   "outputs": [
    {
     "data": {
      "application/vnd.plotly.v1+json": {
       "config": {
        "plotlyServerURL": "https://plot.ly"
       },
       "data": [
        {
         "alignmentgroup": "True",
         "hovertemplate": "Ano=%{x}<br>Quantidade de Eleitores=%{y}<extra></extra>",
         "legendgroup": "",
         "marker": {
          "color": "#636efa",
          "pattern": {
           "shape": ""
          }
         },
         "name": "",
         "offsetgroup": "",
         "orientation": "v",
         "showlegend": false,
         "textposition": "auto",
         "type": "bar",
         "x": [
          2014,
          2016,
          2018,
          2020
         ],
         "xaxis": "x",
         "y": [
          474012,
          488647,
          508693,
          540501
         ],
         "yaxis": "y"
        }
       ],
       "layout": {
        "barmode": "relative",
        "legend": {
         "tracegroupgap": 0
        },
        "template": {
         "data": {
          "bar": [
           {
            "error_x": {
             "color": "#2a3f5f"
            },
            "error_y": {
             "color": "#2a3f5f"
            },
            "marker": {
             "line": {
              "color": "#E5ECF6",
              "width": 0.5
             },
             "pattern": {
              "fillmode": "overlay",
              "size": 10,
              "solidity": 0.2
             }
            },
            "type": "bar"
           }
          ],
          "barpolar": [
           {
            "marker": {
             "line": {
              "color": "#E5ECF6",
              "width": 0.5
             },
             "pattern": {
              "fillmode": "overlay",
              "size": 10,
              "solidity": 0.2
             }
            },
            "type": "barpolar"
           }
          ],
          "carpet": [
           {
            "aaxis": {
             "endlinecolor": "#2a3f5f",
             "gridcolor": "white",
             "linecolor": "white",
             "minorgridcolor": "white",
             "startlinecolor": "#2a3f5f"
            },
            "baxis": {
             "endlinecolor": "#2a3f5f",
             "gridcolor": "white",
             "linecolor": "white",
             "minorgridcolor": "white",
             "startlinecolor": "#2a3f5f"
            },
            "type": "carpet"
           }
          ],
          "choropleth": [
           {
            "colorbar": {
             "outlinewidth": 0,
             "ticks": ""
            },
            "type": "choropleth"
           }
          ],
          "contour": [
           {
            "colorbar": {
             "outlinewidth": 0,
             "ticks": ""
            },
            "colorscale": [
             [
              0,
              "#0d0887"
             ],
             [
              0.1111111111111111,
              "#46039f"
             ],
             [
              0.2222222222222222,
              "#7201a8"
             ],
             [
              0.3333333333333333,
              "#9c179e"
             ],
             [
              0.4444444444444444,
              "#bd3786"
             ],
             [
              0.5555555555555556,
              "#d8576b"
             ],
             [
              0.6666666666666666,
              "#ed7953"
             ],
             [
              0.7777777777777778,
              "#fb9f3a"
             ],
             [
              0.8888888888888888,
              "#fdca26"
             ],
             [
              1,
              "#f0f921"
             ]
            ],
            "type": "contour"
           }
          ],
          "contourcarpet": [
           {
            "colorbar": {
             "outlinewidth": 0,
             "ticks": ""
            },
            "type": "contourcarpet"
           }
          ],
          "heatmap": [
           {
            "colorbar": {
             "outlinewidth": 0,
             "ticks": ""
            },
            "colorscale": [
             [
              0,
              "#0d0887"
             ],
             [
              0.1111111111111111,
              "#46039f"
             ],
             [
              0.2222222222222222,
              "#7201a8"
             ],
             [
              0.3333333333333333,
              "#9c179e"
             ],
             [
              0.4444444444444444,
              "#bd3786"
             ],
             [
              0.5555555555555556,
              "#d8576b"
             ],
             [
              0.6666666666666666,
              "#ed7953"
             ],
             [
              0.7777777777777778,
              "#fb9f3a"
             ],
             [
              0.8888888888888888,
              "#fdca26"
             ],
             [
              1,
              "#f0f921"
             ]
            ],
            "type": "heatmap"
           }
          ],
          "heatmapgl": [
           {
            "colorbar": {
             "outlinewidth": 0,
             "ticks": ""
            },
            "colorscale": [
             [
              0,
              "#0d0887"
             ],
             [
              0.1111111111111111,
              "#46039f"
             ],
             [
              0.2222222222222222,
              "#7201a8"
             ],
             [
              0.3333333333333333,
              "#9c179e"
             ],
             [
              0.4444444444444444,
              "#bd3786"
             ],
             [
              0.5555555555555556,
              "#d8576b"
             ],
             [
              0.6666666666666666,
              "#ed7953"
             ],
             [
              0.7777777777777778,
              "#fb9f3a"
             ],
             [
              0.8888888888888888,
              "#fdca26"
             ],
             [
              1,
              "#f0f921"
             ]
            ],
            "type": "heatmapgl"
           }
          ],
          "histogram": [
           {
            "marker": {
             "pattern": {
              "fillmode": "overlay",
              "size": 10,
              "solidity": 0.2
             }
            },
            "type": "histogram"
           }
          ],
          "histogram2d": [
           {
            "colorbar": {
             "outlinewidth": 0,
             "ticks": ""
            },
            "colorscale": [
             [
              0,
              "#0d0887"
             ],
             [
              0.1111111111111111,
              "#46039f"
             ],
             [
              0.2222222222222222,
              "#7201a8"
             ],
             [
              0.3333333333333333,
              "#9c179e"
             ],
             [
              0.4444444444444444,
              "#bd3786"
             ],
             [
              0.5555555555555556,
              "#d8576b"
             ],
             [
              0.6666666666666666,
              "#ed7953"
             ],
             [
              0.7777777777777778,
              "#fb9f3a"
             ],
             [
              0.8888888888888888,
              "#fdca26"
             ],
             [
              1,
              "#f0f921"
             ]
            ],
            "type": "histogram2d"
           }
          ],
          "histogram2dcontour": [
           {
            "colorbar": {
             "outlinewidth": 0,
             "ticks": ""
            },
            "colorscale": [
             [
              0,
              "#0d0887"
             ],
             [
              0.1111111111111111,
              "#46039f"
             ],
             [
              0.2222222222222222,
              "#7201a8"
             ],
             [
              0.3333333333333333,
              "#9c179e"
             ],
             [
              0.4444444444444444,
              "#bd3786"
             ],
             [
              0.5555555555555556,
              "#d8576b"
             ],
             [
              0.6666666666666666,
              "#ed7953"
             ],
             [
              0.7777777777777778,
              "#fb9f3a"
             ],
             [
              0.8888888888888888,
              "#fdca26"
             ],
             [
              1,
              "#f0f921"
             ]
            ],
            "type": "histogram2dcontour"
           }
          ],
          "mesh3d": [
           {
            "colorbar": {
             "outlinewidth": 0,
             "ticks": ""
            },
            "type": "mesh3d"
           }
          ],
          "parcoords": [
           {
            "line": {
             "colorbar": {
              "outlinewidth": 0,
              "ticks": ""
             }
            },
            "type": "parcoords"
           }
          ],
          "pie": [
           {
            "automargin": true,
            "type": "pie"
           }
          ],
          "scatter": [
           {
            "fillpattern": {
             "fillmode": "overlay",
             "size": 10,
             "solidity": 0.2
            },
            "type": "scatter"
           }
          ],
          "scatter3d": [
           {
            "line": {
             "colorbar": {
              "outlinewidth": 0,
              "ticks": ""
             }
            },
            "marker": {
             "colorbar": {
              "outlinewidth": 0,
              "ticks": ""
             }
            },
            "type": "scatter3d"
           }
          ],
          "scattercarpet": [
           {
            "marker": {
             "colorbar": {
              "outlinewidth": 0,
              "ticks": ""
             }
            },
            "type": "scattercarpet"
           }
          ],
          "scattergeo": [
           {
            "marker": {
             "colorbar": {
              "outlinewidth": 0,
              "ticks": ""
             }
            },
            "type": "scattergeo"
           }
          ],
          "scattergl": [
           {
            "marker": {
             "colorbar": {
              "outlinewidth": 0,
              "ticks": ""
             }
            },
            "type": "scattergl"
           }
          ],
          "scattermapbox": [
           {
            "marker": {
             "colorbar": {
              "outlinewidth": 0,
              "ticks": ""
             }
            },
            "type": "scattermapbox"
           }
          ],
          "scatterpolar": [
           {
            "marker": {
             "colorbar": {
              "outlinewidth": 0,
              "ticks": ""
             }
            },
            "type": "scatterpolar"
           }
          ],
          "scatterpolargl": [
           {
            "marker": {
             "colorbar": {
              "outlinewidth": 0,
              "ticks": ""
             }
            },
            "type": "scatterpolargl"
           }
          ],
          "scatterternary": [
           {
            "marker": {
             "colorbar": {
              "outlinewidth": 0,
              "ticks": ""
             }
            },
            "type": "scatterternary"
           }
          ],
          "surface": [
           {
            "colorbar": {
             "outlinewidth": 0,
             "ticks": ""
            },
            "colorscale": [
             [
              0,
              "#0d0887"
             ],
             [
              0.1111111111111111,
              "#46039f"
             ],
             [
              0.2222222222222222,
              "#7201a8"
             ],
             [
              0.3333333333333333,
              "#9c179e"
             ],
             [
              0.4444444444444444,
              "#bd3786"
             ],
             [
              0.5555555555555556,
              "#d8576b"
             ],
             [
              0.6666666666666666,
              "#ed7953"
             ],
             [
              0.7777777777777778,
              "#fb9f3a"
             ],
             [
              0.8888888888888888,
              "#fdca26"
             ],
             [
              1,
              "#f0f921"
             ]
            ],
            "type": "surface"
           }
          ],
          "table": [
           {
            "cells": {
             "fill": {
              "color": "#EBF0F8"
             },
             "line": {
              "color": "white"
             }
            },
            "header": {
             "fill": {
              "color": "#C8D4E3"
             },
             "line": {
              "color": "white"
             }
            },
            "type": "table"
           }
          ]
         },
         "layout": {
          "annotationdefaults": {
           "arrowcolor": "#2a3f5f",
           "arrowhead": 0,
           "arrowwidth": 1
          },
          "autotypenumbers": "strict",
          "coloraxis": {
           "colorbar": {
            "outlinewidth": 0,
            "ticks": ""
           }
          },
          "colorscale": {
           "diverging": [
            [
             0,
             "#8e0152"
            ],
            [
             0.1,
             "#c51b7d"
            ],
            [
             0.2,
             "#de77ae"
            ],
            [
             0.3,
             "#f1b6da"
            ],
            [
             0.4,
             "#fde0ef"
            ],
            [
             0.5,
             "#f7f7f7"
            ],
            [
             0.6,
             "#e6f5d0"
            ],
            [
             0.7,
             "#b8e186"
            ],
            [
             0.8,
             "#7fbc41"
            ],
            [
             0.9,
             "#4d9221"
            ],
            [
             1,
             "#276419"
            ]
           ],
           "sequential": [
            [
             0,
             "#0d0887"
            ],
            [
             0.1111111111111111,
             "#46039f"
            ],
            [
             0.2222222222222222,
             "#7201a8"
            ],
            [
             0.3333333333333333,
             "#9c179e"
            ],
            [
             0.4444444444444444,
             "#bd3786"
            ],
            [
             0.5555555555555556,
             "#d8576b"
            ],
            [
             0.6666666666666666,
             "#ed7953"
            ],
            [
             0.7777777777777778,
             "#fb9f3a"
            ],
            [
             0.8888888888888888,
             "#fdca26"
            ],
            [
             1,
             "#f0f921"
            ]
           ],
           "sequentialminus": [
            [
             0,
             "#0d0887"
            ],
            [
             0.1111111111111111,
             "#46039f"
            ],
            [
             0.2222222222222222,
             "#7201a8"
            ],
            [
             0.3333333333333333,
             "#9c179e"
            ],
            [
             0.4444444444444444,
             "#bd3786"
            ],
            [
             0.5555555555555556,
             "#d8576b"
            ],
            [
             0.6666666666666666,
             "#ed7953"
            ],
            [
             0.7777777777777778,
             "#fb9f3a"
            ],
            [
             0.8888888888888888,
             "#fdca26"
            ],
            [
             1,
             "#f0f921"
            ]
           ]
          },
          "colorway": [
           "#636efa",
           "#EF553B",
           "#00cc96",
           "#ab63fa",
           "#FFA15A",
           "#19d3f3",
           "#FF6692",
           "#B6E880",
           "#FF97FF",
           "#FECB52"
          ],
          "font": {
           "color": "#2a3f5f"
          },
          "geo": {
           "bgcolor": "white",
           "lakecolor": "white",
           "landcolor": "#E5ECF6",
           "showlakes": true,
           "showland": true,
           "subunitcolor": "white"
          },
          "hoverlabel": {
           "align": "left"
          },
          "hovermode": "closest",
          "mapbox": {
           "style": "light"
          },
          "paper_bgcolor": "white",
          "plot_bgcolor": "#E5ECF6",
          "polar": {
           "angularaxis": {
            "gridcolor": "white",
            "linecolor": "white",
            "ticks": ""
           },
           "bgcolor": "#E5ECF6",
           "radialaxis": {
            "gridcolor": "white",
            "linecolor": "white",
            "ticks": ""
           }
          },
          "scene": {
           "xaxis": {
            "backgroundcolor": "#E5ECF6",
            "gridcolor": "white",
            "gridwidth": 2,
            "linecolor": "white",
            "showbackground": true,
            "ticks": "",
            "zerolinecolor": "white"
           },
           "yaxis": {
            "backgroundcolor": "#E5ECF6",
            "gridcolor": "white",
            "gridwidth": 2,
            "linecolor": "white",
            "showbackground": true,
            "ticks": "",
            "zerolinecolor": "white"
           },
           "zaxis": {
            "backgroundcolor": "#E5ECF6",
            "gridcolor": "white",
            "gridwidth": 2,
            "linecolor": "white",
            "showbackground": true,
            "ticks": "",
            "zerolinecolor": "white"
           }
          },
          "shapedefaults": {
           "line": {
            "color": "#2a3f5f"
           }
          },
          "ternary": {
           "aaxis": {
            "gridcolor": "white",
            "linecolor": "white",
            "ticks": ""
           },
           "baxis": {
            "gridcolor": "white",
            "linecolor": "white",
            "ticks": ""
           },
           "bgcolor": "#E5ECF6",
           "caxis": {
            "gridcolor": "white",
            "linecolor": "white",
            "ticks": ""
           }
          },
          "title": {
           "x": 0.05
          },
          "xaxis": {
           "automargin": true,
           "gridcolor": "white",
           "linecolor": "white",
           "ticks": "",
           "title": {
            "standoff": 15
           },
           "zerolinecolor": "white",
           "zerolinewidth": 2
          },
          "yaxis": {
           "automargin": true,
           "gridcolor": "white",
           "linecolor": "white",
           "ticks": "",
           "title": {
            "standoff": 15
           },
           "zerolinecolor": "white",
           "zerolinewidth": 2
          }
         }
        },
        "title": {
         "text": "Evolução do eleitorado do municípios de SÃO JOSÉ DOS CAMPOS"
        },
        "width": 720,
        "xaxis": {
         "anchor": "y",
         "domain": [
          0,
          1
         ],
         "title": {
          "text": "Ano"
         }
        },
        "yaxis": {
         "anchor": "x",
         "domain": [
          0,
          1
         ],
         "title": {
          "text": "Quantidade de Eleitores"
         }
        }
       }
      },
      "text/html": [
       "<div>                            <div id=\"8e3e3e23-3dae-4342-b88b-9e47471573b6\" class=\"plotly-graph-div\" style=\"height:525px; width:720px;\"></div>            <script type=\"text/javascript\">                require([\"plotly\"], function(Plotly) {                    window.PLOTLYENV=window.PLOTLYENV || {};                                    if (document.getElementById(\"8e3e3e23-3dae-4342-b88b-9e47471573b6\")) {                    Plotly.newPlot(                        \"8e3e3e23-3dae-4342-b88b-9e47471573b6\",                        [{\"alignmentgroup\":\"True\",\"hovertemplate\":\"Ano=%{x}<br>Quantidade de Eleitores=%{y}<extra></extra>\",\"legendgroup\":\"\",\"marker\":{\"color\":\"#636efa\",\"pattern\":{\"shape\":\"\"}},\"name\":\"\",\"offsetgroup\":\"\",\"orientation\":\"v\",\"showlegend\":false,\"textposition\":\"auto\",\"x\":[2014,2016,2018,2020],\"xaxis\":\"x\",\"y\":[474012,488647,508693,540501],\"yaxis\":\"y\",\"type\":\"bar\"}],                        {\"template\":{\"data\":{\"histogram2dcontour\":[{\"type\":\"histogram2dcontour\",\"colorbar\":{\"outlinewidth\":0,\"ticks\":\"\"},\"colorscale\":[[0.0,\"#0d0887\"],[0.1111111111111111,\"#46039f\"],[0.2222222222222222,\"#7201a8\"],[0.3333333333333333,\"#9c179e\"],[0.4444444444444444,\"#bd3786\"],[0.5555555555555556,\"#d8576b\"],[0.6666666666666666,\"#ed7953\"],[0.7777777777777778,\"#fb9f3a\"],[0.8888888888888888,\"#fdca26\"],[1.0,\"#f0f921\"]]}],\"choropleth\":[{\"type\":\"choropleth\",\"colorbar\":{\"outlinewidth\":0,\"ticks\":\"\"}}],\"histogram2d\":[{\"type\":\"histogram2d\",\"colorbar\":{\"outlinewidth\":0,\"ticks\":\"\"},\"colorscale\":[[0.0,\"#0d0887\"],[0.1111111111111111,\"#46039f\"],[0.2222222222222222,\"#7201a8\"],[0.3333333333333333,\"#9c179e\"],[0.4444444444444444,\"#bd3786\"],[0.5555555555555556,\"#d8576b\"],[0.6666666666666666,\"#ed7953\"],[0.7777777777777778,\"#fb9f3a\"],[0.8888888888888888,\"#fdca26\"],[1.0,\"#f0f921\"]]}],\"heatmap\":[{\"type\":\"heatmap\",\"colorbar\":{\"outlinewidth\":0,\"ticks\":\"\"},\"colorscale\":[[0.0,\"#0d0887\"],[0.1111111111111111,\"#46039f\"],[0.2222222222222222,\"#7201a8\"],[0.3333333333333333,\"#9c179e\"],[0.4444444444444444,\"#bd3786\"],[0.5555555555555556,\"#d8576b\"],[0.6666666666666666,\"#ed7953\"],[0.7777777777777778,\"#fb9f3a\"],[0.8888888888888888,\"#fdca26\"],[1.0,\"#f0f921\"]]}],\"heatmapgl\":[{\"type\":\"heatmapgl\",\"colorbar\":{\"outlinewidth\":0,\"ticks\":\"\"},\"colorscale\":[[0.0,\"#0d0887\"],[0.1111111111111111,\"#46039f\"],[0.2222222222222222,\"#7201a8\"],[0.3333333333333333,\"#9c179e\"],[0.4444444444444444,\"#bd3786\"],[0.5555555555555556,\"#d8576b\"],[0.6666666666666666,\"#ed7953\"],[0.7777777777777778,\"#fb9f3a\"],[0.8888888888888888,\"#fdca26\"],[1.0,\"#f0f921\"]]}],\"contourcarpet\":[{\"type\":\"contourcarpet\",\"colorbar\":{\"outlinewidth\":0,\"ticks\":\"\"}}],\"contour\":[{\"type\":\"contour\",\"colorbar\":{\"outlinewidth\":0,\"ticks\":\"\"},\"colorscale\":[[0.0,\"#0d0887\"],[0.1111111111111111,\"#46039f\"],[0.2222222222222222,\"#7201a8\"],[0.3333333333333333,\"#9c179e\"],[0.4444444444444444,\"#bd3786\"],[0.5555555555555556,\"#d8576b\"],[0.6666666666666666,\"#ed7953\"],[0.7777777777777778,\"#fb9f3a\"],[0.8888888888888888,\"#fdca26\"],[1.0,\"#f0f921\"]]}],\"surface\":[{\"type\":\"surface\",\"colorbar\":{\"outlinewidth\":0,\"ticks\":\"\"},\"colorscale\":[[0.0,\"#0d0887\"],[0.1111111111111111,\"#46039f\"],[0.2222222222222222,\"#7201a8\"],[0.3333333333333333,\"#9c179e\"],[0.4444444444444444,\"#bd3786\"],[0.5555555555555556,\"#d8576b\"],[0.6666666666666666,\"#ed7953\"],[0.7777777777777778,\"#fb9f3a\"],[0.8888888888888888,\"#fdca26\"],[1.0,\"#f0f921\"]]}],\"mesh3d\":[{\"type\":\"mesh3d\",\"colorbar\":{\"outlinewidth\":0,\"ticks\":\"\"}}],\"scatter\":[{\"fillpattern\":{\"fillmode\":\"overlay\",\"size\":10,\"solidity\":0.2},\"type\":\"scatter\"}],\"parcoords\":[{\"type\":\"parcoords\",\"line\":{\"colorbar\":{\"outlinewidth\":0,\"ticks\":\"\"}}}],\"scatterpolargl\":[{\"type\":\"scatterpolargl\",\"marker\":{\"colorbar\":{\"outlinewidth\":0,\"ticks\":\"\"}}}],\"bar\":[{\"error_x\":{\"color\":\"#2a3f5f\"},\"error_y\":{\"color\":\"#2a3f5f\"},\"marker\":{\"line\":{\"color\":\"#E5ECF6\",\"width\":0.5},\"pattern\":{\"fillmode\":\"overlay\",\"size\":10,\"solidity\":0.2}},\"type\":\"bar\"}],\"scattergeo\":[{\"type\":\"scattergeo\",\"marker\":{\"colorbar\":{\"outlinewidth\":0,\"ticks\":\"\"}}}],\"scatterpolar\":[{\"type\":\"scatterpolar\",\"marker\":{\"colorbar\":{\"outlinewidth\":0,\"ticks\":\"\"}}}],\"histogram\":[{\"marker\":{\"pattern\":{\"fillmode\":\"overlay\",\"size\":10,\"solidity\":0.2}},\"type\":\"histogram\"}],\"scattergl\":[{\"type\":\"scattergl\",\"marker\":{\"colorbar\":{\"outlinewidth\":0,\"ticks\":\"\"}}}],\"scatter3d\":[{\"type\":\"scatter3d\",\"line\":{\"colorbar\":{\"outlinewidth\":0,\"ticks\":\"\"}},\"marker\":{\"colorbar\":{\"outlinewidth\":0,\"ticks\":\"\"}}}],\"scattermapbox\":[{\"type\":\"scattermapbox\",\"marker\":{\"colorbar\":{\"outlinewidth\":0,\"ticks\":\"\"}}}],\"scatterternary\":[{\"type\":\"scatterternary\",\"marker\":{\"colorbar\":{\"outlinewidth\":0,\"ticks\":\"\"}}}],\"scattercarpet\":[{\"type\":\"scattercarpet\",\"marker\":{\"colorbar\":{\"outlinewidth\":0,\"ticks\":\"\"}}}],\"carpet\":[{\"aaxis\":{\"endlinecolor\":\"#2a3f5f\",\"gridcolor\":\"white\",\"linecolor\":\"white\",\"minorgridcolor\":\"white\",\"startlinecolor\":\"#2a3f5f\"},\"baxis\":{\"endlinecolor\":\"#2a3f5f\",\"gridcolor\":\"white\",\"linecolor\":\"white\",\"minorgridcolor\":\"white\",\"startlinecolor\":\"#2a3f5f\"},\"type\":\"carpet\"}],\"table\":[{\"cells\":{\"fill\":{\"color\":\"#EBF0F8\"},\"line\":{\"color\":\"white\"}},\"header\":{\"fill\":{\"color\":\"#C8D4E3\"},\"line\":{\"color\":\"white\"}},\"type\":\"table\"}],\"barpolar\":[{\"marker\":{\"line\":{\"color\":\"#E5ECF6\",\"width\":0.5},\"pattern\":{\"fillmode\":\"overlay\",\"size\":10,\"solidity\":0.2}},\"type\":\"barpolar\"}],\"pie\":[{\"automargin\":true,\"type\":\"pie\"}]},\"layout\":{\"autotypenumbers\":\"strict\",\"colorway\":[\"#636efa\",\"#EF553B\",\"#00cc96\",\"#ab63fa\",\"#FFA15A\",\"#19d3f3\",\"#FF6692\",\"#B6E880\",\"#FF97FF\",\"#FECB52\"],\"font\":{\"color\":\"#2a3f5f\"},\"hovermode\":\"closest\",\"hoverlabel\":{\"align\":\"left\"},\"paper_bgcolor\":\"white\",\"plot_bgcolor\":\"#E5ECF6\",\"polar\":{\"bgcolor\":\"#E5ECF6\",\"angularaxis\":{\"gridcolor\":\"white\",\"linecolor\":\"white\",\"ticks\":\"\"},\"radialaxis\":{\"gridcolor\":\"white\",\"linecolor\":\"white\",\"ticks\":\"\"}},\"ternary\":{\"bgcolor\":\"#E5ECF6\",\"aaxis\":{\"gridcolor\":\"white\",\"linecolor\":\"white\",\"ticks\":\"\"},\"baxis\":{\"gridcolor\":\"white\",\"linecolor\":\"white\",\"ticks\":\"\"},\"caxis\":{\"gridcolor\":\"white\",\"linecolor\":\"white\",\"ticks\":\"\"}},\"coloraxis\":{\"colorbar\":{\"outlinewidth\":0,\"ticks\":\"\"}},\"colorscale\":{\"sequential\":[[0.0,\"#0d0887\"],[0.1111111111111111,\"#46039f\"],[0.2222222222222222,\"#7201a8\"],[0.3333333333333333,\"#9c179e\"],[0.4444444444444444,\"#bd3786\"],[0.5555555555555556,\"#d8576b\"],[0.6666666666666666,\"#ed7953\"],[0.7777777777777778,\"#fb9f3a\"],[0.8888888888888888,\"#fdca26\"],[1.0,\"#f0f921\"]],\"sequentialminus\":[[0.0,\"#0d0887\"],[0.1111111111111111,\"#46039f\"],[0.2222222222222222,\"#7201a8\"],[0.3333333333333333,\"#9c179e\"],[0.4444444444444444,\"#bd3786\"],[0.5555555555555556,\"#d8576b\"],[0.6666666666666666,\"#ed7953\"],[0.7777777777777778,\"#fb9f3a\"],[0.8888888888888888,\"#fdca26\"],[1.0,\"#f0f921\"]],\"diverging\":[[0,\"#8e0152\"],[0.1,\"#c51b7d\"],[0.2,\"#de77ae\"],[0.3,\"#f1b6da\"],[0.4,\"#fde0ef\"],[0.5,\"#f7f7f7\"],[0.6,\"#e6f5d0\"],[0.7,\"#b8e186\"],[0.8,\"#7fbc41\"],[0.9,\"#4d9221\"],[1,\"#276419\"]]},\"xaxis\":{\"gridcolor\":\"white\",\"linecolor\":\"white\",\"ticks\":\"\",\"title\":{\"standoff\":15},\"zerolinecolor\":\"white\",\"automargin\":true,\"zerolinewidth\":2},\"yaxis\":{\"gridcolor\":\"white\",\"linecolor\":\"white\",\"ticks\":\"\",\"title\":{\"standoff\":15},\"zerolinecolor\":\"white\",\"automargin\":true,\"zerolinewidth\":2},\"scene\":{\"xaxis\":{\"backgroundcolor\":\"#E5ECF6\",\"gridcolor\":\"white\",\"linecolor\":\"white\",\"showbackground\":true,\"ticks\":\"\",\"zerolinecolor\":\"white\",\"gridwidth\":2},\"yaxis\":{\"backgroundcolor\":\"#E5ECF6\",\"gridcolor\":\"white\",\"linecolor\":\"white\",\"showbackground\":true,\"ticks\":\"\",\"zerolinecolor\":\"white\",\"gridwidth\":2},\"zaxis\":{\"backgroundcolor\":\"#E5ECF6\",\"gridcolor\":\"white\",\"linecolor\":\"white\",\"showbackground\":true,\"ticks\":\"\",\"zerolinecolor\":\"white\",\"gridwidth\":2}},\"shapedefaults\":{\"line\":{\"color\":\"#2a3f5f\"}},\"annotationdefaults\":{\"arrowcolor\":\"#2a3f5f\",\"arrowhead\":0,\"arrowwidth\":1},\"geo\":{\"bgcolor\":\"white\",\"landcolor\":\"#E5ECF6\",\"subunitcolor\":\"white\",\"showland\":true,\"showlakes\":true,\"lakecolor\":\"white\"},\"title\":{\"x\":0.05},\"mapbox\":{\"style\":\"light\"}}},\"xaxis\":{\"anchor\":\"y\",\"domain\":[0.0,1.0],\"title\":{\"text\":\"Ano\"}},\"yaxis\":{\"anchor\":\"x\",\"domain\":[0.0,1.0],\"title\":{\"text\":\"Quantidade de Eleitores\"}},\"legend\":{\"tracegroupgap\":0},\"title\":{\"text\":\"Evolu\\u00e7\\u00e3o do eleitorado do munic\\u00edpios de S\\u00c3O JOS\\u00c9 DOS CAMPOS\"},\"barmode\":\"relative\",\"width\":720},                        {\"responsive\": true}                    ).then(function(){\n",
       "                            \n",
       "var gd = document.getElementById('8e3e3e23-3dae-4342-b88b-9e47471573b6');\n",
       "var x = new MutationObserver(function (mutations, observer) {{\n",
       "        var display = window.getComputedStyle(gd).display;\n",
       "        if (!display || display === 'none') {{\n",
       "            console.log([gd, 'removed!']);\n",
       "            Plotly.purge(gd);\n",
       "            observer.disconnect();\n",
       "        }}\n",
       "}});\n",
       "\n",
       "// Listen for the removal of the full notebook cells\n",
       "var notebookContainer = gd.closest('#notebook-container');\n",
       "if (notebookContainer) {{\n",
       "    x.observe(notebookContainer, {childList: true});\n",
       "}}\n",
       "\n",
       "// Listen for the clearing of the current output cell\n",
       "var outputEl = gd.closest('.output');\n",
       "if (outputEl) {{\n",
       "    x.observe(outputEl, {childList: true});\n",
       "}}\n",
       "\n",
       "                        })                };                });            </script>        </div>"
      ]
     },
     "metadata": {},
     "output_type": "display_data"
    }
   ],
   "source": [
    "# Plot do gráfico da quantidade de eleitores pela cidade escolhida pelo usuário\n",
    "graficoMunicipal = px.bar(quantitativoTotal, x='NR_ANO_ELEICAO', y='QTD_ELEITORES',\n",
    "             hover_data=['QTD_ELEITORES'],\n",
    "             labels={'QTD_ELEITORES':'Quantidade de Eleitores', 'NR_ANO_ELEICAO': 'Ano' },\n",
    "             title = 'Evolução do eleitorado do municípios de ' + municipio1, width=720)\n",
    "\n",
    "graficoMunicipal.show()"
   ]
  },
  {
   "cell_type": "code",
   "execution_count": 2,
   "id": "969f7381",
   "metadata": {},
   "outputs": [
    {
     "ename": "NameError",
     "evalue": "name 'px' is not defined",
     "output_type": "error",
     "traceback": [
      "\u001b[0;31m---------------------------------------------------------------------------\u001b[0m",
      "\u001b[0;31mNameError\u001b[0m                                 Traceback (most recent call last)",
      "Input \u001b[0;32mIn [2]\u001b[0m, in \u001b[0;36m<cell line: 1>\u001b[0;34m()\u001b[0m\n\u001b[0;32m----> 1\u001b[0m fig\u001b[38;5;241m=\u001b[39m\u001b[43mpx\u001b[49m\u001b[38;5;241m.\u001b[39mbar(total_eleitores_faixaetaria, x\u001b[38;5;241m=\u001b[39m total_eleitores_faixaetaria\u001b[38;5;241m.\u001b[39mindex, y\u001b[38;5;241m=\u001b[39mtotal_eleitores_faixaetaria\u001b[38;5;241m.\u001b[39mvalues,\n\u001b[1;32m      2\u001b[0m           title\u001b[38;5;241m=\u001b[39m\u001b[38;5;124m\"\u001b[39m\u001b[38;5;124mFAIXA ETÁRIA DO ELEITORADO - \u001b[39m\u001b[38;5;124m\"\u001b[39m \u001b[38;5;241m+\u001b[39m municipio1\u001b[38;5;241m.\u001b[39mupper() \u001b[38;5;241m+\u001b[39m \u001b[38;5;124m\"\u001b[39m\u001b[38;5;124m / \u001b[39m\u001b[38;5;124m\"\u001b[39m \u001b[38;5;241m+\u001b[39m \u001b[38;5;28mstr\u001b[39m(eleicao_ano), \n\u001b[1;32m      3\u001b[0m           labels\u001b[38;5;241m=\u001b[39m{\u001b[38;5;124m'\u001b[39m\u001b[38;5;124my\u001b[39m\u001b[38;5;124m'\u001b[39m:\u001b[38;5;124m'\u001b[39m\u001b[38;5;124mEleitores\u001b[39m\u001b[38;5;124m'\u001b[39m, \u001b[38;5;124m'\u001b[39m\u001b[38;5;124mDS_FAIXA_ETARIA\u001b[39m\u001b[38;5;124m'\u001b[39m:\u001b[38;5;124m'\u001b[39m\u001b[38;5;124mFaixa Etária\u001b[39m\u001b[38;5;124m'\u001b[39m})\n\u001b[1;32m      5\u001b[0m fig\u001b[38;5;241m.\u001b[39mshow()\n",
      "\u001b[0;31mNameError\u001b[0m: name 'px' is not defined"
     ]
    }
   ],
   "source": [
    "fig=px.bar(total_eleitores_faixaetaria, x= total_eleitores_faixaetaria.index, y=total_eleitores_faixaetaria.values,\n",
    "          title=\"FAIXA ETÁRIA DO ELEITORADO - \" + municipio1.upper() + \" / \" + str(eleicao_ano), \n",
    "          labels={'y':'Eleitores', 'DS_FAIXA_ETARIA':'Faixa Etária'})\n",
    "\n",
    "fig.show()"
   ]
  },
  {
   "cell_type": "code",
   "execution_count": null,
   "id": "c077d15b",
   "metadata": {},
   "outputs": [],
   "source": []
  },
  {
   "cell_type": "code",
   "execution_count": 54,
   "id": "3e6e33a9",
   "metadata": {},
   "outputs": [
    {
     "data": {
      "application/vnd.plotly.v1+json": {
       "config": {
        "plotlyServerURL": "https://plot.ly"
       },
       "data": [
        {
         "alignmentgroup": "True",
         "hovertemplate": "Escolaridade=%{x}<br>Eleitores=%{y}<extra></extra>",
         "legendgroup": "",
         "marker": {
          "color": "#636efa",
          "pattern": {
           "shape": ""
          }
         },
         "name": "",
         "offsetgroup": "",
         "orientation": "v",
         "showlegend": false,
         "textposition": "auto",
         "type": "bar",
         "x": [
          "ANALFABETO",
          "ENSINO FUNDAMENTAL COMPLETO",
          "ENSINO FUNDAMENTAL INCOMPLETO",
          "ENSINO MÉDIO COMPLETO",
          "ENSINO MÉDIO INCOMPLETO",
          "LÊ E ESCREVE",
          "SUPERIOR COMPLETO",
          "SUPERIOR INCOMPLETO"
         ],
         "xaxis": "x",
         "y": [
          7106,
          38065,
          102648,
          158214,
          97589,
          15347,
          62142,
          27582
         ],
         "yaxis": "y"
        }
       ],
       "layout": {
        "barmode": "relative",
        "legend": {
         "tracegroupgap": 0
        },
        "template": {
         "data": {
          "bar": [
           {
            "error_x": {
             "color": "#2a3f5f"
            },
            "error_y": {
             "color": "#2a3f5f"
            },
            "marker": {
             "line": {
              "color": "#E5ECF6",
              "width": 0.5
             },
             "pattern": {
              "fillmode": "overlay",
              "size": 10,
              "solidity": 0.2
             }
            },
            "type": "bar"
           }
          ],
          "barpolar": [
           {
            "marker": {
             "line": {
              "color": "#E5ECF6",
              "width": 0.5
             },
             "pattern": {
              "fillmode": "overlay",
              "size": 10,
              "solidity": 0.2
             }
            },
            "type": "barpolar"
           }
          ],
          "carpet": [
           {
            "aaxis": {
             "endlinecolor": "#2a3f5f",
             "gridcolor": "white",
             "linecolor": "white",
             "minorgridcolor": "white",
             "startlinecolor": "#2a3f5f"
            },
            "baxis": {
             "endlinecolor": "#2a3f5f",
             "gridcolor": "white",
             "linecolor": "white",
             "minorgridcolor": "white",
             "startlinecolor": "#2a3f5f"
            },
            "type": "carpet"
           }
          ],
          "choropleth": [
           {
            "colorbar": {
             "outlinewidth": 0,
             "ticks": ""
            },
            "type": "choropleth"
           }
          ],
          "contour": [
           {
            "colorbar": {
             "outlinewidth": 0,
             "ticks": ""
            },
            "colorscale": [
             [
              0,
              "#0d0887"
             ],
             [
              0.1111111111111111,
              "#46039f"
             ],
             [
              0.2222222222222222,
              "#7201a8"
             ],
             [
              0.3333333333333333,
              "#9c179e"
             ],
             [
              0.4444444444444444,
              "#bd3786"
             ],
             [
              0.5555555555555556,
              "#d8576b"
             ],
             [
              0.6666666666666666,
              "#ed7953"
             ],
             [
              0.7777777777777778,
              "#fb9f3a"
             ],
             [
              0.8888888888888888,
              "#fdca26"
             ],
             [
              1,
              "#f0f921"
             ]
            ],
            "type": "contour"
           }
          ],
          "contourcarpet": [
           {
            "colorbar": {
             "outlinewidth": 0,
             "ticks": ""
            },
            "type": "contourcarpet"
           }
          ],
          "heatmap": [
           {
            "colorbar": {
             "outlinewidth": 0,
             "ticks": ""
            },
            "colorscale": [
             [
              0,
              "#0d0887"
             ],
             [
              0.1111111111111111,
              "#46039f"
             ],
             [
              0.2222222222222222,
              "#7201a8"
             ],
             [
              0.3333333333333333,
              "#9c179e"
             ],
             [
              0.4444444444444444,
              "#bd3786"
             ],
             [
              0.5555555555555556,
              "#d8576b"
             ],
             [
              0.6666666666666666,
              "#ed7953"
             ],
             [
              0.7777777777777778,
              "#fb9f3a"
             ],
             [
              0.8888888888888888,
              "#fdca26"
             ],
             [
              1,
              "#f0f921"
             ]
            ],
            "type": "heatmap"
           }
          ],
          "heatmapgl": [
           {
            "colorbar": {
             "outlinewidth": 0,
             "ticks": ""
            },
            "colorscale": [
             [
              0,
              "#0d0887"
             ],
             [
              0.1111111111111111,
              "#46039f"
             ],
             [
              0.2222222222222222,
              "#7201a8"
             ],
             [
              0.3333333333333333,
              "#9c179e"
             ],
             [
              0.4444444444444444,
              "#bd3786"
             ],
             [
              0.5555555555555556,
              "#d8576b"
             ],
             [
              0.6666666666666666,
              "#ed7953"
             ],
             [
              0.7777777777777778,
              "#fb9f3a"
             ],
             [
              0.8888888888888888,
              "#fdca26"
             ],
             [
              1,
              "#f0f921"
             ]
            ],
            "type": "heatmapgl"
           }
          ],
          "histogram": [
           {
            "marker": {
             "pattern": {
              "fillmode": "overlay",
              "size": 10,
              "solidity": 0.2
             }
            },
            "type": "histogram"
           }
          ],
          "histogram2d": [
           {
            "colorbar": {
             "outlinewidth": 0,
             "ticks": ""
            },
            "colorscale": [
             [
              0,
              "#0d0887"
             ],
             [
              0.1111111111111111,
              "#46039f"
             ],
             [
              0.2222222222222222,
              "#7201a8"
             ],
             [
              0.3333333333333333,
              "#9c179e"
             ],
             [
              0.4444444444444444,
              "#bd3786"
             ],
             [
              0.5555555555555556,
              "#d8576b"
             ],
             [
              0.6666666666666666,
              "#ed7953"
             ],
             [
              0.7777777777777778,
              "#fb9f3a"
             ],
             [
              0.8888888888888888,
              "#fdca26"
             ],
             [
              1,
              "#f0f921"
             ]
            ],
            "type": "histogram2d"
           }
          ],
          "histogram2dcontour": [
           {
            "colorbar": {
             "outlinewidth": 0,
             "ticks": ""
            },
            "colorscale": [
             [
              0,
              "#0d0887"
             ],
             [
              0.1111111111111111,
              "#46039f"
             ],
             [
              0.2222222222222222,
              "#7201a8"
             ],
             [
              0.3333333333333333,
              "#9c179e"
             ],
             [
              0.4444444444444444,
              "#bd3786"
             ],
             [
              0.5555555555555556,
              "#d8576b"
             ],
             [
              0.6666666666666666,
              "#ed7953"
             ],
             [
              0.7777777777777778,
              "#fb9f3a"
             ],
             [
              0.8888888888888888,
              "#fdca26"
             ],
             [
              1,
              "#f0f921"
             ]
            ],
            "type": "histogram2dcontour"
           }
          ],
          "mesh3d": [
           {
            "colorbar": {
             "outlinewidth": 0,
             "ticks": ""
            },
            "type": "mesh3d"
           }
          ],
          "parcoords": [
           {
            "line": {
             "colorbar": {
              "outlinewidth": 0,
              "ticks": ""
             }
            },
            "type": "parcoords"
           }
          ],
          "pie": [
           {
            "automargin": true,
            "type": "pie"
           }
          ],
          "scatter": [
           {
            "fillpattern": {
             "fillmode": "overlay",
             "size": 10,
             "solidity": 0.2
            },
            "type": "scatter"
           }
          ],
          "scatter3d": [
           {
            "line": {
             "colorbar": {
              "outlinewidth": 0,
              "ticks": ""
             }
            },
            "marker": {
             "colorbar": {
              "outlinewidth": 0,
              "ticks": ""
             }
            },
            "type": "scatter3d"
           }
          ],
          "scattercarpet": [
           {
            "marker": {
             "colorbar": {
              "outlinewidth": 0,
              "ticks": ""
             }
            },
            "type": "scattercarpet"
           }
          ],
          "scattergeo": [
           {
            "marker": {
             "colorbar": {
              "outlinewidth": 0,
              "ticks": ""
             }
            },
            "type": "scattergeo"
           }
          ],
          "scattergl": [
           {
            "marker": {
             "colorbar": {
              "outlinewidth": 0,
              "ticks": ""
             }
            },
            "type": "scattergl"
           }
          ],
          "scattermapbox": [
           {
            "marker": {
             "colorbar": {
              "outlinewidth": 0,
              "ticks": ""
             }
            },
            "type": "scattermapbox"
           }
          ],
          "scatterpolar": [
           {
            "marker": {
             "colorbar": {
              "outlinewidth": 0,
              "ticks": ""
             }
            },
            "type": "scatterpolar"
           }
          ],
          "scatterpolargl": [
           {
            "marker": {
             "colorbar": {
              "outlinewidth": 0,
              "ticks": ""
             }
            },
            "type": "scatterpolargl"
           }
          ],
          "scatterternary": [
           {
            "marker": {
             "colorbar": {
              "outlinewidth": 0,
              "ticks": ""
             }
            },
            "type": "scatterternary"
           }
          ],
          "surface": [
           {
            "colorbar": {
             "outlinewidth": 0,
             "ticks": ""
            },
            "colorscale": [
             [
              0,
              "#0d0887"
             ],
             [
              0.1111111111111111,
              "#46039f"
             ],
             [
              0.2222222222222222,
              "#7201a8"
             ],
             [
              0.3333333333333333,
              "#9c179e"
             ],
             [
              0.4444444444444444,
              "#bd3786"
             ],
             [
              0.5555555555555556,
              "#d8576b"
             ],
             [
              0.6666666666666666,
              "#ed7953"
             ],
             [
              0.7777777777777778,
              "#fb9f3a"
             ],
             [
              0.8888888888888888,
              "#fdca26"
             ],
             [
              1,
              "#f0f921"
             ]
            ],
            "type": "surface"
           }
          ],
          "table": [
           {
            "cells": {
             "fill": {
              "color": "#EBF0F8"
             },
             "line": {
              "color": "white"
             }
            },
            "header": {
             "fill": {
              "color": "#C8D4E3"
             },
             "line": {
              "color": "white"
             }
            },
            "type": "table"
           }
          ]
         },
         "layout": {
          "annotationdefaults": {
           "arrowcolor": "#2a3f5f",
           "arrowhead": 0,
           "arrowwidth": 1
          },
          "autotypenumbers": "strict",
          "coloraxis": {
           "colorbar": {
            "outlinewidth": 0,
            "ticks": ""
           }
          },
          "colorscale": {
           "diverging": [
            [
             0,
             "#8e0152"
            ],
            [
             0.1,
             "#c51b7d"
            ],
            [
             0.2,
             "#de77ae"
            ],
            [
             0.3,
             "#f1b6da"
            ],
            [
             0.4,
             "#fde0ef"
            ],
            [
             0.5,
             "#f7f7f7"
            ],
            [
             0.6,
             "#e6f5d0"
            ],
            [
             0.7,
             "#b8e186"
            ],
            [
             0.8,
             "#7fbc41"
            ],
            [
             0.9,
             "#4d9221"
            ],
            [
             1,
             "#276419"
            ]
           ],
           "sequential": [
            [
             0,
             "#0d0887"
            ],
            [
             0.1111111111111111,
             "#46039f"
            ],
            [
             0.2222222222222222,
             "#7201a8"
            ],
            [
             0.3333333333333333,
             "#9c179e"
            ],
            [
             0.4444444444444444,
             "#bd3786"
            ],
            [
             0.5555555555555556,
             "#d8576b"
            ],
            [
             0.6666666666666666,
             "#ed7953"
            ],
            [
             0.7777777777777778,
             "#fb9f3a"
            ],
            [
             0.8888888888888888,
             "#fdca26"
            ],
            [
             1,
             "#f0f921"
            ]
           ],
           "sequentialminus": [
            [
             0,
             "#0d0887"
            ],
            [
             0.1111111111111111,
             "#46039f"
            ],
            [
             0.2222222222222222,
             "#7201a8"
            ],
            [
             0.3333333333333333,
             "#9c179e"
            ],
            [
             0.4444444444444444,
             "#bd3786"
            ],
            [
             0.5555555555555556,
             "#d8576b"
            ],
            [
             0.6666666666666666,
             "#ed7953"
            ],
            [
             0.7777777777777778,
             "#fb9f3a"
            ],
            [
             0.8888888888888888,
             "#fdca26"
            ],
            [
             1,
             "#f0f921"
            ]
           ]
          },
          "colorway": [
           "#636efa",
           "#EF553B",
           "#00cc96",
           "#ab63fa",
           "#FFA15A",
           "#19d3f3",
           "#FF6692",
           "#B6E880",
           "#FF97FF",
           "#FECB52"
          ],
          "font": {
           "color": "#2a3f5f"
          },
          "geo": {
           "bgcolor": "white",
           "lakecolor": "white",
           "landcolor": "#E5ECF6",
           "showlakes": true,
           "showland": true,
           "subunitcolor": "white"
          },
          "hoverlabel": {
           "align": "left"
          },
          "hovermode": "closest",
          "mapbox": {
           "style": "light"
          },
          "paper_bgcolor": "white",
          "plot_bgcolor": "#E5ECF6",
          "polar": {
           "angularaxis": {
            "gridcolor": "white",
            "linecolor": "white",
            "ticks": ""
           },
           "bgcolor": "#E5ECF6",
           "radialaxis": {
            "gridcolor": "white",
            "linecolor": "white",
            "ticks": ""
           }
          },
          "scene": {
           "xaxis": {
            "backgroundcolor": "#E5ECF6",
            "gridcolor": "white",
            "gridwidth": 2,
            "linecolor": "white",
            "showbackground": true,
            "ticks": "",
            "zerolinecolor": "white"
           },
           "yaxis": {
            "backgroundcolor": "#E5ECF6",
            "gridcolor": "white",
            "gridwidth": 2,
            "linecolor": "white",
            "showbackground": true,
            "ticks": "",
            "zerolinecolor": "white"
           },
           "zaxis": {
            "backgroundcolor": "#E5ECF6",
            "gridcolor": "white",
            "gridwidth": 2,
            "linecolor": "white",
            "showbackground": true,
            "ticks": "",
            "zerolinecolor": "white"
           }
          },
          "shapedefaults": {
           "line": {
            "color": "#2a3f5f"
           }
          },
          "ternary": {
           "aaxis": {
            "gridcolor": "white",
            "linecolor": "white",
            "ticks": ""
           },
           "baxis": {
            "gridcolor": "white",
            "linecolor": "white",
            "ticks": ""
           },
           "bgcolor": "#E5ECF6",
           "caxis": {
            "gridcolor": "white",
            "linecolor": "white",
            "ticks": ""
           }
          },
          "title": {
           "x": 0.05
          },
          "xaxis": {
           "automargin": true,
           "gridcolor": "white",
           "linecolor": "white",
           "ticks": "",
           "title": {
            "standoff": 15
           },
           "zerolinecolor": "white",
           "zerolinewidth": 2
          },
          "yaxis": {
           "automargin": true,
           "gridcolor": "white",
           "linecolor": "white",
           "ticks": "",
           "title": {
            "standoff": 15
           },
           "zerolinecolor": "white",
           "zerolinewidth": 2
          }
         }
        },
        "title": {
         "text": "GRAU DE ESCOLARIDADE DO ELEITORADO - SÃO JOSÉ DOS CAMPOS / 2018"
        },
        "xaxis": {
         "anchor": "y",
         "domain": [
          0,
          1
         ],
         "title": {
          "text": "Escolaridade"
         }
        },
        "yaxis": {
         "anchor": "x",
         "domain": [
          0,
          1
         ],
         "title": {
          "text": "Eleitores"
         }
        }
       }
      },
      "text/html": [
       "<div>                            <div id=\"a142f0ed-35f9-48e3-9677-340fa5b4eea7\" class=\"plotly-graph-div\" style=\"height:525px; width:100%;\"></div>            <script type=\"text/javascript\">                require([\"plotly\"], function(Plotly) {                    window.PLOTLYENV=window.PLOTLYENV || {};                                    if (document.getElementById(\"a142f0ed-35f9-48e3-9677-340fa5b4eea7\")) {                    Plotly.newPlot(                        \"a142f0ed-35f9-48e3-9677-340fa5b4eea7\",                        [{\"alignmentgroup\":\"True\",\"hovertemplate\":\"Escolaridade=%{x}<br>Eleitores=%{y}<extra></extra>\",\"legendgroup\":\"\",\"marker\":{\"color\":\"#636efa\",\"pattern\":{\"shape\":\"\"}},\"name\":\"\",\"offsetgroup\":\"\",\"orientation\":\"v\",\"showlegend\":false,\"textposition\":\"auto\",\"x\":[\"ANALFABETO\",\"ENSINO FUNDAMENTAL COMPLETO\",\"ENSINO FUNDAMENTAL INCOMPLETO\",\"ENSINO M\\u00c9DIO COMPLETO\",\"ENSINO M\\u00c9DIO INCOMPLETO\",\"L\\u00ca E ESCREVE\",\"SUPERIOR COMPLETO\",\"SUPERIOR INCOMPLETO\"],\"xaxis\":\"x\",\"y\":[7106,38065,102648,158214,97589,15347,62142,27582],\"yaxis\":\"y\",\"type\":\"bar\"}],                        {\"template\":{\"data\":{\"histogram2dcontour\":[{\"type\":\"histogram2dcontour\",\"colorbar\":{\"outlinewidth\":0,\"ticks\":\"\"},\"colorscale\":[[0.0,\"#0d0887\"],[0.1111111111111111,\"#46039f\"],[0.2222222222222222,\"#7201a8\"],[0.3333333333333333,\"#9c179e\"],[0.4444444444444444,\"#bd3786\"],[0.5555555555555556,\"#d8576b\"],[0.6666666666666666,\"#ed7953\"],[0.7777777777777778,\"#fb9f3a\"],[0.8888888888888888,\"#fdca26\"],[1.0,\"#f0f921\"]]}],\"choropleth\":[{\"type\":\"choropleth\",\"colorbar\":{\"outlinewidth\":0,\"ticks\":\"\"}}],\"histogram2d\":[{\"type\":\"histogram2d\",\"colorbar\":{\"outlinewidth\":0,\"ticks\":\"\"},\"colorscale\":[[0.0,\"#0d0887\"],[0.1111111111111111,\"#46039f\"],[0.2222222222222222,\"#7201a8\"],[0.3333333333333333,\"#9c179e\"],[0.4444444444444444,\"#bd3786\"],[0.5555555555555556,\"#d8576b\"],[0.6666666666666666,\"#ed7953\"],[0.7777777777777778,\"#fb9f3a\"],[0.8888888888888888,\"#fdca26\"],[1.0,\"#f0f921\"]]}],\"heatmap\":[{\"type\":\"heatmap\",\"colorbar\":{\"outlinewidth\":0,\"ticks\":\"\"},\"colorscale\":[[0.0,\"#0d0887\"],[0.1111111111111111,\"#46039f\"],[0.2222222222222222,\"#7201a8\"],[0.3333333333333333,\"#9c179e\"],[0.4444444444444444,\"#bd3786\"],[0.5555555555555556,\"#d8576b\"],[0.6666666666666666,\"#ed7953\"],[0.7777777777777778,\"#fb9f3a\"],[0.8888888888888888,\"#fdca26\"],[1.0,\"#f0f921\"]]}],\"heatmapgl\":[{\"type\":\"heatmapgl\",\"colorbar\":{\"outlinewidth\":0,\"ticks\":\"\"},\"colorscale\":[[0.0,\"#0d0887\"],[0.1111111111111111,\"#46039f\"],[0.2222222222222222,\"#7201a8\"],[0.3333333333333333,\"#9c179e\"],[0.4444444444444444,\"#bd3786\"],[0.5555555555555556,\"#d8576b\"],[0.6666666666666666,\"#ed7953\"],[0.7777777777777778,\"#fb9f3a\"],[0.8888888888888888,\"#fdca26\"],[1.0,\"#f0f921\"]]}],\"contourcarpet\":[{\"type\":\"contourcarpet\",\"colorbar\":{\"outlinewidth\":0,\"ticks\":\"\"}}],\"contour\":[{\"type\":\"contour\",\"colorbar\":{\"outlinewidth\":0,\"ticks\":\"\"},\"colorscale\":[[0.0,\"#0d0887\"],[0.1111111111111111,\"#46039f\"],[0.2222222222222222,\"#7201a8\"],[0.3333333333333333,\"#9c179e\"],[0.4444444444444444,\"#bd3786\"],[0.5555555555555556,\"#d8576b\"],[0.6666666666666666,\"#ed7953\"],[0.7777777777777778,\"#fb9f3a\"],[0.8888888888888888,\"#fdca26\"],[1.0,\"#f0f921\"]]}],\"surface\":[{\"type\":\"surface\",\"colorbar\":{\"outlinewidth\":0,\"ticks\":\"\"},\"colorscale\":[[0.0,\"#0d0887\"],[0.1111111111111111,\"#46039f\"],[0.2222222222222222,\"#7201a8\"],[0.3333333333333333,\"#9c179e\"],[0.4444444444444444,\"#bd3786\"],[0.5555555555555556,\"#d8576b\"],[0.6666666666666666,\"#ed7953\"],[0.7777777777777778,\"#fb9f3a\"],[0.8888888888888888,\"#fdca26\"],[1.0,\"#f0f921\"]]}],\"mesh3d\":[{\"type\":\"mesh3d\",\"colorbar\":{\"outlinewidth\":0,\"ticks\":\"\"}}],\"scatter\":[{\"fillpattern\":{\"fillmode\":\"overlay\",\"size\":10,\"solidity\":0.2},\"type\":\"scatter\"}],\"parcoords\":[{\"type\":\"parcoords\",\"line\":{\"colorbar\":{\"outlinewidth\":0,\"ticks\":\"\"}}}],\"scatterpolargl\":[{\"type\":\"scatterpolargl\",\"marker\":{\"colorbar\":{\"outlinewidth\":0,\"ticks\":\"\"}}}],\"bar\":[{\"error_x\":{\"color\":\"#2a3f5f\"},\"error_y\":{\"color\":\"#2a3f5f\"},\"marker\":{\"line\":{\"color\":\"#E5ECF6\",\"width\":0.5},\"pattern\":{\"fillmode\":\"overlay\",\"size\":10,\"solidity\":0.2}},\"type\":\"bar\"}],\"scattergeo\":[{\"type\":\"scattergeo\",\"marker\":{\"colorbar\":{\"outlinewidth\":0,\"ticks\":\"\"}}}],\"scatterpolar\":[{\"type\":\"scatterpolar\",\"marker\":{\"colorbar\":{\"outlinewidth\":0,\"ticks\":\"\"}}}],\"histogram\":[{\"marker\":{\"pattern\":{\"fillmode\":\"overlay\",\"size\":10,\"solidity\":0.2}},\"type\":\"histogram\"}],\"scattergl\":[{\"type\":\"scattergl\",\"marker\":{\"colorbar\":{\"outlinewidth\":0,\"ticks\":\"\"}}}],\"scatter3d\":[{\"type\":\"scatter3d\",\"line\":{\"colorbar\":{\"outlinewidth\":0,\"ticks\":\"\"}},\"marker\":{\"colorbar\":{\"outlinewidth\":0,\"ticks\":\"\"}}}],\"scattermapbox\":[{\"type\":\"scattermapbox\",\"marker\":{\"colorbar\":{\"outlinewidth\":0,\"ticks\":\"\"}}}],\"scatterternary\":[{\"type\":\"scatterternary\",\"marker\":{\"colorbar\":{\"outlinewidth\":0,\"ticks\":\"\"}}}],\"scattercarpet\":[{\"type\":\"scattercarpet\",\"marker\":{\"colorbar\":{\"outlinewidth\":0,\"ticks\":\"\"}}}],\"carpet\":[{\"aaxis\":{\"endlinecolor\":\"#2a3f5f\",\"gridcolor\":\"white\",\"linecolor\":\"white\",\"minorgridcolor\":\"white\",\"startlinecolor\":\"#2a3f5f\"},\"baxis\":{\"endlinecolor\":\"#2a3f5f\",\"gridcolor\":\"white\",\"linecolor\":\"white\",\"minorgridcolor\":\"white\",\"startlinecolor\":\"#2a3f5f\"},\"type\":\"carpet\"}],\"table\":[{\"cells\":{\"fill\":{\"color\":\"#EBF0F8\"},\"line\":{\"color\":\"white\"}},\"header\":{\"fill\":{\"color\":\"#C8D4E3\"},\"line\":{\"color\":\"white\"}},\"type\":\"table\"}],\"barpolar\":[{\"marker\":{\"line\":{\"color\":\"#E5ECF6\",\"width\":0.5},\"pattern\":{\"fillmode\":\"overlay\",\"size\":10,\"solidity\":0.2}},\"type\":\"barpolar\"}],\"pie\":[{\"automargin\":true,\"type\":\"pie\"}]},\"layout\":{\"autotypenumbers\":\"strict\",\"colorway\":[\"#636efa\",\"#EF553B\",\"#00cc96\",\"#ab63fa\",\"#FFA15A\",\"#19d3f3\",\"#FF6692\",\"#B6E880\",\"#FF97FF\",\"#FECB52\"],\"font\":{\"color\":\"#2a3f5f\"},\"hovermode\":\"closest\",\"hoverlabel\":{\"align\":\"left\"},\"paper_bgcolor\":\"white\",\"plot_bgcolor\":\"#E5ECF6\",\"polar\":{\"bgcolor\":\"#E5ECF6\",\"angularaxis\":{\"gridcolor\":\"white\",\"linecolor\":\"white\",\"ticks\":\"\"},\"radialaxis\":{\"gridcolor\":\"white\",\"linecolor\":\"white\",\"ticks\":\"\"}},\"ternary\":{\"bgcolor\":\"#E5ECF6\",\"aaxis\":{\"gridcolor\":\"white\",\"linecolor\":\"white\",\"ticks\":\"\"},\"baxis\":{\"gridcolor\":\"white\",\"linecolor\":\"white\",\"ticks\":\"\"},\"caxis\":{\"gridcolor\":\"white\",\"linecolor\":\"white\",\"ticks\":\"\"}},\"coloraxis\":{\"colorbar\":{\"outlinewidth\":0,\"ticks\":\"\"}},\"colorscale\":{\"sequential\":[[0.0,\"#0d0887\"],[0.1111111111111111,\"#46039f\"],[0.2222222222222222,\"#7201a8\"],[0.3333333333333333,\"#9c179e\"],[0.4444444444444444,\"#bd3786\"],[0.5555555555555556,\"#d8576b\"],[0.6666666666666666,\"#ed7953\"],[0.7777777777777778,\"#fb9f3a\"],[0.8888888888888888,\"#fdca26\"],[1.0,\"#f0f921\"]],\"sequentialminus\":[[0.0,\"#0d0887\"],[0.1111111111111111,\"#46039f\"],[0.2222222222222222,\"#7201a8\"],[0.3333333333333333,\"#9c179e\"],[0.4444444444444444,\"#bd3786\"],[0.5555555555555556,\"#d8576b\"],[0.6666666666666666,\"#ed7953\"],[0.7777777777777778,\"#fb9f3a\"],[0.8888888888888888,\"#fdca26\"],[1.0,\"#f0f921\"]],\"diverging\":[[0,\"#8e0152\"],[0.1,\"#c51b7d\"],[0.2,\"#de77ae\"],[0.3,\"#f1b6da\"],[0.4,\"#fde0ef\"],[0.5,\"#f7f7f7\"],[0.6,\"#e6f5d0\"],[0.7,\"#b8e186\"],[0.8,\"#7fbc41\"],[0.9,\"#4d9221\"],[1,\"#276419\"]]},\"xaxis\":{\"gridcolor\":\"white\",\"linecolor\":\"white\",\"ticks\":\"\",\"title\":{\"standoff\":15},\"zerolinecolor\":\"white\",\"automargin\":true,\"zerolinewidth\":2},\"yaxis\":{\"gridcolor\":\"white\",\"linecolor\":\"white\",\"ticks\":\"\",\"title\":{\"standoff\":15},\"zerolinecolor\":\"white\",\"automargin\":true,\"zerolinewidth\":2},\"scene\":{\"xaxis\":{\"backgroundcolor\":\"#E5ECF6\",\"gridcolor\":\"white\",\"linecolor\":\"white\",\"showbackground\":true,\"ticks\":\"\",\"zerolinecolor\":\"white\",\"gridwidth\":2},\"yaxis\":{\"backgroundcolor\":\"#E5ECF6\",\"gridcolor\":\"white\",\"linecolor\":\"white\",\"showbackground\":true,\"ticks\":\"\",\"zerolinecolor\":\"white\",\"gridwidth\":2},\"zaxis\":{\"backgroundcolor\":\"#E5ECF6\",\"gridcolor\":\"white\",\"linecolor\":\"white\",\"showbackground\":true,\"ticks\":\"\",\"zerolinecolor\":\"white\",\"gridwidth\":2}},\"shapedefaults\":{\"line\":{\"color\":\"#2a3f5f\"}},\"annotationdefaults\":{\"arrowcolor\":\"#2a3f5f\",\"arrowhead\":0,\"arrowwidth\":1},\"geo\":{\"bgcolor\":\"white\",\"landcolor\":\"#E5ECF6\",\"subunitcolor\":\"white\",\"showland\":true,\"showlakes\":true,\"lakecolor\":\"white\"},\"title\":{\"x\":0.05},\"mapbox\":{\"style\":\"light\"}}},\"xaxis\":{\"anchor\":\"y\",\"domain\":[0.0,1.0],\"title\":{\"text\":\"Escolaridade\"}},\"yaxis\":{\"anchor\":\"x\",\"domain\":[0.0,1.0],\"title\":{\"text\":\"Eleitores\"}},\"legend\":{\"tracegroupgap\":0},\"title\":{\"text\":\"GRAU DE ESCOLARIDADE DO ELEITORADO - S\\u00c3O JOS\\u00c9 DOS CAMPOS / 2018\"},\"barmode\":\"relative\"},                        {\"responsive\": true}                    ).then(function(){\n",
       "                            \n",
       "var gd = document.getElementById('a142f0ed-35f9-48e3-9677-340fa5b4eea7');\n",
       "var x = new MutationObserver(function (mutations, observer) {{\n",
       "        var display = window.getComputedStyle(gd).display;\n",
       "        if (!display || display === 'none') {{\n",
       "            console.log([gd, 'removed!']);\n",
       "            Plotly.purge(gd);\n",
       "            observer.disconnect();\n",
       "        }}\n",
       "}});\n",
       "\n",
       "// Listen for the removal of the full notebook cells\n",
       "var notebookContainer = gd.closest('#notebook-container');\n",
       "if (notebookContainer) {{\n",
       "    x.observe(notebookContainer, {childList: true});\n",
       "}}\n",
       "\n",
       "// Listen for the clearing of the current output cell\n",
       "var outputEl = gd.closest('.output');\n",
       "if (outputEl) {{\n",
       "    x.observe(outputEl, {childList: true});\n",
       "}}\n",
       "\n",
       "                        })                };                });            </script>        </div>"
      ]
     },
     "metadata": {},
     "output_type": "display_data"
    }
   ],
   "source": [
    "fig=px.bar(total_eleitores_escolaridade, x= total_eleitores_escolaridade.index, y=total_eleitores_escolaridade.values,\n",
    "          title=\"GRAU DE ESCOLARIDADE DO ELEITORADO - \" + municipio1.upper() + \" / \" + str(eleicao_ano), \n",
    "          labels={'y':'Eleitores', 'DS_GRAU_ESCOLARIDADE':'Escolaridade'})\n",
    "\n",
    "fig.show()"
   ]
  },
  {
   "cell_type": "code",
   "execution_count": 55,
   "id": "6b02a4ef",
   "metadata": {},
   "outputs": [
    {
     "data": {
      "application/vnd.plotly.v1+json": {
       "config": {
        "plotlyServerURL": "https://plot.ly"
       },
       "data": [
        {
         "alignmentgroup": "True",
         "hovertemplate": "Estado Civil=%{x}<br>Eleitores=%{y}<extra></extra>",
         "legendgroup": "",
         "marker": {
          "color": "#636efa",
          "pattern": {
           "shape": ""
          }
         },
         "name": "",
         "offsetgroup": "",
         "orientation": "v",
         "showlegend": false,
         "textposition": "auto",
         "type": "bar",
         "x": [
          "SOLTEIRO",
          "CASADO",
          "DIVORCIADO",
          "VIÚVO",
          "SEPARADO JUDICIALMENTE",
          "NÃO INFORMADO"
         ],
         "xaxis": "x",
         "y": [
          281416,
          190342,
          17939,
          10739,
          8174,
          83
         ],
         "yaxis": "y"
        }
       ],
       "layout": {
        "barmode": "relative",
        "legend": {
         "tracegroupgap": 0
        },
        "template": {
         "data": {
          "bar": [
           {
            "error_x": {
             "color": "#2a3f5f"
            },
            "error_y": {
             "color": "#2a3f5f"
            },
            "marker": {
             "line": {
              "color": "#E5ECF6",
              "width": 0.5
             },
             "pattern": {
              "fillmode": "overlay",
              "size": 10,
              "solidity": 0.2
             }
            },
            "type": "bar"
           }
          ],
          "barpolar": [
           {
            "marker": {
             "line": {
              "color": "#E5ECF6",
              "width": 0.5
             },
             "pattern": {
              "fillmode": "overlay",
              "size": 10,
              "solidity": 0.2
             }
            },
            "type": "barpolar"
           }
          ],
          "carpet": [
           {
            "aaxis": {
             "endlinecolor": "#2a3f5f",
             "gridcolor": "white",
             "linecolor": "white",
             "minorgridcolor": "white",
             "startlinecolor": "#2a3f5f"
            },
            "baxis": {
             "endlinecolor": "#2a3f5f",
             "gridcolor": "white",
             "linecolor": "white",
             "minorgridcolor": "white",
             "startlinecolor": "#2a3f5f"
            },
            "type": "carpet"
           }
          ],
          "choropleth": [
           {
            "colorbar": {
             "outlinewidth": 0,
             "ticks": ""
            },
            "type": "choropleth"
           }
          ],
          "contour": [
           {
            "colorbar": {
             "outlinewidth": 0,
             "ticks": ""
            },
            "colorscale": [
             [
              0,
              "#0d0887"
             ],
             [
              0.1111111111111111,
              "#46039f"
             ],
             [
              0.2222222222222222,
              "#7201a8"
             ],
             [
              0.3333333333333333,
              "#9c179e"
             ],
             [
              0.4444444444444444,
              "#bd3786"
             ],
             [
              0.5555555555555556,
              "#d8576b"
             ],
             [
              0.6666666666666666,
              "#ed7953"
             ],
             [
              0.7777777777777778,
              "#fb9f3a"
             ],
             [
              0.8888888888888888,
              "#fdca26"
             ],
             [
              1,
              "#f0f921"
             ]
            ],
            "type": "contour"
           }
          ],
          "contourcarpet": [
           {
            "colorbar": {
             "outlinewidth": 0,
             "ticks": ""
            },
            "type": "contourcarpet"
           }
          ],
          "heatmap": [
           {
            "colorbar": {
             "outlinewidth": 0,
             "ticks": ""
            },
            "colorscale": [
             [
              0,
              "#0d0887"
             ],
             [
              0.1111111111111111,
              "#46039f"
             ],
             [
              0.2222222222222222,
              "#7201a8"
             ],
             [
              0.3333333333333333,
              "#9c179e"
             ],
             [
              0.4444444444444444,
              "#bd3786"
             ],
             [
              0.5555555555555556,
              "#d8576b"
             ],
             [
              0.6666666666666666,
              "#ed7953"
             ],
             [
              0.7777777777777778,
              "#fb9f3a"
             ],
             [
              0.8888888888888888,
              "#fdca26"
             ],
             [
              1,
              "#f0f921"
             ]
            ],
            "type": "heatmap"
           }
          ],
          "heatmapgl": [
           {
            "colorbar": {
             "outlinewidth": 0,
             "ticks": ""
            },
            "colorscale": [
             [
              0,
              "#0d0887"
             ],
             [
              0.1111111111111111,
              "#46039f"
             ],
             [
              0.2222222222222222,
              "#7201a8"
             ],
             [
              0.3333333333333333,
              "#9c179e"
             ],
             [
              0.4444444444444444,
              "#bd3786"
             ],
             [
              0.5555555555555556,
              "#d8576b"
             ],
             [
              0.6666666666666666,
              "#ed7953"
             ],
             [
              0.7777777777777778,
              "#fb9f3a"
             ],
             [
              0.8888888888888888,
              "#fdca26"
             ],
             [
              1,
              "#f0f921"
             ]
            ],
            "type": "heatmapgl"
           }
          ],
          "histogram": [
           {
            "marker": {
             "pattern": {
              "fillmode": "overlay",
              "size": 10,
              "solidity": 0.2
             }
            },
            "type": "histogram"
           }
          ],
          "histogram2d": [
           {
            "colorbar": {
             "outlinewidth": 0,
             "ticks": ""
            },
            "colorscale": [
             [
              0,
              "#0d0887"
             ],
             [
              0.1111111111111111,
              "#46039f"
             ],
             [
              0.2222222222222222,
              "#7201a8"
             ],
             [
              0.3333333333333333,
              "#9c179e"
             ],
             [
              0.4444444444444444,
              "#bd3786"
             ],
             [
              0.5555555555555556,
              "#d8576b"
             ],
             [
              0.6666666666666666,
              "#ed7953"
             ],
             [
              0.7777777777777778,
              "#fb9f3a"
             ],
             [
              0.8888888888888888,
              "#fdca26"
             ],
             [
              1,
              "#f0f921"
             ]
            ],
            "type": "histogram2d"
           }
          ],
          "histogram2dcontour": [
           {
            "colorbar": {
             "outlinewidth": 0,
             "ticks": ""
            },
            "colorscale": [
             [
              0,
              "#0d0887"
             ],
             [
              0.1111111111111111,
              "#46039f"
             ],
             [
              0.2222222222222222,
              "#7201a8"
             ],
             [
              0.3333333333333333,
              "#9c179e"
             ],
             [
              0.4444444444444444,
              "#bd3786"
             ],
             [
              0.5555555555555556,
              "#d8576b"
             ],
             [
              0.6666666666666666,
              "#ed7953"
             ],
             [
              0.7777777777777778,
              "#fb9f3a"
             ],
             [
              0.8888888888888888,
              "#fdca26"
             ],
             [
              1,
              "#f0f921"
             ]
            ],
            "type": "histogram2dcontour"
           }
          ],
          "mesh3d": [
           {
            "colorbar": {
             "outlinewidth": 0,
             "ticks": ""
            },
            "type": "mesh3d"
           }
          ],
          "parcoords": [
           {
            "line": {
             "colorbar": {
              "outlinewidth": 0,
              "ticks": ""
             }
            },
            "type": "parcoords"
           }
          ],
          "pie": [
           {
            "automargin": true,
            "type": "pie"
           }
          ],
          "scatter": [
           {
            "fillpattern": {
             "fillmode": "overlay",
             "size": 10,
             "solidity": 0.2
            },
            "type": "scatter"
           }
          ],
          "scatter3d": [
           {
            "line": {
             "colorbar": {
              "outlinewidth": 0,
              "ticks": ""
             }
            },
            "marker": {
             "colorbar": {
              "outlinewidth": 0,
              "ticks": ""
             }
            },
            "type": "scatter3d"
           }
          ],
          "scattercarpet": [
           {
            "marker": {
             "colorbar": {
              "outlinewidth": 0,
              "ticks": ""
             }
            },
            "type": "scattercarpet"
           }
          ],
          "scattergeo": [
           {
            "marker": {
             "colorbar": {
              "outlinewidth": 0,
              "ticks": ""
             }
            },
            "type": "scattergeo"
           }
          ],
          "scattergl": [
           {
            "marker": {
             "colorbar": {
              "outlinewidth": 0,
              "ticks": ""
             }
            },
            "type": "scattergl"
           }
          ],
          "scattermapbox": [
           {
            "marker": {
             "colorbar": {
              "outlinewidth": 0,
              "ticks": ""
             }
            },
            "type": "scattermapbox"
           }
          ],
          "scatterpolar": [
           {
            "marker": {
             "colorbar": {
              "outlinewidth": 0,
              "ticks": ""
             }
            },
            "type": "scatterpolar"
           }
          ],
          "scatterpolargl": [
           {
            "marker": {
             "colorbar": {
              "outlinewidth": 0,
              "ticks": ""
             }
            },
            "type": "scatterpolargl"
           }
          ],
          "scatterternary": [
           {
            "marker": {
             "colorbar": {
              "outlinewidth": 0,
              "ticks": ""
             }
            },
            "type": "scatterternary"
           }
          ],
          "surface": [
           {
            "colorbar": {
             "outlinewidth": 0,
             "ticks": ""
            },
            "colorscale": [
             [
              0,
              "#0d0887"
             ],
             [
              0.1111111111111111,
              "#46039f"
             ],
             [
              0.2222222222222222,
              "#7201a8"
             ],
             [
              0.3333333333333333,
              "#9c179e"
             ],
             [
              0.4444444444444444,
              "#bd3786"
             ],
             [
              0.5555555555555556,
              "#d8576b"
             ],
             [
              0.6666666666666666,
              "#ed7953"
             ],
             [
              0.7777777777777778,
              "#fb9f3a"
             ],
             [
              0.8888888888888888,
              "#fdca26"
             ],
             [
              1,
              "#f0f921"
             ]
            ],
            "type": "surface"
           }
          ],
          "table": [
           {
            "cells": {
             "fill": {
              "color": "#EBF0F8"
             },
             "line": {
              "color": "white"
             }
            },
            "header": {
             "fill": {
              "color": "#C8D4E3"
             },
             "line": {
              "color": "white"
             }
            },
            "type": "table"
           }
          ]
         },
         "layout": {
          "annotationdefaults": {
           "arrowcolor": "#2a3f5f",
           "arrowhead": 0,
           "arrowwidth": 1
          },
          "autotypenumbers": "strict",
          "coloraxis": {
           "colorbar": {
            "outlinewidth": 0,
            "ticks": ""
           }
          },
          "colorscale": {
           "diverging": [
            [
             0,
             "#8e0152"
            ],
            [
             0.1,
             "#c51b7d"
            ],
            [
             0.2,
             "#de77ae"
            ],
            [
             0.3,
             "#f1b6da"
            ],
            [
             0.4,
             "#fde0ef"
            ],
            [
             0.5,
             "#f7f7f7"
            ],
            [
             0.6,
             "#e6f5d0"
            ],
            [
             0.7,
             "#b8e186"
            ],
            [
             0.8,
             "#7fbc41"
            ],
            [
             0.9,
             "#4d9221"
            ],
            [
             1,
             "#276419"
            ]
           ],
           "sequential": [
            [
             0,
             "#0d0887"
            ],
            [
             0.1111111111111111,
             "#46039f"
            ],
            [
             0.2222222222222222,
             "#7201a8"
            ],
            [
             0.3333333333333333,
             "#9c179e"
            ],
            [
             0.4444444444444444,
             "#bd3786"
            ],
            [
             0.5555555555555556,
             "#d8576b"
            ],
            [
             0.6666666666666666,
             "#ed7953"
            ],
            [
             0.7777777777777778,
             "#fb9f3a"
            ],
            [
             0.8888888888888888,
             "#fdca26"
            ],
            [
             1,
             "#f0f921"
            ]
           ],
           "sequentialminus": [
            [
             0,
             "#0d0887"
            ],
            [
             0.1111111111111111,
             "#46039f"
            ],
            [
             0.2222222222222222,
             "#7201a8"
            ],
            [
             0.3333333333333333,
             "#9c179e"
            ],
            [
             0.4444444444444444,
             "#bd3786"
            ],
            [
             0.5555555555555556,
             "#d8576b"
            ],
            [
             0.6666666666666666,
             "#ed7953"
            ],
            [
             0.7777777777777778,
             "#fb9f3a"
            ],
            [
             0.8888888888888888,
             "#fdca26"
            ],
            [
             1,
             "#f0f921"
            ]
           ]
          },
          "colorway": [
           "#636efa",
           "#EF553B",
           "#00cc96",
           "#ab63fa",
           "#FFA15A",
           "#19d3f3",
           "#FF6692",
           "#B6E880",
           "#FF97FF",
           "#FECB52"
          ],
          "font": {
           "color": "#2a3f5f"
          },
          "geo": {
           "bgcolor": "white",
           "lakecolor": "white",
           "landcolor": "#E5ECF6",
           "showlakes": true,
           "showland": true,
           "subunitcolor": "white"
          },
          "hoverlabel": {
           "align": "left"
          },
          "hovermode": "closest",
          "mapbox": {
           "style": "light"
          },
          "paper_bgcolor": "white",
          "plot_bgcolor": "#E5ECF6",
          "polar": {
           "angularaxis": {
            "gridcolor": "white",
            "linecolor": "white",
            "ticks": ""
           },
           "bgcolor": "#E5ECF6",
           "radialaxis": {
            "gridcolor": "white",
            "linecolor": "white",
            "ticks": ""
           }
          },
          "scene": {
           "xaxis": {
            "backgroundcolor": "#E5ECF6",
            "gridcolor": "white",
            "gridwidth": 2,
            "linecolor": "white",
            "showbackground": true,
            "ticks": "",
            "zerolinecolor": "white"
           },
           "yaxis": {
            "backgroundcolor": "#E5ECF6",
            "gridcolor": "white",
            "gridwidth": 2,
            "linecolor": "white",
            "showbackground": true,
            "ticks": "",
            "zerolinecolor": "white"
           },
           "zaxis": {
            "backgroundcolor": "#E5ECF6",
            "gridcolor": "white",
            "gridwidth": 2,
            "linecolor": "white",
            "showbackground": true,
            "ticks": "",
            "zerolinecolor": "white"
           }
          },
          "shapedefaults": {
           "line": {
            "color": "#2a3f5f"
           }
          },
          "ternary": {
           "aaxis": {
            "gridcolor": "white",
            "linecolor": "white",
            "ticks": ""
           },
           "baxis": {
            "gridcolor": "white",
            "linecolor": "white",
            "ticks": ""
           },
           "bgcolor": "#E5ECF6",
           "caxis": {
            "gridcolor": "white",
            "linecolor": "white",
            "ticks": ""
           }
          },
          "title": {
           "x": 0.05
          },
          "xaxis": {
           "automargin": true,
           "gridcolor": "white",
           "linecolor": "white",
           "ticks": "",
           "title": {
            "standoff": 15
           },
           "zerolinecolor": "white",
           "zerolinewidth": 2
          },
          "yaxis": {
           "automargin": true,
           "gridcolor": "white",
           "linecolor": "white",
           "ticks": "",
           "title": {
            "standoff": 15
           },
           "zerolinecolor": "white",
           "zerolinewidth": 2
          }
         }
        },
        "title": {
         "text": "ESTADO CIVIL DO ELEITORADO - SÃO JOSÉ DOS CAMPOS / 2018"
        },
        "xaxis": {
         "anchor": "y",
         "domain": [
          0,
          1
         ],
         "title": {
          "text": "Estado Civil"
         }
        },
        "yaxis": {
         "anchor": "x",
         "domain": [
          0,
          1
         ],
         "title": {
          "text": "Eleitores"
         }
        }
       }
      },
      "text/html": [
       "<div>                            <div id=\"0883571f-d07c-44d3-92f5-73cb7ee9583d\" class=\"plotly-graph-div\" style=\"height:525px; width:100%;\"></div>            <script type=\"text/javascript\">                require([\"plotly\"], function(Plotly) {                    window.PLOTLYENV=window.PLOTLYENV || {};                                    if (document.getElementById(\"0883571f-d07c-44d3-92f5-73cb7ee9583d\")) {                    Plotly.newPlot(                        \"0883571f-d07c-44d3-92f5-73cb7ee9583d\",                        [{\"alignmentgroup\":\"True\",\"hovertemplate\":\"Estado Civil=%{x}<br>Eleitores=%{y}<extra></extra>\",\"legendgroup\":\"\",\"marker\":{\"color\":\"#636efa\",\"pattern\":{\"shape\":\"\"}},\"name\":\"\",\"offsetgroup\":\"\",\"orientation\":\"v\",\"showlegend\":false,\"textposition\":\"auto\",\"x\":[\"SOLTEIRO\",\"CASADO\",\"DIVORCIADO\",\"VI\\u00daVO\",\"SEPARADO JUDICIALMENTE\",\"N\\u00c3O INFORMADO\"],\"xaxis\":\"x\",\"y\":[281416,190342,17939,10739,8174,83],\"yaxis\":\"y\",\"type\":\"bar\"}],                        {\"template\":{\"data\":{\"histogram2dcontour\":[{\"type\":\"histogram2dcontour\",\"colorbar\":{\"outlinewidth\":0,\"ticks\":\"\"},\"colorscale\":[[0.0,\"#0d0887\"],[0.1111111111111111,\"#46039f\"],[0.2222222222222222,\"#7201a8\"],[0.3333333333333333,\"#9c179e\"],[0.4444444444444444,\"#bd3786\"],[0.5555555555555556,\"#d8576b\"],[0.6666666666666666,\"#ed7953\"],[0.7777777777777778,\"#fb9f3a\"],[0.8888888888888888,\"#fdca26\"],[1.0,\"#f0f921\"]]}],\"choropleth\":[{\"type\":\"choropleth\",\"colorbar\":{\"outlinewidth\":0,\"ticks\":\"\"}}],\"histogram2d\":[{\"type\":\"histogram2d\",\"colorbar\":{\"outlinewidth\":0,\"ticks\":\"\"},\"colorscale\":[[0.0,\"#0d0887\"],[0.1111111111111111,\"#46039f\"],[0.2222222222222222,\"#7201a8\"],[0.3333333333333333,\"#9c179e\"],[0.4444444444444444,\"#bd3786\"],[0.5555555555555556,\"#d8576b\"],[0.6666666666666666,\"#ed7953\"],[0.7777777777777778,\"#fb9f3a\"],[0.8888888888888888,\"#fdca26\"],[1.0,\"#f0f921\"]]}],\"heatmap\":[{\"type\":\"heatmap\",\"colorbar\":{\"outlinewidth\":0,\"ticks\":\"\"},\"colorscale\":[[0.0,\"#0d0887\"],[0.1111111111111111,\"#46039f\"],[0.2222222222222222,\"#7201a8\"],[0.3333333333333333,\"#9c179e\"],[0.4444444444444444,\"#bd3786\"],[0.5555555555555556,\"#d8576b\"],[0.6666666666666666,\"#ed7953\"],[0.7777777777777778,\"#fb9f3a\"],[0.8888888888888888,\"#fdca26\"],[1.0,\"#f0f921\"]]}],\"heatmapgl\":[{\"type\":\"heatmapgl\",\"colorbar\":{\"outlinewidth\":0,\"ticks\":\"\"},\"colorscale\":[[0.0,\"#0d0887\"],[0.1111111111111111,\"#46039f\"],[0.2222222222222222,\"#7201a8\"],[0.3333333333333333,\"#9c179e\"],[0.4444444444444444,\"#bd3786\"],[0.5555555555555556,\"#d8576b\"],[0.6666666666666666,\"#ed7953\"],[0.7777777777777778,\"#fb9f3a\"],[0.8888888888888888,\"#fdca26\"],[1.0,\"#f0f921\"]]}],\"contourcarpet\":[{\"type\":\"contourcarpet\",\"colorbar\":{\"outlinewidth\":0,\"ticks\":\"\"}}],\"contour\":[{\"type\":\"contour\",\"colorbar\":{\"outlinewidth\":0,\"ticks\":\"\"},\"colorscale\":[[0.0,\"#0d0887\"],[0.1111111111111111,\"#46039f\"],[0.2222222222222222,\"#7201a8\"],[0.3333333333333333,\"#9c179e\"],[0.4444444444444444,\"#bd3786\"],[0.5555555555555556,\"#d8576b\"],[0.6666666666666666,\"#ed7953\"],[0.7777777777777778,\"#fb9f3a\"],[0.8888888888888888,\"#fdca26\"],[1.0,\"#f0f921\"]]}],\"surface\":[{\"type\":\"surface\",\"colorbar\":{\"outlinewidth\":0,\"ticks\":\"\"},\"colorscale\":[[0.0,\"#0d0887\"],[0.1111111111111111,\"#46039f\"],[0.2222222222222222,\"#7201a8\"],[0.3333333333333333,\"#9c179e\"],[0.4444444444444444,\"#bd3786\"],[0.5555555555555556,\"#d8576b\"],[0.6666666666666666,\"#ed7953\"],[0.7777777777777778,\"#fb9f3a\"],[0.8888888888888888,\"#fdca26\"],[1.0,\"#f0f921\"]]}],\"mesh3d\":[{\"type\":\"mesh3d\",\"colorbar\":{\"outlinewidth\":0,\"ticks\":\"\"}}],\"scatter\":[{\"fillpattern\":{\"fillmode\":\"overlay\",\"size\":10,\"solidity\":0.2},\"type\":\"scatter\"}],\"parcoords\":[{\"type\":\"parcoords\",\"line\":{\"colorbar\":{\"outlinewidth\":0,\"ticks\":\"\"}}}],\"scatterpolargl\":[{\"type\":\"scatterpolargl\",\"marker\":{\"colorbar\":{\"outlinewidth\":0,\"ticks\":\"\"}}}],\"bar\":[{\"error_x\":{\"color\":\"#2a3f5f\"},\"error_y\":{\"color\":\"#2a3f5f\"},\"marker\":{\"line\":{\"color\":\"#E5ECF6\",\"width\":0.5},\"pattern\":{\"fillmode\":\"overlay\",\"size\":10,\"solidity\":0.2}},\"type\":\"bar\"}],\"scattergeo\":[{\"type\":\"scattergeo\",\"marker\":{\"colorbar\":{\"outlinewidth\":0,\"ticks\":\"\"}}}],\"scatterpolar\":[{\"type\":\"scatterpolar\",\"marker\":{\"colorbar\":{\"outlinewidth\":0,\"ticks\":\"\"}}}],\"histogram\":[{\"marker\":{\"pattern\":{\"fillmode\":\"overlay\",\"size\":10,\"solidity\":0.2}},\"type\":\"histogram\"}],\"scattergl\":[{\"type\":\"scattergl\",\"marker\":{\"colorbar\":{\"outlinewidth\":0,\"ticks\":\"\"}}}],\"scatter3d\":[{\"type\":\"scatter3d\",\"line\":{\"colorbar\":{\"outlinewidth\":0,\"ticks\":\"\"}},\"marker\":{\"colorbar\":{\"outlinewidth\":0,\"ticks\":\"\"}}}],\"scattermapbox\":[{\"type\":\"scattermapbox\",\"marker\":{\"colorbar\":{\"outlinewidth\":0,\"ticks\":\"\"}}}],\"scatterternary\":[{\"type\":\"scatterternary\",\"marker\":{\"colorbar\":{\"outlinewidth\":0,\"ticks\":\"\"}}}],\"scattercarpet\":[{\"type\":\"scattercarpet\",\"marker\":{\"colorbar\":{\"outlinewidth\":0,\"ticks\":\"\"}}}],\"carpet\":[{\"aaxis\":{\"endlinecolor\":\"#2a3f5f\",\"gridcolor\":\"white\",\"linecolor\":\"white\",\"minorgridcolor\":\"white\",\"startlinecolor\":\"#2a3f5f\"},\"baxis\":{\"endlinecolor\":\"#2a3f5f\",\"gridcolor\":\"white\",\"linecolor\":\"white\",\"minorgridcolor\":\"white\",\"startlinecolor\":\"#2a3f5f\"},\"type\":\"carpet\"}],\"table\":[{\"cells\":{\"fill\":{\"color\":\"#EBF0F8\"},\"line\":{\"color\":\"white\"}},\"header\":{\"fill\":{\"color\":\"#C8D4E3\"},\"line\":{\"color\":\"white\"}},\"type\":\"table\"}],\"barpolar\":[{\"marker\":{\"line\":{\"color\":\"#E5ECF6\",\"width\":0.5},\"pattern\":{\"fillmode\":\"overlay\",\"size\":10,\"solidity\":0.2}},\"type\":\"barpolar\"}],\"pie\":[{\"automargin\":true,\"type\":\"pie\"}]},\"layout\":{\"autotypenumbers\":\"strict\",\"colorway\":[\"#636efa\",\"#EF553B\",\"#00cc96\",\"#ab63fa\",\"#FFA15A\",\"#19d3f3\",\"#FF6692\",\"#B6E880\",\"#FF97FF\",\"#FECB52\"],\"font\":{\"color\":\"#2a3f5f\"},\"hovermode\":\"closest\",\"hoverlabel\":{\"align\":\"left\"},\"paper_bgcolor\":\"white\",\"plot_bgcolor\":\"#E5ECF6\",\"polar\":{\"bgcolor\":\"#E5ECF6\",\"angularaxis\":{\"gridcolor\":\"white\",\"linecolor\":\"white\",\"ticks\":\"\"},\"radialaxis\":{\"gridcolor\":\"white\",\"linecolor\":\"white\",\"ticks\":\"\"}},\"ternary\":{\"bgcolor\":\"#E5ECF6\",\"aaxis\":{\"gridcolor\":\"white\",\"linecolor\":\"white\",\"ticks\":\"\"},\"baxis\":{\"gridcolor\":\"white\",\"linecolor\":\"white\",\"ticks\":\"\"},\"caxis\":{\"gridcolor\":\"white\",\"linecolor\":\"white\",\"ticks\":\"\"}},\"coloraxis\":{\"colorbar\":{\"outlinewidth\":0,\"ticks\":\"\"}},\"colorscale\":{\"sequential\":[[0.0,\"#0d0887\"],[0.1111111111111111,\"#46039f\"],[0.2222222222222222,\"#7201a8\"],[0.3333333333333333,\"#9c179e\"],[0.4444444444444444,\"#bd3786\"],[0.5555555555555556,\"#d8576b\"],[0.6666666666666666,\"#ed7953\"],[0.7777777777777778,\"#fb9f3a\"],[0.8888888888888888,\"#fdca26\"],[1.0,\"#f0f921\"]],\"sequentialminus\":[[0.0,\"#0d0887\"],[0.1111111111111111,\"#46039f\"],[0.2222222222222222,\"#7201a8\"],[0.3333333333333333,\"#9c179e\"],[0.4444444444444444,\"#bd3786\"],[0.5555555555555556,\"#d8576b\"],[0.6666666666666666,\"#ed7953\"],[0.7777777777777778,\"#fb9f3a\"],[0.8888888888888888,\"#fdca26\"],[1.0,\"#f0f921\"]],\"diverging\":[[0,\"#8e0152\"],[0.1,\"#c51b7d\"],[0.2,\"#de77ae\"],[0.3,\"#f1b6da\"],[0.4,\"#fde0ef\"],[0.5,\"#f7f7f7\"],[0.6,\"#e6f5d0\"],[0.7,\"#b8e186\"],[0.8,\"#7fbc41\"],[0.9,\"#4d9221\"],[1,\"#276419\"]]},\"xaxis\":{\"gridcolor\":\"white\",\"linecolor\":\"white\",\"ticks\":\"\",\"title\":{\"standoff\":15},\"zerolinecolor\":\"white\",\"automargin\":true,\"zerolinewidth\":2},\"yaxis\":{\"gridcolor\":\"white\",\"linecolor\":\"white\",\"ticks\":\"\",\"title\":{\"standoff\":15},\"zerolinecolor\":\"white\",\"automargin\":true,\"zerolinewidth\":2},\"scene\":{\"xaxis\":{\"backgroundcolor\":\"#E5ECF6\",\"gridcolor\":\"white\",\"linecolor\":\"white\",\"showbackground\":true,\"ticks\":\"\",\"zerolinecolor\":\"white\",\"gridwidth\":2},\"yaxis\":{\"backgroundcolor\":\"#E5ECF6\",\"gridcolor\":\"white\",\"linecolor\":\"white\",\"showbackground\":true,\"ticks\":\"\",\"zerolinecolor\":\"white\",\"gridwidth\":2},\"zaxis\":{\"backgroundcolor\":\"#E5ECF6\",\"gridcolor\":\"white\",\"linecolor\":\"white\",\"showbackground\":true,\"ticks\":\"\",\"zerolinecolor\":\"white\",\"gridwidth\":2}},\"shapedefaults\":{\"line\":{\"color\":\"#2a3f5f\"}},\"annotationdefaults\":{\"arrowcolor\":\"#2a3f5f\",\"arrowhead\":0,\"arrowwidth\":1},\"geo\":{\"bgcolor\":\"white\",\"landcolor\":\"#E5ECF6\",\"subunitcolor\":\"white\",\"showland\":true,\"showlakes\":true,\"lakecolor\":\"white\"},\"title\":{\"x\":0.05},\"mapbox\":{\"style\":\"light\"}}},\"xaxis\":{\"anchor\":\"y\",\"domain\":[0.0,1.0],\"title\":{\"text\":\"Estado Civil\"}},\"yaxis\":{\"anchor\":\"x\",\"domain\":[0.0,1.0],\"title\":{\"text\":\"Eleitores\"}},\"legend\":{\"tracegroupgap\":0},\"title\":{\"text\":\"ESTADO CIVIL DO ELEITORADO - S\\u00c3O JOS\\u00c9 DOS CAMPOS / 2018\"},\"barmode\":\"relative\"},                        {\"responsive\": true}                    ).then(function(){\n",
       "                            \n",
       "var gd = document.getElementById('0883571f-d07c-44d3-92f5-73cb7ee9583d');\n",
       "var x = new MutationObserver(function (mutations, observer) {{\n",
       "        var display = window.getComputedStyle(gd).display;\n",
       "        if (!display || display === 'none') {{\n",
       "            console.log([gd, 'removed!']);\n",
       "            Plotly.purge(gd);\n",
       "            observer.disconnect();\n",
       "        }}\n",
       "}});\n",
       "\n",
       "// Listen for the removal of the full notebook cells\n",
       "var notebookContainer = gd.closest('#notebook-container');\n",
       "if (notebookContainer) {{\n",
       "    x.observe(notebookContainer, {childList: true});\n",
       "}}\n",
       "\n",
       "// Listen for the clearing of the current output cell\n",
       "var outputEl = gd.closest('.output');\n",
       "if (outputEl) {{\n",
       "    x.observe(outputEl, {childList: true});\n",
       "}}\n",
       "\n",
       "                        })                };                });            </script>        </div>"
      ]
     },
     "metadata": {},
     "output_type": "display_data"
    }
   ],
   "source": [
    "fig=px.bar(total_eleitores_estadocivil, x= total_eleitores_estadocivil.index, y=total_eleitores_estadocivil.values,\n",
    "          title=\"ESTADO CIVIL DO ELEITORADO - \" + municipio1.upper() + \" / \" + str(eleicao_ano), \n",
    "          labels={'y':'Eleitores', 'DS_ESTADO_CIVIL':'Estado Civil'})\n",
    "\n",
    "fig.show()"
   ]
  },
  {
   "cell_type": "code",
   "execution_count": 56,
   "id": "d9d57707",
   "metadata": {},
   "outputs": [
    {
     "name": "stdout",
     "output_type": "stream",
     "text": [
      "Em SÃO JOSÉ DOS CAMPOS, estavam inscritos 34 eleitores com nome social no ano de 2018.\n"
     ]
    }
   ],
   "source": [
    "# Exibindo resultado na tela\n",
    "if total_eleitores_nomesocial > 1:\n",
    "    print(f\"Em {municipio1}, estavam inscritos {total_eleitores_nomesocial} eleitores com nome social no ano de {eleicao_ano}.\")\n",
    "elif total_eleitores_nomesocial == 1:\n",
    "    print(f\"Em {municipio1}, estava inscrito {total_eleitores_nomesocial} eleitor com nome social no ano de {eleicao_ano}.\")\n",
    "else:\n",
    "    print(f\"Em {municipio1}, não estava inscrito nenhum eleitor com nome social no ano de {eleicao_ano}.\")\n"
   ]
  },
  {
   "cell_type": "code",
   "execution_count": null,
   "id": "bd358be7",
   "metadata": {},
   "outputs": [],
   "source": []
  }
 ],
 "metadata": {
  "kernelspec": {
   "display_name": "Python 3 (ipykernel)",
   "language": "python",
   "name": "python3"
  },
  "language_info": {
   "codemirror_mode": {
    "name": "ipython",
    "version": 3
   },
   "file_extension": ".py",
   "mimetype": "text/x-python",
   "name": "python",
   "nbconvert_exporter": "python",
   "pygments_lexer": "ipython3",
   "version": "3.8.10"
  }
 },
 "nbformat": 4,
 "nbformat_minor": 5
}
