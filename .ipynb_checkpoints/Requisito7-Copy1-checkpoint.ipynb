{
 "cells": [
  {
   "cell_type": "code",
   "execution_count": null,
   "id": "026b43b3",
   "metadata": {},
   "outputs": [],
   "source": [
    "REGIÃO/ÁREA ANALISADA: SÃO JOSÉ DOS CAMPOS"
   ]
  },
  {
   "cell_type": "code",
   "execution_count": null,
   "id": "9f429b3a",
   "metadata": {},
   "outputs": [],
   "source": [
    "ANO DA ELEIÇÃO ANALISADA: 2018"
   ]
  },
  {
   "cell_type": "code",
   "execution_count": null,
   "id": "49022da3",
   "metadata": {},
   "outputs": [],
   "source": [
    "CARGO ANALISADO: PRESIDÊNCIA DA REPÚBLICA"
   ]
  },
  {
   "cell_type": "code",
   "execution_count": null,
   "id": "d88dbe95",
   "metadata": {},
   "outputs": [],
   "source": [
    "#07 Jornalista quer poder relacionar características do eleitorado de acordo com o representante eleito em determinada região de eleições futuras. \n",
    "\n",
    "RESPOSTA: O perfil do eleitorado que elegeu o Prefeito de SJC é: \n",
    "\n",
    "    - Média mensal superior à média do Vale do Paraíba, na proporção de 5/3; \n",
    "\n",
    "    - Em crescimento (número de eleitores); \n",
    "\n",
    "    - Jovem; \n",
    "\n",
    "    - Quanto à escolaridade, é a que tem a faixa de “Nível Médio Completo” mais populosa; \n",
    "\n",
    "    - Quanto ao Estado Civil, é a que tem a faixa de “Casados” mais populosa; \n",
    "\n",
    "    - Composta por 51 eleitores com nome social registrado; "
   ]
  },
  {
   "cell_type": "code",
   "execution_count": 1,
   "id": "165269b5",
   "metadata": {},
   "outputs": [],
   "source": [
    "# Criando um dicionário de municípios a partir das macrorregiões de cobertura da TV Vanguarda\n",
    "\n",
    "CoberturaVanguarda = {\n",
    "\n",
    "\"APARECIDA\":               \"VALE DO PARAÍBA\", \n",
    "\"CAÇAPAVA\":                \"VALE DO PARAÍBA\", \n",
    "\"CACHOEIRA PAULISTA\":      \"VALE DO PARAÍBA\",\n",
    "\"CANAS\":                   \"VALE DO PARAÍBA\", \n",
    "\"CUNHA\":                   \"VALE DO PARAÍBA\", \n",
    "\"GUARATINGUETÁ\":           \"VALE DO PARAÍBA\",\n",
    "\"IGARATÁ\":                 \"VALE DO PARAÍBA\", \n",
    "\"JACAREÍ\":                 \"VALE DO PARAÍBA\", \n",
    "\"JAMBEIRO\":                \"VALE DO PARAÍBA\",\n",
    "\"LAGOINHA\":                \"VALE DO PARAÍBA\", \n",
    "\"LORENA\":                  \"VALE DO PARAÍBA\", \n",
    "\"NATIVIDADE DA SERRA\":     \"VALE DO PARAÍBA\",\n",
    "\"PARAIBUNA\":               \"VALE DO PARAÍBA\", \n",
    "\"PINDAMONHANGABA\":         \"VALE DO PARAÍBA\", \n",
    "\"PIQUETE\":                 \"VALE DO PARAÍBA\",\n",
    "\"POTIM\":                   \"VALE DO PARAÍBA\", \n",
    "\"REDENÇÃO DA SERRA\":       \"VALE DO PARAÍBA\", \n",
    "\"ROSEIRA\":                 \"VALE DO PARAÍBA\",\n",
    "\"SANTA BRANCA\":            \"VALE DO PARAÍBA\", \n",
    "\"SÃO JOSÉ DOS CAMPOS\":     \"VALE DO PARAÍBA\", \n",
    "\"SÃO LUÍS DO PARAITINGA\":  \"VALE DO PARAÍBA\",\n",
    "\"TAUBATÉ\":                 \"VALE DO PARAÍBA\", \n",
    "\"TREMEMBÉ\":                \"VALE DO PARAÍBA\",\n",
    "\n",
    "\"ARAPEÍ\":                  \"VALE HISTÓRICO\", \n",
    "\"AREIAS\":                  \"VALE HISTÓRICO\", \n",
    "\"BANANAL\":                 \"VALE HISTÓRICO\",\n",
    "\"CRUZEIRO\":                \"VALE HISTÓRICO\", \n",
    "\"LAVRINHAS\":               \"VALE HISTÓRICO\", \n",
    "\"QUELUZ\":                  \"VALE HISTÓRICO\",\n",
    "\"SÃO JOSÉ DO BARREIRO\":    \"VALE HISTÓRICO\", \n",
    "\"SILVEIRAS\":               \"VALE HISTÓRICO\",\n",
    "\n",
    "\"CARAGUATATUBA\":           \"LITORAL NORTE\", \n",
    "\"ILHABELA\":                \"LITORAL NORTE\", \n",
    "\"SÃO SEBASTIÃO\":           \"LITORAL NORTE\",\n",
    "\"UBATUBA\":                 \"LITORAL NORTE\",\n",
    "\n",
    "\"CAMPOS DO JORDÃO\":        \"SERRA DA MANTIQUEIRA\", \n",
    "\"MONTEIRO LOBATO\":         \"SERRA DA MANTIQUEIRA\", \n",
    "\"SANTO ANTÔNIO DO PINHAL\": \"SERRA DA MANTIQUEIRA\",\n",
    "\"SÃO BENTO DO SAPUCAÍ\":    \"SERRA DA MANTIQUEIRA\",\n",
    "\n",
    "\"ATIBAIA\":                 \"REGIÃO BRAGANTINA\", \n",
    "\"BOM JESUS DOS PERDÕES\":   \"REGIÃO BRAGANTINA\", \n",
    "\"BRAGANÇA PAULISTA\":       \"REGIÃO BRAGANTINA\",\n",
    "\"JOANÓPOLIS\":              \"REGIÃO BRAGANTINA\", \n",
    "\"NAZARÉ PAULISTA\":         \"REGIÃO BRAGANTINA\", \n",
    "\"PIRACAIA\":                \"REGIÃO BRAGANTINA\",\n",
    "\"VARGEM\":                  \"REGIÃO BRAGANTINA\"\n",
    "\n",
    "}\n"
   ]
  },
  {
   "cell_type": "code",
   "execution_count": 2,
   "id": "8f85e66d",
   "metadata": {},
   "outputs": [],
   "source": [
    "municipio1 = \"SÃO JOSÉ DOS CAMPOS\""
   ]
  },
  {
   "cell_type": "code",
   "execution_count": 3,
   "id": "4ec1cab1",
   "metadata": {},
   "outputs": [],
   "source": [
    "eleicao_ano = 2018"
   ]
  },
  {
   "cell_type": "code",
   "execution_count": 4,
   "id": "16000dc6",
   "metadata": {},
   "outputs": [
    {
     "name": "stdout",
     "output_type": "stream",
     "text": [
      "Importações e configurações concluídas ✔️ \n"
     ]
    }
   ],
   "source": [
    "# Importa bibliotecas de análise de dados\n",
    "import pandas as pd\n",
    "pd.set_option('mode.chained_assignment', None)\n",
    "import numpy as np\n",
    "import datetime\n",
    "\n",
    "# Importa e configura biblioteca de geração de gráficos\n",
    "import plotly.express as px\n",
    "pd.options.plotting.backend = \"plotly\"\n",
    "import plotly.graph_objects as go\n",
    "from plotly.subplots import make_subplots\n",
    "\n",
    "# Importa biblioteca para manipular diretórios\n",
    "import os\n",
    "from os import walk\n",
    "\n",
    "print(\"Importações e configurações concluídas ✔️ \")"
   ]
  },
  {
   "cell_type": "code",
   "execution_count": 5,
   "id": "479bc7e1",
   "metadata": {},
   "outputs": [
    {
     "name": "stdout",
     "output_type": "stream",
     "text": [
      "O ano escolhido está disponível!\n",
      "E com todos os CSVs necessários para as análises!\n"
     ]
    }
   ],
   "source": [
    "# verificando quantos CSVs com o ano escolhido existem na pasta \"/data\"\n",
    "csvs = 0\n",
    "for path, _, files in walk('///home/linus/Documents/GitHub/AnaliseDeDadosSextoSem/dados'):\n",
    "    for csv in files:\n",
    "        if str(eleicao_ano) in csv and '.csv' in csv:\n",
    "            # caso tiver algum CSV contendo o ano escolhido, soma 1\n",
    "            csvs += 1          \n",
    "if csvs > 0:\n",
    "     # existe pelo menos 1 CSV do ano escolhido\n",
    "    print(\"O ano escolhido está disponível!\")\n",
    "    if csvs < 4:\n",
    "        # caso ainda faltem algum CSV, por mais que tenha pelo menos 1 com o ano escolhido\n",
    "        print(\"Mas está faltando algum CSV para que todas as análises funcionem!\")\n",
    "        a,b,c,d,e = 0,0,0,0,0\n",
    "        for path, _, files in walk('///home/linus/Documents/GitHub/AnaliseDeDadosSextoSem/dados'):\n",
    "            for csv in files:\n",
    "                if f'eleitorado_municipio_{eleicao_ano}.csv' in csv:\n",
    "                    a = 1\n",
    "            for csv in files:\n",
    "                if f'consulta_cand_{eleicao_ano}_SP.csv' in csv:\n",
    "                    b = 1\n",
    "            for csv in files:\n",
    "                if f'consulta_cand_{eleicao_ano}_BRASIL.csv' in csv:\n",
    "                    c = 1\n",
    "            for csv in files:\n",
    "                if f'perfil_eleitorado_{eleicao_ano}.csv' in csv:\n",
    "                    d = 1\n",
    "            for csv in files:\n",
    "                if f'perfil_comparecimento_abstencao_{eleicao_ano}.csv' in csv:\n",
    "                    e = 1\n",
    "                    \n",
    "        if a == 0:\n",
    "            print(f'Está faltando o arquivo: eleitorado_municipio_{eleicao_ano}.csv')\n",
    "        if b == 0:\n",
    "            print(f'Esta faltando o arquivo: consulta_cand_{eleicao_ano}_SP.csv')\n",
    "        if c == 0:\n",
    "            print(f'Esta faltando o arquivo: consulta_cand_{eleicao_ano}_BRASIL.csv')\n",
    "        if d == 0:\n",
    "            print(f'Esta faltando o arquivo: perfil_eleitorado_{eleicao_ano}.csv')\n",
    "        if e == 0:\n",
    "            print(f'Esta faltando o arquivo: perfil_comparecimento_abstencao_{eleicao_ano}.csv')\n",
    "            \n",
    "    else:\n",
    "        # caso todos os CSVs necessários estejam na pasta\n",
    "        print(\"E com todos os CSVs necessários para as análises!\")\n",
    "else:\n",
    "    # caso não tenha nenhum CSV do ano escolhido \n",
    "    print(\"Nenhum ano disponível! Por favor, adicione os CSVs necesários na pasta '/data'!\")"
   ]
  },
  {
   "cell_type": "code",
   "execution_count": 6,
   "id": "277f91f3",
   "metadata": {},
   "outputs": [],
   "source": [
    "# Determinando quais colunas serão lidas dos .csv\n",
    "col_candidatos = [\"NR_TURNO\", \"NM_UE\", \"DS_CARGO\", \"NM_CANDIDATO\", \"SG_PARTIDO\", \"DS_SIT_TOT_TURNO\"]\n",
    "\n",
    "col_evolucaoeleitorado = [\"NR_ANO_ELEICAO\", \"SG_UF\", \"NM_MUNICIPIO\", \"QTD_ELEITORES\"]\n",
    "\n",
    "col_eleitorado = [\"ANO_ELEICAO\", \"SG_UF\", \"NM_MUNICIPIO\", \"DS_ESTADO_CIVIL\", \"CD_FAIXA_ETARIA\", \"DS_FAIXA_ETARIA\",\n",
    "                  \"CD_GRAU_ESCOLARIDADE\", \"DS_GRAU_ESCOLARIDADE\", \"QT_ELEITORES_PERFIL\", \"QT_ELEITORES_INC_NM_SOCIAL\"]\n",
    "\n",
    "col_abstencao = [\"NR_TURNO\", \"NM_MUNICIPIO\", \"QT_APTOS\", \"QT_COMPARECIMENTO\", \"QT_ABSTENCAO\"]\n",
    "\n",
    "col_despesas = [\"NM_UE\", \"DS_CARGO\", \"NM_CANDIDATO\", \"VR_DESPESA_CONTRATADA\" ]\n"
   ]
  },
  {
   "cell_type": "code",
   "execution_count": 7,
   "id": "b01527c1",
   "metadata": {},
   "outputs": [],
   "source": [
    "# Carrega o .csv necessário para análise de renda dos municípios\n",
    "filename_renda = r'./dados/cadastro_central_de_empresas.csv'\n",
    "\n",
    "# Carrega os .csv necessários para análise de evolução do número de eleitores\n",
    "filename_evolucaoeleitorado2014 = r'./dados/eleitorado_municipio_2014.csv'\n",
    "filename_evolucaoeleitorado2016 = r'./dados/eleitorado_municipio_2016.csv'\n",
    "filename_evolucaoeleitorado2018 = r'./dados/eleitorado_municipio_2018.csv'\n",
    "filename_evolucaoeleitorado2020 = r'./dados/eleitorado_municipio_2020.csv'\n",
    "if eleicao_ano == 2022:\n",
    "    filename_evolucaoeleitorado2022= r'./dados/eleitorado_municipio_2022.csv'\n",
    "    \n",
    "elif eleicao_ano == 2024:\n",
    "    filename_evolucaoeleitorado2022= r'./dados/eleitorado_municipio_2022.csv'\n",
    "    filename_evolucaoeleitorado2024= r'./dados/eleitorado_municipio_2024.csv'\n",
    "\n",
    "# Carrega apenas os .csv do ano que o usuário escolheu para análise sobre candidatos e eleitores\n",
    "federal = np.arange(1994, datetime.date.today().year+4, 4).tolist()\n",
    "municipal = np.arange(1996, datetime.date.today().year+4, 4).tolist()\n",
    "\n",
    "if eleicao_ano in federal:\n",
    "    filename_candidatos = f'./dados/consulta_cand_{eleicao_ano}_BRASIL.csv'\n",
    "elif eleicao_ano in municipal:\n",
    "    filename_candidatos = f'./dados/consulta_cand_{eleicao_ano}_SP.csv'\n",
    "else:\n",
    "    print(\"Escolha um ano válido! Volte ao início do notebook, altere o ano e rode aquela e esta célula novamente\")\n",
    "\n",
    "# Carrega o DataFrame do eleitorado\n",
    "filename_eleitorado = f'./dados/perfil_eleitorado_{eleicao_ano}.csv'\n",
    "\n",
    "# Carrega o DataFrame da abstenção de eleitores\n",
    "filename_abstencao = f'./dados/perfil_comparecimento_abstencao_{eleicao_ano}.csv'"
   ]
  },
  {
   "cell_type": "code",
   "execution_count": 14,
   "id": "b05b90e6",
   "metadata": {
    "scrolled": true
   },
   "outputs": [
    {
     "ename": "FileNotFoundError",
     "evalue": "[Errno 2] No such file or directory: './dados/despesas_contratadas_candidatos_2018_SP.csv'",
     "output_type": "error",
     "traceback": [
      "\u001b[0;31m---------------------------------------------------------------------------\u001b[0m",
      "\u001b[0;31mFileNotFoundError\u001b[0m                         Traceback (most recent call last)",
      "Input \u001b[0;32mIn [14]\u001b[0m, in \u001b[0;36m<cell line: 25>\u001b[0;34m()\u001b[0m\n\u001b[1;32m     26\u001b[0m     df_despesas \u001b[38;5;241m=\u001b[39m pd\u001b[38;5;241m.\u001b[39mread_csv(\u001b[38;5;124mr\u001b[39m\u001b[38;5;124m'\u001b[39m\u001b[38;5;124m./dados/despesas_contratadas_candidatos_2020_SP.csv\u001b[39m\u001b[38;5;124m'\u001b[39m, usecols\u001b[38;5;241m=\u001b[39mcol_despesas,\n\u001b[1;32m     27\u001b[0m                           sep\u001b[38;5;241m=\u001b[39m\u001b[38;5;124m'\u001b[39m\u001b[38;5;124m;\u001b[39m\u001b[38;5;124m'\u001b[39m, encoding\u001b[38;5;241m=\u001b[39m\u001b[38;5;124m'\u001b[39m\u001b[38;5;124miso-8859-1\u001b[39m\u001b[38;5;124m'\u001b[39m, \n\u001b[1;32m     28\u001b[0m                            on_bad_lines\u001b[38;5;241m=\u001b[39m\u001b[38;5;124m'\u001b[39m\u001b[38;5;124mskip\u001b[39m\u001b[38;5;124m'\u001b[39m)\n\u001b[1;32m     29\u001b[0m \u001b[38;5;28;01melif\u001b[39;00m eleicao_ano \u001b[38;5;241m==\u001b[39m \u001b[38;5;241m2018\u001b[39m:\n\u001b[0;32m---> 30\u001b[0m     df_despesas \u001b[38;5;241m=\u001b[39m \u001b[43mpd\u001b[49m\u001b[38;5;241;43m.\u001b[39;49m\u001b[43mread_csv\u001b[49m\u001b[43m(\u001b[49m\u001b[38;5;124;43mr\u001b[39;49m\u001b[38;5;124;43m'\u001b[39;49m\u001b[38;5;124;43m./dados/despesas_contratadas_candidatos_2018_SP.csv\u001b[39;49m\u001b[38;5;124;43m'\u001b[39;49m\u001b[43m,\u001b[49m\u001b[43m \u001b[49m\u001b[43musecols\u001b[49m\u001b[38;5;241;43m=\u001b[39;49m\u001b[43mcol_despesas\u001b[49m\u001b[43m,\u001b[49m\n\u001b[1;32m     31\u001b[0m \u001b[43m                          \u001b[49m\u001b[43msep\u001b[49m\u001b[38;5;241;43m=\u001b[39;49m\u001b[38;5;124;43m'\u001b[39;49m\u001b[38;5;124;43m,\u001b[39;49m\u001b[38;5;124;43m'\u001b[39;49m\u001b[43m,\u001b[49m\u001b[43m \u001b[49m\u001b[43mencoding\u001b[49m\u001b[38;5;241;43m=\u001b[39;49m\u001b[38;5;124;43m'\u001b[39;49m\u001b[38;5;124;43miso-8859-1\u001b[39;49m\u001b[38;5;124;43m'\u001b[39;49m\u001b[43m,\u001b[49m\u001b[43m \u001b[49m\n\u001b[1;32m     32\u001b[0m \u001b[43m                           \u001b[49m\u001b[43mon_bad_lines\u001b[49m\u001b[38;5;241;43m=\u001b[39;49m\u001b[38;5;124;43m'\u001b[39;49m\u001b[38;5;124;43mskip\u001b[39;49m\u001b[38;5;124;43m'\u001b[39;49m\u001b[43m)\u001b[49m\n",
      "File \u001b[0;32m~/.local/lib/python3.8/site-packages/pandas/util/_decorators.py:311\u001b[0m, in \u001b[0;36mdeprecate_nonkeyword_arguments.<locals>.decorate.<locals>.wrapper\u001b[0;34m(*args, **kwargs)\u001b[0m\n\u001b[1;32m    305\u001b[0m \u001b[38;5;28;01mif\u001b[39;00m \u001b[38;5;28mlen\u001b[39m(args) \u001b[38;5;241m>\u001b[39m num_allow_args:\n\u001b[1;32m    306\u001b[0m     warnings\u001b[38;5;241m.\u001b[39mwarn(\n\u001b[1;32m    307\u001b[0m         msg\u001b[38;5;241m.\u001b[39mformat(arguments\u001b[38;5;241m=\u001b[39marguments),\n\u001b[1;32m    308\u001b[0m         \u001b[38;5;167;01mFutureWarning\u001b[39;00m,\n\u001b[1;32m    309\u001b[0m         stacklevel\u001b[38;5;241m=\u001b[39mstacklevel,\n\u001b[1;32m    310\u001b[0m     )\n\u001b[0;32m--> 311\u001b[0m \u001b[38;5;28;01mreturn\u001b[39;00m \u001b[43mfunc\u001b[49m\u001b[43m(\u001b[49m\u001b[38;5;241;43m*\u001b[39;49m\u001b[43margs\u001b[49m\u001b[43m,\u001b[49m\u001b[43m \u001b[49m\u001b[38;5;241;43m*\u001b[39;49m\u001b[38;5;241;43m*\u001b[39;49m\u001b[43mkwargs\u001b[49m\u001b[43m)\u001b[49m\n",
      "File \u001b[0;32m~/.local/lib/python3.8/site-packages/pandas/io/parsers/readers.py:680\u001b[0m, in \u001b[0;36mread_csv\u001b[0;34m(filepath_or_buffer, sep, delimiter, header, names, index_col, usecols, squeeze, prefix, mangle_dupe_cols, dtype, engine, converters, true_values, false_values, skipinitialspace, skiprows, skipfooter, nrows, na_values, keep_default_na, na_filter, verbose, skip_blank_lines, parse_dates, infer_datetime_format, keep_date_col, date_parser, dayfirst, cache_dates, iterator, chunksize, compression, thousands, decimal, lineterminator, quotechar, quoting, doublequote, escapechar, comment, encoding, encoding_errors, dialect, error_bad_lines, warn_bad_lines, on_bad_lines, delim_whitespace, low_memory, memory_map, float_precision, storage_options)\u001b[0m\n\u001b[1;32m    665\u001b[0m kwds_defaults \u001b[38;5;241m=\u001b[39m _refine_defaults_read(\n\u001b[1;32m    666\u001b[0m     dialect,\n\u001b[1;32m    667\u001b[0m     delimiter,\n\u001b[0;32m   (...)\u001b[0m\n\u001b[1;32m    676\u001b[0m     defaults\u001b[38;5;241m=\u001b[39m{\u001b[38;5;124m\"\u001b[39m\u001b[38;5;124mdelimiter\u001b[39m\u001b[38;5;124m\"\u001b[39m: \u001b[38;5;124m\"\u001b[39m\u001b[38;5;124m,\u001b[39m\u001b[38;5;124m\"\u001b[39m},\n\u001b[1;32m    677\u001b[0m )\n\u001b[1;32m    678\u001b[0m kwds\u001b[38;5;241m.\u001b[39mupdate(kwds_defaults)\n\u001b[0;32m--> 680\u001b[0m \u001b[38;5;28;01mreturn\u001b[39;00m \u001b[43m_read\u001b[49m\u001b[43m(\u001b[49m\u001b[43mfilepath_or_buffer\u001b[49m\u001b[43m,\u001b[49m\u001b[43m \u001b[49m\u001b[43mkwds\u001b[49m\u001b[43m)\u001b[49m\n",
      "File \u001b[0;32m~/.local/lib/python3.8/site-packages/pandas/io/parsers/readers.py:575\u001b[0m, in \u001b[0;36m_read\u001b[0;34m(filepath_or_buffer, kwds)\u001b[0m\n\u001b[1;32m    572\u001b[0m _validate_names(kwds\u001b[38;5;241m.\u001b[39mget(\u001b[38;5;124m\"\u001b[39m\u001b[38;5;124mnames\u001b[39m\u001b[38;5;124m\"\u001b[39m, \u001b[38;5;28;01mNone\u001b[39;00m))\n\u001b[1;32m    574\u001b[0m \u001b[38;5;66;03m# Create the parser.\u001b[39;00m\n\u001b[0;32m--> 575\u001b[0m parser \u001b[38;5;241m=\u001b[39m \u001b[43mTextFileReader\u001b[49m\u001b[43m(\u001b[49m\u001b[43mfilepath_or_buffer\u001b[49m\u001b[43m,\u001b[49m\u001b[43m \u001b[49m\u001b[38;5;241;43m*\u001b[39;49m\u001b[38;5;241;43m*\u001b[39;49m\u001b[43mkwds\u001b[49m\u001b[43m)\u001b[49m\n\u001b[1;32m    577\u001b[0m \u001b[38;5;28;01mif\u001b[39;00m chunksize \u001b[38;5;129;01mor\u001b[39;00m iterator:\n\u001b[1;32m    578\u001b[0m     \u001b[38;5;28;01mreturn\u001b[39;00m parser\n",
      "File \u001b[0;32m~/.local/lib/python3.8/site-packages/pandas/io/parsers/readers.py:933\u001b[0m, in \u001b[0;36mTextFileReader.__init__\u001b[0;34m(self, f, engine, **kwds)\u001b[0m\n\u001b[1;32m    930\u001b[0m     \u001b[38;5;28mself\u001b[39m\u001b[38;5;241m.\u001b[39moptions[\u001b[38;5;124m\"\u001b[39m\u001b[38;5;124mhas_index_names\u001b[39m\u001b[38;5;124m\"\u001b[39m] \u001b[38;5;241m=\u001b[39m kwds[\u001b[38;5;124m\"\u001b[39m\u001b[38;5;124mhas_index_names\u001b[39m\u001b[38;5;124m\"\u001b[39m]\n\u001b[1;32m    932\u001b[0m \u001b[38;5;28mself\u001b[39m\u001b[38;5;241m.\u001b[39mhandles: IOHandles \u001b[38;5;241m|\u001b[39m \u001b[38;5;28;01mNone\u001b[39;00m \u001b[38;5;241m=\u001b[39m \u001b[38;5;28;01mNone\u001b[39;00m\n\u001b[0;32m--> 933\u001b[0m \u001b[38;5;28mself\u001b[39m\u001b[38;5;241m.\u001b[39m_engine \u001b[38;5;241m=\u001b[39m \u001b[38;5;28;43mself\u001b[39;49m\u001b[38;5;241;43m.\u001b[39;49m\u001b[43m_make_engine\u001b[49m\u001b[43m(\u001b[49m\u001b[43mf\u001b[49m\u001b[43m,\u001b[49m\u001b[43m \u001b[49m\u001b[38;5;28;43mself\u001b[39;49m\u001b[38;5;241;43m.\u001b[39;49m\u001b[43mengine\u001b[49m\u001b[43m)\u001b[49m\n",
      "File \u001b[0;32m~/.local/lib/python3.8/site-packages/pandas/io/parsers/readers.py:1217\u001b[0m, in \u001b[0;36mTextFileReader._make_engine\u001b[0;34m(self, f, engine)\u001b[0m\n\u001b[1;32m   1213\u001b[0m     mode \u001b[38;5;241m=\u001b[39m \u001b[38;5;124m\"\u001b[39m\u001b[38;5;124mrb\u001b[39m\u001b[38;5;124m\"\u001b[39m\n\u001b[1;32m   1214\u001b[0m \u001b[38;5;66;03m# error: No overload variant of \"get_handle\" matches argument types\u001b[39;00m\n\u001b[1;32m   1215\u001b[0m \u001b[38;5;66;03m# \"Union[str, PathLike[str], ReadCsvBuffer[bytes], ReadCsvBuffer[str]]\"\u001b[39;00m\n\u001b[1;32m   1216\u001b[0m \u001b[38;5;66;03m# , \"str\", \"bool\", \"Any\", \"Any\", \"Any\", \"Any\", \"Any\"\u001b[39;00m\n\u001b[0;32m-> 1217\u001b[0m \u001b[38;5;28mself\u001b[39m\u001b[38;5;241m.\u001b[39mhandles \u001b[38;5;241m=\u001b[39m \u001b[43mget_handle\u001b[49m\u001b[43m(\u001b[49m\u001b[43m  \u001b[49m\u001b[38;5;66;43;03m# type: ignore[call-overload]\u001b[39;49;00m\n\u001b[1;32m   1218\u001b[0m \u001b[43m    \u001b[49m\u001b[43mf\u001b[49m\u001b[43m,\u001b[49m\n\u001b[1;32m   1219\u001b[0m \u001b[43m    \u001b[49m\u001b[43mmode\u001b[49m\u001b[43m,\u001b[49m\n\u001b[1;32m   1220\u001b[0m \u001b[43m    \u001b[49m\u001b[43mencoding\u001b[49m\u001b[38;5;241;43m=\u001b[39;49m\u001b[38;5;28;43mself\u001b[39;49m\u001b[38;5;241;43m.\u001b[39;49m\u001b[43moptions\u001b[49m\u001b[38;5;241;43m.\u001b[39;49m\u001b[43mget\u001b[49m\u001b[43m(\u001b[49m\u001b[38;5;124;43m\"\u001b[39;49m\u001b[38;5;124;43mencoding\u001b[39;49m\u001b[38;5;124;43m\"\u001b[39;49m\u001b[43m,\u001b[49m\u001b[43m \u001b[49m\u001b[38;5;28;43;01mNone\u001b[39;49;00m\u001b[43m)\u001b[49m\u001b[43m,\u001b[49m\n\u001b[1;32m   1221\u001b[0m \u001b[43m    \u001b[49m\u001b[43mcompression\u001b[49m\u001b[38;5;241;43m=\u001b[39;49m\u001b[38;5;28;43mself\u001b[39;49m\u001b[38;5;241;43m.\u001b[39;49m\u001b[43moptions\u001b[49m\u001b[38;5;241;43m.\u001b[39;49m\u001b[43mget\u001b[49m\u001b[43m(\u001b[49m\u001b[38;5;124;43m\"\u001b[39;49m\u001b[38;5;124;43mcompression\u001b[39;49m\u001b[38;5;124;43m\"\u001b[39;49m\u001b[43m,\u001b[49m\u001b[43m \u001b[49m\u001b[38;5;28;43;01mNone\u001b[39;49;00m\u001b[43m)\u001b[49m\u001b[43m,\u001b[49m\n\u001b[1;32m   1222\u001b[0m \u001b[43m    \u001b[49m\u001b[43mmemory_map\u001b[49m\u001b[38;5;241;43m=\u001b[39;49m\u001b[38;5;28;43mself\u001b[39;49m\u001b[38;5;241;43m.\u001b[39;49m\u001b[43moptions\u001b[49m\u001b[38;5;241;43m.\u001b[39;49m\u001b[43mget\u001b[49m\u001b[43m(\u001b[49m\u001b[38;5;124;43m\"\u001b[39;49m\u001b[38;5;124;43mmemory_map\u001b[39;49m\u001b[38;5;124;43m\"\u001b[39;49m\u001b[43m,\u001b[49m\u001b[43m \u001b[49m\u001b[38;5;28;43;01mFalse\u001b[39;49;00m\u001b[43m)\u001b[49m\u001b[43m,\u001b[49m\n\u001b[1;32m   1223\u001b[0m \u001b[43m    \u001b[49m\u001b[43mis_text\u001b[49m\u001b[38;5;241;43m=\u001b[39;49m\u001b[43mis_text\u001b[49m\u001b[43m,\u001b[49m\n\u001b[1;32m   1224\u001b[0m \u001b[43m    \u001b[49m\u001b[43merrors\u001b[49m\u001b[38;5;241;43m=\u001b[39;49m\u001b[38;5;28;43mself\u001b[39;49m\u001b[38;5;241;43m.\u001b[39;49m\u001b[43moptions\u001b[49m\u001b[38;5;241;43m.\u001b[39;49m\u001b[43mget\u001b[49m\u001b[43m(\u001b[49m\u001b[38;5;124;43m\"\u001b[39;49m\u001b[38;5;124;43mencoding_errors\u001b[39;49m\u001b[38;5;124;43m\"\u001b[39;49m\u001b[43m,\u001b[49m\u001b[43m \u001b[49m\u001b[38;5;124;43m\"\u001b[39;49m\u001b[38;5;124;43mstrict\u001b[39;49m\u001b[38;5;124;43m\"\u001b[39;49m\u001b[43m)\u001b[49m\u001b[43m,\u001b[49m\n\u001b[1;32m   1225\u001b[0m \u001b[43m    \u001b[49m\u001b[43mstorage_options\u001b[49m\u001b[38;5;241;43m=\u001b[39;49m\u001b[38;5;28;43mself\u001b[39;49m\u001b[38;5;241;43m.\u001b[39;49m\u001b[43moptions\u001b[49m\u001b[38;5;241;43m.\u001b[39;49m\u001b[43mget\u001b[49m\u001b[43m(\u001b[49m\u001b[38;5;124;43m\"\u001b[39;49m\u001b[38;5;124;43mstorage_options\u001b[39;49m\u001b[38;5;124;43m\"\u001b[39;49m\u001b[43m,\u001b[49m\u001b[43m \u001b[49m\u001b[38;5;28;43;01mNone\u001b[39;49;00m\u001b[43m)\u001b[49m\u001b[43m,\u001b[49m\n\u001b[1;32m   1226\u001b[0m \u001b[43m\u001b[49m\u001b[43m)\u001b[49m\n\u001b[1;32m   1227\u001b[0m \u001b[38;5;28;01massert\u001b[39;00m \u001b[38;5;28mself\u001b[39m\u001b[38;5;241m.\u001b[39mhandles \u001b[38;5;129;01mis\u001b[39;00m \u001b[38;5;129;01mnot\u001b[39;00m \u001b[38;5;28;01mNone\u001b[39;00m\n\u001b[1;32m   1228\u001b[0m f \u001b[38;5;241m=\u001b[39m \u001b[38;5;28mself\u001b[39m\u001b[38;5;241m.\u001b[39mhandles\u001b[38;5;241m.\u001b[39mhandle\n",
      "File \u001b[0;32m~/.local/lib/python3.8/site-packages/pandas/io/common.py:789\u001b[0m, in \u001b[0;36mget_handle\u001b[0;34m(path_or_buf, mode, encoding, compression, memory_map, is_text, errors, storage_options)\u001b[0m\n\u001b[1;32m    784\u001b[0m \u001b[38;5;28;01melif\u001b[39;00m \u001b[38;5;28misinstance\u001b[39m(handle, \u001b[38;5;28mstr\u001b[39m):\n\u001b[1;32m    785\u001b[0m     \u001b[38;5;66;03m# Check whether the filename is to be opened in binary mode.\u001b[39;00m\n\u001b[1;32m    786\u001b[0m     \u001b[38;5;66;03m# Binary mode does not support 'encoding' and 'newline'.\u001b[39;00m\n\u001b[1;32m    787\u001b[0m     \u001b[38;5;28;01mif\u001b[39;00m ioargs\u001b[38;5;241m.\u001b[39mencoding \u001b[38;5;129;01mand\u001b[39;00m \u001b[38;5;124m\"\u001b[39m\u001b[38;5;124mb\u001b[39m\u001b[38;5;124m\"\u001b[39m \u001b[38;5;129;01mnot\u001b[39;00m \u001b[38;5;129;01min\u001b[39;00m ioargs\u001b[38;5;241m.\u001b[39mmode:\n\u001b[1;32m    788\u001b[0m         \u001b[38;5;66;03m# Encoding\u001b[39;00m\n\u001b[0;32m--> 789\u001b[0m         handle \u001b[38;5;241m=\u001b[39m \u001b[38;5;28;43mopen\u001b[39;49m\u001b[43m(\u001b[49m\n\u001b[1;32m    790\u001b[0m \u001b[43m            \u001b[49m\u001b[43mhandle\u001b[49m\u001b[43m,\u001b[49m\n\u001b[1;32m    791\u001b[0m \u001b[43m            \u001b[49m\u001b[43mioargs\u001b[49m\u001b[38;5;241;43m.\u001b[39;49m\u001b[43mmode\u001b[49m\u001b[43m,\u001b[49m\n\u001b[1;32m    792\u001b[0m \u001b[43m            \u001b[49m\u001b[43mencoding\u001b[49m\u001b[38;5;241;43m=\u001b[39;49m\u001b[43mioargs\u001b[49m\u001b[38;5;241;43m.\u001b[39;49m\u001b[43mencoding\u001b[49m\u001b[43m,\u001b[49m\n\u001b[1;32m    793\u001b[0m \u001b[43m            \u001b[49m\u001b[43merrors\u001b[49m\u001b[38;5;241;43m=\u001b[39;49m\u001b[43merrors\u001b[49m\u001b[43m,\u001b[49m\n\u001b[1;32m    794\u001b[0m \u001b[43m            \u001b[49m\u001b[43mnewline\u001b[49m\u001b[38;5;241;43m=\u001b[39;49m\u001b[38;5;124;43m\"\u001b[39;49m\u001b[38;5;124;43m\"\u001b[39;49m\u001b[43m,\u001b[49m\n\u001b[1;32m    795\u001b[0m \u001b[43m        \u001b[49m\u001b[43m)\u001b[49m\n\u001b[1;32m    796\u001b[0m     \u001b[38;5;28;01melse\u001b[39;00m:\n\u001b[1;32m    797\u001b[0m         \u001b[38;5;66;03m# Binary mode\u001b[39;00m\n\u001b[1;32m    798\u001b[0m         handle \u001b[38;5;241m=\u001b[39m \u001b[38;5;28mopen\u001b[39m(handle, ioargs\u001b[38;5;241m.\u001b[39mmode)\n",
      "\u001b[0;31mFileNotFoundError\u001b[0m: [Errno 2] No such file or directory: './dados/despesas_contratadas_candidatos_2018_SP.csv'"
     ]
    }
   ],
   "source": [
    "# DataFrame da renda dos municípios\n",
    "dfr = pd.read_csv(filename_renda, sep= ',', on_bad_lines='skip')\n",
    "\n",
    "# DataFrames da evolução do número de eleitores\n",
    "eleitorado2014 = pd.read_csv(filename_evolucaoeleitorado2014, usecols=col_evolucaoeleitorado, encoding='iso-8859-1', sep= ';',  on_bad_lines='skip')\n",
    "eleitorado2016 = pd.read_csv(filename_evolucaoeleitorado2016, usecols=col_evolucaoeleitorado, encoding='iso-8859-1', sep= ';', on_bad_lines='skip')\n",
    "eleitorado2018 = pd.read_csv(filename_evolucaoeleitorado2018, usecols=col_evolucaoeleitorado, encoding='iso-8859-1', sep= ';', on_bad_lines='skip')\n",
    "eleitorado2020 = pd.read_csv(filename_evolucaoeleitorado2020, usecols=col_evolucaoeleitorado, encoding='iso-8859-1', sep= ';', on_bad_lines='skip')\n",
    "if eleicao_ano == 2022:\n",
    "    eleitorado2022 = pd.read_csv(filename_evolucaoeleitorado2022, usecols=col_evolucaoeleitorado, encoding='iso-8859-1', sep= ';', on_bad_lines='skip')\n",
    "elif eleicao_ano == 2024:\n",
    "    eleitorado2022 = pd.read_csv(filename_evolucaoeleitorado2022, usecols=col_evolucaoeleitorado, encoding='iso-8859-1', sep= ';', on_bad_lines='skip')\n",
    "    eleitorado2024 = pd.read_csv(filename_evolucaoeleitorado2024, usecols=col_evolucaoeleitorado, encoding='iso-8859-1', sep= ';',  on_bad_lines='skip')\n",
    "\n",
    "# DataFrame dos candidatos\n",
    "dfc = pd.read_csv(filename_candidatos, usecols=col_candidatos, sep=';', encoding='iso-8859-1', on_bad_lines='skip')\n",
    "\n",
    "# DataFrame do eleitorado\n",
    "dfe = pd.read_csv(filename_eleitorado, usecols=col_eleitorado, sep=';', encoding='iso-8859-1',  on_bad_lines='skip')\n",
    "\n",
    "# DataFrame da abstenção de eleitores\n",
    "dfa = pd.read_csv(filename_abstencao, usecols=col_abstencao, sep=';', encoding='iso-8859-1',  on_bad_lines='skip')\n",
    "\n",
    "# DataFrame da despesas dos candidatos\n",
    "if eleicao_ano == 2020:\n",
    "    df_despesas = pd.read_csv(r'./dados/despesas_contratadas_candidatos_2020_SP.csv', usecols=col_despesas,\n",
    "                          sep=';', encoding='iso-8859-1', \n",
    "                           on_bad_lines='skip')\n",
    "elif eleicao_ano == 2018:\n",
    "    df_despesas = pd.read_csv(r'./dados/despesas_contratadas_candidatos_2018_SP.csv', usecols=col_despesas,\n",
    "                          sep=',', encoding='iso-8859-1', \n",
    "                           on_bad_lines='skip')"
   ]
  },
  {
   "cell_type": "code",
   "execution_count": 15,
   "id": "4a7c3548",
   "metadata": {},
   "outputs": [],
   "source": [
    "municipio_eleitores = dfe.query(f'NM_MUNICIPIO == \"{municipio1.upper()}\"')"
   ]
  },
  {
   "cell_type": "code",
   "execution_count": 16,
   "id": "c0c85587",
   "metadata": {},
   "outputs": [],
   "source": [
    "# Filtrando somente as informações de salário médio mensal do DataFrame \"dfr\"\n",
    "df_sp = dfr.query('Nome == \"Salário médio mensal\"').loc[:, 'Localidade':'2018']\n",
    "df_sp =df_sp.drop(columns=[\"2006\", \"2007\"])\n",
    "df_sp['Localidade'] = df_sp['Localidade'].str.upper()"
   ]
  },
  {
   "cell_type": "code",
   "execution_count": 17,
   "id": "8c4c7f4c",
   "metadata": {},
   "outputs": [
    {
     "name": "stderr",
     "output_type": "stream",
     "text": [
      "/tmp/ipykernel_46370/1851635429.py:5: FutureWarning: The frame.append method is deprecated and will be removed from pandas in a future version. Use pandas.concat instead.\n",
      "  dfmc = dfmc.append( pd.DataFrame( {\"Município\":[cidade], \"Macrorregião\":[CoberturaVanguarda[cidade]]} ) )\n",
      "/tmp/ipykernel_46370/1851635429.py:5: FutureWarning: The frame.append method is deprecated and will be removed from pandas in a future version. Use pandas.concat instead.\n",
      "  dfmc = dfmc.append( pd.DataFrame( {\"Município\":[cidade], \"Macrorregião\":[CoberturaVanguarda[cidade]]} ) )\n",
      "/tmp/ipykernel_46370/1851635429.py:5: FutureWarning: The frame.append method is deprecated and will be removed from pandas in a future version. Use pandas.concat instead.\n",
      "  dfmc = dfmc.append( pd.DataFrame( {\"Município\":[cidade], \"Macrorregião\":[CoberturaVanguarda[cidade]]} ) )\n",
      "/tmp/ipykernel_46370/1851635429.py:5: FutureWarning: The frame.append method is deprecated and will be removed from pandas in a future version. Use pandas.concat instead.\n",
      "  dfmc = dfmc.append( pd.DataFrame( {\"Município\":[cidade], \"Macrorregião\":[CoberturaVanguarda[cidade]]} ) )\n",
      "/tmp/ipykernel_46370/1851635429.py:5: FutureWarning: The frame.append method is deprecated and will be removed from pandas in a future version. Use pandas.concat instead.\n",
      "  dfmc = dfmc.append( pd.DataFrame( {\"Município\":[cidade], \"Macrorregião\":[CoberturaVanguarda[cidade]]} ) )\n",
      "/tmp/ipykernel_46370/1851635429.py:5: FutureWarning: The frame.append method is deprecated and will be removed from pandas in a future version. Use pandas.concat instead.\n",
      "  dfmc = dfmc.append( pd.DataFrame( {\"Município\":[cidade], \"Macrorregião\":[CoberturaVanguarda[cidade]]} ) )\n",
      "/tmp/ipykernel_46370/1851635429.py:5: FutureWarning: The frame.append method is deprecated and will be removed from pandas in a future version. Use pandas.concat instead.\n",
      "  dfmc = dfmc.append( pd.DataFrame( {\"Município\":[cidade], \"Macrorregião\":[CoberturaVanguarda[cidade]]} ) )\n",
      "/tmp/ipykernel_46370/1851635429.py:5: FutureWarning: The frame.append method is deprecated and will be removed from pandas in a future version. Use pandas.concat instead.\n",
      "  dfmc = dfmc.append( pd.DataFrame( {\"Município\":[cidade], \"Macrorregião\":[CoberturaVanguarda[cidade]]} ) )\n",
      "/tmp/ipykernel_46370/1851635429.py:5: FutureWarning: The frame.append method is deprecated and will be removed from pandas in a future version. Use pandas.concat instead.\n",
      "  dfmc = dfmc.append( pd.DataFrame( {\"Município\":[cidade], \"Macrorregião\":[CoberturaVanguarda[cidade]]} ) )\n",
      "/tmp/ipykernel_46370/1851635429.py:5: FutureWarning: The frame.append method is deprecated and will be removed from pandas in a future version. Use pandas.concat instead.\n",
      "  dfmc = dfmc.append( pd.DataFrame( {\"Município\":[cidade], \"Macrorregião\":[CoberturaVanguarda[cidade]]} ) )\n",
      "/tmp/ipykernel_46370/1851635429.py:5: FutureWarning: The frame.append method is deprecated and will be removed from pandas in a future version. Use pandas.concat instead.\n",
      "  dfmc = dfmc.append( pd.DataFrame( {\"Município\":[cidade], \"Macrorregião\":[CoberturaVanguarda[cidade]]} ) )\n",
      "/tmp/ipykernel_46370/1851635429.py:5: FutureWarning: The frame.append method is deprecated and will be removed from pandas in a future version. Use pandas.concat instead.\n",
      "  dfmc = dfmc.append( pd.DataFrame( {\"Município\":[cidade], \"Macrorregião\":[CoberturaVanguarda[cidade]]} ) )\n",
      "/tmp/ipykernel_46370/1851635429.py:5: FutureWarning: The frame.append method is deprecated and will be removed from pandas in a future version. Use pandas.concat instead.\n",
      "  dfmc = dfmc.append( pd.DataFrame( {\"Município\":[cidade], \"Macrorregião\":[CoberturaVanguarda[cidade]]} ) )\n",
      "/tmp/ipykernel_46370/1851635429.py:5: FutureWarning: The frame.append method is deprecated and will be removed from pandas in a future version. Use pandas.concat instead.\n",
      "  dfmc = dfmc.append( pd.DataFrame( {\"Município\":[cidade], \"Macrorregião\":[CoberturaVanguarda[cidade]]} ) )\n",
      "/tmp/ipykernel_46370/1851635429.py:5: FutureWarning: The frame.append method is deprecated and will be removed from pandas in a future version. Use pandas.concat instead.\n",
      "  dfmc = dfmc.append( pd.DataFrame( {\"Município\":[cidade], \"Macrorregião\":[CoberturaVanguarda[cidade]]} ) )\n",
      "/tmp/ipykernel_46370/1851635429.py:5: FutureWarning: The frame.append method is deprecated and will be removed from pandas in a future version. Use pandas.concat instead.\n",
      "  dfmc = dfmc.append( pd.DataFrame( {\"Município\":[cidade], \"Macrorregião\":[CoberturaVanguarda[cidade]]} ) )\n",
      "/tmp/ipykernel_46370/1851635429.py:5: FutureWarning: The frame.append method is deprecated and will be removed from pandas in a future version. Use pandas.concat instead.\n",
      "  dfmc = dfmc.append( pd.DataFrame( {\"Município\":[cidade], \"Macrorregião\":[CoberturaVanguarda[cidade]]} ) )\n",
      "/tmp/ipykernel_46370/1851635429.py:5: FutureWarning: The frame.append method is deprecated and will be removed from pandas in a future version. Use pandas.concat instead.\n",
      "  dfmc = dfmc.append( pd.DataFrame( {\"Município\":[cidade], \"Macrorregião\":[CoberturaVanguarda[cidade]]} ) )\n",
      "/tmp/ipykernel_46370/1851635429.py:5: FutureWarning: The frame.append method is deprecated and will be removed from pandas in a future version. Use pandas.concat instead.\n",
      "  dfmc = dfmc.append( pd.DataFrame( {\"Município\":[cidade], \"Macrorregião\":[CoberturaVanguarda[cidade]]} ) )\n",
      "/tmp/ipykernel_46370/1851635429.py:5: FutureWarning: The frame.append method is deprecated and will be removed from pandas in a future version. Use pandas.concat instead.\n",
      "  dfmc = dfmc.append( pd.DataFrame( {\"Município\":[cidade], \"Macrorregião\":[CoberturaVanguarda[cidade]]} ) )\n",
      "/tmp/ipykernel_46370/1851635429.py:5: FutureWarning: The frame.append method is deprecated and will be removed from pandas in a future version. Use pandas.concat instead.\n",
      "  dfmc = dfmc.append( pd.DataFrame( {\"Município\":[cidade], \"Macrorregião\":[CoberturaVanguarda[cidade]]} ) )\n",
      "/tmp/ipykernel_46370/1851635429.py:5: FutureWarning: The frame.append method is deprecated and will be removed from pandas in a future version. Use pandas.concat instead.\n",
      "  dfmc = dfmc.append( pd.DataFrame( {\"Município\":[cidade], \"Macrorregião\":[CoberturaVanguarda[cidade]]} ) )\n",
      "/tmp/ipykernel_46370/1851635429.py:5: FutureWarning: The frame.append method is deprecated and will be removed from pandas in a future version. Use pandas.concat instead.\n",
      "  dfmc = dfmc.append( pd.DataFrame( {\"Município\":[cidade], \"Macrorregião\":[CoberturaVanguarda[cidade]]} ) )\n",
      "/tmp/ipykernel_46370/1851635429.py:5: FutureWarning: The frame.append method is deprecated and will be removed from pandas in a future version. Use pandas.concat instead.\n",
      "  dfmc = dfmc.append( pd.DataFrame( {\"Município\":[cidade], \"Macrorregião\":[CoberturaVanguarda[cidade]]} ) )\n",
      "/tmp/ipykernel_46370/1851635429.py:5: FutureWarning: The frame.append method is deprecated and will be removed from pandas in a future version. Use pandas.concat instead.\n",
      "  dfmc = dfmc.append( pd.DataFrame( {\"Município\":[cidade], \"Macrorregião\":[CoberturaVanguarda[cidade]]} ) )\n",
      "/tmp/ipykernel_46370/1851635429.py:5: FutureWarning: The frame.append method is deprecated and will be removed from pandas in a future version. Use pandas.concat instead.\n",
      "  dfmc = dfmc.append( pd.DataFrame( {\"Município\":[cidade], \"Macrorregião\":[CoberturaVanguarda[cidade]]} ) )\n",
      "/tmp/ipykernel_46370/1851635429.py:5: FutureWarning: The frame.append method is deprecated and will be removed from pandas in a future version. Use pandas.concat instead.\n",
      "  dfmc = dfmc.append( pd.DataFrame( {\"Município\":[cidade], \"Macrorregião\":[CoberturaVanguarda[cidade]]} ) )\n",
      "/tmp/ipykernel_46370/1851635429.py:5: FutureWarning: The frame.append method is deprecated and will be removed from pandas in a future version. Use pandas.concat instead.\n",
      "  dfmc = dfmc.append( pd.DataFrame( {\"Município\":[cidade], \"Macrorregião\":[CoberturaVanguarda[cidade]]} ) )\n",
      "/tmp/ipykernel_46370/1851635429.py:5: FutureWarning: The frame.append method is deprecated and will be removed from pandas in a future version. Use pandas.concat instead.\n",
      "  dfmc = dfmc.append( pd.DataFrame( {\"Município\":[cidade], \"Macrorregião\":[CoberturaVanguarda[cidade]]} ) )\n",
      "/tmp/ipykernel_46370/1851635429.py:5: FutureWarning: The frame.append method is deprecated and will be removed from pandas in a future version. Use pandas.concat instead.\n",
      "  dfmc = dfmc.append( pd.DataFrame( {\"Município\":[cidade], \"Macrorregião\":[CoberturaVanguarda[cidade]]} ) )\n",
      "/tmp/ipykernel_46370/1851635429.py:5: FutureWarning: The frame.append method is deprecated and will be removed from pandas in a future version. Use pandas.concat instead.\n",
      "  dfmc = dfmc.append( pd.DataFrame( {\"Município\":[cidade], \"Macrorregião\":[CoberturaVanguarda[cidade]]} ) )\n",
      "/tmp/ipykernel_46370/1851635429.py:5: FutureWarning: The frame.append method is deprecated and will be removed from pandas in a future version. Use pandas.concat instead.\n",
      "  dfmc = dfmc.append( pd.DataFrame( {\"Município\":[cidade], \"Macrorregião\":[CoberturaVanguarda[cidade]]} ) )\n",
      "/tmp/ipykernel_46370/1851635429.py:5: FutureWarning: The frame.append method is deprecated and will be removed from pandas in a future version. Use pandas.concat instead.\n",
      "  dfmc = dfmc.append( pd.DataFrame( {\"Município\":[cidade], \"Macrorregião\":[CoberturaVanguarda[cidade]]} ) )\n",
      "/tmp/ipykernel_46370/1851635429.py:5: FutureWarning: The frame.append method is deprecated and will be removed from pandas in a future version. Use pandas.concat instead.\n",
      "  dfmc = dfmc.append( pd.DataFrame( {\"Município\":[cidade], \"Macrorregião\":[CoberturaVanguarda[cidade]]} ) )\n",
      "/tmp/ipykernel_46370/1851635429.py:5: FutureWarning: The frame.append method is deprecated and will be removed from pandas in a future version. Use pandas.concat instead.\n",
      "  dfmc = dfmc.append( pd.DataFrame( {\"Município\":[cidade], \"Macrorregião\":[CoberturaVanguarda[cidade]]} ) )\n",
      "/tmp/ipykernel_46370/1851635429.py:5: FutureWarning: The frame.append method is deprecated and will be removed from pandas in a future version. Use pandas.concat instead.\n",
      "  dfmc = dfmc.append( pd.DataFrame( {\"Município\":[cidade], \"Macrorregião\":[CoberturaVanguarda[cidade]]} ) )\n",
      "/tmp/ipykernel_46370/1851635429.py:5: FutureWarning: The frame.append method is deprecated and will be removed from pandas in a future version. Use pandas.concat instead.\n",
      "  dfmc = dfmc.append( pd.DataFrame( {\"Município\":[cidade], \"Macrorregião\":[CoberturaVanguarda[cidade]]} ) )\n",
      "/tmp/ipykernel_46370/1851635429.py:5: FutureWarning: The frame.append method is deprecated and will be removed from pandas in a future version. Use pandas.concat instead.\n",
      "  dfmc = dfmc.append( pd.DataFrame( {\"Município\":[cidade], \"Macrorregião\":[CoberturaVanguarda[cidade]]} ) )\n",
      "/tmp/ipykernel_46370/1851635429.py:5: FutureWarning: The frame.append method is deprecated and will be removed from pandas in a future version. Use pandas.concat instead.\n",
      "  dfmc = dfmc.append( pd.DataFrame( {\"Município\":[cidade], \"Macrorregião\":[CoberturaVanguarda[cidade]]} ) )\n",
      "/tmp/ipykernel_46370/1851635429.py:5: FutureWarning: The frame.append method is deprecated and will be removed from pandas in a future version. Use pandas.concat instead.\n",
      "  dfmc = dfmc.append( pd.DataFrame( {\"Município\":[cidade], \"Macrorregião\":[CoberturaVanguarda[cidade]]} ) )\n",
      "/tmp/ipykernel_46370/1851635429.py:5: FutureWarning: The frame.append method is deprecated and will be removed from pandas in a future version. Use pandas.concat instead.\n",
      "  dfmc = dfmc.append( pd.DataFrame( {\"Município\":[cidade], \"Macrorregião\":[CoberturaVanguarda[cidade]]} ) )\n",
      "/tmp/ipykernel_46370/1851635429.py:5: FutureWarning: The frame.append method is deprecated and will be removed from pandas in a future version. Use pandas.concat instead.\n",
      "  dfmc = dfmc.append( pd.DataFrame( {\"Município\":[cidade], \"Macrorregião\":[CoberturaVanguarda[cidade]]} ) )\n",
      "/tmp/ipykernel_46370/1851635429.py:5: FutureWarning: The frame.append method is deprecated and will be removed from pandas in a future version. Use pandas.concat instead.\n",
      "  dfmc = dfmc.append( pd.DataFrame( {\"Município\":[cidade], \"Macrorregião\":[CoberturaVanguarda[cidade]]} ) )\n"
     ]
    },
    {
     "name": "stderr",
     "output_type": "stream",
     "text": [
      "/tmp/ipykernel_46370/1851635429.py:5: FutureWarning: The frame.append method is deprecated and will be removed from pandas in a future version. Use pandas.concat instead.\n",
      "  dfmc = dfmc.append( pd.DataFrame( {\"Município\":[cidade], \"Macrorregião\":[CoberturaVanguarda[cidade]]} ) )\n",
      "/tmp/ipykernel_46370/1851635429.py:5: FutureWarning: The frame.append method is deprecated and will be removed from pandas in a future version. Use pandas.concat instead.\n",
      "  dfmc = dfmc.append( pd.DataFrame( {\"Município\":[cidade], \"Macrorregião\":[CoberturaVanguarda[cidade]]} ) )\n",
      "/tmp/ipykernel_46370/1851635429.py:5: FutureWarning: The frame.append method is deprecated and will be removed from pandas in a future version. Use pandas.concat instead.\n",
      "  dfmc = dfmc.append( pd.DataFrame( {\"Município\":[cidade], \"Macrorregião\":[CoberturaVanguarda[cidade]]} ) )\n"
     ]
    }
   ],
   "source": [
    "# Criando um DataFrame \"dfmc\" de macrorregiões e cidades a partir do dicionário\n",
    "dfmc = pd.DataFrame(columns=[\"Município\", \"Macrorregião\"])\n",
    "\n",
    "for cidade in CoberturaVanguarda.keys():\n",
    "    dfmc = dfmc.append( pd.DataFrame( {\"Município\":[cidade], \"Macrorregião\":[CoberturaVanguarda[cidade]]} ) )\n"
   ]
  },
  {
   "cell_type": "code",
   "execution_count": 18,
   "id": "aba12231",
   "metadata": {},
   "outputs": [],
   "source": [
    "# Filtrando cidades e separando-as em macrorregiões de cobertura da TV Vanguarda\n",
    "\n",
    "df_paraiba = df_sp.loc[df_sp['Localidade'].isin(dfmc.query('Macrorregião == \"VALE DO PARAÍBA\"').Município.values)]"
   ]
  },
  {
   "cell_type": "code",
   "execution_count": 19,
   "id": "f6162dd5",
   "metadata": {},
   "outputs": [],
   "source": [
    "# Média de salários mensais, por macrorregiões e cidades da cobertura da TV Vanguarda\n",
    "paraiba = []\n",
    "\n",
    "for n in list( range(2008, 2019) ):\n",
    "\n",
    "    paraiba.append( df_paraiba[str(n)].mean() )"
   ]
  },
  {
   "cell_type": "code",
   "execution_count": 20,
   "id": "2fc67e13",
   "metadata": {},
   "outputs": [],
   "source": [
    "# Formatando um DataFrame para média de salários mensais com uma casa decimal\n",
    "\n",
    "df_vanguarda_paraiba = pd.DataFrame({'Localidade':[\"Vale do Paraiba\"],'2008':[round(paraiba[0], 1)], \n",
    "                           '2009':[round(paraiba[1],1)],'2010':[round(paraiba[2],1)], '2011':[round(paraiba[3],1)],\n",
    "                           '2012':[round(paraiba[4],1)],'2013':[round(paraiba[5],1)],'2014':[round(paraiba[6],1)], \n",
    "                           '2015':[round(paraiba[7],1)],'2016':[round(paraiba[8],1)], '2017':[round(paraiba[9],1)],\n",
    "                           '2018':[round(paraiba[10],1)]})"
   ]
  },
  {
   "cell_type": "code",
   "execution_count": 21,
   "id": "50c1345d",
   "metadata": {},
   "outputs": [
    {
     "ename": "NameError",
     "evalue": "name 'comparar_cidade1' is not defined",
     "output_type": "error",
     "traceback": [
      "\u001b[0;31m---------------------------------------------------------------------------\u001b[0m",
      "\u001b[0;31mNameError\u001b[0m                                 Traceback (most recent call last)",
      "Input \u001b[0;32mIn [21]\u001b[0m, in \u001b[0;36m<cell line: 2>\u001b[0;34m()\u001b[0m\n\u001b[1;32m      1\u001b[0m \u001b[38;5;66;03m# Preparando dados para plotar nos gráficos\u001b[39;00m\n\u001b[0;32m----> 2\u001b[0m frames \u001b[38;5;241m=\u001b[39m [\u001b[43mcomparar_cidade1\u001b[49m]\n\u001b[1;32m      3\u001b[0m comparacao \u001b[38;5;241m=\u001b[39m pd\u001b[38;5;241m.\u001b[39mconcat(frames)\u001b[38;5;241m.\u001b[39mreset_index()\n\u001b[1;32m      4\u001b[0m \u001b[38;5;28;01mdel\u001b[39;00m comparacao[\u001b[38;5;124m'\u001b[39m\u001b[38;5;124mindex\u001b[39m\u001b[38;5;124m'\u001b[39m]\n",
      "\u001b[0;31mNameError\u001b[0m: name 'comparar_cidade1' is not defined"
     ]
    }
   ],
   "source": [
    "# Preparando dados para plotar nos gráficos\n",
    "frames = [comparar_cidade1]\n",
    "comparacao = pd.concat(frames).reset_index()\n",
    "del comparacao['index']\n",
    "\n",
    "frames1 = [df_vanguarda_paraiba]\n",
    "comparacao_regioes = pd.concat(frames1).reset_index()\n",
    "del comparacao_regioes['index']\n",
    "\n",
    "frames2 = [comparacao_regioes, comparar_cidade1]\n",
    "comparacao_cidades = pd.concat(frames2).reset_index()\n",
    "del comparacao_cidades['index']"
   ]
  },
  {
   "cell_type": "code",
   "execution_count": 22,
   "id": "9f2615fd",
   "metadata": {},
   "outputs": [
    {
     "ename": "TypeError",
     "evalue": "'presidente_candidatos' is an invalid keyword argument for print()",
     "output_type": "error",
     "traceback": [
      "\u001b[0;31m---------------------------------------------------------------------------\u001b[0m",
      "\u001b[0;31mTypeError\u001b[0m                                 Traceback (most recent call last)",
      "Input \u001b[0;32mIn [22]\u001b[0m, in \u001b[0;36m<cell line: 8>\u001b[0;34m()\u001b[0m\n\u001b[1;32m      6\u001b[0m \u001b[38;5;28;01melif\u001b[39;00m eleicao_ano \u001b[38;5;241m==\u001b[39m \u001b[38;5;241m2020\u001b[39m \u001b[38;5;129;01mor\u001b[39;00m eleicao_ano \u001b[38;5;241m==\u001b[39m \u001b[38;5;241m2024\u001b[39m \u001b[38;5;129;01mor\u001b[39;00m eleicao_ano \u001b[38;5;241m==\u001b[39m \u001b[38;5;241m2028\u001b[39m:\n\u001b[1;32m      7\u001b[0m     prefeito_candidatos \u001b[38;5;241m=\u001b[39m dfc\u001b[38;5;241m.\u001b[39mquery(\u001b[38;5;124mf\u001b[39m\u001b[38;5;124m'\u001b[39m\u001b[38;5;124mNM_UE == \u001b[39m\u001b[38;5;124m\"\u001b[39m\u001b[38;5;132;01m{\u001b[39;00mmunicipio1\u001b[38;5;241m.\u001b[39mupper()\u001b[38;5;132;01m}\u001b[39;00m\u001b[38;5;124m\"\u001b[39m\u001b[38;5;124m and DS_CARGO == \u001b[39m\u001b[38;5;124m\"\u001b[39m\u001b[38;5;124mPREFEITO\u001b[39m\u001b[38;5;124m\"\u001b[39m\u001b[38;5;124m and DS_SIT_TOT_TURNO == \u001b[39m\u001b[38;5;124m\"\u001b[39m\u001b[38;5;124mELEITO\u001b[39m\u001b[38;5;124m\"\u001b[39m\u001b[38;5;124m'\u001b[39m)\n\u001b[0;32m----> 8\u001b[0m \u001b[38;5;28;43mprint\u001b[39;49m\u001b[43m \u001b[49m\u001b[43m(\u001b[49m\u001b[43mpresidente_candidatos\u001b[49m\u001b[43m \u001b[49m\u001b[38;5;241;43m=\u001b[39;49m\u001b[43m \u001b[49m\u001b[43mdfc\u001b[49m\u001b[38;5;241;43m.\u001b[39;49m\u001b[43mquery\u001b[49m\u001b[43m(\u001b[49m\u001b[38;5;124;43m'\u001b[39;49m\u001b[38;5;124;43mNM_UE == \u001b[39;49m\u001b[38;5;124;43m\"\u001b[39;49m\u001b[38;5;124;43mBRASIL\u001b[39;49m\u001b[38;5;124;43m\"\u001b[39;49m\u001b[38;5;124;43m and DS_CARGO == \u001b[39;49m\u001b[38;5;124;43m\"\u001b[39;49m\u001b[38;5;124;43mPRESIDENTE\u001b[39;49m\u001b[38;5;124;43m\"\u001b[39;49m\u001b[38;5;124;43m and DS_SIT_TOT_TURNO == \u001b[39;49m\u001b[38;5;124;43m\"\u001b[39;49m\u001b[38;5;124;43mELEITO\u001b[39;49m\u001b[38;5;124;43m\"\u001b[39;49m\u001b[38;5;124;43m'\u001b[39;49m\u001b[43m)\u001b[49m\u001b[43m)\u001b[49m\n",
      "\u001b[0;31mTypeError\u001b[0m: 'presidente_candidatos' is an invalid keyword argument for print()"
     ]
    }
   ],
   "source": [
    "# Carrega apenas os dados de candidatos do ano da eleição escolhida pelo usuário\n",
    "if eleicao_ano == 2018 or eleicao_ano == 2022 or eleicao_ano == 2026:\n",
    "    presidente_candidatos = dfc.query('NM_UE == \"BRASIL\" and DS_CARGO == \"PRESIDENTE\" and DS_SIT_TOT_TURNO == \"ELEITO\"')\n",
    "    governador_candidatos = dfc.query('NM_UE == \"SÃO PAULO\" and DS_CARGO == \"GOVERNADOR\" and DS_SIT_TOT_TURNO == \"ELEITO\"')\n",
    "\n",
    "elif eleicao_ano == 2020 or eleicao_ano == 2024 or eleicao_ano == 2028:\n",
    "    prefeito_candidatos = dfc.query(f'NM_UE == \"{municipio1.upper()}\" and DS_CARGO == \"PREFEITO\" and DS_SIT_TOT_TURNO == \"ELEITO\"')\n",
    "print (presidente_candidatos = dfc.query('NM_UE == \"BRASIL\" and DS_CARGO == \"PRESIDENTE\" and DS_SIT_TOT_TURNO == \"ELEITO\"'))"
   ]
  },
  {
   "cell_type": "code",
   "execution_count": 23,
   "id": "94a0447c",
   "metadata": {},
   "outputs": [],
   "source": [
    "# Filtra o cargo em função do ano da eleição escolhida pelo usuário\n",
    "if eleicao_ano == 2018 or eleicao_ano == 2022 or eleicao_ano == 2026:\n",
    "    presidente_eleito = presidente_candidatos['NM_CANDIDATO'].iloc[0]\n",
    "    presidente_eleito_partido = presidente_candidatos['SG_PARTIDO'].iloc[0]\n",
    "    presidente_eleito_turno = presidente_candidatos['NR_TURNO'].iloc[0]\n",
    "    governador_eleito = governador_candidatos['NM_CANDIDATO'].iloc[0]\n",
    "    governador_eleito_partido = governador_candidatos['SG_PARTIDO'].iloc[0]\n",
    "    governador_eleito_turno = governador_candidatos['NR_TURNO'].iloc[0]\n",
    "\n",
    "elif eleicao_ano == 2020 or eleicao_ano == 2024 or eleicao_ano == 2028:\n",
    "    prefeito_eleito = prefeito_candidatos['NM_CANDIDATO'].iloc[0]\n",
    "    prefeito_eleito_partido = prefeito_candidatos['SG_PARTIDO'].iloc[0]\n",
    "    prefeito_eleito_turno = prefeito_candidatos['NR_TURNO'].iloc[0]"
   ]
  },
  {
   "cell_type": "code",
   "execution_count": 24,
   "id": "c6a7968d",
   "metadata": {},
   "outputs": [],
   "source": [
    "# Filtrando, pela estado de SP:\n",
    "elei2014 = eleitorado2014.loc[eleitorado2014['SG_UF']=='SP']\n",
    "elei2016 = eleitorado2016.loc[eleitorado2016['SG_UF']=='SP']\n",
    "elei2018 = eleitorado2018.loc[eleitorado2018['SG_UF']=='SP']\n",
    "elei2020 = eleitorado2020.loc[eleitorado2020['SG_UF']=='SP']\n",
    "if eleicao_ano == 2022:\n",
    "    elei2022 = eleitorado2022.loc[eleitorado2022['SG_UF']=='SP']\n",
    "elif eleicao_ano == 2024:\n",
    "    elei2022 = eleitorado2022.loc[eleitorado2022['SG_UF']=='SP']\n",
    "    elei2024 = eleitorado2024.loc[eleitorado2024['SG_UF']=='SP']"
   ]
  },
  {
   "cell_type": "code",
   "execution_count": 25,
   "id": "ec75a265",
   "metadata": {},
   "outputs": [],
   "source": [
    "# Filtrando novamente, dessa vez, pela cidade escolhida no input:\n",
    "elei2014cidade = elei2014.loc[elei2014['NM_MUNICIPIO']== municipio1]\n",
    "elei2016cidade = elei2016.loc[elei2016['NM_MUNICIPIO']== municipio1]\n",
    "elei2018cidade = elei2018.loc[elei2018['NM_MUNICIPIO']== municipio1]\n",
    "elei2020cidade = elei2020.loc[elei2020['NM_MUNICIPIO']== municipio1]\n",
    "if eleicao_ano == 2022:\n",
    "    elei2022cidade = elei2022.loc[elei2022['NM_MUNICIPIO']== municipio1]\n",
    "elif eleicao_ano == 2024:\n",
    "    elei2022cidade = elei2022.loc[elei2022['NM_MUNICIPIO']== municipio1]\n",
    "    elei2024cidade = elei2024.loc[elei2024['NM_MUNICIPIO']== municipio1]\n"
   ]
  },
  {
   "cell_type": "code",
   "execution_count": 26,
   "id": "1bf52c0f",
   "metadata": {},
   "outputs": [],
   "source": [
    "# Juntando os csv de cada ano em um csv apenas:\n",
    "quantitativoTotal = elei2014cidade.merge(elei2016cidade, how='outer').merge(elei2018cidade, how='outer').merge(elei2020cidade, how='outer')\n",
    "if eleicao_ano == 2022:\n",
    "    quantitativoTotal = quantitativoTotal.merge(elei2022cidade, how='outer')\n",
    "    \n",
    "elif eleicao_ano == 2024:\n",
    "    quantitativoTotal = quantitativoTotal.merge(elei2022cidade, how='outer')\n",
    "    quantitativoTotal = quantitativoTotal.merge(elei2022cidade, how='outer').merge(elei2024cidade, how='outer')"
   ]
  },
  {
   "cell_type": "code",
   "execution_count": 27,
   "id": "5b5dc004",
   "metadata": {},
   "outputs": [],
   "source": [
    "# Filtro por macrorregiões da cobertura da TV Vanguarda:\n",
    "cobertura_vanguarda = dfmc.Município.values\n",
    "vale_do_paraiba = dfmc.query('Macrorregião == \"VALE DO PARAÍBA\"').Município.values"
   ]
  },
  {
   "cell_type": "code",
   "execution_count": 28,
   "id": "53efe093",
   "metadata": {},
   "outputs": [],
   "source": [
    "# Criando DataFrames acumuladores para receberem os dados de cada região:\n",
    "valep2014 = elei2014.loc[elei2014['NM_MUNICIPIO']== tuple(vale_do_paraiba)]\n",
    "valep2016 = elei2016.loc[elei2016['NM_MUNICIPIO']== tuple(vale_do_paraiba)]\n",
    "valep2018 = elei2018.loc[elei2018['NM_MUNICIPIO']== tuple(vale_do_paraiba)]\n",
    "valep2020 = elei2020.loc[elei2020['NM_MUNICIPIO']== tuple(vale_do_paraiba)]\n",
    "\n",
    "if eleicao_ano == 2022:\n",
    "    \n",
    "    valep2022 = elei2022.loc[elei2022['NM_MUNICIPIO']== tuple(vale_do_paraiba)]\n",
    "        \n",
    "elif eleicao_ano == 2024:\n",
    "    valep2022 = elei2022.loc[elei2022['NM_MUNICIPIO']== tuple(vale_do_paraiba)]\n",
    "    valep2024 = elei2024.loc[elei2024['NM_MUNICIPIO']== tuple(vale_do_paraiba)]"
   ]
  },
  {
   "cell_type": "code",
   "execution_count": 29,
   "id": "42fbb985",
   "metadata": {},
   "outputs": [
    {
     "name": "stderr",
     "output_type": "stream",
     "text": [
      "/tmp/ipykernel_46370/2681594589.py:3: FutureWarning: The frame.append method is deprecated and will be removed from pandas in a future version. Use pandas.concat instead.\n",
      "  for x in vale_do_paraiba: valep2014 = valep2014.append(elei2014.loc[elei2014['NM_MUNICIPIO']== x] )\n",
      "/tmp/ipykernel_46370/2681594589.py:3: FutureWarning: The frame.append method is deprecated and will be removed from pandas in a future version. Use pandas.concat instead.\n",
      "  for x in vale_do_paraiba: valep2014 = valep2014.append(elei2014.loc[elei2014['NM_MUNICIPIO']== x] )\n",
      "/tmp/ipykernel_46370/2681594589.py:3: FutureWarning: The frame.append method is deprecated and will be removed from pandas in a future version. Use pandas.concat instead.\n",
      "  for x in vale_do_paraiba: valep2014 = valep2014.append(elei2014.loc[elei2014['NM_MUNICIPIO']== x] )\n",
      "/tmp/ipykernel_46370/2681594589.py:3: FutureWarning: The frame.append method is deprecated and will be removed from pandas in a future version. Use pandas.concat instead.\n",
      "  for x in vale_do_paraiba: valep2014 = valep2014.append(elei2014.loc[elei2014['NM_MUNICIPIO']== x] )\n",
      "/tmp/ipykernel_46370/2681594589.py:3: FutureWarning: The frame.append method is deprecated and will be removed from pandas in a future version. Use pandas.concat instead.\n",
      "  for x in vale_do_paraiba: valep2014 = valep2014.append(elei2014.loc[elei2014['NM_MUNICIPIO']== x] )\n",
      "/tmp/ipykernel_46370/2681594589.py:3: FutureWarning: The frame.append method is deprecated and will be removed from pandas in a future version. Use pandas.concat instead.\n",
      "  for x in vale_do_paraiba: valep2014 = valep2014.append(elei2014.loc[elei2014['NM_MUNICIPIO']== x] )\n",
      "/tmp/ipykernel_46370/2681594589.py:3: FutureWarning: The frame.append method is deprecated and will be removed from pandas in a future version. Use pandas.concat instead.\n",
      "  for x in vale_do_paraiba: valep2014 = valep2014.append(elei2014.loc[elei2014['NM_MUNICIPIO']== x] )\n",
      "/tmp/ipykernel_46370/2681594589.py:3: FutureWarning: The frame.append method is deprecated and will be removed from pandas in a future version. Use pandas.concat instead.\n",
      "  for x in vale_do_paraiba: valep2014 = valep2014.append(elei2014.loc[elei2014['NM_MUNICIPIO']== x] )\n",
      "/tmp/ipykernel_46370/2681594589.py:3: FutureWarning: The frame.append method is deprecated and will be removed from pandas in a future version. Use pandas.concat instead.\n",
      "  for x in vale_do_paraiba: valep2014 = valep2014.append(elei2014.loc[elei2014['NM_MUNICIPIO']== x] )\n",
      "/tmp/ipykernel_46370/2681594589.py:3: FutureWarning: The frame.append method is deprecated and will be removed from pandas in a future version. Use pandas.concat instead.\n",
      "  for x in vale_do_paraiba: valep2014 = valep2014.append(elei2014.loc[elei2014['NM_MUNICIPIO']== x] )\n",
      "/tmp/ipykernel_46370/2681594589.py:3: FutureWarning: The frame.append method is deprecated and will be removed from pandas in a future version. Use pandas.concat instead.\n",
      "  for x in vale_do_paraiba: valep2014 = valep2014.append(elei2014.loc[elei2014['NM_MUNICIPIO']== x] )\n",
      "/tmp/ipykernel_46370/2681594589.py:3: FutureWarning: The frame.append method is deprecated and will be removed from pandas in a future version. Use pandas.concat instead.\n",
      "  for x in vale_do_paraiba: valep2014 = valep2014.append(elei2014.loc[elei2014['NM_MUNICIPIO']== x] )\n",
      "/tmp/ipykernel_46370/2681594589.py:3: FutureWarning: The frame.append method is deprecated and will be removed from pandas in a future version. Use pandas.concat instead.\n",
      "  for x in vale_do_paraiba: valep2014 = valep2014.append(elei2014.loc[elei2014['NM_MUNICIPIO']== x] )\n",
      "/tmp/ipykernel_46370/2681594589.py:3: FutureWarning: The frame.append method is deprecated and will be removed from pandas in a future version. Use pandas.concat instead.\n",
      "  for x in vale_do_paraiba: valep2014 = valep2014.append(elei2014.loc[elei2014['NM_MUNICIPIO']== x] )\n",
      "/tmp/ipykernel_46370/2681594589.py:3: FutureWarning: The frame.append method is deprecated and will be removed from pandas in a future version. Use pandas.concat instead.\n",
      "  for x in vale_do_paraiba: valep2014 = valep2014.append(elei2014.loc[elei2014['NM_MUNICIPIO']== x] )\n",
      "/tmp/ipykernel_46370/2681594589.py:3: FutureWarning: The frame.append method is deprecated and will be removed from pandas in a future version. Use pandas.concat instead.\n",
      "  for x in vale_do_paraiba: valep2014 = valep2014.append(elei2014.loc[elei2014['NM_MUNICIPIO']== x] )\n",
      "/tmp/ipykernel_46370/2681594589.py:3: FutureWarning: The frame.append method is deprecated and will be removed from pandas in a future version. Use pandas.concat instead.\n",
      "  for x in vale_do_paraiba: valep2014 = valep2014.append(elei2014.loc[elei2014['NM_MUNICIPIO']== x] )\n",
      "/tmp/ipykernel_46370/2681594589.py:3: FutureWarning: The frame.append method is deprecated and will be removed from pandas in a future version. Use pandas.concat instead.\n",
      "  for x in vale_do_paraiba: valep2014 = valep2014.append(elei2014.loc[elei2014['NM_MUNICIPIO']== x] )\n",
      "/tmp/ipykernel_46370/2681594589.py:3: FutureWarning: The frame.append method is deprecated and will be removed from pandas in a future version. Use pandas.concat instead.\n",
      "  for x in vale_do_paraiba: valep2014 = valep2014.append(elei2014.loc[elei2014['NM_MUNICIPIO']== x] )\n",
      "/tmp/ipykernel_46370/2681594589.py:3: FutureWarning: The frame.append method is deprecated and will be removed from pandas in a future version. Use pandas.concat instead.\n",
      "  for x in vale_do_paraiba: valep2014 = valep2014.append(elei2014.loc[elei2014['NM_MUNICIPIO']== x] )\n",
      "/tmp/ipykernel_46370/2681594589.py:3: FutureWarning: The frame.append method is deprecated and will be removed from pandas in a future version. Use pandas.concat instead.\n",
      "  for x in vale_do_paraiba: valep2014 = valep2014.append(elei2014.loc[elei2014['NM_MUNICIPIO']== x] )\n",
      "/tmp/ipykernel_46370/2681594589.py:3: FutureWarning: The frame.append method is deprecated and will be removed from pandas in a future version. Use pandas.concat instead.\n",
      "  for x in vale_do_paraiba: valep2014 = valep2014.append(elei2014.loc[elei2014['NM_MUNICIPIO']== x] )\n",
      "/tmp/ipykernel_46370/2681594589.py:3: FutureWarning: The frame.append method is deprecated and will be removed from pandas in a future version. Use pandas.concat instead.\n",
      "  for x in vale_do_paraiba: valep2014 = valep2014.append(elei2014.loc[elei2014['NM_MUNICIPIO']== x] )\n",
      "/tmp/ipykernel_46370/2681594589.py:4: FutureWarning: The frame.append method is deprecated and will be removed from pandas in a future version. Use pandas.concat instead.\n",
      "  for x in vale_do_paraiba: valep2016 = valep2016.append(elei2016.loc[elei2016['NM_MUNICIPIO']== x] )\n",
      "/tmp/ipykernel_46370/2681594589.py:4: FutureWarning: The frame.append method is deprecated and will be removed from pandas in a future version. Use pandas.concat instead.\n",
      "  for x in vale_do_paraiba: valep2016 = valep2016.append(elei2016.loc[elei2016['NM_MUNICIPIO']== x] )\n",
      "/tmp/ipykernel_46370/2681594589.py:4: FutureWarning: The frame.append method is deprecated and will be removed from pandas in a future version. Use pandas.concat instead.\n",
      "  for x in vale_do_paraiba: valep2016 = valep2016.append(elei2016.loc[elei2016['NM_MUNICIPIO']== x] )\n",
      "/tmp/ipykernel_46370/2681594589.py:4: FutureWarning: The frame.append method is deprecated and will be removed from pandas in a future version. Use pandas.concat instead.\n",
      "  for x in vale_do_paraiba: valep2016 = valep2016.append(elei2016.loc[elei2016['NM_MUNICIPIO']== x] )\n",
      "/tmp/ipykernel_46370/2681594589.py:4: FutureWarning: The frame.append method is deprecated and will be removed from pandas in a future version. Use pandas.concat instead.\n",
      "  for x in vale_do_paraiba: valep2016 = valep2016.append(elei2016.loc[elei2016['NM_MUNICIPIO']== x] )\n",
      "/tmp/ipykernel_46370/2681594589.py:4: FutureWarning: The frame.append method is deprecated and will be removed from pandas in a future version. Use pandas.concat instead.\n",
      "  for x in vale_do_paraiba: valep2016 = valep2016.append(elei2016.loc[elei2016['NM_MUNICIPIO']== x] )\n",
      "/tmp/ipykernel_46370/2681594589.py:4: FutureWarning: The frame.append method is deprecated and will be removed from pandas in a future version. Use pandas.concat instead.\n",
      "  for x in vale_do_paraiba: valep2016 = valep2016.append(elei2016.loc[elei2016['NM_MUNICIPIO']== x] )\n",
      "/tmp/ipykernel_46370/2681594589.py:4: FutureWarning: The frame.append method is deprecated and will be removed from pandas in a future version. Use pandas.concat instead.\n",
      "  for x in vale_do_paraiba: valep2016 = valep2016.append(elei2016.loc[elei2016['NM_MUNICIPIO']== x] )\n",
      "/tmp/ipykernel_46370/2681594589.py:4: FutureWarning: The frame.append method is deprecated and will be removed from pandas in a future version. Use pandas.concat instead.\n",
      "  for x in vale_do_paraiba: valep2016 = valep2016.append(elei2016.loc[elei2016['NM_MUNICIPIO']== x] )\n",
      "/tmp/ipykernel_46370/2681594589.py:4: FutureWarning: The frame.append method is deprecated and will be removed from pandas in a future version. Use pandas.concat instead.\n",
      "  for x in vale_do_paraiba: valep2016 = valep2016.append(elei2016.loc[elei2016['NM_MUNICIPIO']== x] )\n",
      "/tmp/ipykernel_46370/2681594589.py:4: FutureWarning: The frame.append method is deprecated and will be removed from pandas in a future version. Use pandas.concat instead.\n",
      "  for x in vale_do_paraiba: valep2016 = valep2016.append(elei2016.loc[elei2016['NM_MUNICIPIO']== x] )\n",
      "/tmp/ipykernel_46370/2681594589.py:4: FutureWarning: The frame.append method is deprecated and will be removed from pandas in a future version. Use pandas.concat instead.\n",
      "  for x in vale_do_paraiba: valep2016 = valep2016.append(elei2016.loc[elei2016['NM_MUNICIPIO']== x] )\n",
      "/tmp/ipykernel_46370/2681594589.py:4: FutureWarning: The frame.append method is deprecated and will be removed from pandas in a future version. Use pandas.concat instead.\n",
      "  for x in vale_do_paraiba: valep2016 = valep2016.append(elei2016.loc[elei2016['NM_MUNICIPIO']== x] )\n",
      "/tmp/ipykernel_46370/2681594589.py:4: FutureWarning: The frame.append method is deprecated and will be removed from pandas in a future version. Use pandas.concat instead.\n",
      "  for x in vale_do_paraiba: valep2016 = valep2016.append(elei2016.loc[elei2016['NM_MUNICIPIO']== x] )\n",
      "/tmp/ipykernel_46370/2681594589.py:4: FutureWarning: The frame.append method is deprecated and will be removed from pandas in a future version. Use pandas.concat instead.\n",
      "  for x in vale_do_paraiba: valep2016 = valep2016.append(elei2016.loc[elei2016['NM_MUNICIPIO']== x] )\n",
      "/tmp/ipykernel_46370/2681594589.py:4: FutureWarning: The frame.append method is deprecated and will be removed from pandas in a future version. Use pandas.concat instead.\n",
      "  for x in vale_do_paraiba: valep2016 = valep2016.append(elei2016.loc[elei2016['NM_MUNICIPIO']== x] )\n",
      "/tmp/ipykernel_46370/2681594589.py:4: FutureWarning: The frame.append method is deprecated and will be removed from pandas in a future version. Use pandas.concat instead.\n",
      "  for x in vale_do_paraiba: valep2016 = valep2016.append(elei2016.loc[elei2016['NM_MUNICIPIO']== x] )\n",
      "/tmp/ipykernel_46370/2681594589.py:4: FutureWarning: The frame.append method is deprecated and will be removed from pandas in a future version. Use pandas.concat instead.\n",
      "  for x in vale_do_paraiba: valep2016 = valep2016.append(elei2016.loc[elei2016['NM_MUNICIPIO']== x] )\n",
      "/tmp/ipykernel_46370/2681594589.py:4: FutureWarning: The frame.append method is deprecated and will be removed from pandas in a future version. Use pandas.concat instead.\n",
      "  for x in vale_do_paraiba: valep2016 = valep2016.append(elei2016.loc[elei2016['NM_MUNICIPIO']== x] )\n",
      "/tmp/ipykernel_46370/2681594589.py:4: FutureWarning: The frame.append method is deprecated and will be removed from pandas in a future version. Use pandas.concat instead.\n",
      "  for x in vale_do_paraiba: valep2016 = valep2016.append(elei2016.loc[elei2016['NM_MUNICIPIO']== x] )\n",
      "/tmp/ipykernel_46370/2681594589.py:4: FutureWarning: The frame.append method is deprecated and will be removed from pandas in a future version. Use pandas.concat instead.\n",
      "  for x in vale_do_paraiba: valep2016 = valep2016.append(elei2016.loc[elei2016['NM_MUNICIPIO']== x] )\n",
      "/tmp/ipykernel_46370/2681594589.py:4: FutureWarning: The frame.append method is deprecated and will be removed from pandas in a future version. Use pandas.concat instead.\n",
      "  for x in vale_do_paraiba: valep2016 = valep2016.append(elei2016.loc[elei2016['NM_MUNICIPIO']== x] )\n"
     ]
    },
    {
     "name": "stderr",
     "output_type": "stream",
     "text": [
      "/tmp/ipykernel_46370/2681594589.py:4: FutureWarning: The frame.append method is deprecated and will be removed from pandas in a future version. Use pandas.concat instead.\n",
      "  for x in vale_do_paraiba: valep2016 = valep2016.append(elei2016.loc[elei2016['NM_MUNICIPIO']== x] )\n",
      "/tmp/ipykernel_46370/2681594589.py:5: FutureWarning: The frame.append method is deprecated and will be removed from pandas in a future version. Use pandas.concat instead.\n",
      "  for x in vale_do_paraiba: valep2018 = valep2018.append(elei2018.loc[elei2018['NM_MUNICIPIO']== x] )\n",
      "/tmp/ipykernel_46370/2681594589.py:5: FutureWarning: The frame.append method is deprecated and will be removed from pandas in a future version. Use pandas.concat instead.\n",
      "  for x in vale_do_paraiba: valep2018 = valep2018.append(elei2018.loc[elei2018['NM_MUNICIPIO']== x] )\n",
      "/tmp/ipykernel_46370/2681594589.py:5: FutureWarning: The frame.append method is deprecated and will be removed from pandas in a future version. Use pandas.concat instead.\n",
      "  for x in vale_do_paraiba: valep2018 = valep2018.append(elei2018.loc[elei2018['NM_MUNICIPIO']== x] )\n",
      "/tmp/ipykernel_46370/2681594589.py:5: FutureWarning: The frame.append method is deprecated and will be removed from pandas in a future version. Use pandas.concat instead.\n",
      "  for x in vale_do_paraiba: valep2018 = valep2018.append(elei2018.loc[elei2018['NM_MUNICIPIO']== x] )\n",
      "/tmp/ipykernel_46370/2681594589.py:5: FutureWarning: The frame.append method is deprecated and will be removed from pandas in a future version. Use pandas.concat instead.\n",
      "  for x in vale_do_paraiba: valep2018 = valep2018.append(elei2018.loc[elei2018['NM_MUNICIPIO']== x] )\n",
      "/tmp/ipykernel_46370/2681594589.py:5: FutureWarning: The frame.append method is deprecated and will be removed from pandas in a future version. Use pandas.concat instead.\n",
      "  for x in vale_do_paraiba: valep2018 = valep2018.append(elei2018.loc[elei2018['NM_MUNICIPIO']== x] )\n",
      "/tmp/ipykernel_46370/2681594589.py:5: FutureWarning: The frame.append method is deprecated and will be removed from pandas in a future version. Use pandas.concat instead.\n",
      "  for x in vale_do_paraiba: valep2018 = valep2018.append(elei2018.loc[elei2018['NM_MUNICIPIO']== x] )\n",
      "/tmp/ipykernel_46370/2681594589.py:5: FutureWarning: The frame.append method is deprecated and will be removed from pandas in a future version. Use pandas.concat instead.\n",
      "  for x in vale_do_paraiba: valep2018 = valep2018.append(elei2018.loc[elei2018['NM_MUNICIPIO']== x] )\n",
      "/tmp/ipykernel_46370/2681594589.py:5: FutureWarning: The frame.append method is deprecated and will be removed from pandas in a future version. Use pandas.concat instead.\n",
      "  for x in vale_do_paraiba: valep2018 = valep2018.append(elei2018.loc[elei2018['NM_MUNICIPIO']== x] )\n",
      "/tmp/ipykernel_46370/2681594589.py:5: FutureWarning: The frame.append method is deprecated and will be removed from pandas in a future version. Use pandas.concat instead.\n",
      "  for x in vale_do_paraiba: valep2018 = valep2018.append(elei2018.loc[elei2018['NM_MUNICIPIO']== x] )\n",
      "/tmp/ipykernel_46370/2681594589.py:5: FutureWarning: The frame.append method is deprecated and will be removed from pandas in a future version. Use pandas.concat instead.\n",
      "  for x in vale_do_paraiba: valep2018 = valep2018.append(elei2018.loc[elei2018['NM_MUNICIPIO']== x] )\n",
      "/tmp/ipykernel_46370/2681594589.py:5: FutureWarning: The frame.append method is deprecated and will be removed from pandas in a future version. Use pandas.concat instead.\n",
      "  for x in vale_do_paraiba: valep2018 = valep2018.append(elei2018.loc[elei2018['NM_MUNICIPIO']== x] )\n",
      "/tmp/ipykernel_46370/2681594589.py:5: FutureWarning: The frame.append method is deprecated and will be removed from pandas in a future version. Use pandas.concat instead.\n",
      "  for x in vale_do_paraiba: valep2018 = valep2018.append(elei2018.loc[elei2018['NM_MUNICIPIO']== x] )\n",
      "/tmp/ipykernel_46370/2681594589.py:5: FutureWarning: The frame.append method is deprecated and will be removed from pandas in a future version. Use pandas.concat instead.\n",
      "  for x in vale_do_paraiba: valep2018 = valep2018.append(elei2018.loc[elei2018['NM_MUNICIPIO']== x] )\n",
      "/tmp/ipykernel_46370/2681594589.py:5: FutureWarning: The frame.append method is deprecated and will be removed from pandas in a future version. Use pandas.concat instead.\n",
      "  for x in vale_do_paraiba: valep2018 = valep2018.append(elei2018.loc[elei2018['NM_MUNICIPIO']== x] )\n",
      "/tmp/ipykernel_46370/2681594589.py:5: FutureWarning: The frame.append method is deprecated and will be removed from pandas in a future version. Use pandas.concat instead.\n",
      "  for x in vale_do_paraiba: valep2018 = valep2018.append(elei2018.loc[elei2018['NM_MUNICIPIO']== x] )\n",
      "/tmp/ipykernel_46370/2681594589.py:5: FutureWarning: The frame.append method is deprecated and will be removed from pandas in a future version. Use pandas.concat instead.\n",
      "  for x in vale_do_paraiba: valep2018 = valep2018.append(elei2018.loc[elei2018['NM_MUNICIPIO']== x] )\n",
      "/tmp/ipykernel_46370/2681594589.py:5: FutureWarning: The frame.append method is deprecated and will be removed from pandas in a future version. Use pandas.concat instead.\n",
      "  for x in vale_do_paraiba: valep2018 = valep2018.append(elei2018.loc[elei2018['NM_MUNICIPIO']== x] )\n",
      "/tmp/ipykernel_46370/2681594589.py:5: FutureWarning: The frame.append method is deprecated and will be removed from pandas in a future version. Use pandas.concat instead.\n",
      "  for x in vale_do_paraiba: valep2018 = valep2018.append(elei2018.loc[elei2018['NM_MUNICIPIO']== x] )\n",
      "/tmp/ipykernel_46370/2681594589.py:5: FutureWarning: The frame.append method is deprecated and will be removed from pandas in a future version. Use pandas.concat instead.\n",
      "  for x in vale_do_paraiba: valep2018 = valep2018.append(elei2018.loc[elei2018['NM_MUNICIPIO']== x] )\n",
      "/tmp/ipykernel_46370/2681594589.py:5: FutureWarning: The frame.append method is deprecated and will be removed from pandas in a future version. Use pandas.concat instead.\n",
      "  for x in vale_do_paraiba: valep2018 = valep2018.append(elei2018.loc[elei2018['NM_MUNICIPIO']== x] )\n",
      "/tmp/ipykernel_46370/2681594589.py:5: FutureWarning: The frame.append method is deprecated and will be removed from pandas in a future version. Use pandas.concat instead.\n",
      "  for x in vale_do_paraiba: valep2018 = valep2018.append(elei2018.loc[elei2018['NM_MUNICIPIO']== x] )\n",
      "/tmp/ipykernel_46370/2681594589.py:5: FutureWarning: The frame.append method is deprecated and will be removed from pandas in a future version. Use pandas.concat instead.\n",
      "  for x in vale_do_paraiba: valep2018 = valep2018.append(elei2018.loc[elei2018['NM_MUNICIPIO']== x] )\n",
      "/tmp/ipykernel_46370/2681594589.py:6: FutureWarning: The frame.append method is deprecated and will be removed from pandas in a future version. Use pandas.concat instead.\n",
      "  for x in vale_do_paraiba: valep2020 = valep2020.append(elei2020.loc[elei2020['NM_MUNICIPIO']== x] )\n",
      "/tmp/ipykernel_46370/2681594589.py:6: FutureWarning: The frame.append method is deprecated and will be removed from pandas in a future version. Use pandas.concat instead.\n",
      "  for x in vale_do_paraiba: valep2020 = valep2020.append(elei2020.loc[elei2020['NM_MUNICIPIO']== x] )\n",
      "/tmp/ipykernel_46370/2681594589.py:6: FutureWarning: The frame.append method is deprecated and will be removed from pandas in a future version. Use pandas.concat instead.\n",
      "  for x in vale_do_paraiba: valep2020 = valep2020.append(elei2020.loc[elei2020['NM_MUNICIPIO']== x] )\n",
      "/tmp/ipykernel_46370/2681594589.py:6: FutureWarning: The frame.append method is deprecated and will be removed from pandas in a future version. Use pandas.concat instead.\n",
      "  for x in vale_do_paraiba: valep2020 = valep2020.append(elei2020.loc[elei2020['NM_MUNICIPIO']== x] )\n",
      "/tmp/ipykernel_46370/2681594589.py:6: FutureWarning: The frame.append method is deprecated and will be removed from pandas in a future version. Use pandas.concat instead.\n",
      "  for x in vale_do_paraiba: valep2020 = valep2020.append(elei2020.loc[elei2020['NM_MUNICIPIO']== x] )\n",
      "/tmp/ipykernel_46370/2681594589.py:6: FutureWarning: The frame.append method is deprecated and will be removed from pandas in a future version. Use pandas.concat instead.\n",
      "  for x in vale_do_paraiba: valep2020 = valep2020.append(elei2020.loc[elei2020['NM_MUNICIPIO']== x] )\n",
      "/tmp/ipykernel_46370/2681594589.py:6: FutureWarning: The frame.append method is deprecated and will be removed from pandas in a future version. Use pandas.concat instead.\n",
      "  for x in vale_do_paraiba: valep2020 = valep2020.append(elei2020.loc[elei2020['NM_MUNICIPIO']== x] )\n",
      "/tmp/ipykernel_46370/2681594589.py:6: FutureWarning: The frame.append method is deprecated and will be removed from pandas in a future version. Use pandas.concat instead.\n",
      "  for x in vale_do_paraiba: valep2020 = valep2020.append(elei2020.loc[elei2020['NM_MUNICIPIO']== x] )\n",
      "/tmp/ipykernel_46370/2681594589.py:6: FutureWarning: The frame.append method is deprecated and will be removed from pandas in a future version. Use pandas.concat instead.\n",
      "  for x in vale_do_paraiba: valep2020 = valep2020.append(elei2020.loc[elei2020['NM_MUNICIPIO']== x] )\n",
      "/tmp/ipykernel_46370/2681594589.py:6: FutureWarning: The frame.append method is deprecated and will be removed from pandas in a future version. Use pandas.concat instead.\n",
      "  for x in vale_do_paraiba: valep2020 = valep2020.append(elei2020.loc[elei2020['NM_MUNICIPIO']== x] )\n",
      "/tmp/ipykernel_46370/2681594589.py:6: FutureWarning: The frame.append method is deprecated and will be removed from pandas in a future version. Use pandas.concat instead.\n",
      "  for x in vale_do_paraiba: valep2020 = valep2020.append(elei2020.loc[elei2020['NM_MUNICIPIO']== x] )\n",
      "/tmp/ipykernel_46370/2681594589.py:6: FutureWarning: The frame.append method is deprecated and will be removed from pandas in a future version. Use pandas.concat instead.\n",
      "  for x in vale_do_paraiba: valep2020 = valep2020.append(elei2020.loc[elei2020['NM_MUNICIPIO']== x] )\n",
      "/tmp/ipykernel_46370/2681594589.py:6: FutureWarning: The frame.append method is deprecated and will be removed from pandas in a future version. Use pandas.concat instead.\n",
      "  for x in vale_do_paraiba: valep2020 = valep2020.append(elei2020.loc[elei2020['NM_MUNICIPIO']== x] )\n",
      "/tmp/ipykernel_46370/2681594589.py:6: FutureWarning: The frame.append method is deprecated and will be removed from pandas in a future version. Use pandas.concat instead.\n",
      "  for x in vale_do_paraiba: valep2020 = valep2020.append(elei2020.loc[elei2020['NM_MUNICIPIO']== x] )\n",
      "/tmp/ipykernel_46370/2681594589.py:6: FutureWarning: The frame.append method is deprecated and will be removed from pandas in a future version. Use pandas.concat instead.\n",
      "  for x in vale_do_paraiba: valep2020 = valep2020.append(elei2020.loc[elei2020['NM_MUNICIPIO']== x] )\n",
      "/tmp/ipykernel_46370/2681594589.py:6: FutureWarning: The frame.append method is deprecated and will be removed from pandas in a future version. Use pandas.concat instead.\n",
      "  for x in vale_do_paraiba: valep2020 = valep2020.append(elei2020.loc[elei2020['NM_MUNICIPIO']== x] )\n"
     ]
    },
    {
     "name": "stderr",
     "output_type": "stream",
     "text": [
      "/tmp/ipykernel_46370/2681594589.py:6: FutureWarning: The frame.append method is deprecated and will be removed from pandas in a future version. Use pandas.concat instead.\n",
      "  for x in vale_do_paraiba: valep2020 = valep2020.append(elei2020.loc[elei2020['NM_MUNICIPIO']== x] )\n",
      "/tmp/ipykernel_46370/2681594589.py:6: FutureWarning: The frame.append method is deprecated and will be removed from pandas in a future version. Use pandas.concat instead.\n",
      "  for x in vale_do_paraiba: valep2020 = valep2020.append(elei2020.loc[elei2020['NM_MUNICIPIO']== x] )\n",
      "/tmp/ipykernel_46370/2681594589.py:6: FutureWarning: The frame.append method is deprecated and will be removed from pandas in a future version. Use pandas.concat instead.\n",
      "  for x in vale_do_paraiba: valep2020 = valep2020.append(elei2020.loc[elei2020['NM_MUNICIPIO']== x] )\n",
      "/tmp/ipykernel_46370/2681594589.py:6: FutureWarning: The frame.append method is deprecated and will be removed from pandas in a future version. Use pandas.concat instead.\n",
      "  for x in vale_do_paraiba: valep2020 = valep2020.append(elei2020.loc[elei2020['NM_MUNICIPIO']== x] )\n",
      "/tmp/ipykernel_46370/2681594589.py:6: FutureWarning: The frame.append method is deprecated and will be removed from pandas in a future version. Use pandas.concat instead.\n",
      "  for x in vale_do_paraiba: valep2020 = valep2020.append(elei2020.loc[elei2020['NM_MUNICIPIO']== x] )\n",
      "/tmp/ipykernel_46370/2681594589.py:6: FutureWarning: The frame.append method is deprecated and will be removed from pandas in a future version. Use pandas.concat instead.\n",
      "  for x in vale_do_paraiba: valep2020 = valep2020.append(elei2020.loc[elei2020['NM_MUNICIPIO']== x] )\n",
      "/tmp/ipykernel_46370/2681594589.py:6: FutureWarning: The frame.append method is deprecated and will be removed from pandas in a future version. Use pandas.concat instead.\n",
      "  for x in vale_do_paraiba: valep2020 = valep2020.append(elei2020.loc[elei2020['NM_MUNICIPIO']== x] )\n"
     ]
    }
   ],
   "source": [
    "# Preenchendo os DataFrames acumuladores com dados de cada região:\n",
    "\n",
    "for x in vale_do_paraiba: valep2014 = valep2014.append(elei2014.loc[elei2014['NM_MUNICIPIO']== x] )\n",
    "for x in vale_do_paraiba: valep2016 = valep2016.append(elei2016.loc[elei2016['NM_MUNICIPIO']== x] )\n",
    "for x in vale_do_paraiba: valep2018 = valep2018.append(elei2018.loc[elei2018['NM_MUNICIPIO']== x] )\n",
    "for x in vale_do_paraiba: valep2020 = valep2020.append(elei2020.loc[elei2020['NM_MUNICIPIO']== x] )\n",
    "if eleicao_ano == 2022:\n",
    "   \n",
    "    for x in vale_do_paraiba: valep2022 = valep2022.append(elei2022.loc[elei2022['NM_MUNICIPIO']== x] )\n",
    "   \n",
    "elif eleicao_ano == 2024:\n",
    "   \n",
    "    for x in vale_do_paraiba: valep2022 = valep2022.append(elei2022.loc[elei2022['NM_MUNICIPIO']== x] )  \n",
    "   \n",
    "    for x in vale_do_paraiba: valep2024 = valep2024.append(elei2024.loc[elei2024['NM_MUNICIPIO']== x] )\n",
    "    "
   ]
  },
  {
   "cell_type": "code",
   "execution_count": 30,
   "id": "66055326",
   "metadata": {},
   "outputs": [],
   "source": [
    "# Criando um novo DataFrame para cada macrorregião, a partir da soma do eleitorado de cada respectiva cidade:\n",
    "# Cada dicionário abaixo representa o total de eleitores da determinada região:\n",
    "dados_valep = [ [\"2014\",\"VALE DO PARAÍBA\",int(valep2014[['QTD_ELEITORES']].sum(axis=0))],\n",
    "                [\"2016\",\"VALE DO PARAÍBA\",int(valep2016[['QTD_ELEITORES']].sum(axis=0))],\n",
    "                [\"2018\",\"VALE DO PARAÍBA\",int(valep2018[['QTD_ELEITORES']].sum(axis=0))],\n",
    "                [\"2020\",\"VALE DO PARAÍBA\",int(valep2020[['QTD_ELEITORES']].sum(axis=0))] ]"
   ]
  },
  {
   "cell_type": "code",
   "execution_count": 31,
   "id": "23ae440e",
   "metadata": {},
   "outputs": [],
   "source": [
    "quantRegionalVP = pd.DataFrame(data= dados_valep , columns=['ANO', 'MACRO_REGIAO', 'QTD_TOTAL_ELEITORES'])"
   ]
  },
  {
   "cell_type": "code",
   "execution_count": 32,
   "id": "0685442e",
   "metadata": {},
   "outputs": [],
   "source": [
    "if eleicao_ano == 2022:\n",
    "    van_addano_2022 = [ [\"2022\",\"COBERTURA TV VANGUARDA\",int(vanguarda2022[['QTD_ELEITORES']].sum(axis=0))] ]\n",
    "    vap_addano_2022 = [[\"2022\",\"VALE DO PARAÍBA\",int(valep2022[['QTD_ELEITORES']].sum(axis=0))] ]\n",
    "        \n",
    "    van_addano_2022 = pd.DataFrame(data= van_addano_2022 , columns=['ANO', 'MACRO_REGIAO', 'QTD_TOTAL_ELEITORES'])\n",
    "    vap_addano_2022 = pd.DataFrame(data= vap_addano_2022 , columns=['ANO', 'MACRO_REGIAO', 'QTD_TOTAL_ELEITORES'])\n",
    "    \n",
    "    quantRegionalCV = quantRegionalCV.merge(van_addano_2022, how=\"outer\")\n",
    "    quantRegionalVP = quantRegionalVP.merge(vap_addano_2022, how=\"outer\")\n",
    "    \n",
    "elif eleicao_ano == 2024:\n",
    "    van_addano_2022 = [ [\"2022\",\"COBERTURA TV VANGUARDA\",int(vanguarda2022[['QTD_ELEITORES']].sum(axis=0))] ]\n",
    "    vap_addano_2022 = [[\"2022\",\"VALE DO PARAÍBA\",int(valep2022[['QTD_ELEITORES']].sum(axis=0))] ]\n",
    "  \n",
    "    van_addano_2022 = pd.DataFrame(data= van_addano_2022 , columns=['ANO', 'MACRO_REGIAO', 'QTD_TOTAL_ELEITORES'])\n",
    "    vap_addano_2022 = pd.DataFrame(data= vap_addano_2022 , columns=['ANO', 'MACRO_REGIAO', 'QTD_TOTAL_ELEITORES'])\n",
    "   \n",
    "    quantRegionalCV = quantRegionalCV.merge(van_addano_2022, how=\"outer\")\n",
    "    quantRegionalVP = quantRegionalVP.merge(vap_addano_2022, how=\"outer\")\n",
    "   \n",
    "    \n",
    "    van_addano_2024 = [ [\"2024\",\"COBERTURA TV VANGUARDA\",int(vanguarda2024[['QTD_ELEITORES']].sum(axis=0))] ]\n",
    "    vap_addano_2024 = [[\"2024\",\"VALE DO PARAÍBA\",int(valep2024[['QTD_ELEITORES']].sum(axis=0))] ]\n",
    "    \n",
    "    van_addano_2024 = pd.DataFrame(data= van_addano_2024 , columns=['ANO', 'MACRO_REGIAO', 'QTD_TOTAL_ELEITORES'])\n",
    "    vap_addano_2024 = pd.DataFrame(data= vap_addano_2024 , columns=['ANO', 'MACRO_REGIAO', 'QTD_TOTAL_ELEITORES'])\n",
    "   \n",
    "    quantRegionalCV = quantRegionalCV.merge(van_addano_2024, how=\"outer\")\n",
    "    quantRegionalVP = quantRegionalVP.merge(vap_addano_2024, how=\"outer\")"
   ]
  },
  {
   "cell_type": "code",
   "execution_count": 33,
   "id": "0e2797ad",
   "metadata": {},
   "outputs": [],
   "source": [
    "abstencao_municipio = dfa.query(f'NM_MUNICIPIO == \"{municipio1.upper()}\"')\n",
    "\n",
    "# Avaliando abstenções no primeiro turno\n",
    "primeiro_turno_data = abstencao_municipio.query('NR_TURNO == 1')\n",
    "comparecimento_primeiro_turno = primeiro_turno_data.QT_COMPARECIMENTO.sum()\n",
    "abstencao_primeiro_turno = primeiro_turno_data.QT_ABSTENCAO.sum()\n",
    "\n",
    "# Avaliando abstenções no segundo turno\n",
    "segundo_turno_data = abstencao_municipio.query('NR_TURNO == 2')\n",
    "comparecimento_segundo_turno = segundo_turno_data.QT_COMPARECIMENTO.sum()\n",
    "abstencao_segundo_turno = segundo_turno_data.QT_ABSTENCAO.sum()\n",
    "\n",
    "# Checa se houve ou não segundo turno\n",
    "if comparecimento_segundo_turno == 0:\n",
    "    print(f\"obs: Não houve segundo turno na cidade de {municipio1} nas eleições de {eleicao_ano}.\")"
   ]
  },
  {
   "cell_type": "code",
   "execution_count": 34,
   "id": "da3e56c8",
   "metadata": {},
   "outputs": [],
   "source": [
    "# Calculando os valores do primeiro turno\n",
    "total_eleitores_primeiro_turno = comparecimento_primeiro_turno + abstencao_primeiro_turno\n",
    "comparecimento_primeiro_turno_pct = comparecimento_primeiro_turno / total_eleitores_primeiro_turno\n",
    "abstencao_primeiro_turno_pct = abstencao_primeiro_turno / total_eleitores_primeiro_turno\n",
    "\n",
    "if comparecimento_segundo_turno > 0:\n",
    "    # Calculando os valores se houve segundo turno\n",
    "    total_eleitores_segundo_turno = comparecimento_segundo_turno + abstencao_segundo_turno\n",
    "    comparecimento_segundo_turno_pct = comparecimento_segundo_turno / total_eleitores_segundo_turno\n",
    "    abstencao_segundo_turno_pct = abstencao_segundo_turno / total_eleitores_segundo_turno"
   ]
  },
  {
   "cell_type": "code",
   "execution_count": 35,
   "id": "3b00269c",
   "metadata": {},
   "outputs": [],
   "source": [
    "total_eleitores_faixaetaria = municipio_eleitores.groupby('DS_FAIXA_ETARIA')['QT_ELEITORES_PERFIL'].sum()"
   ]
  },
  {
   "cell_type": "code",
   "execution_count": 36,
   "id": "e23c6308",
   "metadata": {},
   "outputs": [],
   "source": [
    "total_eleitores_escolaridade = municipio_eleitores.groupby('DS_GRAU_ESCOLARIDADE')['QT_ELEITORES_PERFIL'].sum()"
   ]
  },
  {
   "cell_type": "code",
   "execution_count": 37,
   "id": "b21b8c2f",
   "metadata": {},
   "outputs": [],
   "source": [
    "total_eleitores_estadocivil = municipio_eleitores.groupby('DS_ESTADO_CIVIL')['QT_ELEITORES_PERFIL'].sum().sort_values(ascending=False)"
   ]
  },
  {
   "cell_type": "code",
   "execution_count": 38,
   "id": "721c47c7",
   "metadata": {},
   "outputs": [],
   "source": [
    "total_eleitores_nomesocial = 0 # Iniciando a variável\n",
    "df_nomesocial = municipio_eleitores.groupby('QT_ELEITORES_INC_NM_SOCIAL')['QT_ELEITORES_INC_NM_SOCIAL'].sum()\n",
    "\n",
    "# Somando a quantidade de eleitores com nome social em cada grupo\n",
    "for index_nomesocial in range(len(df_nomesocial)):\n",
    "    total_eleitores_nomesocial += df_nomesocial.index[index_nomesocial] * df_nomesocial.values[index_nomesocial]"
   ]
  },
  {
   "cell_type": "code",
   "execution_count": 1,
   "id": "940fd745",
   "metadata": {},
   "outputs": [
    {
     "ename": "NameError",
     "evalue": "name 'comparacao' is not defined",
     "output_type": "error",
     "traceback": [
      "\u001b[0;31m---------------------------------------------------------------------------\u001b[0m",
      "\u001b[0;31mNameError\u001b[0m                                 Traceback (most recent call last)",
      "Input \u001b[0;32mIn [1]\u001b[0m, in \u001b[0;36m<cell line: 1>\u001b[0;34m()\u001b[0m\n\u001b[0;32m----> 1\u001b[0m fig\u001b[38;5;241m=\u001b[39m\u001b[43mcomparacao\u001b[49m\u001b[38;5;241m.\u001b[39mset_index(\u001b[38;5;124m'\u001b[39m\u001b[38;5;124mLocalidade\u001b[39m\u001b[38;5;124m'\u001b[39m)\u001b[38;5;241m.\u001b[39mT\u001b[38;5;241m.\u001b[39mplot()\n\u001b[1;32m      2\u001b[0m fig\u001b[38;5;241m.\u001b[39mupdate_layout(title\u001b[38;5;241m=\u001b[39m\u001b[38;5;124m'\u001b[39m\u001b[38;5;124mSALÁRIO MÉDIO MENSAL DOS MUNICÍPIOS ESCOLHIDOS\u001b[39m\u001b[38;5;124m'\u001b[39m,\n\u001b[1;32m      3\u001b[0m                  xaxis\u001b[38;5;241m=\u001b[39m\u001b[38;5;28mdict\u001b[39m(title\u001b[38;5;241m=\u001b[39m\u001b[38;5;124m'\u001b[39m\u001b[38;5;124mAno\u001b[39m\u001b[38;5;124m'\u001b[39m), yaxis\u001b[38;5;241m=\u001b[39m\u001b[38;5;28mdict\u001b[39m(title\u001b[38;5;241m=\u001b[39m\u001b[38;5;124m'\u001b[39m\u001b[38;5;124mSalários Mínimos\u001b[39m\u001b[38;5;124m'\u001b[39m))\n\u001b[1;32m      4\u001b[0m fig\u001b[38;5;241m.\u001b[39mshow()\n",
      "\u001b[0;31mNameError\u001b[0m: name 'comparacao' is not defined"
     ]
    }
   ],
   "source": [
    "fig=comparacao.set_index('Localidade').T.plot()\n",
    "fig.update_layout(title='SALÁRIO MÉDIO MENSAL DOS MUNICÍPIOS ESCOLHIDOS',\n",
    "                 xaxis=dict(title='Ano'), yaxis=dict(title='Salários Mínimos'))\n",
    "fig.show()"
   ]
  },
  {
   "cell_type": "code",
   "execution_count": null,
   "id": "feb19ffa",
   "metadata": {},
   "outputs": [],
   "source": [
    "Diminuir denominador para 1"
   ]
  },
  {
   "cell_type": "code",
   "execution_count": 2,
   "id": "94ee7bfc",
   "metadata": {},
   "outputs": [
    {
     "ename": "NameError",
     "evalue": "name 'comparacao_cidades' is not defined",
     "output_type": "error",
     "traceback": [
      "\u001b[0;31m---------------------------------------------------------------------------\u001b[0m",
      "\u001b[0;31mNameError\u001b[0m                                 Traceback (most recent call last)",
      "Input \u001b[0;32mIn [2]\u001b[0m, in \u001b[0;36m<cell line: 1>\u001b[0;34m()\u001b[0m\n\u001b[0;32m----> 1\u001b[0m fig\u001b[38;5;241m=\u001b[39m\u001b[43mcomparacao_cidades\u001b[49m\u001b[38;5;241m.\u001b[39mset_index(\u001b[38;5;124m'\u001b[39m\u001b[38;5;124mLocalidade\u001b[39m\u001b[38;5;124m'\u001b[39m)\u001b[38;5;241m.\u001b[39mT\u001b[38;5;241m.\u001b[39mplot()\n\u001b[1;32m      2\u001b[0m fig\u001b[38;5;241m.\u001b[39mupdate_layout(title\u001b[38;5;241m=\u001b[39m\u001b[38;5;124m'\u001b[39m\u001b[38;5;124mCOMPARAÇÃO DO SALÁRIO MÉDIO MENSAL DOS MUNICÍPIOS ESCOLHIDOS E MACRORREGIÕES\u001b[39m\u001b[38;5;124m'\u001b[39m,\n\u001b[1;32m      3\u001b[0m                  xaxis\u001b[38;5;241m=\u001b[39m\u001b[38;5;28mdict\u001b[39m(title\u001b[38;5;241m=\u001b[39m\u001b[38;5;124m'\u001b[39m\u001b[38;5;124mAno\u001b[39m\u001b[38;5;124m'\u001b[39m), yaxis\u001b[38;5;241m=\u001b[39m\u001b[38;5;28mdict\u001b[39m(title\u001b[38;5;241m=\u001b[39m\u001b[38;5;124m'\u001b[39m\u001b[38;5;124mSalários Mínimos\u001b[39m\u001b[38;5;124m'\u001b[39m))\n\u001b[1;32m      4\u001b[0m fig\u001b[38;5;241m.\u001b[39mshow()\n",
      "\u001b[0;31mNameError\u001b[0m: name 'comparacao_cidades' is not defined"
     ]
    }
   ],
   "source": [
    "fig=comparacao_cidades.set_index('Localidade').T.plot()\n",
    "fig.update_layout(title='COMPARAÇÃO DO SALÁRIO MÉDIO MENSAL DOS MUNICÍPIOS ESCOLHIDOS E MACRORREGIÕES',\n",
    "                 xaxis=dict(title='Ano'), yaxis=dict(title='Salários Mínimos'))\n",
    "fig.show()"
   ]
  },
  {
   "cell_type": "code",
   "execution_count": null,
   "id": "80cb4516",
   "metadata": {},
   "outputs": [],
   "source": [
    "Diminuir denominador para 1"
   ]
  },
  {
   "cell_type": "code",
   "execution_count": 50,
   "id": "219483a1",
   "metadata": {},
   "outputs": [
    {
     "data": {
      "text/html": [
       "<div>\n",
       "<style scoped>\n",
       "    .dataframe tbody tr th:only-of-type {\n",
       "        vertical-align: middle;\n",
       "    }\n",
       "\n",
       "    .dataframe tbody tr th {\n",
       "        vertical-align: top;\n",
       "    }\n",
       "\n",
       "    .dataframe thead th {\n",
       "        text-align: right;\n",
       "    }\n",
       "</style>\n",
       "<table border=\"1\" class=\"dataframe\">\n",
       "  <thead>\n",
       "    <tr style=\"text-align: right;\">\n",
       "      <th></th>\n",
       "      <th>Localidade</th>\n",
       "      <th>2008</th>\n",
       "      <th>2009</th>\n",
       "      <th>2010</th>\n",
       "      <th>2011</th>\n",
       "      <th>2012</th>\n",
       "      <th>2013</th>\n",
       "      <th>2014</th>\n",
       "      <th>2015</th>\n",
       "      <th>2016</th>\n",
       "      <th>2017</th>\n",
       "      <th>2018</th>\n",
       "    </tr>\n",
       "  </thead>\n",
       "  <tbody>\n",
       "    <tr>\n",
       "      <th>0</th>\n",
       "      <td>Vale do Paraiba</td>\n",
       "      <td>3.0</td>\n",
       "      <td>2.9</td>\n",
       "      <td>2.8</td>\n",
       "      <td>2.8</td>\n",
       "      <td>2.6</td>\n",
       "      <td>2.6</td>\n",
       "      <td>2.6</td>\n",
       "      <td>2.6</td>\n",
       "      <td>2.5</td>\n",
       "      <td>2.4</td>\n",
       "      <td>2.5</td>\n",
       "    </tr>\n",
       "    <tr>\n",
       "      <th>1</th>\n",
       "      <td>SÃO JOSÉ DOS CAMPOS</td>\n",
       "      <td>5.0</td>\n",
       "      <td>4.7</td>\n",
       "      <td>4.5</td>\n",
       "      <td>4.5</td>\n",
       "      <td>4.1</td>\n",
       "      <td>4.0</td>\n",
       "      <td>4.0</td>\n",
       "      <td>4.0</td>\n",
       "      <td>3.7</td>\n",
       "      <td>3.7</td>\n",
       "      <td>3.7</td>\n",
       "    </tr>\n",
       "  </tbody>\n",
       "</table>\n",
       "</div>"
      ],
      "text/plain": [
       "            Localidade  2008  2009  2010  2011  2012  2013  2014  2015  2016  \\\n",
       "0      Vale do Paraiba   3.0   2.9   2.8   2.8   2.6   2.6   2.6   2.6   2.5   \n",
       "1  SÃO JOSÉ DOS CAMPOS   5.0   4.7   4.5   4.5   4.1   4.0   4.0   4.0   3.7   \n",
       "\n",
       "   2017  2018  \n",
       "0   2.4   2.5  \n",
       "1   3.7   3.7  "
      ]
     },
     "execution_count": 50,
     "metadata": {},
     "output_type": "execute_result"
    }
   ],
   "source": [
    "comparacao_cidades"
   ]
  },
  {
   "cell_type": "code",
   "execution_count": 51,
   "id": "147e387b",
   "metadata": {},
   "outputs": [
    {
     "name": "stdout",
     "output_type": "stream",
     "text": [
      "Em 2020, foi eleito(a) para prefeito(a) da cidade de SÃO JOSÉ DOS CAMPOS o(a) candidato(a) FELICIO RAMUTH, do partido PSDB, no 1º turno.\n"
     ]
    }
   ],
   "source": [
    "if eleicao_ano == 2018 or eleicao_ano == 2022 or eleicao_ano == 2026:\n",
    "    print(f\"Em {eleicao_ano}, foi eleito(a) para Presidente da República o(a) candidato(a) {presidente_eleito} ({presidente_eleito_partido}), no {presidente_eleito_turno}º turno das eleições.\\n\")\n",
    "    print(f\"Neste mesmo ano, foi eleito(a) para Governador(a) do estado de SP o(a) candidato(a) {governador_eleito} ({governador_eleito_partido}), no {governador_eleito_turno}º turno das eleições.\")\n",
    "\n",
    "elif eleicao_ano == 2020 or eleicao_ano == 2024 or eleicao_ano == 2028:\n",
    "    print(f\"Em {eleicao_ano}, foi eleito(a) para prefeito(a) da cidade de {municipio1} o(a) candidato(a) {prefeito_eleito}, do partido {prefeito_eleito_partido}, no {prefeito_eleito_turno}º turno.\")\n"
   ]
  },
  {
   "cell_type": "code",
   "execution_count": 52,
   "id": "d44bf9e1",
   "metadata": {},
   "outputs": [
    {
     "data": {
      "application/vnd.plotly.v1+json": {
       "config": {
        "plotlyServerURL": "https://plot.ly"
       },
       "data": [
        {
         "alignmentgroup": "True",
         "hovertemplate": "Ano=%{x}<br>Quantidade de Eleitores=%{y}<extra></extra>",
         "legendgroup": "",
         "marker": {
          "color": "#636efa",
          "pattern": {
           "shape": ""
          }
         },
         "name": "",
         "offsetgroup": "",
         "orientation": "v",
         "showlegend": false,
         "textposition": "auto",
         "type": "bar",
         "x": [
          2014,
          2016,
          2018,
          2020
         ],
         "xaxis": "x",
         "y": [
          474012,
          488647,
          508693,
          540501
         ],
         "yaxis": "y"
        }
       ],
       "layout": {
        "barmode": "relative",
        "legend": {
         "tracegroupgap": 0
        },
        "template": {
         "data": {
          "bar": [
           {
            "error_x": {
             "color": "#2a3f5f"
            },
            "error_y": {
             "color": "#2a3f5f"
            },
            "marker": {
             "line": {
              "color": "#E5ECF6",
              "width": 0.5
             },
             "pattern": {
              "fillmode": "overlay",
              "size": 10,
              "solidity": 0.2
             }
            },
            "type": "bar"
           }
          ],
          "barpolar": [
           {
            "marker": {
             "line": {
              "color": "#E5ECF6",
              "width": 0.5
             },
             "pattern": {
              "fillmode": "overlay",
              "size": 10,
              "solidity": 0.2
             }
            },
            "type": "barpolar"
           }
          ],
          "carpet": [
           {
            "aaxis": {
             "endlinecolor": "#2a3f5f",
             "gridcolor": "white",
             "linecolor": "white",
             "minorgridcolor": "white",
             "startlinecolor": "#2a3f5f"
            },
            "baxis": {
             "endlinecolor": "#2a3f5f",
             "gridcolor": "white",
             "linecolor": "white",
             "minorgridcolor": "white",
             "startlinecolor": "#2a3f5f"
            },
            "type": "carpet"
           }
          ],
          "choropleth": [
           {
            "colorbar": {
             "outlinewidth": 0,
             "ticks": ""
            },
            "type": "choropleth"
           }
          ],
          "contour": [
           {
            "colorbar": {
             "outlinewidth": 0,
             "ticks": ""
            },
            "colorscale": [
             [
              0,
              "#0d0887"
             ],
             [
              0.1111111111111111,
              "#46039f"
             ],
             [
              0.2222222222222222,
              "#7201a8"
             ],
             [
              0.3333333333333333,
              "#9c179e"
             ],
             [
              0.4444444444444444,
              "#bd3786"
             ],
             [
              0.5555555555555556,
              "#d8576b"
             ],
             [
              0.6666666666666666,
              "#ed7953"
             ],
             [
              0.7777777777777778,
              "#fb9f3a"
             ],
             [
              0.8888888888888888,
              "#fdca26"
             ],
             [
              1,
              "#f0f921"
             ]
            ],
            "type": "contour"
           }
          ],
          "contourcarpet": [
           {
            "colorbar": {
             "outlinewidth": 0,
             "ticks": ""
            },
            "type": "contourcarpet"
           }
          ],
          "heatmap": [
           {
            "colorbar": {
             "outlinewidth": 0,
             "ticks": ""
            },
            "colorscale": [
             [
              0,
              "#0d0887"
             ],
             [
              0.1111111111111111,
              "#46039f"
             ],
             [
              0.2222222222222222,
              "#7201a8"
             ],
             [
              0.3333333333333333,
              "#9c179e"
             ],
             [
              0.4444444444444444,
              "#bd3786"
             ],
             [
              0.5555555555555556,
              "#d8576b"
             ],
             [
              0.6666666666666666,
              "#ed7953"
             ],
             [
              0.7777777777777778,
              "#fb9f3a"
             ],
             [
              0.8888888888888888,
              "#fdca26"
             ],
             [
              1,
              "#f0f921"
             ]
            ],
            "type": "heatmap"
           }
          ],
          "heatmapgl": [
           {
            "colorbar": {
             "outlinewidth": 0,
             "ticks": ""
            },
            "colorscale": [
             [
              0,
              "#0d0887"
             ],
             [
              0.1111111111111111,
              "#46039f"
             ],
             [
              0.2222222222222222,
              "#7201a8"
             ],
             [
              0.3333333333333333,
              "#9c179e"
             ],
             [
              0.4444444444444444,
              "#bd3786"
             ],
             [
              0.5555555555555556,
              "#d8576b"
             ],
             [
              0.6666666666666666,
              "#ed7953"
             ],
             [
              0.7777777777777778,
              "#fb9f3a"
             ],
             [
              0.8888888888888888,
              "#fdca26"
             ],
             [
              1,
              "#f0f921"
             ]
            ],
            "type": "heatmapgl"
           }
          ],
          "histogram": [
           {
            "marker": {
             "pattern": {
              "fillmode": "overlay",
              "size": 10,
              "solidity": 0.2
             }
            },
            "type": "histogram"
           }
          ],
          "histogram2d": [
           {
            "colorbar": {
             "outlinewidth": 0,
             "ticks": ""
            },
            "colorscale": [
             [
              0,
              "#0d0887"
             ],
             [
              0.1111111111111111,
              "#46039f"
             ],
             [
              0.2222222222222222,
              "#7201a8"
             ],
             [
              0.3333333333333333,
              "#9c179e"
             ],
             [
              0.4444444444444444,
              "#bd3786"
             ],
             [
              0.5555555555555556,
              "#d8576b"
             ],
             [
              0.6666666666666666,
              "#ed7953"
             ],
             [
              0.7777777777777778,
              "#fb9f3a"
             ],
             [
              0.8888888888888888,
              "#fdca26"
             ],
             [
              1,
              "#f0f921"
             ]
            ],
            "type": "histogram2d"
           }
          ],
          "histogram2dcontour": [
           {
            "colorbar": {
             "outlinewidth": 0,
             "ticks": ""
            },
            "colorscale": [
             [
              0,
              "#0d0887"
             ],
             [
              0.1111111111111111,
              "#46039f"
             ],
             [
              0.2222222222222222,
              "#7201a8"
             ],
             [
              0.3333333333333333,
              "#9c179e"
             ],
             [
              0.4444444444444444,
              "#bd3786"
             ],
             [
              0.5555555555555556,
              "#d8576b"
             ],
             [
              0.6666666666666666,
              "#ed7953"
             ],
             [
              0.7777777777777778,
              "#fb9f3a"
             ],
             [
              0.8888888888888888,
              "#fdca26"
             ],
             [
              1,
              "#f0f921"
             ]
            ],
            "type": "histogram2dcontour"
           }
          ],
          "mesh3d": [
           {
            "colorbar": {
             "outlinewidth": 0,
             "ticks": ""
            },
            "type": "mesh3d"
           }
          ],
          "parcoords": [
           {
            "line": {
             "colorbar": {
              "outlinewidth": 0,
              "ticks": ""
             }
            },
            "type": "parcoords"
           }
          ],
          "pie": [
           {
            "automargin": true,
            "type": "pie"
           }
          ],
          "scatter": [
           {
            "fillpattern": {
             "fillmode": "overlay",
             "size": 10,
             "solidity": 0.2
            },
            "type": "scatter"
           }
          ],
          "scatter3d": [
           {
            "line": {
             "colorbar": {
              "outlinewidth": 0,
              "ticks": ""
             }
            },
            "marker": {
             "colorbar": {
              "outlinewidth": 0,
              "ticks": ""
             }
            },
            "type": "scatter3d"
           }
          ],
          "scattercarpet": [
           {
            "marker": {
             "colorbar": {
              "outlinewidth": 0,
              "ticks": ""
             }
            },
            "type": "scattercarpet"
           }
          ],
          "scattergeo": [
           {
            "marker": {
             "colorbar": {
              "outlinewidth": 0,
              "ticks": ""
             }
            },
            "type": "scattergeo"
           }
          ],
          "scattergl": [
           {
            "marker": {
             "colorbar": {
              "outlinewidth": 0,
              "ticks": ""
             }
            },
            "type": "scattergl"
           }
          ],
          "scattermapbox": [
           {
            "marker": {
             "colorbar": {
              "outlinewidth": 0,
              "ticks": ""
             }
            },
            "type": "scattermapbox"
           }
          ],
          "scatterpolar": [
           {
            "marker": {
             "colorbar": {
              "outlinewidth": 0,
              "ticks": ""
             }
            },
            "type": "scatterpolar"
           }
          ],
          "scatterpolargl": [
           {
            "marker": {
             "colorbar": {
              "outlinewidth": 0,
              "ticks": ""
             }
            },
            "type": "scatterpolargl"
           }
          ],
          "scatterternary": [
           {
            "marker": {
             "colorbar": {
              "outlinewidth": 0,
              "ticks": ""
             }
            },
            "type": "scatterternary"
           }
          ],
          "surface": [
           {
            "colorbar": {
             "outlinewidth": 0,
             "ticks": ""
            },
            "colorscale": [
             [
              0,
              "#0d0887"
             ],
             [
              0.1111111111111111,
              "#46039f"
             ],
             [
              0.2222222222222222,
              "#7201a8"
             ],
             [
              0.3333333333333333,
              "#9c179e"
             ],
             [
              0.4444444444444444,
              "#bd3786"
             ],
             [
              0.5555555555555556,
              "#d8576b"
             ],
             [
              0.6666666666666666,
              "#ed7953"
             ],
             [
              0.7777777777777778,
              "#fb9f3a"
             ],
             [
              0.8888888888888888,
              "#fdca26"
             ],
             [
              1,
              "#f0f921"
             ]
            ],
            "type": "surface"
           }
          ],
          "table": [
           {
            "cells": {
             "fill": {
              "color": "#EBF0F8"
             },
             "line": {
              "color": "white"
             }
            },
            "header": {
             "fill": {
              "color": "#C8D4E3"
             },
             "line": {
              "color": "white"
             }
            },
            "type": "table"
           }
          ]
         },
         "layout": {
          "annotationdefaults": {
           "arrowcolor": "#2a3f5f",
           "arrowhead": 0,
           "arrowwidth": 1
          },
          "autotypenumbers": "strict",
          "coloraxis": {
           "colorbar": {
            "outlinewidth": 0,
            "ticks": ""
           }
          },
          "colorscale": {
           "diverging": [
            [
             0,
             "#8e0152"
            ],
            [
             0.1,
             "#c51b7d"
            ],
            [
             0.2,
             "#de77ae"
            ],
            [
             0.3,
             "#f1b6da"
            ],
            [
             0.4,
             "#fde0ef"
            ],
            [
             0.5,
             "#f7f7f7"
            ],
            [
             0.6,
             "#e6f5d0"
            ],
            [
             0.7,
             "#b8e186"
            ],
            [
             0.8,
             "#7fbc41"
            ],
            [
             0.9,
             "#4d9221"
            ],
            [
             1,
             "#276419"
            ]
           ],
           "sequential": [
            [
             0,
             "#0d0887"
            ],
            [
             0.1111111111111111,
             "#46039f"
            ],
            [
             0.2222222222222222,
             "#7201a8"
            ],
            [
             0.3333333333333333,
             "#9c179e"
            ],
            [
             0.4444444444444444,
             "#bd3786"
            ],
            [
             0.5555555555555556,
             "#d8576b"
            ],
            [
             0.6666666666666666,
             "#ed7953"
            ],
            [
             0.7777777777777778,
             "#fb9f3a"
            ],
            [
             0.8888888888888888,
             "#fdca26"
            ],
            [
             1,
             "#f0f921"
            ]
           ],
           "sequentialminus": [
            [
             0,
             "#0d0887"
            ],
            [
             0.1111111111111111,
             "#46039f"
            ],
            [
             0.2222222222222222,
             "#7201a8"
            ],
            [
             0.3333333333333333,
             "#9c179e"
            ],
            [
             0.4444444444444444,
             "#bd3786"
            ],
            [
             0.5555555555555556,
             "#d8576b"
            ],
            [
             0.6666666666666666,
             "#ed7953"
            ],
            [
             0.7777777777777778,
             "#fb9f3a"
            ],
            [
             0.8888888888888888,
             "#fdca26"
            ],
            [
             1,
             "#f0f921"
            ]
           ]
          },
          "colorway": [
           "#636efa",
           "#EF553B",
           "#00cc96",
           "#ab63fa",
           "#FFA15A",
           "#19d3f3",
           "#FF6692",
           "#B6E880",
           "#FF97FF",
           "#FECB52"
          ],
          "font": {
           "color": "#2a3f5f"
          },
          "geo": {
           "bgcolor": "white",
           "lakecolor": "white",
           "landcolor": "#E5ECF6",
           "showlakes": true,
           "showland": true,
           "subunitcolor": "white"
          },
          "hoverlabel": {
           "align": "left"
          },
          "hovermode": "closest",
          "mapbox": {
           "style": "light"
          },
          "paper_bgcolor": "white",
          "plot_bgcolor": "#E5ECF6",
          "polar": {
           "angularaxis": {
            "gridcolor": "white",
            "linecolor": "white",
            "ticks": ""
           },
           "bgcolor": "#E5ECF6",
           "radialaxis": {
            "gridcolor": "white",
            "linecolor": "white",
            "ticks": ""
           }
          },
          "scene": {
           "xaxis": {
            "backgroundcolor": "#E5ECF6",
            "gridcolor": "white",
            "gridwidth": 2,
            "linecolor": "white",
            "showbackground": true,
            "ticks": "",
            "zerolinecolor": "white"
           },
           "yaxis": {
            "backgroundcolor": "#E5ECF6",
            "gridcolor": "white",
            "gridwidth": 2,
            "linecolor": "white",
            "showbackground": true,
            "ticks": "",
            "zerolinecolor": "white"
           },
           "zaxis": {
            "backgroundcolor": "#E5ECF6",
            "gridcolor": "white",
            "gridwidth": 2,
            "linecolor": "white",
            "showbackground": true,
            "ticks": "",
            "zerolinecolor": "white"
           }
          },
          "shapedefaults": {
           "line": {
            "color": "#2a3f5f"
           }
          },
          "ternary": {
           "aaxis": {
            "gridcolor": "white",
            "linecolor": "white",
            "ticks": ""
           },
           "baxis": {
            "gridcolor": "white",
            "linecolor": "white",
            "ticks": ""
           },
           "bgcolor": "#E5ECF6",
           "caxis": {
            "gridcolor": "white",
            "linecolor": "white",
            "ticks": ""
           }
          },
          "title": {
           "x": 0.05
          },
          "xaxis": {
           "automargin": true,
           "gridcolor": "white",
           "linecolor": "white",
           "ticks": "",
           "title": {
            "standoff": 15
           },
           "zerolinecolor": "white",
           "zerolinewidth": 2
          },
          "yaxis": {
           "automargin": true,
           "gridcolor": "white",
           "linecolor": "white",
           "ticks": "",
           "title": {
            "standoff": 15
           },
           "zerolinecolor": "white",
           "zerolinewidth": 2
          }
         }
        },
        "title": {
         "text": "Evolução do eleitorado do municípios de SÃO JOSÉ DOS CAMPOS"
        },
        "width": 720,
        "xaxis": {
         "anchor": "y",
         "domain": [
          0,
          1
         ],
         "title": {
          "text": "Ano"
         }
        },
        "yaxis": {
         "anchor": "x",
         "domain": [
          0,
          1
         ],
         "title": {
          "text": "Quantidade de Eleitores"
         }
        }
       }
      },
      "text/html": [
       "<div>                            <div id=\"c597e0a9-c1cc-430b-9c61-00a15d5a5f0f\" class=\"plotly-graph-div\" style=\"height:525px; width:720px;\"></div>            <script type=\"text/javascript\">                require([\"plotly\"], function(Plotly) {                    window.PLOTLYENV=window.PLOTLYENV || {};                                    if (document.getElementById(\"c597e0a9-c1cc-430b-9c61-00a15d5a5f0f\")) {                    Plotly.newPlot(                        \"c597e0a9-c1cc-430b-9c61-00a15d5a5f0f\",                        [{\"alignmentgroup\":\"True\",\"hovertemplate\":\"Ano=%{x}<br>Quantidade de Eleitores=%{y}<extra></extra>\",\"legendgroup\":\"\",\"marker\":{\"color\":\"#636efa\",\"pattern\":{\"shape\":\"\"}},\"name\":\"\",\"offsetgroup\":\"\",\"orientation\":\"v\",\"showlegend\":false,\"textposition\":\"auto\",\"x\":[2014,2016,2018,2020],\"xaxis\":\"x\",\"y\":[474012,488647,508693,540501],\"yaxis\":\"y\",\"type\":\"bar\"}],                        {\"template\":{\"data\":{\"histogram2dcontour\":[{\"type\":\"histogram2dcontour\",\"colorbar\":{\"outlinewidth\":0,\"ticks\":\"\"},\"colorscale\":[[0.0,\"#0d0887\"],[0.1111111111111111,\"#46039f\"],[0.2222222222222222,\"#7201a8\"],[0.3333333333333333,\"#9c179e\"],[0.4444444444444444,\"#bd3786\"],[0.5555555555555556,\"#d8576b\"],[0.6666666666666666,\"#ed7953\"],[0.7777777777777778,\"#fb9f3a\"],[0.8888888888888888,\"#fdca26\"],[1.0,\"#f0f921\"]]}],\"choropleth\":[{\"type\":\"choropleth\",\"colorbar\":{\"outlinewidth\":0,\"ticks\":\"\"}}],\"histogram2d\":[{\"type\":\"histogram2d\",\"colorbar\":{\"outlinewidth\":0,\"ticks\":\"\"},\"colorscale\":[[0.0,\"#0d0887\"],[0.1111111111111111,\"#46039f\"],[0.2222222222222222,\"#7201a8\"],[0.3333333333333333,\"#9c179e\"],[0.4444444444444444,\"#bd3786\"],[0.5555555555555556,\"#d8576b\"],[0.6666666666666666,\"#ed7953\"],[0.7777777777777778,\"#fb9f3a\"],[0.8888888888888888,\"#fdca26\"],[1.0,\"#f0f921\"]]}],\"heatmap\":[{\"type\":\"heatmap\",\"colorbar\":{\"outlinewidth\":0,\"ticks\":\"\"},\"colorscale\":[[0.0,\"#0d0887\"],[0.1111111111111111,\"#46039f\"],[0.2222222222222222,\"#7201a8\"],[0.3333333333333333,\"#9c179e\"],[0.4444444444444444,\"#bd3786\"],[0.5555555555555556,\"#d8576b\"],[0.6666666666666666,\"#ed7953\"],[0.7777777777777778,\"#fb9f3a\"],[0.8888888888888888,\"#fdca26\"],[1.0,\"#f0f921\"]]}],\"heatmapgl\":[{\"type\":\"heatmapgl\",\"colorbar\":{\"outlinewidth\":0,\"ticks\":\"\"},\"colorscale\":[[0.0,\"#0d0887\"],[0.1111111111111111,\"#46039f\"],[0.2222222222222222,\"#7201a8\"],[0.3333333333333333,\"#9c179e\"],[0.4444444444444444,\"#bd3786\"],[0.5555555555555556,\"#d8576b\"],[0.6666666666666666,\"#ed7953\"],[0.7777777777777778,\"#fb9f3a\"],[0.8888888888888888,\"#fdca26\"],[1.0,\"#f0f921\"]]}],\"contourcarpet\":[{\"type\":\"contourcarpet\",\"colorbar\":{\"outlinewidth\":0,\"ticks\":\"\"}}],\"contour\":[{\"type\":\"contour\",\"colorbar\":{\"outlinewidth\":0,\"ticks\":\"\"},\"colorscale\":[[0.0,\"#0d0887\"],[0.1111111111111111,\"#46039f\"],[0.2222222222222222,\"#7201a8\"],[0.3333333333333333,\"#9c179e\"],[0.4444444444444444,\"#bd3786\"],[0.5555555555555556,\"#d8576b\"],[0.6666666666666666,\"#ed7953\"],[0.7777777777777778,\"#fb9f3a\"],[0.8888888888888888,\"#fdca26\"],[1.0,\"#f0f921\"]]}],\"surface\":[{\"type\":\"surface\",\"colorbar\":{\"outlinewidth\":0,\"ticks\":\"\"},\"colorscale\":[[0.0,\"#0d0887\"],[0.1111111111111111,\"#46039f\"],[0.2222222222222222,\"#7201a8\"],[0.3333333333333333,\"#9c179e\"],[0.4444444444444444,\"#bd3786\"],[0.5555555555555556,\"#d8576b\"],[0.6666666666666666,\"#ed7953\"],[0.7777777777777778,\"#fb9f3a\"],[0.8888888888888888,\"#fdca26\"],[1.0,\"#f0f921\"]]}],\"mesh3d\":[{\"type\":\"mesh3d\",\"colorbar\":{\"outlinewidth\":0,\"ticks\":\"\"}}],\"scatter\":[{\"fillpattern\":{\"fillmode\":\"overlay\",\"size\":10,\"solidity\":0.2},\"type\":\"scatter\"}],\"parcoords\":[{\"type\":\"parcoords\",\"line\":{\"colorbar\":{\"outlinewidth\":0,\"ticks\":\"\"}}}],\"scatterpolargl\":[{\"type\":\"scatterpolargl\",\"marker\":{\"colorbar\":{\"outlinewidth\":0,\"ticks\":\"\"}}}],\"bar\":[{\"error_x\":{\"color\":\"#2a3f5f\"},\"error_y\":{\"color\":\"#2a3f5f\"},\"marker\":{\"line\":{\"color\":\"#E5ECF6\",\"width\":0.5},\"pattern\":{\"fillmode\":\"overlay\",\"size\":10,\"solidity\":0.2}},\"type\":\"bar\"}],\"scattergeo\":[{\"type\":\"scattergeo\",\"marker\":{\"colorbar\":{\"outlinewidth\":0,\"ticks\":\"\"}}}],\"scatterpolar\":[{\"type\":\"scatterpolar\",\"marker\":{\"colorbar\":{\"outlinewidth\":0,\"ticks\":\"\"}}}],\"histogram\":[{\"marker\":{\"pattern\":{\"fillmode\":\"overlay\",\"size\":10,\"solidity\":0.2}},\"type\":\"histogram\"}],\"scattergl\":[{\"type\":\"scattergl\",\"marker\":{\"colorbar\":{\"outlinewidth\":0,\"ticks\":\"\"}}}],\"scatter3d\":[{\"type\":\"scatter3d\",\"line\":{\"colorbar\":{\"outlinewidth\":0,\"ticks\":\"\"}},\"marker\":{\"colorbar\":{\"outlinewidth\":0,\"ticks\":\"\"}}}],\"scattermapbox\":[{\"type\":\"scattermapbox\",\"marker\":{\"colorbar\":{\"outlinewidth\":0,\"ticks\":\"\"}}}],\"scatterternary\":[{\"type\":\"scatterternary\",\"marker\":{\"colorbar\":{\"outlinewidth\":0,\"ticks\":\"\"}}}],\"scattercarpet\":[{\"type\":\"scattercarpet\",\"marker\":{\"colorbar\":{\"outlinewidth\":0,\"ticks\":\"\"}}}],\"carpet\":[{\"aaxis\":{\"endlinecolor\":\"#2a3f5f\",\"gridcolor\":\"white\",\"linecolor\":\"white\",\"minorgridcolor\":\"white\",\"startlinecolor\":\"#2a3f5f\"},\"baxis\":{\"endlinecolor\":\"#2a3f5f\",\"gridcolor\":\"white\",\"linecolor\":\"white\",\"minorgridcolor\":\"white\",\"startlinecolor\":\"#2a3f5f\"},\"type\":\"carpet\"}],\"table\":[{\"cells\":{\"fill\":{\"color\":\"#EBF0F8\"},\"line\":{\"color\":\"white\"}},\"header\":{\"fill\":{\"color\":\"#C8D4E3\"},\"line\":{\"color\":\"white\"}},\"type\":\"table\"}],\"barpolar\":[{\"marker\":{\"line\":{\"color\":\"#E5ECF6\",\"width\":0.5},\"pattern\":{\"fillmode\":\"overlay\",\"size\":10,\"solidity\":0.2}},\"type\":\"barpolar\"}],\"pie\":[{\"automargin\":true,\"type\":\"pie\"}]},\"layout\":{\"autotypenumbers\":\"strict\",\"colorway\":[\"#636efa\",\"#EF553B\",\"#00cc96\",\"#ab63fa\",\"#FFA15A\",\"#19d3f3\",\"#FF6692\",\"#B6E880\",\"#FF97FF\",\"#FECB52\"],\"font\":{\"color\":\"#2a3f5f\"},\"hovermode\":\"closest\",\"hoverlabel\":{\"align\":\"left\"},\"paper_bgcolor\":\"white\",\"plot_bgcolor\":\"#E5ECF6\",\"polar\":{\"bgcolor\":\"#E5ECF6\",\"angularaxis\":{\"gridcolor\":\"white\",\"linecolor\":\"white\",\"ticks\":\"\"},\"radialaxis\":{\"gridcolor\":\"white\",\"linecolor\":\"white\",\"ticks\":\"\"}},\"ternary\":{\"bgcolor\":\"#E5ECF6\",\"aaxis\":{\"gridcolor\":\"white\",\"linecolor\":\"white\",\"ticks\":\"\"},\"baxis\":{\"gridcolor\":\"white\",\"linecolor\":\"white\",\"ticks\":\"\"},\"caxis\":{\"gridcolor\":\"white\",\"linecolor\":\"white\",\"ticks\":\"\"}},\"coloraxis\":{\"colorbar\":{\"outlinewidth\":0,\"ticks\":\"\"}},\"colorscale\":{\"sequential\":[[0.0,\"#0d0887\"],[0.1111111111111111,\"#46039f\"],[0.2222222222222222,\"#7201a8\"],[0.3333333333333333,\"#9c179e\"],[0.4444444444444444,\"#bd3786\"],[0.5555555555555556,\"#d8576b\"],[0.6666666666666666,\"#ed7953\"],[0.7777777777777778,\"#fb9f3a\"],[0.8888888888888888,\"#fdca26\"],[1.0,\"#f0f921\"]],\"sequentialminus\":[[0.0,\"#0d0887\"],[0.1111111111111111,\"#46039f\"],[0.2222222222222222,\"#7201a8\"],[0.3333333333333333,\"#9c179e\"],[0.4444444444444444,\"#bd3786\"],[0.5555555555555556,\"#d8576b\"],[0.6666666666666666,\"#ed7953\"],[0.7777777777777778,\"#fb9f3a\"],[0.8888888888888888,\"#fdca26\"],[1.0,\"#f0f921\"]],\"diverging\":[[0,\"#8e0152\"],[0.1,\"#c51b7d\"],[0.2,\"#de77ae\"],[0.3,\"#f1b6da\"],[0.4,\"#fde0ef\"],[0.5,\"#f7f7f7\"],[0.6,\"#e6f5d0\"],[0.7,\"#b8e186\"],[0.8,\"#7fbc41\"],[0.9,\"#4d9221\"],[1,\"#276419\"]]},\"xaxis\":{\"gridcolor\":\"white\",\"linecolor\":\"white\",\"ticks\":\"\",\"title\":{\"standoff\":15},\"zerolinecolor\":\"white\",\"automargin\":true,\"zerolinewidth\":2},\"yaxis\":{\"gridcolor\":\"white\",\"linecolor\":\"white\",\"ticks\":\"\",\"title\":{\"standoff\":15},\"zerolinecolor\":\"white\",\"automargin\":true,\"zerolinewidth\":2},\"scene\":{\"xaxis\":{\"backgroundcolor\":\"#E5ECF6\",\"gridcolor\":\"white\",\"linecolor\":\"white\",\"showbackground\":true,\"ticks\":\"\",\"zerolinecolor\":\"white\",\"gridwidth\":2},\"yaxis\":{\"backgroundcolor\":\"#E5ECF6\",\"gridcolor\":\"white\",\"linecolor\":\"white\",\"showbackground\":true,\"ticks\":\"\",\"zerolinecolor\":\"white\",\"gridwidth\":2},\"zaxis\":{\"backgroundcolor\":\"#E5ECF6\",\"gridcolor\":\"white\",\"linecolor\":\"white\",\"showbackground\":true,\"ticks\":\"\",\"zerolinecolor\":\"white\",\"gridwidth\":2}},\"shapedefaults\":{\"line\":{\"color\":\"#2a3f5f\"}},\"annotationdefaults\":{\"arrowcolor\":\"#2a3f5f\",\"arrowhead\":0,\"arrowwidth\":1},\"geo\":{\"bgcolor\":\"white\",\"landcolor\":\"#E5ECF6\",\"subunitcolor\":\"white\",\"showland\":true,\"showlakes\":true,\"lakecolor\":\"white\"},\"title\":{\"x\":0.05},\"mapbox\":{\"style\":\"light\"}}},\"xaxis\":{\"anchor\":\"y\",\"domain\":[0.0,1.0],\"title\":{\"text\":\"Ano\"}},\"yaxis\":{\"anchor\":\"x\",\"domain\":[0.0,1.0],\"title\":{\"text\":\"Quantidade de Eleitores\"}},\"legend\":{\"tracegroupgap\":0},\"title\":{\"text\":\"Evolu\\u00e7\\u00e3o do eleitorado do munic\\u00edpios de S\\u00c3O JOS\\u00c9 DOS CAMPOS\"},\"barmode\":\"relative\",\"width\":720},                        {\"responsive\": true}                    ).then(function(){\n",
       "                            \n",
       "var gd = document.getElementById('c597e0a9-c1cc-430b-9c61-00a15d5a5f0f');\n",
       "var x = new MutationObserver(function (mutations, observer) {{\n",
       "        var display = window.getComputedStyle(gd).display;\n",
       "        if (!display || display === 'none') {{\n",
       "            console.log([gd, 'removed!']);\n",
       "            Plotly.purge(gd);\n",
       "            observer.disconnect();\n",
       "        }}\n",
       "}});\n",
       "\n",
       "// Listen for the removal of the full notebook cells\n",
       "var notebookContainer = gd.closest('#notebook-container');\n",
       "if (notebookContainer) {{\n",
       "    x.observe(notebookContainer, {childList: true});\n",
       "}}\n",
       "\n",
       "// Listen for the clearing of the current output cell\n",
       "var outputEl = gd.closest('.output');\n",
       "if (outputEl) {{\n",
       "    x.observe(outputEl, {childList: true});\n",
       "}}\n",
       "\n",
       "                        })                };                });            </script>        </div>"
      ]
     },
     "metadata": {},
     "output_type": "display_data"
    }
   ],
   "source": [
    "# Plot do gráfico da quantidade de eleitores pela cidade escolhida pelo usuário\n",
    "graficoMunicipal = px.bar(quantitativoTotal, x='NR_ANO_ELEICAO', y='QTD_ELEITORES',\n",
    "             hover_data=['QTD_ELEITORES'],\n",
    "             labels={'QTD_ELEITORES':'Quantidade de Eleitores', 'NR_ANO_ELEICAO': 'Ano' },\n",
    "             title = 'Evolução do eleitorado do municípios de ' + municipio1, width=720)\n",
    "\n",
    "graficoMunicipal.show()"
   ]
  },
  {
   "cell_type": "code",
   "execution_count": 62,
   "id": "969f7381",
   "metadata": {},
   "outputs": [
    {
     "data": {
      "application/vnd.plotly.v1+json": {
       "config": {
        "plotlyServerURL": "https://plot.ly"
       },
       "data": [
        {
         "alignmentgroup": "True",
         "hovertemplate": "Faixa Etária=%{x}<br>Eleitores=%{y}<extra></extra>",
         "legendgroup": "",
         "marker": {
          "color": "#636efa",
          "pattern": {
           "shape": ""
          }
         },
         "name": "",
         "offsetgroup": "",
         "orientation": "v",
         "showlegend": false,
         "textposition": "auto",
         "type": "bar",
         "x": [
          "100 anos ou mais              ",
          "16 anos                       ",
          "17 anos                       ",
          "18 anos                       ",
          "19 anos                       ",
          "20 anos                       ",
          "21 a 24 anos                  ",
          "25 a 29 anos                  ",
          "30 a 34 anos                  ",
          "35 a 39 anos                  ",
          "40 a 44 anos                  ",
          "45 a 49 anos                  ",
          "50 a 54 anos                  ",
          "55 a 59 anos                  ",
          "60 a 64 anos                  ",
          "65 a 69 anos                  ",
          "70 a 74 anos                  ",
          "75 a 79 anos                  ",
          "80 a 84 anos                  ",
          "85 a 89 anos                  ",
          "90 a 94 anos                  ",
          "95 a 99 anos                  ",
          "Inválido                      "
         ],
         "xaxis": "x",
         "y": [
          165,
          96,
          1417,
          4541,
          8120,
          9886,
          41500,
          52889,
          57296,
          61464,
          57223,
          49126,
          44443,
          41872,
          36183,
          28657,
          19581,
          11517,
          6956,
          3814,
          2325,
          1428,
          2
         ],
         "yaxis": "y"
        }
       ],
       "layout": {
        "barmode": "relative",
        "legend": {
         "tracegroupgap": 0
        },
        "template": {
         "data": {
          "bar": [
           {
            "error_x": {
             "color": "#2a3f5f"
            },
            "error_y": {
             "color": "#2a3f5f"
            },
            "marker": {
             "line": {
              "color": "#E5ECF6",
              "width": 0.5
             },
             "pattern": {
              "fillmode": "overlay",
              "size": 10,
              "solidity": 0.2
             }
            },
            "type": "bar"
           }
          ],
          "barpolar": [
           {
            "marker": {
             "line": {
              "color": "#E5ECF6",
              "width": 0.5
             },
             "pattern": {
              "fillmode": "overlay",
              "size": 10,
              "solidity": 0.2
             }
            },
            "type": "barpolar"
           }
          ],
          "carpet": [
           {
            "aaxis": {
             "endlinecolor": "#2a3f5f",
             "gridcolor": "white",
             "linecolor": "white",
             "minorgridcolor": "white",
             "startlinecolor": "#2a3f5f"
            },
            "baxis": {
             "endlinecolor": "#2a3f5f",
             "gridcolor": "white",
             "linecolor": "white",
             "minorgridcolor": "white",
             "startlinecolor": "#2a3f5f"
            },
            "type": "carpet"
           }
          ],
          "choropleth": [
           {
            "colorbar": {
             "outlinewidth": 0,
             "ticks": ""
            },
            "type": "choropleth"
           }
          ],
          "contour": [
           {
            "colorbar": {
             "outlinewidth": 0,
             "ticks": ""
            },
            "colorscale": [
             [
              0,
              "#0d0887"
             ],
             [
              0.1111111111111111,
              "#46039f"
             ],
             [
              0.2222222222222222,
              "#7201a8"
             ],
             [
              0.3333333333333333,
              "#9c179e"
             ],
             [
              0.4444444444444444,
              "#bd3786"
             ],
             [
              0.5555555555555556,
              "#d8576b"
             ],
             [
              0.6666666666666666,
              "#ed7953"
             ],
             [
              0.7777777777777778,
              "#fb9f3a"
             ],
             [
              0.8888888888888888,
              "#fdca26"
             ],
             [
              1,
              "#f0f921"
             ]
            ],
            "type": "contour"
           }
          ],
          "contourcarpet": [
           {
            "colorbar": {
             "outlinewidth": 0,
             "ticks": ""
            },
            "type": "contourcarpet"
           }
          ],
          "heatmap": [
           {
            "colorbar": {
             "outlinewidth": 0,
             "ticks": ""
            },
            "colorscale": [
             [
              0,
              "#0d0887"
             ],
             [
              0.1111111111111111,
              "#46039f"
             ],
             [
              0.2222222222222222,
              "#7201a8"
             ],
             [
              0.3333333333333333,
              "#9c179e"
             ],
             [
              0.4444444444444444,
              "#bd3786"
             ],
             [
              0.5555555555555556,
              "#d8576b"
             ],
             [
              0.6666666666666666,
              "#ed7953"
             ],
             [
              0.7777777777777778,
              "#fb9f3a"
             ],
             [
              0.8888888888888888,
              "#fdca26"
             ],
             [
              1,
              "#f0f921"
             ]
            ],
            "type": "heatmap"
           }
          ],
          "heatmapgl": [
           {
            "colorbar": {
             "outlinewidth": 0,
             "ticks": ""
            },
            "colorscale": [
             [
              0,
              "#0d0887"
             ],
             [
              0.1111111111111111,
              "#46039f"
             ],
             [
              0.2222222222222222,
              "#7201a8"
             ],
             [
              0.3333333333333333,
              "#9c179e"
             ],
             [
              0.4444444444444444,
              "#bd3786"
             ],
             [
              0.5555555555555556,
              "#d8576b"
             ],
             [
              0.6666666666666666,
              "#ed7953"
             ],
             [
              0.7777777777777778,
              "#fb9f3a"
             ],
             [
              0.8888888888888888,
              "#fdca26"
             ],
             [
              1,
              "#f0f921"
             ]
            ],
            "type": "heatmapgl"
           }
          ],
          "histogram": [
           {
            "marker": {
             "pattern": {
              "fillmode": "overlay",
              "size": 10,
              "solidity": 0.2
             }
            },
            "type": "histogram"
           }
          ],
          "histogram2d": [
           {
            "colorbar": {
             "outlinewidth": 0,
             "ticks": ""
            },
            "colorscale": [
             [
              0,
              "#0d0887"
             ],
             [
              0.1111111111111111,
              "#46039f"
             ],
             [
              0.2222222222222222,
              "#7201a8"
             ],
             [
              0.3333333333333333,
              "#9c179e"
             ],
             [
              0.4444444444444444,
              "#bd3786"
             ],
             [
              0.5555555555555556,
              "#d8576b"
             ],
             [
              0.6666666666666666,
              "#ed7953"
             ],
             [
              0.7777777777777778,
              "#fb9f3a"
             ],
             [
              0.8888888888888888,
              "#fdca26"
             ],
             [
              1,
              "#f0f921"
             ]
            ],
            "type": "histogram2d"
           }
          ],
          "histogram2dcontour": [
           {
            "colorbar": {
             "outlinewidth": 0,
             "ticks": ""
            },
            "colorscale": [
             [
              0,
              "#0d0887"
             ],
             [
              0.1111111111111111,
              "#46039f"
             ],
             [
              0.2222222222222222,
              "#7201a8"
             ],
             [
              0.3333333333333333,
              "#9c179e"
             ],
             [
              0.4444444444444444,
              "#bd3786"
             ],
             [
              0.5555555555555556,
              "#d8576b"
             ],
             [
              0.6666666666666666,
              "#ed7953"
             ],
             [
              0.7777777777777778,
              "#fb9f3a"
             ],
             [
              0.8888888888888888,
              "#fdca26"
             ],
             [
              1,
              "#f0f921"
             ]
            ],
            "type": "histogram2dcontour"
           }
          ],
          "mesh3d": [
           {
            "colorbar": {
             "outlinewidth": 0,
             "ticks": ""
            },
            "type": "mesh3d"
           }
          ],
          "parcoords": [
           {
            "line": {
             "colorbar": {
              "outlinewidth": 0,
              "ticks": ""
             }
            },
            "type": "parcoords"
           }
          ],
          "pie": [
           {
            "automargin": true,
            "type": "pie"
           }
          ],
          "scatter": [
           {
            "fillpattern": {
             "fillmode": "overlay",
             "size": 10,
             "solidity": 0.2
            },
            "type": "scatter"
           }
          ],
          "scatter3d": [
           {
            "line": {
             "colorbar": {
              "outlinewidth": 0,
              "ticks": ""
             }
            },
            "marker": {
             "colorbar": {
              "outlinewidth": 0,
              "ticks": ""
             }
            },
            "type": "scatter3d"
           }
          ],
          "scattercarpet": [
           {
            "marker": {
             "colorbar": {
              "outlinewidth": 0,
              "ticks": ""
             }
            },
            "type": "scattercarpet"
           }
          ],
          "scattergeo": [
           {
            "marker": {
             "colorbar": {
              "outlinewidth": 0,
              "ticks": ""
             }
            },
            "type": "scattergeo"
           }
          ],
          "scattergl": [
           {
            "marker": {
             "colorbar": {
              "outlinewidth": 0,
              "ticks": ""
             }
            },
            "type": "scattergl"
           }
          ],
          "scattermapbox": [
           {
            "marker": {
             "colorbar": {
              "outlinewidth": 0,
              "ticks": ""
             }
            },
            "type": "scattermapbox"
           }
          ],
          "scatterpolar": [
           {
            "marker": {
             "colorbar": {
              "outlinewidth": 0,
              "ticks": ""
             }
            },
            "type": "scatterpolar"
           }
          ],
          "scatterpolargl": [
           {
            "marker": {
             "colorbar": {
              "outlinewidth": 0,
              "ticks": ""
             }
            },
            "type": "scatterpolargl"
           }
          ],
          "scatterternary": [
           {
            "marker": {
             "colorbar": {
              "outlinewidth": 0,
              "ticks": ""
             }
            },
            "type": "scatterternary"
           }
          ],
          "surface": [
           {
            "colorbar": {
             "outlinewidth": 0,
             "ticks": ""
            },
            "colorscale": [
             [
              0,
              "#0d0887"
             ],
             [
              0.1111111111111111,
              "#46039f"
             ],
             [
              0.2222222222222222,
              "#7201a8"
             ],
             [
              0.3333333333333333,
              "#9c179e"
             ],
             [
              0.4444444444444444,
              "#bd3786"
             ],
             [
              0.5555555555555556,
              "#d8576b"
             ],
             [
              0.6666666666666666,
              "#ed7953"
             ],
             [
              0.7777777777777778,
              "#fb9f3a"
             ],
             [
              0.8888888888888888,
              "#fdca26"
             ],
             [
              1,
              "#f0f921"
             ]
            ],
            "type": "surface"
           }
          ],
          "table": [
           {
            "cells": {
             "fill": {
              "color": "#EBF0F8"
             },
             "line": {
              "color": "white"
             }
            },
            "header": {
             "fill": {
              "color": "#C8D4E3"
             },
             "line": {
              "color": "white"
             }
            },
            "type": "table"
           }
          ]
         },
         "layout": {
          "annotationdefaults": {
           "arrowcolor": "#2a3f5f",
           "arrowhead": 0,
           "arrowwidth": 1
          },
          "autotypenumbers": "strict",
          "coloraxis": {
           "colorbar": {
            "outlinewidth": 0,
            "ticks": ""
           }
          },
          "colorscale": {
           "diverging": [
            [
             0,
             "#8e0152"
            ],
            [
             0.1,
             "#c51b7d"
            ],
            [
             0.2,
             "#de77ae"
            ],
            [
             0.3,
             "#f1b6da"
            ],
            [
             0.4,
             "#fde0ef"
            ],
            [
             0.5,
             "#f7f7f7"
            ],
            [
             0.6,
             "#e6f5d0"
            ],
            [
             0.7,
             "#b8e186"
            ],
            [
             0.8,
             "#7fbc41"
            ],
            [
             0.9,
             "#4d9221"
            ],
            [
             1,
             "#276419"
            ]
           ],
           "sequential": [
            [
             0,
             "#0d0887"
            ],
            [
             0.1111111111111111,
             "#46039f"
            ],
            [
             0.2222222222222222,
             "#7201a8"
            ],
            [
             0.3333333333333333,
             "#9c179e"
            ],
            [
             0.4444444444444444,
             "#bd3786"
            ],
            [
             0.5555555555555556,
             "#d8576b"
            ],
            [
             0.6666666666666666,
             "#ed7953"
            ],
            [
             0.7777777777777778,
             "#fb9f3a"
            ],
            [
             0.8888888888888888,
             "#fdca26"
            ],
            [
             1,
             "#f0f921"
            ]
           ],
           "sequentialminus": [
            [
             0,
             "#0d0887"
            ],
            [
             0.1111111111111111,
             "#46039f"
            ],
            [
             0.2222222222222222,
             "#7201a8"
            ],
            [
             0.3333333333333333,
             "#9c179e"
            ],
            [
             0.4444444444444444,
             "#bd3786"
            ],
            [
             0.5555555555555556,
             "#d8576b"
            ],
            [
             0.6666666666666666,
             "#ed7953"
            ],
            [
             0.7777777777777778,
             "#fb9f3a"
            ],
            [
             0.8888888888888888,
             "#fdca26"
            ],
            [
             1,
             "#f0f921"
            ]
           ]
          },
          "colorway": [
           "#636efa",
           "#EF553B",
           "#00cc96",
           "#ab63fa",
           "#FFA15A",
           "#19d3f3",
           "#FF6692",
           "#B6E880",
           "#FF97FF",
           "#FECB52"
          ],
          "font": {
           "color": "#2a3f5f"
          },
          "geo": {
           "bgcolor": "white",
           "lakecolor": "white",
           "landcolor": "#E5ECF6",
           "showlakes": true,
           "showland": true,
           "subunitcolor": "white"
          },
          "hoverlabel": {
           "align": "left"
          },
          "hovermode": "closest",
          "mapbox": {
           "style": "light"
          },
          "paper_bgcolor": "white",
          "plot_bgcolor": "#E5ECF6",
          "polar": {
           "angularaxis": {
            "gridcolor": "white",
            "linecolor": "white",
            "ticks": ""
           },
           "bgcolor": "#E5ECF6",
           "radialaxis": {
            "gridcolor": "white",
            "linecolor": "white",
            "ticks": ""
           }
          },
          "scene": {
           "xaxis": {
            "backgroundcolor": "#E5ECF6",
            "gridcolor": "white",
            "gridwidth": 2,
            "linecolor": "white",
            "showbackground": true,
            "ticks": "",
            "zerolinecolor": "white"
           },
           "yaxis": {
            "backgroundcolor": "#E5ECF6",
            "gridcolor": "white",
            "gridwidth": 2,
            "linecolor": "white",
            "showbackground": true,
            "ticks": "",
            "zerolinecolor": "white"
           },
           "zaxis": {
            "backgroundcolor": "#E5ECF6",
            "gridcolor": "white",
            "gridwidth": 2,
            "linecolor": "white",
            "showbackground": true,
            "ticks": "",
            "zerolinecolor": "white"
           }
          },
          "shapedefaults": {
           "line": {
            "color": "#2a3f5f"
           }
          },
          "ternary": {
           "aaxis": {
            "gridcolor": "white",
            "linecolor": "white",
            "ticks": ""
           },
           "baxis": {
            "gridcolor": "white",
            "linecolor": "white",
            "ticks": ""
           },
           "bgcolor": "#E5ECF6",
           "caxis": {
            "gridcolor": "white",
            "linecolor": "white",
            "ticks": ""
           }
          },
          "title": {
           "x": 0.05
          },
          "xaxis": {
           "automargin": true,
           "gridcolor": "white",
           "linecolor": "white",
           "ticks": "",
           "title": {
            "standoff": 15
           },
           "zerolinecolor": "white",
           "zerolinewidth": 2
          },
          "yaxis": {
           "automargin": true,
           "gridcolor": "white",
           "linecolor": "white",
           "ticks": "",
           "title": {
            "standoff": 15
           },
           "zerolinecolor": "white",
           "zerolinewidth": 2
          }
         }
        },
        "title": {
         "text": "FAIXA ETÁRIA DO ELEITORADO - SÃO JOSÉ DOS CAMPOS / 2020"
        },
        "xaxis": {
         "anchor": "y",
         "domain": [
          0,
          1
         ],
         "title": {
          "text": "Faixa Etária"
         }
        },
        "yaxis": {
         "anchor": "x",
         "domain": [
          0,
          1
         ],
         "title": {
          "text": "Eleitores"
         }
        }
       }
      },
      "text/html": [
       "<div>                            <div id=\"ea665a83-f867-4418-a474-3f53e0d8aa84\" class=\"plotly-graph-div\" style=\"height:525px; width:100%;\"></div>            <script type=\"text/javascript\">                require([\"plotly\"], function(Plotly) {                    window.PLOTLYENV=window.PLOTLYENV || {};                                    if (document.getElementById(\"ea665a83-f867-4418-a474-3f53e0d8aa84\")) {                    Plotly.newPlot(                        \"ea665a83-f867-4418-a474-3f53e0d8aa84\",                        [{\"alignmentgroup\":\"True\",\"hovertemplate\":\"Faixa Et\\u00e1ria=%{x}<br>Eleitores=%{y}<extra></extra>\",\"legendgroup\":\"\",\"marker\":{\"color\":\"#636efa\",\"pattern\":{\"shape\":\"\"}},\"name\":\"\",\"offsetgroup\":\"\",\"orientation\":\"v\",\"showlegend\":false,\"textposition\":\"auto\",\"x\":[\"100 anos ou mais              \",\"16 anos                       \",\"17 anos                       \",\"18 anos                       \",\"19 anos                       \",\"20 anos                       \",\"21 a 24 anos                  \",\"25 a 29 anos                  \",\"30 a 34 anos                  \",\"35 a 39 anos                  \",\"40 a 44 anos                  \",\"45 a 49 anos                  \",\"50 a 54 anos                  \",\"55 a 59 anos                  \",\"60 a 64 anos                  \",\"65 a 69 anos                  \",\"70 a 74 anos                  \",\"75 a 79 anos                  \",\"80 a 84 anos                  \",\"85 a 89 anos                  \",\"90 a 94 anos                  \",\"95 a 99 anos                  \",\"Inv\\u00e1lido                      \"],\"xaxis\":\"x\",\"y\":[165,96,1417,4541,8120,9886,41500,52889,57296,61464,57223,49126,44443,41872,36183,28657,19581,11517,6956,3814,2325,1428,2],\"yaxis\":\"y\",\"type\":\"bar\"}],                        {\"template\":{\"data\":{\"histogram2dcontour\":[{\"type\":\"histogram2dcontour\",\"colorbar\":{\"outlinewidth\":0,\"ticks\":\"\"},\"colorscale\":[[0.0,\"#0d0887\"],[0.1111111111111111,\"#46039f\"],[0.2222222222222222,\"#7201a8\"],[0.3333333333333333,\"#9c179e\"],[0.4444444444444444,\"#bd3786\"],[0.5555555555555556,\"#d8576b\"],[0.6666666666666666,\"#ed7953\"],[0.7777777777777778,\"#fb9f3a\"],[0.8888888888888888,\"#fdca26\"],[1.0,\"#f0f921\"]]}],\"choropleth\":[{\"type\":\"choropleth\",\"colorbar\":{\"outlinewidth\":0,\"ticks\":\"\"}}],\"histogram2d\":[{\"type\":\"histogram2d\",\"colorbar\":{\"outlinewidth\":0,\"ticks\":\"\"},\"colorscale\":[[0.0,\"#0d0887\"],[0.1111111111111111,\"#46039f\"],[0.2222222222222222,\"#7201a8\"],[0.3333333333333333,\"#9c179e\"],[0.4444444444444444,\"#bd3786\"],[0.5555555555555556,\"#d8576b\"],[0.6666666666666666,\"#ed7953\"],[0.7777777777777778,\"#fb9f3a\"],[0.8888888888888888,\"#fdca26\"],[1.0,\"#f0f921\"]]}],\"heatmap\":[{\"type\":\"heatmap\",\"colorbar\":{\"outlinewidth\":0,\"ticks\":\"\"},\"colorscale\":[[0.0,\"#0d0887\"],[0.1111111111111111,\"#46039f\"],[0.2222222222222222,\"#7201a8\"],[0.3333333333333333,\"#9c179e\"],[0.4444444444444444,\"#bd3786\"],[0.5555555555555556,\"#d8576b\"],[0.6666666666666666,\"#ed7953\"],[0.7777777777777778,\"#fb9f3a\"],[0.8888888888888888,\"#fdca26\"],[1.0,\"#f0f921\"]]}],\"heatmapgl\":[{\"type\":\"heatmapgl\",\"colorbar\":{\"outlinewidth\":0,\"ticks\":\"\"},\"colorscale\":[[0.0,\"#0d0887\"],[0.1111111111111111,\"#46039f\"],[0.2222222222222222,\"#7201a8\"],[0.3333333333333333,\"#9c179e\"],[0.4444444444444444,\"#bd3786\"],[0.5555555555555556,\"#d8576b\"],[0.6666666666666666,\"#ed7953\"],[0.7777777777777778,\"#fb9f3a\"],[0.8888888888888888,\"#fdca26\"],[1.0,\"#f0f921\"]]}],\"contourcarpet\":[{\"type\":\"contourcarpet\",\"colorbar\":{\"outlinewidth\":0,\"ticks\":\"\"}}],\"contour\":[{\"type\":\"contour\",\"colorbar\":{\"outlinewidth\":0,\"ticks\":\"\"},\"colorscale\":[[0.0,\"#0d0887\"],[0.1111111111111111,\"#46039f\"],[0.2222222222222222,\"#7201a8\"],[0.3333333333333333,\"#9c179e\"],[0.4444444444444444,\"#bd3786\"],[0.5555555555555556,\"#d8576b\"],[0.6666666666666666,\"#ed7953\"],[0.7777777777777778,\"#fb9f3a\"],[0.8888888888888888,\"#fdca26\"],[1.0,\"#f0f921\"]]}],\"surface\":[{\"type\":\"surface\",\"colorbar\":{\"outlinewidth\":0,\"ticks\":\"\"},\"colorscale\":[[0.0,\"#0d0887\"],[0.1111111111111111,\"#46039f\"],[0.2222222222222222,\"#7201a8\"],[0.3333333333333333,\"#9c179e\"],[0.4444444444444444,\"#bd3786\"],[0.5555555555555556,\"#d8576b\"],[0.6666666666666666,\"#ed7953\"],[0.7777777777777778,\"#fb9f3a\"],[0.8888888888888888,\"#fdca26\"],[1.0,\"#f0f921\"]]}],\"mesh3d\":[{\"type\":\"mesh3d\",\"colorbar\":{\"outlinewidth\":0,\"ticks\":\"\"}}],\"scatter\":[{\"fillpattern\":{\"fillmode\":\"overlay\",\"size\":10,\"solidity\":0.2},\"type\":\"scatter\"}],\"parcoords\":[{\"type\":\"parcoords\",\"line\":{\"colorbar\":{\"outlinewidth\":0,\"ticks\":\"\"}}}],\"scatterpolargl\":[{\"type\":\"scatterpolargl\",\"marker\":{\"colorbar\":{\"outlinewidth\":0,\"ticks\":\"\"}}}],\"bar\":[{\"error_x\":{\"color\":\"#2a3f5f\"},\"error_y\":{\"color\":\"#2a3f5f\"},\"marker\":{\"line\":{\"color\":\"#E5ECF6\",\"width\":0.5},\"pattern\":{\"fillmode\":\"overlay\",\"size\":10,\"solidity\":0.2}},\"type\":\"bar\"}],\"scattergeo\":[{\"type\":\"scattergeo\",\"marker\":{\"colorbar\":{\"outlinewidth\":0,\"ticks\":\"\"}}}],\"scatterpolar\":[{\"type\":\"scatterpolar\",\"marker\":{\"colorbar\":{\"outlinewidth\":0,\"ticks\":\"\"}}}],\"histogram\":[{\"marker\":{\"pattern\":{\"fillmode\":\"overlay\",\"size\":10,\"solidity\":0.2}},\"type\":\"histogram\"}],\"scattergl\":[{\"type\":\"scattergl\",\"marker\":{\"colorbar\":{\"outlinewidth\":0,\"ticks\":\"\"}}}],\"scatter3d\":[{\"type\":\"scatter3d\",\"line\":{\"colorbar\":{\"outlinewidth\":0,\"ticks\":\"\"}},\"marker\":{\"colorbar\":{\"outlinewidth\":0,\"ticks\":\"\"}}}],\"scattermapbox\":[{\"type\":\"scattermapbox\",\"marker\":{\"colorbar\":{\"outlinewidth\":0,\"ticks\":\"\"}}}],\"scatterternary\":[{\"type\":\"scatterternary\",\"marker\":{\"colorbar\":{\"outlinewidth\":0,\"ticks\":\"\"}}}],\"scattercarpet\":[{\"type\":\"scattercarpet\",\"marker\":{\"colorbar\":{\"outlinewidth\":0,\"ticks\":\"\"}}}],\"carpet\":[{\"aaxis\":{\"endlinecolor\":\"#2a3f5f\",\"gridcolor\":\"white\",\"linecolor\":\"white\",\"minorgridcolor\":\"white\",\"startlinecolor\":\"#2a3f5f\"},\"baxis\":{\"endlinecolor\":\"#2a3f5f\",\"gridcolor\":\"white\",\"linecolor\":\"white\",\"minorgridcolor\":\"white\",\"startlinecolor\":\"#2a3f5f\"},\"type\":\"carpet\"}],\"table\":[{\"cells\":{\"fill\":{\"color\":\"#EBF0F8\"},\"line\":{\"color\":\"white\"}},\"header\":{\"fill\":{\"color\":\"#C8D4E3\"},\"line\":{\"color\":\"white\"}},\"type\":\"table\"}],\"barpolar\":[{\"marker\":{\"line\":{\"color\":\"#E5ECF6\",\"width\":0.5},\"pattern\":{\"fillmode\":\"overlay\",\"size\":10,\"solidity\":0.2}},\"type\":\"barpolar\"}],\"pie\":[{\"automargin\":true,\"type\":\"pie\"}]},\"layout\":{\"autotypenumbers\":\"strict\",\"colorway\":[\"#636efa\",\"#EF553B\",\"#00cc96\",\"#ab63fa\",\"#FFA15A\",\"#19d3f3\",\"#FF6692\",\"#B6E880\",\"#FF97FF\",\"#FECB52\"],\"font\":{\"color\":\"#2a3f5f\"},\"hovermode\":\"closest\",\"hoverlabel\":{\"align\":\"left\"},\"paper_bgcolor\":\"white\",\"plot_bgcolor\":\"#E5ECF6\",\"polar\":{\"bgcolor\":\"#E5ECF6\",\"angularaxis\":{\"gridcolor\":\"white\",\"linecolor\":\"white\",\"ticks\":\"\"},\"radialaxis\":{\"gridcolor\":\"white\",\"linecolor\":\"white\",\"ticks\":\"\"}},\"ternary\":{\"bgcolor\":\"#E5ECF6\",\"aaxis\":{\"gridcolor\":\"white\",\"linecolor\":\"white\",\"ticks\":\"\"},\"baxis\":{\"gridcolor\":\"white\",\"linecolor\":\"white\",\"ticks\":\"\"},\"caxis\":{\"gridcolor\":\"white\",\"linecolor\":\"white\",\"ticks\":\"\"}},\"coloraxis\":{\"colorbar\":{\"outlinewidth\":0,\"ticks\":\"\"}},\"colorscale\":{\"sequential\":[[0.0,\"#0d0887\"],[0.1111111111111111,\"#46039f\"],[0.2222222222222222,\"#7201a8\"],[0.3333333333333333,\"#9c179e\"],[0.4444444444444444,\"#bd3786\"],[0.5555555555555556,\"#d8576b\"],[0.6666666666666666,\"#ed7953\"],[0.7777777777777778,\"#fb9f3a\"],[0.8888888888888888,\"#fdca26\"],[1.0,\"#f0f921\"]],\"sequentialminus\":[[0.0,\"#0d0887\"],[0.1111111111111111,\"#46039f\"],[0.2222222222222222,\"#7201a8\"],[0.3333333333333333,\"#9c179e\"],[0.4444444444444444,\"#bd3786\"],[0.5555555555555556,\"#d8576b\"],[0.6666666666666666,\"#ed7953\"],[0.7777777777777778,\"#fb9f3a\"],[0.8888888888888888,\"#fdca26\"],[1.0,\"#f0f921\"]],\"diverging\":[[0,\"#8e0152\"],[0.1,\"#c51b7d\"],[0.2,\"#de77ae\"],[0.3,\"#f1b6da\"],[0.4,\"#fde0ef\"],[0.5,\"#f7f7f7\"],[0.6,\"#e6f5d0\"],[0.7,\"#b8e186\"],[0.8,\"#7fbc41\"],[0.9,\"#4d9221\"],[1,\"#276419\"]]},\"xaxis\":{\"gridcolor\":\"white\",\"linecolor\":\"white\",\"ticks\":\"\",\"title\":{\"standoff\":15},\"zerolinecolor\":\"white\",\"automargin\":true,\"zerolinewidth\":2},\"yaxis\":{\"gridcolor\":\"white\",\"linecolor\":\"white\",\"ticks\":\"\",\"title\":{\"standoff\":15},\"zerolinecolor\":\"white\",\"automargin\":true,\"zerolinewidth\":2},\"scene\":{\"xaxis\":{\"backgroundcolor\":\"#E5ECF6\",\"gridcolor\":\"white\",\"linecolor\":\"white\",\"showbackground\":true,\"ticks\":\"\",\"zerolinecolor\":\"white\",\"gridwidth\":2},\"yaxis\":{\"backgroundcolor\":\"#E5ECF6\",\"gridcolor\":\"white\",\"linecolor\":\"white\",\"showbackground\":true,\"ticks\":\"\",\"zerolinecolor\":\"white\",\"gridwidth\":2},\"zaxis\":{\"backgroundcolor\":\"#E5ECF6\",\"gridcolor\":\"white\",\"linecolor\":\"white\",\"showbackground\":true,\"ticks\":\"\",\"zerolinecolor\":\"white\",\"gridwidth\":2}},\"shapedefaults\":{\"line\":{\"color\":\"#2a3f5f\"}},\"annotationdefaults\":{\"arrowcolor\":\"#2a3f5f\",\"arrowhead\":0,\"arrowwidth\":1},\"geo\":{\"bgcolor\":\"white\",\"landcolor\":\"#E5ECF6\",\"subunitcolor\":\"white\",\"showland\":true,\"showlakes\":true,\"lakecolor\":\"white\"},\"title\":{\"x\":0.05},\"mapbox\":{\"style\":\"light\"}}},\"xaxis\":{\"anchor\":\"y\",\"domain\":[0.0,1.0],\"title\":{\"text\":\"Faixa Et\\u00e1ria\"}},\"yaxis\":{\"anchor\":\"x\",\"domain\":[0.0,1.0],\"title\":{\"text\":\"Eleitores\"}},\"legend\":{\"tracegroupgap\":0},\"title\":{\"text\":\"FAIXA ET\\u00c1RIA DO ELEITORADO - S\\u00c3O JOS\\u00c9 DOS CAMPOS / 2020\"},\"barmode\":\"relative\"},                        {\"responsive\": true}                    ).then(function(){\n",
       "                            \n",
       "var gd = document.getElementById('ea665a83-f867-4418-a474-3f53e0d8aa84');\n",
       "var x = new MutationObserver(function (mutations, observer) {{\n",
       "        var display = window.getComputedStyle(gd).display;\n",
       "        if (!display || display === 'none') {{\n",
       "            console.log([gd, 'removed!']);\n",
       "            Plotly.purge(gd);\n",
       "            observer.disconnect();\n",
       "        }}\n",
       "}});\n",
       "\n",
       "// Listen for the removal of the full notebook cells\n",
       "var notebookContainer = gd.closest('#notebook-container');\n",
       "if (notebookContainer) {{\n",
       "    x.observe(notebookContainer, {childList: true});\n",
       "}}\n",
       "\n",
       "// Listen for the clearing of the current output cell\n",
       "var outputEl = gd.closest('.output');\n",
       "if (outputEl) {{\n",
       "    x.observe(outputEl, {childList: true});\n",
       "}}\n",
       "\n",
       "                        })                };                });            </script>        </div>"
      ]
     },
     "metadata": {},
     "output_type": "display_data"
    }
   ],
   "source": [
    "fig=px.bar(total_eleitores_faixaetaria, x= total_eleitores_faixaetaria.index, y=total_eleitores_faixaetaria.values,\n",
    "          title=\"FAIXA ETÁRIA DO ELEITORADO - \" + municipio1.upper() + \" / \" + str(eleicao_ano), \n",
    "          labels={'y':'Eleitores', 'DS_FAIXA_ETARIA':'Faixa Etária'})\n",
    "\n",
    "fig.show()"
   ]
  },
  {
   "cell_type": "code",
   "execution_count": null,
   "id": "c077d15b",
   "metadata": {},
   "outputs": [],
   "source": []
  },
  {
   "cell_type": "code",
   "execution_count": 63,
   "id": "3e6e33a9",
   "metadata": {},
   "outputs": [
    {
     "data": {
      "application/vnd.plotly.v1+json": {
       "config": {
        "plotlyServerURL": "https://plot.ly"
       },
       "data": [
        {
         "alignmentgroup": "True",
         "hovertemplate": "Escolaridade=%{x}<br>Eleitores=%{y}<extra></extra>",
         "legendgroup": "",
         "marker": {
          "color": "#636efa",
          "pattern": {
           "shape": ""
          }
         },
         "name": "",
         "offsetgroup": "",
         "orientation": "v",
         "showlegend": false,
         "textposition": "auto",
         "type": "bar",
         "x": [
          "ANALFABETO",
          "ENSINO FUNDAMENTAL COMPLETO",
          "ENSINO FUNDAMENTAL INCOMPLETO",
          "ENSINO MÉDIO COMPLETO",
          "ENSINO MÉDIO INCOMPLETO",
          "LÊ E ESCREVE",
          "SUPERIOR COMPLETO",
          "SUPERIOR INCOMPLETO"
         ],
         "xaxis": "x",
         "y": [
          7450,
          36895,
          80780,
          201805,
          53476,
          11406,
          114388,
          34301
         ],
         "yaxis": "y"
        }
       ],
       "layout": {
        "barmode": "relative",
        "legend": {
         "tracegroupgap": 0
        },
        "template": {
         "data": {
          "bar": [
           {
            "error_x": {
             "color": "#2a3f5f"
            },
            "error_y": {
             "color": "#2a3f5f"
            },
            "marker": {
             "line": {
              "color": "#E5ECF6",
              "width": 0.5
             },
             "pattern": {
              "fillmode": "overlay",
              "size": 10,
              "solidity": 0.2
             }
            },
            "type": "bar"
           }
          ],
          "barpolar": [
           {
            "marker": {
             "line": {
              "color": "#E5ECF6",
              "width": 0.5
             },
             "pattern": {
              "fillmode": "overlay",
              "size": 10,
              "solidity": 0.2
             }
            },
            "type": "barpolar"
           }
          ],
          "carpet": [
           {
            "aaxis": {
             "endlinecolor": "#2a3f5f",
             "gridcolor": "white",
             "linecolor": "white",
             "minorgridcolor": "white",
             "startlinecolor": "#2a3f5f"
            },
            "baxis": {
             "endlinecolor": "#2a3f5f",
             "gridcolor": "white",
             "linecolor": "white",
             "minorgridcolor": "white",
             "startlinecolor": "#2a3f5f"
            },
            "type": "carpet"
           }
          ],
          "choropleth": [
           {
            "colorbar": {
             "outlinewidth": 0,
             "ticks": ""
            },
            "type": "choropleth"
           }
          ],
          "contour": [
           {
            "colorbar": {
             "outlinewidth": 0,
             "ticks": ""
            },
            "colorscale": [
             [
              0,
              "#0d0887"
             ],
             [
              0.1111111111111111,
              "#46039f"
             ],
             [
              0.2222222222222222,
              "#7201a8"
             ],
             [
              0.3333333333333333,
              "#9c179e"
             ],
             [
              0.4444444444444444,
              "#bd3786"
             ],
             [
              0.5555555555555556,
              "#d8576b"
             ],
             [
              0.6666666666666666,
              "#ed7953"
             ],
             [
              0.7777777777777778,
              "#fb9f3a"
             ],
             [
              0.8888888888888888,
              "#fdca26"
             ],
             [
              1,
              "#f0f921"
             ]
            ],
            "type": "contour"
           }
          ],
          "contourcarpet": [
           {
            "colorbar": {
             "outlinewidth": 0,
             "ticks": ""
            },
            "type": "contourcarpet"
           }
          ],
          "heatmap": [
           {
            "colorbar": {
             "outlinewidth": 0,
             "ticks": ""
            },
            "colorscale": [
             [
              0,
              "#0d0887"
             ],
             [
              0.1111111111111111,
              "#46039f"
             ],
             [
              0.2222222222222222,
              "#7201a8"
             ],
             [
              0.3333333333333333,
              "#9c179e"
             ],
             [
              0.4444444444444444,
              "#bd3786"
             ],
             [
              0.5555555555555556,
              "#d8576b"
             ],
             [
              0.6666666666666666,
              "#ed7953"
             ],
             [
              0.7777777777777778,
              "#fb9f3a"
             ],
             [
              0.8888888888888888,
              "#fdca26"
             ],
             [
              1,
              "#f0f921"
             ]
            ],
            "type": "heatmap"
           }
          ],
          "heatmapgl": [
           {
            "colorbar": {
             "outlinewidth": 0,
             "ticks": ""
            },
            "colorscale": [
             [
              0,
              "#0d0887"
             ],
             [
              0.1111111111111111,
              "#46039f"
             ],
             [
              0.2222222222222222,
              "#7201a8"
             ],
             [
              0.3333333333333333,
              "#9c179e"
             ],
             [
              0.4444444444444444,
              "#bd3786"
             ],
             [
              0.5555555555555556,
              "#d8576b"
             ],
             [
              0.6666666666666666,
              "#ed7953"
             ],
             [
              0.7777777777777778,
              "#fb9f3a"
             ],
             [
              0.8888888888888888,
              "#fdca26"
             ],
             [
              1,
              "#f0f921"
             ]
            ],
            "type": "heatmapgl"
           }
          ],
          "histogram": [
           {
            "marker": {
             "pattern": {
              "fillmode": "overlay",
              "size": 10,
              "solidity": 0.2
             }
            },
            "type": "histogram"
           }
          ],
          "histogram2d": [
           {
            "colorbar": {
             "outlinewidth": 0,
             "ticks": ""
            },
            "colorscale": [
             [
              0,
              "#0d0887"
             ],
             [
              0.1111111111111111,
              "#46039f"
             ],
             [
              0.2222222222222222,
              "#7201a8"
             ],
             [
              0.3333333333333333,
              "#9c179e"
             ],
             [
              0.4444444444444444,
              "#bd3786"
             ],
             [
              0.5555555555555556,
              "#d8576b"
             ],
             [
              0.6666666666666666,
              "#ed7953"
             ],
             [
              0.7777777777777778,
              "#fb9f3a"
             ],
             [
              0.8888888888888888,
              "#fdca26"
             ],
             [
              1,
              "#f0f921"
             ]
            ],
            "type": "histogram2d"
           }
          ],
          "histogram2dcontour": [
           {
            "colorbar": {
             "outlinewidth": 0,
             "ticks": ""
            },
            "colorscale": [
             [
              0,
              "#0d0887"
             ],
             [
              0.1111111111111111,
              "#46039f"
             ],
             [
              0.2222222222222222,
              "#7201a8"
             ],
             [
              0.3333333333333333,
              "#9c179e"
             ],
             [
              0.4444444444444444,
              "#bd3786"
             ],
             [
              0.5555555555555556,
              "#d8576b"
             ],
             [
              0.6666666666666666,
              "#ed7953"
             ],
             [
              0.7777777777777778,
              "#fb9f3a"
             ],
             [
              0.8888888888888888,
              "#fdca26"
             ],
             [
              1,
              "#f0f921"
             ]
            ],
            "type": "histogram2dcontour"
           }
          ],
          "mesh3d": [
           {
            "colorbar": {
             "outlinewidth": 0,
             "ticks": ""
            },
            "type": "mesh3d"
           }
          ],
          "parcoords": [
           {
            "line": {
             "colorbar": {
              "outlinewidth": 0,
              "ticks": ""
             }
            },
            "type": "parcoords"
           }
          ],
          "pie": [
           {
            "automargin": true,
            "type": "pie"
           }
          ],
          "scatter": [
           {
            "fillpattern": {
             "fillmode": "overlay",
             "size": 10,
             "solidity": 0.2
            },
            "type": "scatter"
           }
          ],
          "scatter3d": [
           {
            "line": {
             "colorbar": {
              "outlinewidth": 0,
              "ticks": ""
             }
            },
            "marker": {
             "colorbar": {
              "outlinewidth": 0,
              "ticks": ""
             }
            },
            "type": "scatter3d"
           }
          ],
          "scattercarpet": [
           {
            "marker": {
             "colorbar": {
              "outlinewidth": 0,
              "ticks": ""
             }
            },
            "type": "scattercarpet"
           }
          ],
          "scattergeo": [
           {
            "marker": {
             "colorbar": {
              "outlinewidth": 0,
              "ticks": ""
             }
            },
            "type": "scattergeo"
           }
          ],
          "scattergl": [
           {
            "marker": {
             "colorbar": {
              "outlinewidth": 0,
              "ticks": ""
             }
            },
            "type": "scattergl"
           }
          ],
          "scattermapbox": [
           {
            "marker": {
             "colorbar": {
              "outlinewidth": 0,
              "ticks": ""
             }
            },
            "type": "scattermapbox"
           }
          ],
          "scatterpolar": [
           {
            "marker": {
             "colorbar": {
              "outlinewidth": 0,
              "ticks": ""
             }
            },
            "type": "scatterpolar"
           }
          ],
          "scatterpolargl": [
           {
            "marker": {
             "colorbar": {
              "outlinewidth": 0,
              "ticks": ""
             }
            },
            "type": "scatterpolargl"
           }
          ],
          "scatterternary": [
           {
            "marker": {
             "colorbar": {
              "outlinewidth": 0,
              "ticks": ""
             }
            },
            "type": "scatterternary"
           }
          ],
          "surface": [
           {
            "colorbar": {
             "outlinewidth": 0,
             "ticks": ""
            },
            "colorscale": [
             [
              0,
              "#0d0887"
             ],
             [
              0.1111111111111111,
              "#46039f"
             ],
             [
              0.2222222222222222,
              "#7201a8"
             ],
             [
              0.3333333333333333,
              "#9c179e"
             ],
             [
              0.4444444444444444,
              "#bd3786"
             ],
             [
              0.5555555555555556,
              "#d8576b"
             ],
             [
              0.6666666666666666,
              "#ed7953"
             ],
             [
              0.7777777777777778,
              "#fb9f3a"
             ],
             [
              0.8888888888888888,
              "#fdca26"
             ],
             [
              1,
              "#f0f921"
             ]
            ],
            "type": "surface"
           }
          ],
          "table": [
           {
            "cells": {
             "fill": {
              "color": "#EBF0F8"
             },
             "line": {
              "color": "white"
             }
            },
            "header": {
             "fill": {
              "color": "#C8D4E3"
             },
             "line": {
              "color": "white"
             }
            },
            "type": "table"
           }
          ]
         },
         "layout": {
          "annotationdefaults": {
           "arrowcolor": "#2a3f5f",
           "arrowhead": 0,
           "arrowwidth": 1
          },
          "autotypenumbers": "strict",
          "coloraxis": {
           "colorbar": {
            "outlinewidth": 0,
            "ticks": ""
           }
          },
          "colorscale": {
           "diverging": [
            [
             0,
             "#8e0152"
            ],
            [
             0.1,
             "#c51b7d"
            ],
            [
             0.2,
             "#de77ae"
            ],
            [
             0.3,
             "#f1b6da"
            ],
            [
             0.4,
             "#fde0ef"
            ],
            [
             0.5,
             "#f7f7f7"
            ],
            [
             0.6,
             "#e6f5d0"
            ],
            [
             0.7,
             "#b8e186"
            ],
            [
             0.8,
             "#7fbc41"
            ],
            [
             0.9,
             "#4d9221"
            ],
            [
             1,
             "#276419"
            ]
           ],
           "sequential": [
            [
             0,
             "#0d0887"
            ],
            [
             0.1111111111111111,
             "#46039f"
            ],
            [
             0.2222222222222222,
             "#7201a8"
            ],
            [
             0.3333333333333333,
             "#9c179e"
            ],
            [
             0.4444444444444444,
             "#bd3786"
            ],
            [
             0.5555555555555556,
             "#d8576b"
            ],
            [
             0.6666666666666666,
             "#ed7953"
            ],
            [
             0.7777777777777778,
             "#fb9f3a"
            ],
            [
             0.8888888888888888,
             "#fdca26"
            ],
            [
             1,
             "#f0f921"
            ]
           ],
           "sequentialminus": [
            [
             0,
             "#0d0887"
            ],
            [
             0.1111111111111111,
             "#46039f"
            ],
            [
             0.2222222222222222,
             "#7201a8"
            ],
            [
             0.3333333333333333,
             "#9c179e"
            ],
            [
             0.4444444444444444,
             "#bd3786"
            ],
            [
             0.5555555555555556,
             "#d8576b"
            ],
            [
             0.6666666666666666,
             "#ed7953"
            ],
            [
             0.7777777777777778,
             "#fb9f3a"
            ],
            [
             0.8888888888888888,
             "#fdca26"
            ],
            [
             1,
             "#f0f921"
            ]
           ]
          },
          "colorway": [
           "#636efa",
           "#EF553B",
           "#00cc96",
           "#ab63fa",
           "#FFA15A",
           "#19d3f3",
           "#FF6692",
           "#B6E880",
           "#FF97FF",
           "#FECB52"
          ],
          "font": {
           "color": "#2a3f5f"
          },
          "geo": {
           "bgcolor": "white",
           "lakecolor": "white",
           "landcolor": "#E5ECF6",
           "showlakes": true,
           "showland": true,
           "subunitcolor": "white"
          },
          "hoverlabel": {
           "align": "left"
          },
          "hovermode": "closest",
          "mapbox": {
           "style": "light"
          },
          "paper_bgcolor": "white",
          "plot_bgcolor": "#E5ECF6",
          "polar": {
           "angularaxis": {
            "gridcolor": "white",
            "linecolor": "white",
            "ticks": ""
           },
           "bgcolor": "#E5ECF6",
           "radialaxis": {
            "gridcolor": "white",
            "linecolor": "white",
            "ticks": ""
           }
          },
          "scene": {
           "xaxis": {
            "backgroundcolor": "#E5ECF6",
            "gridcolor": "white",
            "gridwidth": 2,
            "linecolor": "white",
            "showbackground": true,
            "ticks": "",
            "zerolinecolor": "white"
           },
           "yaxis": {
            "backgroundcolor": "#E5ECF6",
            "gridcolor": "white",
            "gridwidth": 2,
            "linecolor": "white",
            "showbackground": true,
            "ticks": "",
            "zerolinecolor": "white"
           },
           "zaxis": {
            "backgroundcolor": "#E5ECF6",
            "gridcolor": "white",
            "gridwidth": 2,
            "linecolor": "white",
            "showbackground": true,
            "ticks": "",
            "zerolinecolor": "white"
           }
          },
          "shapedefaults": {
           "line": {
            "color": "#2a3f5f"
           }
          },
          "ternary": {
           "aaxis": {
            "gridcolor": "white",
            "linecolor": "white",
            "ticks": ""
           },
           "baxis": {
            "gridcolor": "white",
            "linecolor": "white",
            "ticks": ""
           },
           "bgcolor": "#E5ECF6",
           "caxis": {
            "gridcolor": "white",
            "linecolor": "white",
            "ticks": ""
           }
          },
          "title": {
           "x": 0.05
          },
          "xaxis": {
           "automargin": true,
           "gridcolor": "white",
           "linecolor": "white",
           "ticks": "",
           "title": {
            "standoff": 15
           },
           "zerolinecolor": "white",
           "zerolinewidth": 2
          },
          "yaxis": {
           "automargin": true,
           "gridcolor": "white",
           "linecolor": "white",
           "ticks": "",
           "title": {
            "standoff": 15
           },
           "zerolinecolor": "white",
           "zerolinewidth": 2
          }
         }
        },
        "title": {
         "text": "GRAU DE ESCOLARIDADE DO ELEITORADO - SÃO JOSÉ DOS CAMPOS / 2020"
        },
        "xaxis": {
         "anchor": "y",
         "domain": [
          0,
          1
         ],
         "title": {
          "text": "Escolaridade"
         }
        },
        "yaxis": {
         "anchor": "x",
         "domain": [
          0,
          1
         ],
         "title": {
          "text": "Eleitores"
         }
        }
       }
      },
      "text/html": [
       "<div>                            <div id=\"b93ad4ee-492c-4bd4-a147-bbab6186817d\" class=\"plotly-graph-div\" style=\"height:525px; width:100%;\"></div>            <script type=\"text/javascript\">                require([\"plotly\"], function(Plotly) {                    window.PLOTLYENV=window.PLOTLYENV || {};                                    if (document.getElementById(\"b93ad4ee-492c-4bd4-a147-bbab6186817d\")) {                    Plotly.newPlot(                        \"b93ad4ee-492c-4bd4-a147-bbab6186817d\",                        [{\"alignmentgroup\":\"True\",\"hovertemplate\":\"Escolaridade=%{x}<br>Eleitores=%{y}<extra></extra>\",\"legendgroup\":\"\",\"marker\":{\"color\":\"#636efa\",\"pattern\":{\"shape\":\"\"}},\"name\":\"\",\"offsetgroup\":\"\",\"orientation\":\"v\",\"showlegend\":false,\"textposition\":\"auto\",\"x\":[\"ANALFABETO\",\"ENSINO FUNDAMENTAL COMPLETO\",\"ENSINO FUNDAMENTAL INCOMPLETO\",\"ENSINO M\\u00c9DIO COMPLETO\",\"ENSINO M\\u00c9DIO INCOMPLETO\",\"L\\u00ca E ESCREVE\",\"SUPERIOR COMPLETO\",\"SUPERIOR INCOMPLETO\"],\"xaxis\":\"x\",\"y\":[7450,36895,80780,201805,53476,11406,114388,34301],\"yaxis\":\"y\",\"type\":\"bar\"}],                        {\"template\":{\"data\":{\"histogram2dcontour\":[{\"type\":\"histogram2dcontour\",\"colorbar\":{\"outlinewidth\":0,\"ticks\":\"\"},\"colorscale\":[[0.0,\"#0d0887\"],[0.1111111111111111,\"#46039f\"],[0.2222222222222222,\"#7201a8\"],[0.3333333333333333,\"#9c179e\"],[0.4444444444444444,\"#bd3786\"],[0.5555555555555556,\"#d8576b\"],[0.6666666666666666,\"#ed7953\"],[0.7777777777777778,\"#fb9f3a\"],[0.8888888888888888,\"#fdca26\"],[1.0,\"#f0f921\"]]}],\"choropleth\":[{\"type\":\"choropleth\",\"colorbar\":{\"outlinewidth\":0,\"ticks\":\"\"}}],\"histogram2d\":[{\"type\":\"histogram2d\",\"colorbar\":{\"outlinewidth\":0,\"ticks\":\"\"},\"colorscale\":[[0.0,\"#0d0887\"],[0.1111111111111111,\"#46039f\"],[0.2222222222222222,\"#7201a8\"],[0.3333333333333333,\"#9c179e\"],[0.4444444444444444,\"#bd3786\"],[0.5555555555555556,\"#d8576b\"],[0.6666666666666666,\"#ed7953\"],[0.7777777777777778,\"#fb9f3a\"],[0.8888888888888888,\"#fdca26\"],[1.0,\"#f0f921\"]]}],\"heatmap\":[{\"type\":\"heatmap\",\"colorbar\":{\"outlinewidth\":0,\"ticks\":\"\"},\"colorscale\":[[0.0,\"#0d0887\"],[0.1111111111111111,\"#46039f\"],[0.2222222222222222,\"#7201a8\"],[0.3333333333333333,\"#9c179e\"],[0.4444444444444444,\"#bd3786\"],[0.5555555555555556,\"#d8576b\"],[0.6666666666666666,\"#ed7953\"],[0.7777777777777778,\"#fb9f3a\"],[0.8888888888888888,\"#fdca26\"],[1.0,\"#f0f921\"]]}],\"heatmapgl\":[{\"type\":\"heatmapgl\",\"colorbar\":{\"outlinewidth\":0,\"ticks\":\"\"},\"colorscale\":[[0.0,\"#0d0887\"],[0.1111111111111111,\"#46039f\"],[0.2222222222222222,\"#7201a8\"],[0.3333333333333333,\"#9c179e\"],[0.4444444444444444,\"#bd3786\"],[0.5555555555555556,\"#d8576b\"],[0.6666666666666666,\"#ed7953\"],[0.7777777777777778,\"#fb9f3a\"],[0.8888888888888888,\"#fdca26\"],[1.0,\"#f0f921\"]]}],\"contourcarpet\":[{\"type\":\"contourcarpet\",\"colorbar\":{\"outlinewidth\":0,\"ticks\":\"\"}}],\"contour\":[{\"type\":\"contour\",\"colorbar\":{\"outlinewidth\":0,\"ticks\":\"\"},\"colorscale\":[[0.0,\"#0d0887\"],[0.1111111111111111,\"#46039f\"],[0.2222222222222222,\"#7201a8\"],[0.3333333333333333,\"#9c179e\"],[0.4444444444444444,\"#bd3786\"],[0.5555555555555556,\"#d8576b\"],[0.6666666666666666,\"#ed7953\"],[0.7777777777777778,\"#fb9f3a\"],[0.8888888888888888,\"#fdca26\"],[1.0,\"#f0f921\"]]}],\"surface\":[{\"type\":\"surface\",\"colorbar\":{\"outlinewidth\":0,\"ticks\":\"\"},\"colorscale\":[[0.0,\"#0d0887\"],[0.1111111111111111,\"#46039f\"],[0.2222222222222222,\"#7201a8\"],[0.3333333333333333,\"#9c179e\"],[0.4444444444444444,\"#bd3786\"],[0.5555555555555556,\"#d8576b\"],[0.6666666666666666,\"#ed7953\"],[0.7777777777777778,\"#fb9f3a\"],[0.8888888888888888,\"#fdca26\"],[1.0,\"#f0f921\"]]}],\"mesh3d\":[{\"type\":\"mesh3d\",\"colorbar\":{\"outlinewidth\":0,\"ticks\":\"\"}}],\"scatter\":[{\"fillpattern\":{\"fillmode\":\"overlay\",\"size\":10,\"solidity\":0.2},\"type\":\"scatter\"}],\"parcoords\":[{\"type\":\"parcoords\",\"line\":{\"colorbar\":{\"outlinewidth\":0,\"ticks\":\"\"}}}],\"scatterpolargl\":[{\"type\":\"scatterpolargl\",\"marker\":{\"colorbar\":{\"outlinewidth\":0,\"ticks\":\"\"}}}],\"bar\":[{\"error_x\":{\"color\":\"#2a3f5f\"},\"error_y\":{\"color\":\"#2a3f5f\"},\"marker\":{\"line\":{\"color\":\"#E5ECF6\",\"width\":0.5},\"pattern\":{\"fillmode\":\"overlay\",\"size\":10,\"solidity\":0.2}},\"type\":\"bar\"}],\"scattergeo\":[{\"type\":\"scattergeo\",\"marker\":{\"colorbar\":{\"outlinewidth\":0,\"ticks\":\"\"}}}],\"scatterpolar\":[{\"type\":\"scatterpolar\",\"marker\":{\"colorbar\":{\"outlinewidth\":0,\"ticks\":\"\"}}}],\"histogram\":[{\"marker\":{\"pattern\":{\"fillmode\":\"overlay\",\"size\":10,\"solidity\":0.2}},\"type\":\"histogram\"}],\"scattergl\":[{\"type\":\"scattergl\",\"marker\":{\"colorbar\":{\"outlinewidth\":0,\"ticks\":\"\"}}}],\"scatter3d\":[{\"type\":\"scatter3d\",\"line\":{\"colorbar\":{\"outlinewidth\":0,\"ticks\":\"\"}},\"marker\":{\"colorbar\":{\"outlinewidth\":0,\"ticks\":\"\"}}}],\"scattermapbox\":[{\"type\":\"scattermapbox\",\"marker\":{\"colorbar\":{\"outlinewidth\":0,\"ticks\":\"\"}}}],\"scatterternary\":[{\"type\":\"scatterternary\",\"marker\":{\"colorbar\":{\"outlinewidth\":0,\"ticks\":\"\"}}}],\"scattercarpet\":[{\"type\":\"scattercarpet\",\"marker\":{\"colorbar\":{\"outlinewidth\":0,\"ticks\":\"\"}}}],\"carpet\":[{\"aaxis\":{\"endlinecolor\":\"#2a3f5f\",\"gridcolor\":\"white\",\"linecolor\":\"white\",\"minorgridcolor\":\"white\",\"startlinecolor\":\"#2a3f5f\"},\"baxis\":{\"endlinecolor\":\"#2a3f5f\",\"gridcolor\":\"white\",\"linecolor\":\"white\",\"minorgridcolor\":\"white\",\"startlinecolor\":\"#2a3f5f\"},\"type\":\"carpet\"}],\"table\":[{\"cells\":{\"fill\":{\"color\":\"#EBF0F8\"},\"line\":{\"color\":\"white\"}},\"header\":{\"fill\":{\"color\":\"#C8D4E3\"},\"line\":{\"color\":\"white\"}},\"type\":\"table\"}],\"barpolar\":[{\"marker\":{\"line\":{\"color\":\"#E5ECF6\",\"width\":0.5},\"pattern\":{\"fillmode\":\"overlay\",\"size\":10,\"solidity\":0.2}},\"type\":\"barpolar\"}],\"pie\":[{\"automargin\":true,\"type\":\"pie\"}]},\"layout\":{\"autotypenumbers\":\"strict\",\"colorway\":[\"#636efa\",\"#EF553B\",\"#00cc96\",\"#ab63fa\",\"#FFA15A\",\"#19d3f3\",\"#FF6692\",\"#B6E880\",\"#FF97FF\",\"#FECB52\"],\"font\":{\"color\":\"#2a3f5f\"},\"hovermode\":\"closest\",\"hoverlabel\":{\"align\":\"left\"},\"paper_bgcolor\":\"white\",\"plot_bgcolor\":\"#E5ECF6\",\"polar\":{\"bgcolor\":\"#E5ECF6\",\"angularaxis\":{\"gridcolor\":\"white\",\"linecolor\":\"white\",\"ticks\":\"\"},\"radialaxis\":{\"gridcolor\":\"white\",\"linecolor\":\"white\",\"ticks\":\"\"}},\"ternary\":{\"bgcolor\":\"#E5ECF6\",\"aaxis\":{\"gridcolor\":\"white\",\"linecolor\":\"white\",\"ticks\":\"\"},\"baxis\":{\"gridcolor\":\"white\",\"linecolor\":\"white\",\"ticks\":\"\"},\"caxis\":{\"gridcolor\":\"white\",\"linecolor\":\"white\",\"ticks\":\"\"}},\"coloraxis\":{\"colorbar\":{\"outlinewidth\":0,\"ticks\":\"\"}},\"colorscale\":{\"sequential\":[[0.0,\"#0d0887\"],[0.1111111111111111,\"#46039f\"],[0.2222222222222222,\"#7201a8\"],[0.3333333333333333,\"#9c179e\"],[0.4444444444444444,\"#bd3786\"],[0.5555555555555556,\"#d8576b\"],[0.6666666666666666,\"#ed7953\"],[0.7777777777777778,\"#fb9f3a\"],[0.8888888888888888,\"#fdca26\"],[1.0,\"#f0f921\"]],\"sequentialminus\":[[0.0,\"#0d0887\"],[0.1111111111111111,\"#46039f\"],[0.2222222222222222,\"#7201a8\"],[0.3333333333333333,\"#9c179e\"],[0.4444444444444444,\"#bd3786\"],[0.5555555555555556,\"#d8576b\"],[0.6666666666666666,\"#ed7953\"],[0.7777777777777778,\"#fb9f3a\"],[0.8888888888888888,\"#fdca26\"],[1.0,\"#f0f921\"]],\"diverging\":[[0,\"#8e0152\"],[0.1,\"#c51b7d\"],[0.2,\"#de77ae\"],[0.3,\"#f1b6da\"],[0.4,\"#fde0ef\"],[0.5,\"#f7f7f7\"],[0.6,\"#e6f5d0\"],[0.7,\"#b8e186\"],[0.8,\"#7fbc41\"],[0.9,\"#4d9221\"],[1,\"#276419\"]]},\"xaxis\":{\"gridcolor\":\"white\",\"linecolor\":\"white\",\"ticks\":\"\",\"title\":{\"standoff\":15},\"zerolinecolor\":\"white\",\"automargin\":true,\"zerolinewidth\":2},\"yaxis\":{\"gridcolor\":\"white\",\"linecolor\":\"white\",\"ticks\":\"\",\"title\":{\"standoff\":15},\"zerolinecolor\":\"white\",\"automargin\":true,\"zerolinewidth\":2},\"scene\":{\"xaxis\":{\"backgroundcolor\":\"#E5ECF6\",\"gridcolor\":\"white\",\"linecolor\":\"white\",\"showbackground\":true,\"ticks\":\"\",\"zerolinecolor\":\"white\",\"gridwidth\":2},\"yaxis\":{\"backgroundcolor\":\"#E5ECF6\",\"gridcolor\":\"white\",\"linecolor\":\"white\",\"showbackground\":true,\"ticks\":\"\",\"zerolinecolor\":\"white\",\"gridwidth\":2},\"zaxis\":{\"backgroundcolor\":\"#E5ECF6\",\"gridcolor\":\"white\",\"linecolor\":\"white\",\"showbackground\":true,\"ticks\":\"\",\"zerolinecolor\":\"white\",\"gridwidth\":2}},\"shapedefaults\":{\"line\":{\"color\":\"#2a3f5f\"}},\"annotationdefaults\":{\"arrowcolor\":\"#2a3f5f\",\"arrowhead\":0,\"arrowwidth\":1},\"geo\":{\"bgcolor\":\"white\",\"landcolor\":\"#E5ECF6\",\"subunitcolor\":\"white\",\"showland\":true,\"showlakes\":true,\"lakecolor\":\"white\"},\"title\":{\"x\":0.05},\"mapbox\":{\"style\":\"light\"}}},\"xaxis\":{\"anchor\":\"y\",\"domain\":[0.0,1.0],\"title\":{\"text\":\"Escolaridade\"}},\"yaxis\":{\"anchor\":\"x\",\"domain\":[0.0,1.0],\"title\":{\"text\":\"Eleitores\"}},\"legend\":{\"tracegroupgap\":0},\"title\":{\"text\":\"GRAU DE ESCOLARIDADE DO ELEITORADO - S\\u00c3O JOS\\u00c9 DOS CAMPOS / 2020\"},\"barmode\":\"relative\"},                        {\"responsive\": true}                    ).then(function(){\n",
       "                            \n",
       "var gd = document.getElementById('b93ad4ee-492c-4bd4-a147-bbab6186817d');\n",
       "var x = new MutationObserver(function (mutations, observer) {{\n",
       "        var display = window.getComputedStyle(gd).display;\n",
       "        if (!display || display === 'none') {{\n",
       "            console.log([gd, 'removed!']);\n",
       "            Plotly.purge(gd);\n",
       "            observer.disconnect();\n",
       "        }}\n",
       "}});\n",
       "\n",
       "// Listen for the removal of the full notebook cells\n",
       "var notebookContainer = gd.closest('#notebook-container');\n",
       "if (notebookContainer) {{\n",
       "    x.observe(notebookContainer, {childList: true});\n",
       "}}\n",
       "\n",
       "// Listen for the clearing of the current output cell\n",
       "var outputEl = gd.closest('.output');\n",
       "if (outputEl) {{\n",
       "    x.observe(outputEl, {childList: true});\n",
       "}}\n",
       "\n",
       "                        })                };                });            </script>        </div>"
      ]
     },
     "metadata": {},
     "output_type": "display_data"
    }
   ],
   "source": [
    "fig=px.bar(total_eleitores_escolaridade, x= total_eleitores_escolaridade.index, y=total_eleitores_escolaridade.values,\n",
    "          title=\"GRAU DE ESCOLARIDADE DO ELEITORADO - \" + municipio1.upper() + \" / \" + str(eleicao_ano), \n",
    "          labels={'y':'Eleitores', 'DS_GRAU_ESCOLARIDADE':'Escolaridade'})\n",
    "\n",
    "fig.show()"
   ]
  },
  {
   "cell_type": "code",
   "execution_count": 64,
   "id": "6b02a4ef",
   "metadata": {},
   "outputs": [
    {
     "data": {
      "application/vnd.plotly.v1+json": {
       "config": {
        "plotlyServerURL": "https://plot.ly"
       },
       "data": [
        {
         "alignmentgroup": "True",
         "hovertemplate": "Estado Civil=%{x}<br>Eleitores=%{y}<extra></extra>",
         "legendgroup": "",
         "marker": {
          "color": "#636efa",
          "pattern": {
           "shape": ""
          }
         },
         "name": "",
         "offsetgroup": "",
         "orientation": "v",
         "showlegend": false,
         "textposition": "auto",
         "type": "bar",
         "x": [
          "CASADO",
          "SOLTEIRO",
          "DIVORCIADO",
          "VIÚVO",
          "SEPARADO JUDICIALMENTE",
          "NÃO INFORMADO"
         ],
         "xaxis": "x",
         "y": [
          251759,
          227978,
          33764,
          17846,
          9137,
          17
         ],
         "yaxis": "y"
        }
       ],
       "layout": {
        "barmode": "relative",
        "legend": {
         "tracegroupgap": 0
        },
        "template": {
         "data": {
          "bar": [
           {
            "error_x": {
             "color": "#2a3f5f"
            },
            "error_y": {
             "color": "#2a3f5f"
            },
            "marker": {
             "line": {
              "color": "#E5ECF6",
              "width": 0.5
             },
             "pattern": {
              "fillmode": "overlay",
              "size": 10,
              "solidity": 0.2
             }
            },
            "type": "bar"
           }
          ],
          "barpolar": [
           {
            "marker": {
             "line": {
              "color": "#E5ECF6",
              "width": 0.5
             },
             "pattern": {
              "fillmode": "overlay",
              "size": 10,
              "solidity": 0.2
             }
            },
            "type": "barpolar"
           }
          ],
          "carpet": [
           {
            "aaxis": {
             "endlinecolor": "#2a3f5f",
             "gridcolor": "white",
             "linecolor": "white",
             "minorgridcolor": "white",
             "startlinecolor": "#2a3f5f"
            },
            "baxis": {
             "endlinecolor": "#2a3f5f",
             "gridcolor": "white",
             "linecolor": "white",
             "minorgridcolor": "white",
             "startlinecolor": "#2a3f5f"
            },
            "type": "carpet"
           }
          ],
          "choropleth": [
           {
            "colorbar": {
             "outlinewidth": 0,
             "ticks": ""
            },
            "type": "choropleth"
           }
          ],
          "contour": [
           {
            "colorbar": {
             "outlinewidth": 0,
             "ticks": ""
            },
            "colorscale": [
             [
              0,
              "#0d0887"
             ],
             [
              0.1111111111111111,
              "#46039f"
             ],
             [
              0.2222222222222222,
              "#7201a8"
             ],
             [
              0.3333333333333333,
              "#9c179e"
             ],
             [
              0.4444444444444444,
              "#bd3786"
             ],
             [
              0.5555555555555556,
              "#d8576b"
             ],
             [
              0.6666666666666666,
              "#ed7953"
             ],
             [
              0.7777777777777778,
              "#fb9f3a"
             ],
             [
              0.8888888888888888,
              "#fdca26"
             ],
             [
              1,
              "#f0f921"
             ]
            ],
            "type": "contour"
           }
          ],
          "contourcarpet": [
           {
            "colorbar": {
             "outlinewidth": 0,
             "ticks": ""
            },
            "type": "contourcarpet"
           }
          ],
          "heatmap": [
           {
            "colorbar": {
             "outlinewidth": 0,
             "ticks": ""
            },
            "colorscale": [
             [
              0,
              "#0d0887"
             ],
             [
              0.1111111111111111,
              "#46039f"
             ],
             [
              0.2222222222222222,
              "#7201a8"
             ],
             [
              0.3333333333333333,
              "#9c179e"
             ],
             [
              0.4444444444444444,
              "#bd3786"
             ],
             [
              0.5555555555555556,
              "#d8576b"
             ],
             [
              0.6666666666666666,
              "#ed7953"
             ],
             [
              0.7777777777777778,
              "#fb9f3a"
             ],
             [
              0.8888888888888888,
              "#fdca26"
             ],
             [
              1,
              "#f0f921"
             ]
            ],
            "type": "heatmap"
           }
          ],
          "heatmapgl": [
           {
            "colorbar": {
             "outlinewidth": 0,
             "ticks": ""
            },
            "colorscale": [
             [
              0,
              "#0d0887"
             ],
             [
              0.1111111111111111,
              "#46039f"
             ],
             [
              0.2222222222222222,
              "#7201a8"
             ],
             [
              0.3333333333333333,
              "#9c179e"
             ],
             [
              0.4444444444444444,
              "#bd3786"
             ],
             [
              0.5555555555555556,
              "#d8576b"
             ],
             [
              0.6666666666666666,
              "#ed7953"
             ],
             [
              0.7777777777777778,
              "#fb9f3a"
             ],
             [
              0.8888888888888888,
              "#fdca26"
             ],
             [
              1,
              "#f0f921"
             ]
            ],
            "type": "heatmapgl"
           }
          ],
          "histogram": [
           {
            "marker": {
             "pattern": {
              "fillmode": "overlay",
              "size": 10,
              "solidity": 0.2
             }
            },
            "type": "histogram"
           }
          ],
          "histogram2d": [
           {
            "colorbar": {
             "outlinewidth": 0,
             "ticks": ""
            },
            "colorscale": [
             [
              0,
              "#0d0887"
             ],
             [
              0.1111111111111111,
              "#46039f"
             ],
             [
              0.2222222222222222,
              "#7201a8"
             ],
             [
              0.3333333333333333,
              "#9c179e"
             ],
             [
              0.4444444444444444,
              "#bd3786"
             ],
             [
              0.5555555555555556,
              "#d8576b"
             ],
             [
              0.6666666666666666,
              "#ed7953"
             ],
             [
              0.7777777777777778,
              "#fb9f3a"
             ],
             [
              0.8888888888888888,
              "#fdca26"
             ],
             [
              1,
              "#f0f921"
             ]
            ],
            "type": "histogram2d"
           }
          ],
          "histogram2dcontour": [
           {
            "colorbar": {
             "outlinewidth": 0,
             "ticks": ""
            },
            "colorscale": [
             [
              0,
              "#0d0887"
             ],
             [
              0.1111111111111111,
              "#46039f"
             ],
             [
              0.2222222222222222,
              "#7201a8"
             ],
             [
              0.3333333333333333,
              "#9c179e"
             ],
             [
              0.4444444444444444,
              "#bd3786"
             ],
             [
              0.5555555555555556,
              "#d8576b"
             ],
             [
              0.6666666666666666,
              "#ed7953"
             ],
             [
              0.7777777777777778,
              "#fb9f3a"
             ],
             [
              0.8888888888888888,
              "#fdca26"
             ],
             [
              1,
              "#f0f921"
             ]
            ],
            "type": "histogram2dcontour"
           }
          ],
          "mesh3d": [
           {
            "colorbar": {
             "outlinewidth": 0,
             "ticks": ""
            },
            "type": "mesh3d"
           }
          ],
          "parcoords": [
           {
            "line": {
             "colorbar": {
              "outlinewidth": 0,
              "ticks": ""
             }
            },
            "type": "parcoords"
           }
          ],
          "pie": [
           {
            "automargin": true,
            "type": "pie"
           }
          ],
          "scatter": [
           {
            "fillpattern": {
             "fillmode": "overlay",
             "size": 10,
             "solidity": 0.2
            },
            "type": "scatter"
           }
          ],
          "scatter3d": [
           {
            "line": {
             "colorbar": {
              "outlinewidth": 0,
              "ticks": ""
             }
            },
            "marker": {
             "colorbar": {
              "outlinewidth": 0,
              "ticks": ""
             }
            },
            "type": "scatter3d"
           }
          ],
          "scattercarpet": [
           {
            "marker": {
             "colorbar": {
              "outlinewidth": 0,
              "ticks": ""
             }
            },
            "type": "scattercarpet"
           }
          ],
          "scattergeo": [
           {
            "marker": {
             "colorbar": {
              "outlinewidth": 0,
              "ticks": ""
             }
            },
            "type": "scattergeo"
           }
          ],
          "scattergl": [
           {
            "marker": {
             "colorbar": {
              "outlinewidth": 0,
              "ticks": ""
             }
            },
            "type": "scattergl"
           }
          ],
          "scattermapbox": [
           {
            "marker": {
             "colorbar": {
              "outlinewidth": 0,
              "ticks": ""
             }
            },
            "type": "scattermapbox"
           }
          ],
          "scatterpolar": [
           {
            "marker": {
             "colorbar": {
              "outlinewidth": 0,
              "ticks": ""
             }
            },
            "type": "scatterpolar"
           }
          ],
          "scatterpolargl": [
           {
            "marker": {
             "colorbar": {
              "outlinewidth": 0,
              "ticks": ""
             }
            },
            "type": "scatterpolargl"
           }
          ],
          "scatterternary": [
           {
            "marker": {
             "colorbar": {
              "outlinewidth": 0,
              "ticks": ""
             }
            },
            "type": "scatterternary"
           }
          ],
          "surface": [
           {
            "colorbar": {
             "outlinewidth": 0,
             "ticks": ""
            },
            "colorscale": [
             [
              0,
              "#0d0887"
             ],
             [
              0.1111111111111111,
              "#46039f"
             ],
             [
              0.2222222222222222,
              "#7201a8"
             ],
             [
              0.3333333333333333,
              "#9c179e"
             ],
             [
              0.4444444444444444,
              "#bd3786"
             ],
             [
              0.5555555555555556,
              "#d8576b"
             ],
             [
              0.6666666666666666,
              "#ed7953"
             ],
             [
              0.7777777777777778,
              "#fb9f3a"
             ],
             [
              0.8888888888888888,
              "#fdca26"
             ],
             [
              1,
              "#f0f921"
             ]
            ],
            "type": "surface"
           }
          ],
          "table": [
           {
            "cells": {
             "fill": {
              "color": "#EBF0F8"
             },
             "line": {
              "color": "white"
             }
            },
            "header": {
             "fill": {
              "color": "#C8D4E3"
             },
             "line": {
              "color": "white"
             }
            },
            "type": "table"
           }
          ]
         },
         "layout": {
          "annotationdefaults": {
           "arrowcolor": "#2a3f5f",
           "arrowhead": 0,
           "arrowwidth": 1
          },
          "autotypenumbers": "strict",
          "coloraxis": {
           "colorbar": {
            "outlinewidth": 0,
            "ticks": ""
           }
          },
          "colorscale": {
           "diverging": [
            [
             0,
             "#8e0152"
            ],
            [
             0.1,
             "#c51b7d"
            ],
            [
             0.2,
             "#de77ae"
            ],
            [
             0.3,
             "#f1b6da"
            ],
            [
             0.4,
             "#fde0ef"
            ],
            [
             0.5,
             "#f7f7f7"
            ],
            [
             0.6,
             "#e6f5d0"
            ],
            [
             0.7,
             "#b8e186"
            ],
            [
             0.8,
             "#7fbc41"
            ],
            [
             0.9,
             "#4d9221"
            ],
            [
             1,
             "#276419"
            ]
           ],
           "sequential": [
            [
             0,
             "#0d0887"
            ],
            [
             0.1111111111111111,
             "#46039f"
            ],
            [
             0.2222222222222222,
             "#7201a8"
            ],
            [
             0.3333333333333333,
             "#9c179e"
            ],
            [
             0.4444444444444444,
             "#bd3786"
            ],
            [
             0.5555555555555556,
             "#d8576b"
            ],
            [
             0.6666666666666666,
             "#ed7953"
            ],
            [
             0.7777777777777778,
             "#fb9f3a"
            ],
            [
             0.8888888888888888,
             "#fdca26"
            ],
            [
             1,
             "#f0f921"
            ]
           ],
           "sequentialminus": [
            [
             0,
             "#0d0887"
            ],
            [
             0.1111111111111111,
             "#46039f"
            ],
            [
             0.2222222222222222,
             "#7201a8"
            ],
            [
             0.3333333333333333,
             "#9c179e"
            ],
            [
             0.4444444444444444,
             "#bd3786"
            ],
            [
             0.5555555555555556,
             "#d8576b"
            ],
            [
             0.6666666666666666,
             "#ed7953"
            ],
            [
             0.7777777777777778,
             "#fb9f3a"
            ],
            [
             0.8888888888888888,
             "#fdca26"
            ],
            [
             1,
             "#f0f921"
            ]
           ]
          },
          "colorway": [
           "#636efa",
           "#EF553B",
           "#00cc96",
           "#ab63fa",
           "#FFA15A",
           "#19d3f3",
           "#FF6692",
           "#B6E880",
           "#FF97FF",
           "#FECB52"
          ],
          "font": {
           "color": "#2a3f5f"
          },
          "geo": {
           "bgcolor": "white",
           "lakecolor": "white",
           "landcolor": "#E5ECF6",
           "showlakes": true,
           "showland": true,
           "subunitcolor": "white"
          },
          "hoverlabel": {
           "align": "left"
          },
          "hovermode": "closest",
          "mapbox": {
           "style": "light"
          },
          "paper_bgcolor": "white",
          "plot_bgcolor": "#E5ECF6",
          "polar": {
           "angularaxis": {
            "gridcolor": "white",
            "linecolor": "white",
            "ticks": ""
           },
           "bgcolor": "#E5ECF6",
           "radialaxis": {
            "gridcolor": "white",
            "linecolor": "white",
            "ticks": ""
           }
          },
          "scene": {
           "xaxis": {
            "backgroundcolor": "#E5ECF6",
            "gridcolor": "white",
            "gridwidth": 2,
            "linecolor": "white",
            "showbackground": true,
            "ticks": "",
            "zerolinecolor": "white"
           },
           "yaxis": {
            "backgroundcolor": "#E5ECF6",
            "gridcolor": "white",
            "gridwidth": 2,
            "linecolor": "white",
            "showbackground": true,
            "ticks": "",
            "zerolinecolor": "white"
           },
           "zaxis": {
            "backgroundcolor": "#E5ECF6",
            "gridcolor": "white",
            "gridwidth": 2,
            "linecolor": "white",
            "showbackground": true,
            "ticks": "",
            "zerolinecolor": "white"
           }
          },
          "shapedefaults": {
           "line": {
            "color": "#2a3f5f"
           }
          },
          "ternary": {
           "aaxis": {
            "gridcolor": "white",
            "linecolor": "white",
            "ticks": ""
           },
           "baxis": {
            "gridcolor": "white",
            "linecolor": "white",
            "ticks": ""
           },
           "bgcolor": "#E5ECF6",
           "caxis": {
            "gridcolor": "white",
            "linecolor": "white",
            "ticks": ""
           }
          },
          "title": {
           "x": 0.05
          },
          "xaxis": {
           "automargin": true,
           "gridcolor": "white",
           "linecolor": "white",
           "ticks": "",
           "title": {
            "standoff": 15
           },
           "zerolinecolor": "white",
           "zerolinewidth": 2
          },
          "yaxis": {
           "automargin": true,
           "gridcolor": "white",
           "linecolor": "white",
           "ticks": "",
           "title": {
            "standoff": 15
           },
           "zerolinecolor": "white",
           "zerolinewidth": 2
          }
         }
        },
        "title": {
         "text": "ESTADO CIVIL DO ELEITORADO - SÃO JOSÉ DOS CAMPOS / 2020"
        },
        "xaxis": {
         "anchor": "y",
         "domain": [
          0,
          1
         ],
         "title": {
          "text": "Estado Civil"
         }
        },
        "yaxis": {
         "anchor": "x",
         "domain": [
          0,
          1
         ],
         "title": {
          "text": "Eleitores"
         }
        }
       }
      },
      "text/html": [
       "<div>                            <div id=\"f9d9513a-4f20-4d0a-ad58-12fed0401b3d\" class=\"plotly-graph-div\" style=\"height:525px; width:100%;\"></div>            <script type=\"text/javascript\">                require([\"plotly\"], function(Plotly) {                    window.PLOTLYENV=window.PLOTLYENV || {};                                    if (document.getElementById(\"f9d9513a-4f20-4d0a-ad58-12fed0401b3d\")) {                    Plotly.newPlot(                        \"f9d9513a-4f20-4d0a-ad58-12fed0401b3d\",                        [{\"alignmentgroup\":\"True\",\"hovertemplate\":\"Estado Civil=%{x}<br>Eleitores=%{y}<extra></extra>\",\"legendgroup\":\"\",\"marker\":{\"color\":\"#636efa\",\"pattern\":{\"shape\":\"\"}},\"name\":\"\",\"offsetgroup\":\"\",\"orientation\":\"v\",\"showlegend\":false,\"textposition\":\"auto\",\"x\":[\"CASADO\",\"SOLTEIRO\",\"DIVORCIADO\",\"VI\\u00daVO\",\"SEPARADO JUDICIALMENTE\",\"N\\u00c3O INFORMADO\"],\"xaxis\":\"x\",\"y\":[251759,227978,33764,17846,9137,17],\"yaxis\":\"y\",\"type\":\"bar\"}],                        {\"template\":{\"data\":{\"histogram2dcontour\":[{\"type\":\"histogram2dcontour\",\"colorbar\":{\"outlinewidth\":0,\"ticks\":\"\"},\"colorscale\":[[0.0,\"#0d0887\"],[0.1111111111111111,\"#46039f\"],[0.2222222222222222,\"#7201a8\"],[0.3333333333333333,\"#9c179e\"],[0.4444444444444444,\"#bd3786\"],[0.5555555555555556,\"#d8576b\"],[0.6666666666666666,\"#ed7953\"],[0.7777777777777778,\"#fb9f3a\"],[0.8888888888888888,\"#fdca26\"],[1.0,\"#f0f921\"]]}],\"choropleth\":[{\"type\":\"choropleth\",\"colorbar\":{\"outlinewidth\":0,\"ticks\":\"\"}}],\"histogram2d\":[{\"type\":\"histogram2d\",\"colorbar\":{\"outlinewidth\":0,\"ticks\":\"\"},\"colorscale\":[[0.0,\"#0d0887\"],[0.1111111111111111,\"#46039f\"],[0.2222222222222222,\"#7201a8\"],[0.3333333333333333,\"#9c179e\"],[0.4444444444444444,\"#bd3786\"],[0.5555555555555556,\"#d8576b\"],[0.6666666666666666,\"#ed7953\"],[0.7777777777777778,\"#fb9f3a\"],[0.8888888888888888,\"#fdca26\"],[1.0,\"#f0f921\"]]}],\"heatmap\":[{\"type\":\"heatmap\",\"colorbar\":{\"outlinewidth\":0,\"ticks\":\"\"},\"colorscale\":[[0.0,\"#0d0887\"],[0.1111111111111111,\"#46039f\"],[0.2222222222222222,\"#7201a8\"],[0.3333333333333333,\"#9c179e\"],[0.4444444444444444,\"#bd3786\"],[0.5555555555555556,\"#d8576b\"],[0.6666666666666666,\"#ed7953\"],[0.7777777777777778,\"#fb9f3a\"],[0.8888888888888888,\"#fdca26\"],[1.0,\"#f0f921\"]]}],\"heatmapgl\":[{\"type\":\"heatmapgl\",\"colorbar\":{\"outlinewidth\":0,\"ticks\":\"\"},\"colorscale\":[[0.0,\"#0d0887\"],[0.1111111111111111,\"#46039f\"],[0.2222222222222222,\"#7201a8\"],[0.3333333333333333,\"#9c179e\"],[0.4444444444444444,\"#bd3786\"],[0.5555555555555556,\"#d8576b\"],[0.6666666666666666,\"#ed7953\"],[0.7777777777777778,\"#fb9f3a\"],[0.8888888888888888,\"#fdca26\"],[1.0,\"#f0f921\"]]}],\"contourcarpet\":[{\"type\":\"contourcarpet\",\"colorbar\":{\"outlinewidth\":0,\"ticks\":\"\"}}],\"contour\":[{\"type\":\"contour\",\"colorbar\":{\"outlinewidth\":0,\"ticks\":\"\"},\"colorscale\":[[0.0,\"#0d0887\"],[0.1111111111111111,\"#46039f\"],[0.2222222222222222,\"#7201a8\"],[0.3333333333333333,\"#9c179e\"],[0.4444444444444444,\"#bd3786\"],[0.5555555555555556,\"#d8576b\"],[0.6666666666666666,\"#ed7953\"],[0.7777777777777778,\"#fb9f3a\"],[0.8888888888888888,\"#fdca26\"],[1.0,\"#f0f921\"]]}],\"surface\":[{\"type\":\"surface\",\"colorbar\":{\"outlinewidth\":0,\"ticks\":\"\"},\"colorscale\":[[0.0,\"#0d0887\"],[0.1111111111111111,\"#46039f\"],[0.2222222222222222,\"#7201a8\"],[0.3333333333333333,\"#9c179e\"],[0.4444444444444444,\"#bd3786\"],[0.5555555555555556,\"#d8576b\"],[0.6666666666666666,\"#ed7953\"],[0.7777777777777778,\"#fb9f3a\"],[0.8888888888888888,\"#fdca26\"],[1.0,\"#f0f921\"]]}],\"mesh3d\":[{\"type\":\"mesh3d\",\"colorbar\":{\"outlinewidth\":0,\"ticks\":\"\"}}],\"scatter\":[{\"fillpattern\":{\"fillmode\":\"overlay\",\"size\":10,\"solidity\":0.2},\"type\":\"scatter\"}],\"parcoords\":[{\"type\":\"parcoords\",\"line\":{\"colorbar\":{\"outlinewidth\":0,\"ticks\":\"\"}}}],\"scatterpolargl\":[{\"type\":\"scatterpolargl\",\"marker\":{\"colorbar\":{\"outlinewidth\":0,\"ticks\":\"\"}}}],\"bar\":[{\"error_x\":{\"color\":\"#2a3f5f\"},\"error_y\":{\"color\":\"#2a3f5f\"},\"marker\":{\"line\":{\"color\":\"#E5ECF6\",\"width\":0.5},\"pattern\":{\"fillmode\":\"overlay\",\"size\":10,\"solidity\":0.2}},\"type\":\"bar\"}],\"scattergeo\":[{\"type\":\"scattergeo\",\"marker\":{\"colorbar\":{\"outlinewidth\":0,\"ticks\":\"\"}}}],\"scatterpolar\":[{\"type\":\"scatterpolar\",\"marker\":{\"colorbar\":{\"outlinewidth\":0,\"ticks\":\"\"}}}],\"histogram\":[{\"marker\":{\"pattern\":{\"fillmode\":\"overlay\",\"size\":10,\"solidity\":0.2}},\"type\":\"histogram\"}],\"scattergl\":[{\"type\":\"scattergl\",\"marker\":{\"colorbar\":{\"outlinewidth\":0,\"ticks\":\"\"}}}],\"scatter3d\":[{\"type\":\"scatter3d\",\"line\":{\"colorbar\":{\"outlinewidth\":0,\"ticks\":\"\"}},\"marker\":{\"colorbar\":{\"outlinewidth\":0,\"ticks\":\"\"}}}],\"scattermapbox\":[{\"type\":\"scattermapbox\",\"marker\":{\"colorbar\":{\"outlinewidth\":0,\"ticks\":\"\"}}}],\"scatterternary\":[{\"type\":\"scatterternary\",\"marker\":{\"colorbar\":{\"outlinewidth\":0,\"ticks\":\"\"}}}],\"scattercarpet\":[{\"type\":\"scattercarpet\",\"marker\":{\"colorbar\":{\"outlinewidth\":0,\"ticks\":\"\"}}}],\"carpet\":[{\"aaxis\":{\"endlinecolor\":\"#2a3f5f\",\"gridcolor\":\"white\",\"linecolor\":\"white\",\"minorgridcolor\":\"white\",\"startlinecolor\":\"#2a3f5f\"},\"baxis\":{\"endlinecolor\":\"#2a3f5f\",\"gridcolor\":\"white\",\"linecolor\":\"white\",\"minorgridcolor\":\"white\",\"startlinecolor\":\"#2a3f5f\"},\"type\":\"carpet\"}],\"table\":[{\"cells\":{\"fill\":{\"color\":\"#EBF0F8\"},\"line\":{\"color\":\"white\"}},\"header\":{\"fill\":{\"color\":\"#C8D4E3\"},\"line\":{\"color\":\"white\"}},\"type\":\"table\"}],\"barpolar\":[{\"marker\":{\"line\":{\"color\":\"#E5ECF6\",\"width\":0.5},\"pattern\":{\"fillmode\":\"overlay\",\"size\":10,\"solidity\":0.2}},\"type\":\"barpolar\"}],\"pie\":[{\"automargin\":true,\"type\":\"pie\"}]},\"layout\":{\"autotypenumbers\":\"strict\",\"colorway\":[\"#636efa\",\"#EF553B\",\"#00cc96\",\"#ab63fa\",\"#FFA15A\",\"#19d3f3\",\"#FF6692\",\"#B6E880\",\"#FF97FF\",\"#FECB52\"],\"font\":{\"color\":\"#2a3f5f\"},\"hovermode\":\"closest\",\"hoverlabel\":{\"align\":\"left\"},\"paper_bgcolor\":\"white\",\"plot_bgcolor\":\"#E5ECF6\",\"polar\":{\"bgcolor\":\"#E5ECF6\",\"angularaxis\":{\"gridcolor\":\"white\",\"linecolor\":\"white\",\"ticks\":\"\"},\"radialaxis\":{\"gridcolor\":\"white\",\"linecolor\":\"white\",\"ticks\":\"\"}},\"ternary\":{\"bgcolor\":\"#E5ECF6\",\"aaxis\":{\"gridcolor\":\"white\",\"linecolor\":\"white\",\"ticks\":\"\"},\"baxis\":{\"gridcolor\":\"white\",\"linecolor\":\"white\",\"ticks\":\"\"},\"caxis\":{\"gridcolor\":\"white\",\"linecolor\":\"white\",\"ticks\":\"\"}},\"coloraxis\":{\"colorbar\":{\"outlinewidth\":0,\"ticks\":\"\"}},\"colorscale\":{\"sequential\":[[0.0,\"#0d0887\"],[0.1111111111111111,\"#46039f\"],[0.2222222222222222,\"#7201a8\"],[0.3333333333333333,\"#9c179e\"],[0.4444444444444444,\"#bd3786\"],[0.5555555555555556,\"#d8576b\"],[0.6666666666666666,\"#ed7953\"],[0.7777777777777778,\"#fb9f3a\"],[0.8888888888888888,\"#fdca26\"],[1.0,\"#f0f921\"]],\"sequentialminus\":[[0.0,\"#0d0887\"],[0.1111111111111111,\"#46039f\"],[0.2222222222222222,\"#7201a8\"],[0.3333333333333333,\"#9c179e\"],[0.4444444444444444,\"#bd3786\"],[0.5555555555555556,\"#d8576b\"],[0.6666666666666666,\"#ed7953\"],[0.7777777777777778,\"#fb9f3a\"],[0.8888888888888888,\"#fdca26\"],[1.0,\"#f0f921\"]],\"diverging\":[[0,\"#8e0152\"],[0.1,\"#c51b7d\"],[0.2,\"#de77ae\"],[0.3,\"#f1b6da\"],[0.4,\"#fde0ef\"],[0.5,\"#f7f7f7\"],[0.6,\"#e6f5d0\"],[0.7,\"#b8e186\"],[0.8,\"#7fbc41\"],[0.9,\"#4d9221\"],[1,\"#276419\"]]},\"xaxis\":{\"gridcolor\":\"white\",\"linecolor\":\"white\",\"ticks\":\"\",\"title\":{\"standoff\":15},\"zerolinecolor\":\"white\",\"automargin\":true,\"zerolinewidth\":2},\"yaxis\":{\"gridcolor\":\"white\",\"linecolor\":\"white\",\"ticks\":\"\",\"title\":{\"standoff\":15},\"zerolinecolor\":\"white\",\"automargin\":true,\"zerolinewidth\":2},\"scene\":{\"xaxis\":{\"backgroundcolor\":\"#E5ECF6\",\"gridcolor\":\"white\",\"linecolor\":\"white\",\"showbackground\":true,\"ticks\":\"\",\"zerolinecolor\":\"white\",\"gridwidth\":2},\"yaxis\":{\"backgroundcolor\":\"#E5ECF6\",\"gridcolor\":\"white\",\"linecolor\":\"white\",\"showbackground\":true,\"ticks\":\"\",\"zerolinecolor\":\"white\",\"gridwidth\":2},\"zaxis\":{\"backgroundcolor\":\"#E5ECF6\",\"gridcolor\":\"white\",\"linecolor\":\"white\",\"showbackground\":true,\"ticks\":\"\",\"zerolinecolor\":\"white\",\"gridwidth\":2}},\"shapedefaults\":{\"line\":{\"color\":\"#2a3f5f\"}},\"annotationdefaults\":{\"arrowcolor\":\"#2a3f5f\",\"arrowhead\":0,\"arrowwidth\":1},\"geo\":{\"bgcolor\":\"white\",\"landcolor\":\"#E5ECF6\",\"subunitcolor\":\"white\",\"showland\":true,\"showlakes\":true,\"lakecolor\":\"white\"},\"title\":{\"x\":0.05},\"mapbox\":{\"style\":\"light\"}}},\"xaxis\":{\"anchor\":\"y\",\"domain\":[0.0,1.0],\"title\":{\"text\":\"Estado Civil\"}},\"yaxis\":{\"anchor\":\"x\",\"domain\":[0.0,1.0],\"title\":{\"text\":\"Eleitores\"}},\"legend\":{\"tracegroupgap\":0},\"title\":{\"text\":\"ESTADO CIVIL DO ELEITORADO - S\\u00c3O JOS\\u00c9 DOS CAMPOS / 2020\"},\"barmode\":\"relative\"},                        {\"responsive\": true}                    ).then(function(){\n",
       "                            \n",
       "var gd = document.getElementById('f9d9513a-4f20-4d0a-ad58-12fed0401b3d');\n",
       "var x = new MutationObserver(function (mutations, observer) {{\n",
       "        var display = window.getComputedStyle(gd).display;\n",
       "        if (!display || display === 'none') {{\n",
       "            console.log([gd, 'removed!']);\n",
       "            Plotly.purge(gd);\n",
       "            observer.disconnect();\n",
       "        }}\n",
       "}});\n",
       "\n",
       "// Listen for the removal of the full notebook cells\n",
       "var notebookContainer = gd.closest('#notebook-container');\n",
       "if (notebookContainer) {{\n",
       "    x.observe(notebookContainer, {childList: true});\n",
       "}}\n",
       "\n",
       "// Listen for the clearing of the current output cell\n",
       "var outputEl = gd.closest('.output');\n",
       "if (outputEl) {{\n",
       "    x.observe(outputEl, {childList: true});\n",
       "}}\n",
       "\n",
       "                        })                };                });            </script>        </div>"
      ]
     },
     "metadata": {},
     "output_type": "display_data"
    }
   ],
   "source": [
    "fig=px.bar(total_eleitores_estadocivil, x= total_eleitores_estadocivil.index, y=total_eleitores_estadocivil.values,\n",
    "          title=\"ESTADO CIVIL DO ELEITORADO - \" + municipio1.upper() + \" / \" + str(eleicao_ano), \n",
    "          labels={'y':'Eleitores', 'DS_ESTADO_CIVIL':'Estado Civil'})\n",
    "\n",
    "fig.show()"
   ]
  },
  {
   "cell_type": "code",
   "execution_count": 65,
   "id": "d9d57707",
   "metadata": {},
   "outputs": [
    {
     "name": "stdout",
     "output_type": "stream",
     "text": [
      "Em SÃO JOSÉ DOS CAMPOS, estavam inscritos 51 eleitores com nome social no ano de 2020.\n"
     ]
    }
   ],
   "source": [
    "# Exibindo resultado na tela\n",
    "if total_eleitores_nomesocial > 1:\n",
    "    print(f\"Em {municipio1}, estavam inscritos {total_eleitores_nomesocial} eleitores com nome social no ano de {eleicao_ano}.\")\n",
    "elif total_eleitores_nomesocial == 1:\n",
    "    print(f\"Em {municipio1}, estava inscrito {total_eleitores_nomesocial} eleitor com nome social no ano de {eleicao_ano}.\")\n",
    "else:\n",
    "    print(f\"Em {municipio1}, não estava inscrito nenhum eleitor com nome social no ano de {eleicao_ano}.\")\n"
   ]
  },
  {
   "cell_type": "code",
   "execution_count": null,
   "id": "bd358be7",
   "metadata": {},
   "outputs": [],
   "source": []
  }
 ],
 "metadata": {
  "kernelspec": {
   "display_name": "Python 3 (ipykernel)",
   "language": "python",
   "name": "python3"
  },
  "language_info": {
   "codemirror_mode": {
    "name": "ipython",
    "version": 3
   },
   "file_extension": ".py",
   "mimetype": "text/x-python",
   "name": "python",
   "nbconvert_exporter": "python",
   "pygments_lexer": "ipython3",
   "version": "3.8.10"
  }
 },
 "nbformat": 4,
 "nbformat_minor": 5
}
