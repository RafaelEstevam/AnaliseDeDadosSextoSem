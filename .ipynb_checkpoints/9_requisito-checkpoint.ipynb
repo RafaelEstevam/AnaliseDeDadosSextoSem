{
 "cells": [
  {
   "cell_type": "code",
   "execution_count": 1,
   "metadata": {},
   "outputs": [
    {
     "name": "stdout",
     "output_type": "stream",
     "text": [
      "Cobertura da Vanguarda: \n"
     ]
    },
    {
     "data": {
      "image/png": "[encoded data removed]",
      "text/plain": [
       "<Figure size 432x288 with 1 Axes>"
      ]
     },
     "metadata": {
      "needs_background": "light"
     },
     "output_type": "display_data"
    }
   ],
   "source": [
    "# 4.3\n",
    "import pandas as pd\n",
    "import plotly.graph_objects as go\n",
    "from cobertura import abrangencia\n",
    "import csv\n",
    "\n",
    "csvEleitorado2014 = './dados/eleitorado_municipio_2014.csv'\n",
    "csvEleitorado2016 = './dados/eleitorado_municipio_2016.csv'\n",
    "csvEleitorado2018 = './dados/eleitorado_municipio_2018.csv'\n",
    "csvEleitorado2020 = './dados/eleitorado_municipio_2020.csv'\n",
    "\n",
    "dataEleitorado2014 = pd.read_csv(csvEleitorado2014, sep= ';', encoding='ISO-8859-1')\n",
    "dataEleitorado2016 = pd.read_csv(csvEleitorado2016, sep= ';', encoding='ISO-8859-1')\n",
    "dataEleitorado2018 = pd.read_csv(csvEleitorado2018, sep= ';', encoding='ISO-8859-1')\n",
    "dataEleitorado2020 = pd.read_csv(csvEleitorado2020, sep= ';', encoding='ISO-8859-1')\n",
    "\n",
    "def createQuery(list):\n",
    "        count = 0\n",
    "        query = \"\"\n",
    "\n",
    "        for abr_code in list:\n",
    "                query += 'CD_MUNICIPIO == ' + str(abr_code[\"codigo\"])\n",
    "                count += 1\n",
    "                if count < len(list):\n",
    "                        query += ' or '\n",
    "        return query\n",
    "\n",
    "def generateChart(query, label, filename):\n",
    "\n",
    "        dfEleitorado2014 = pd.DataFrame(data= dataEleitorado2014.query(query), columns=['QTD_ELEITORES'])\n",
    "        dfEleitorado2016 = pd.DataFrame(data= dataEleitorado2016.query(query), columns=['QTD_ELEITORES'])\n",
    "        dfEleitorado2018 = pd.DataFrame(data= dataEleitorado2018.query(query), columns=['QTD_ELEITORES'])\n",
    "        dfEleitorado2020 = pd.DataFrame(data= dataEleitorado2020.query(query), columns=['QTD_ELEITORES'])\n",
    "\n",
    "        qtdEleitoradoporCobertura = {'Ano': [2014, 2016, 2018, 2020],\n",
    "        'Nº Eleitorado': [int(dfEleitorado2014.sum(axis=0)), int(dfEleitorado2016.sum(axis=0)), int(dfEleitorado2018.sum(axis=0)), int(dfEleitorado2020.sum(axis=0))]}\n",
    "\n",
    "        print(label)\n",
    "        dft = pd.DataFrame(data = qtdEleitoradoporCobertura)\n",
    "        dft.plot(x=\"Ano\", y=\"Nº Eleitorado\", kind='bar')\n",
    "        dft.to_csv('export/'+ filename +'.csv', encoding='utf-8')\n",
    "\n",
    "\n",
    "query = createQuery(abrangencia)\n",
    "generateChart(query, 'Cobertura da Vanguarda: ', 'Eleitorado_cobertura')\n"
   ]
  },
  {
   "cell_type": "code",
   "execution_count": 2,
   "metadata": {},
   "outputs": [
    {
     "name": "stdout",
     "output_type": "stream",
     "text": [
      "SÃO JOSÉ DOS CAMPOS\n"
     ]
    },
    {
     "data": {
      "image/png": "[encoded data removed]",
      "text/plain": [
       "<Figure size 432x288 with 1 Axes>"
      ]
     },
     "metadata": {
      "needs_background": "light"
     },
     "output_type": "display_data"
    }
   ],
   "source": [
    "cidade = \"SÃO JOSÉ DOS CAMPOS\"\n",
    "cidadeQuery = 'NM_MUNICIPIO == \"'+ cidade +'\"'\n",
    "\n",
    "dfEleitorado2014porCidade = pd.DataFrame(data= dataEleitorado2014.query(cidadeQuery), columns=['QTD_ELEITORES'])\n",
    "dfEleitorado2016porCidade = pd.DataFrame(data= dataEleitorado2016.query(cidadeQuery), columns=['QTD_ELEITORES'])\n",
    "dfEleitorado2018porCidade = pd.DataFrame(data= dataEleitorado2018.query(cidadeQuery), columns=['QTD_ELEITORES'])\n",
    "dfEleitorado2020porCidade = pd.DataFrame(data= dataEleitorado2020.query(cidadeQuery), columns=['QTD_ELEITORES'])\n",
    "\n",
    "qtdEleitoradoporCidade = {'Ano': [2014, 2016, 2018, 2020],\n",
    "        'Nº Eleitorado': [int(dfEleitorado2014porCidade.sum(axis=0)), int(dfEleitorado2016porCidade.sum(axis=0)), int(dfEleitorado2018porCidade.sum(axis=0)), int(dfEleitorado2020porCidade.sum(axis=0))]}\n",
    "\n",
    "print(cidade)\n",
    "dft = pd.DataFrame(data = qtdEleitoradoporCidade)\n",
    "dft.plot(x=\"Ano\", y=\"Nº Eleitorado\", kind='bar')\n",
    "dft.to_csv('export/'+ 'Eleitorado_cidade_' + cidade.replace(\" \", \"_\") +'.csv', encoding='utf-8')"
   ]
  },
  {
   "cell_type": "code",
   "execution_count": 3,
   "metadata": {},
   "outputs": [
    {
     "name": "stdout",
     "output_type": "stream",
     "text": [
      "LITORAL NORTE\n"
     ]
    },
    {
     "data": {
      "image/png": "[encoded data removed]",
      "text/plain": [
       "<Figure size 432x288 with 1 Axes>"
      ]
     },
     "metadata": {
      "needs_background": "light"
     },
     "output_type": "display_data"
    }
   ],
   "source": [
    "regiao = \"LITORAL NORTE\"\n",
    "listaCidades = []\n",
    "\n",
    "for abr_item in abrangencia:\n",
    "    if abr_item['regiao'] == regiao:\n",
    "        listaCidades.append(abr_item)\n",
    "\n",
    "query = createQuery(listaCidades)\n",
    "generateChart(query, regiao, 'Eleitorado_regiao')\n"
   ]
  }
 ],
 "metadata": {
  "interpreter": {
   "hash": "916dbcbb3f70747c44a77c7bcd40155683ae19c65e1c03b4aa3499c5328201f1"
  },
  "kernelspec": {
   "display_name": "Python 3 (ipykernel)",
   "language": "python",
   "name": "python3"
  },
  "language_info": {
   "codemirror_mode": {
    "name": "ipython",
    "version": 3
   },
   "file_extension": ".py",
   "mimetype": "text/x-python",
   "name": "python",
   "nbconvert_exporter": "python",
   "pygments_lexer": "ipython3",
   "version": "3.8.10"
  }
 },
 "nbformat": 4,
 "nbformat_minor": 2
}
